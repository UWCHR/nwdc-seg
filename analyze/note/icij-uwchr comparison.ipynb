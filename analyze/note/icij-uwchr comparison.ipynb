{
 "cells": [
  {
   "cell_type": "code",
   "execution_count": 1,
   "metadata": {},
   "outputs": [],
   "source": [
    "import pandas as pd\n",
    "import numpy as np\n",
    "import matplotlib.pyplot as plt\n",
    "import seaborn as sns\n",
    "import datetime\n",
    "from pandas.tseries import offsets"
   ]
  },
  {
   "cell_type": "code",
   "execution_count": 3,
   "metadata": {},
   "outputs": [],
   "source": [
    "uwchr = pd.read_csv('../input/2018-ICFO-00515 Highlighted_EDIT.csv.gz', sep='|', quotechar='\"', compression='gzip')"
   ]
  },
  {
   "cell_type": "code",
   "execution_count": 4,
   "metadata": {},
   "outputs": [],
   "source": [
    "icij = pd.read_csv('../input/icij-solitary-voices-final-dataset-for-publication.csv.gz', compression='gzip')"
   ]
  },
  {
   "cell_type": "code",
   "execution_count": 5,
   "metadata": {},
   "outputs": [],
   "source": [
    "icij['placement_date'] = pd.to_datetime(icij['placement_date'])"
   ]
  },
  {
   "cell_type": "code",
   "execution_count": 6,
   "metadata": {},
   "outputs": [],
   "source": [
    "icij_nwdc = icij[icij['facility'] == 'WA - Northwest Detention Center ']"
   ]
  },
  {
   "cell_type": "code",
   "execution_count": 7,
   "metadata": {},
   "outputs": [],
   "source": [
    "uwchr['start_dt'] = pd.to_datetime(uwchr['Placement Date'])\n",
    "uwchr['end_dt'] = pd.to_datetime(uwchr['Release Date'])"
   ]
  },
  {
   "cell_type": "code",
   "execution_count": 35,
   "metadata": {},
   "outputs": [],
   "source": [
    "fy1 = uwchr.set_index('start_dt').groupby(pd.Grouper(freq='AS'))\n",
    "m1 = uwchr.set_index('start_dt').groupby(pd.Grouper(freq='M'))"
   ]
  },
  {
   "cell_type": "code",
   "execution_count": 36,
   "metadata": {},
   "outputs": [],
   "source": [
    "fy2 = icij_nwdc.set_index('placement_date').groupby(pd.Grouper(freq='AS'))\n",
    "m2 = icij_nwdc.set_index('placement_date').groupby(pd.Grouper(freq='M'))"
   ]
  },
  {
   "cell_type": "code",
   "execution_count": 37,
   "metadata": {},
   "outputs": [],
   "source": [
    "uwchr_count = fy1['Tracking Number'].nunique()"
   ]
  },
  {
   "cell_type": "code",
   "execution_count": 38,
   "metadata": {},
   "outputs": [],
   "source": [
    "icij_count = fy2['record_id'].nunique()"
   ]
  },
  {
   "cell_type": "code",
   "execution_count": 39,
   "metadata": {},
   "outputs": [],
   "source": [
    "uwchr_count.name = 'UWCHR count'"
   ]
  },
  {
   "cell_type": "code",
   "execution_count": 40,
   "metadata": {},
   "outputs": [],
   "source": [
    "icij_count.name = 'ICIJ count'"
   ]
  },
  {
   "cell_type": "code",
   "execution_count": 41,
   "metadata": {},
   "outputs": [],
   "source": [
    "df = pd.concat([uwchr_count, icij_count], axis=1)"
   ]
  },
  {
   "cell_type": "code",
   "execution_count": 42,
   "metadata": {},
   "outputs": [],
   "source": [
    "df.index = df.index.year"
   ]
  },
  {
   "cell_type": "code",
   "execution_count": 43,
   "metadata": {},
   "outputs": [],
   "source": [
    "# df.index.name = 'FY'"
   ]
  },
  {
   "cell_type": "code",
   "execution_count": 44,
   "metadata": {},
   "outputs": [],
   "source": [
    "df = df.drop(2018)"
   ]
  },
  {
   "cell_type": "code",
   "execution_count": 45,
   "metadata": {},
   "outputs": [],
   "source": [
    "df['Difference'] = df['UWCHR count'] - df['ICIJ count']"
   ]
  },
  {
   "cell_type": "code",
   "execution_count": 46,
   "metadata": {},
   "outputs": [],
   "source": [
    "df.loc['Total'] = df.sum()"
   ]
  },
  {
   "cell_type": "code",
   "execution_count": 47,
   "metadata": {},
   "outputs": [
    {
     "data": {
      "text/html": [
       "<div>\n",
       "<style scoped>\n",
       "    .dataframe tbody tr th:only-of-type {\n",
       "        vertical-align: middle;\n",
       "    }\n",
       "\n",
       "    .dataframe tbody tr th {\n",
       "        vertical-align: top;\n",
       "    }\n",
       "\n",
       "    .dataframe thead th {\n",
       "        text-align: right;\n",
       "    }\n",
       "</style>\n",
       "<table border=\"1\" class=\"dataframe\">\n",
       "  <thead>\n",
       "    <tr style=\"text-align: right;\">\n",
       "      <th></th>\n",
       "      <th>UWCHR count</th>\n",
       "      <th>ICIJ count</th>\n",
       "      <th>Difference</th>\n",
       "    </tr>\n",
       "    <tr>\n",
       "      <th>start_dt</th>\n",
       "      <th></th>\n",
       "      <th></th>\n",
       "      <th></th>\n",
       "    </tr>\n",
       "  </thead>\n",
       "  <tbody>\n",
       "    <tr>\n",
       "      <th>2013</th>\n",
       "      <td>60.0</td>\n",
       "      <td>59.0</td>\n",
       "      <td>1.0</td>\n",
       "    </tr>\n",
       "    <tr>\n",
       "      <th>2014</th>\n",
       "      <td>82.0</td>\n",
       "      <td>82.0</td>\n",
       "      <td>0.0</td>\n",
       "    </tr>\n",
       "    <tr>\n",
       "      <th>2015</th>\n",
       "      <td>76.0</td>\n",
       "      <td>76.0</td>\n",
       "      <td>0.0</td>\n",
       "    </tr>\n",
       "    <tr>\n",
       "      <th>2016</th>\n",
       "      <td>42.0</td>\n",
       "      <td>43.0</td>\n",
       "      <td>-1.0</td>\n",
       "    </tr>\n",
       "    <tr>\n",
       "      <th>2017</th>\n",
       "      <td>74.0</td>\n",
       "      <td>12.0</td>\n",
       "      <td>62.0</td>\n",
       "    </tr>\n",
       "    <tr>\n",
       "      <th>Total</th>\n",
       "      <td>334.0</td>\n",
       "      <td>272.0</td>\n",
       "      <td>62.0</td>\n",
       "    </tr>\n",
       "  </tbody>\n",
       "</table>\n",
       "</div>"
      ],
      "text/plain": [
       "          UWCHR count  ICIJ count  Difference\n",
       "start_dt                                     \n",
       "2013             60.0        59.0         1.0\n",
       "2014             82.0        82.0         0.0\n",
       "2015             76.0        76.0         0.0\n",
       "2016             42.0        43.0        -1.0\n",
       "2017             74.0        12.0        62.0\n",
       "Total           334.0       272.0        62.0"
      ]
     },
     "execution_count": 47,
     "metadata": {},
     "output_type": "execute_result"
    }
   ],
   "source": [
    "df"
   ]
  },
  {
   "cell_type": "code",
   "execution_count": null,
   "metadata": {},
   "outputs": [],
   "source": [
    "# df.to_csv('../output/uwchr-icij-comparison.csv')"
   ]
  },
  {
   "cell_type": "code",
   "execution_count": 48,
   "metadata": {},
   "outputs": [
    {
     "data": {
      "text/plain": [
       "Timestamp('2013-05-13 00:00:00')"
      ]
     },
     "execution_count": 48,
     "metadata": {},
     "output_type": "execute_result"
    }
   ],
   "source": [
    "uwchr.start_dt.min()"
   ]
  },
  {
   "cell_type": "code",
   "execution_count": 49,
   "metadata": {},
   "outputs": [
    {
     "data": {
      "text/plain": [
       "Timestamp('2012-04-30 00:00:00')"
      ]
     },
     "execution_count": 49,
     "metadata": {},
     "output_type": "execute_result"
    }
   ],
   "source": [
    "icij.placement_date.min()"
   ]
  },
  {
   "cell_type": "code",
   "execution_count": 50,
   "metadata": {},
   "outputs": [],
   "source": [
    "fy_chart = df.drop(['Total'])"
   ]
  },
  {
   "cell_type": "code",
   "execution_count": 51,
   "metadata": {},
   "outputs": [],
   "source": [
    "uwchr_monthly = m1['Tracking Number'].nunique()\n",
    "uwchr_monthly.name = \"UWCHR count\""
   ]
  },
  {
   "cell_type": "code",
   "execution_count": 52,
   "metadata": {},
   "outputs": [],
   "source": [
    "icij_monthly = m2['record_id'].nunique()\n",
    "icij_monthly.name = \"ICIJ count\""
   ]
  },
  {
   "cell_type": "code",
   "execution_count": 53,
   "metadata": {},
   "outputs": [],
   "source": [
    "df2 = pd.concat([uwchr_monthly, icij_monthly], axis=1)"
   ]
  },
  {
   "cell_type": "code",
   "execution_count": 54,
   "metadata": {},
   "outputs": [
    {
     "data": {
      "text/plain": [
       "<matplotlib.axes._subplots.AxesSubplot at 0x1a151f2cf8>"
      ]
     },
     "execution_count": 54,
     "metadata": {},
     "output_type": "execute_result"
    },
    {
     "data": {
      "image/png": "[encoded data removed]",
      "text/plain": [
       "<Figure size 432x288 with 1 Axes>"
      ]
     },
     "metadata": {
      "needs_background": "light"
     },
     "output_type": "display_data"
    }
   ],
   "source": [
    "fy_chart[['UWCHR count', 'ICIJ count']].plot(kind='bar', title='UWCHR/ICIJ NWDC Segregation Counts by FY')"
   ]
  },
  {
   "cell_type": "code",
   "execution_count": 64,
   "metadata": {},
   "outputs": [
    {
     "data": {
      "text/plain": [
       "<matplotlib.axes._subplots.AxesSubplot at 0x1a15267518>"
      ]
     },
     "execution_count": 64,
     "metadata": {},
     "output_type": "execute_result"
    },
    {
     "data": {
      "image/png": "[encoded data removed]",
      "text/plain": [
       "<Figure size 432x288 with 1 Axes>"
      ]
     },
     "metadata": {
      "needs_background": "light"
     },
     "output_type": "display_data"
    }
   ],
   "source": [
    "df2.cumsum().plot(title='UWCHR/ICIJ NWDC Segregation Placements (cumulative)')"
   ]
  },
  {
   "cell_type": "code",
   "execution_count": 56,
   "metadata": {},
   "outputs": [
    {
     "data": {
      "text/html": [
       "<div>\n",
       "<style scoped>\n",
       "    .dataframe tbody tr th:only-of-type {\n",
       "        vertical-align: middle;\n",
       "    }\n",
       "\n",
       "    .dataframe tbody tr th {\n",
       "        vertical-align: top;\n",
       "    }\n",
       "\n",
       "    .dataframe thead th {\n",
       "        text-align: right;\n",
       "    }\n",
       "</style>\n",
       "<table border=\"1\" class=\"dataframe\">\n",
       "  <thead>\n",
       "    <tr style=\"text-align: right;\">\n",
       "      <th></th>\n",
       "      <th>record_id</th>\n",
       "      <th>citizenship</th>\n",
       "      <th>citizenship_id</th>\n",
       "      <th>facility_aor</th>\n",
       "      <th>state</th>\n",
       "      <th>facility</th>\n",
       "      <th>facility_id</th>\n",
       "      <th>placement_date</th>\n",
       "      <th>year</th>\n",
       "      <th>placement_reason</th>\n",
       "      <th>placement_reason_raw</th>\n",
       "      <th>release_date</th>\n",
       "      <th>days_solitary</th>\n",
       "      <th>mental_illness</th>\n",
       "      <th>no_suicide_watch</th>\n",
       "    </tr>\n",
       "  </thead>\n",
       "  <tbody>\n",
       "    <tr>\n",
       "      <th>84</th>\n",
       "      <td>85</td>\n",
       "      <td>Palau</td>\n",
       "      <td>palau</td>\n",
       "      <td>SEA (Seattle)</td>\n",
       "      <td>WA</td>\n",
       "      <td>WA - Northwest Detention Center</td>\n",
       "      <td>northwest_detention_center_wa</td>\n",
       "      <td>2013-03-06</td>\n",
       "      <td>2013</td>\n",
       "      <td>Facility Security Threat: Violent or Disruptiv...</td>\n",
       "      <td>facility_security_threat_violent_or_disruptive...</td>\n",
       "      <td>Aug 15, 2013</td>\n",
       "      <td>73.0</td>\n",
       "      <td>no</td>\n",
       "      <td>no</td>\n",
       "    </tr>\n",
       "    <tr>\n",
       "      <th>93</th>\n",
       "      <td>94</td>\n",
       "      <td>Mexico</td>\n",
       "      <td>mexico</td>\n",
       "      <td>SEA (Seattle)</td>\n",
       "      <td>WA</td>\n",
       "      <td>WA - Northwest Detention Center</td>\n",
       "      <td>northwest_detention_center_wa</td>\n",
       "      <td>2013-03-09</td>\n",
       "      <td>2013</td>\n",
       "      <td>Protective Custody: Gang Status (Protective Cu...</td>\n",
       "      <td>protective_custody_gang_status_protective_cust...</td>\n",
       "      <td>Nov 27, 2013</td>\n",
       "      <td>85.0</td>\n",
       "      <td>no</td>\n",
       "      <td>no</td>\n",
       "    </tr>\n",
       "    <tr>\n",
       "      <th>100</th>\n",
       "      <td>101</td>\n",
       "      <td>Mexico</td>\n",
       "      <td>mexico</td>\n",
       "      <td>SEA (Seattle)</td>\n",
       "      <td>WA</td>\n",
       "      <td>WA - Northwest Detention Center</td>\n",
       "      <td>northwest_detention_center_wa</td>\n",
       "      <td>2013-03-11</td>\n",
       "      <td>2013</td>\n",
       "      <td>Protective Custody: Other Detainee Safety</td>\n",
       "      <td>protective_custody_other_detainee_safety</td>\n",
       "      <td>Jan 30, 2014</td>\n",
       "      <td>88.0</td>\n",
       "      <td>no</td>\n",
       "      <td>no</td>\n",
       "    </tr>\n",
       "    <tr>\n",
       "      <th>132</th>\n",
       "      <td>133</td>\n",
       "      <td>Mexico</td>\n",
       "      <td>mexico</td>\n",
       "      <td>SEA (Seattle)</td>\n",
       "      <td>WA</td>\n",
       "      <td>WA - Northwest Detention Center</td>\n",
       "      <td>northwest_detention_center_wa</td>\n",
       "      <td>2013-04-12</td>\n",
       "      <td>2013</td>\n",
       "      <td>Facility Security Threat: Gang Member Status (...</td>\n",
       "      <td>facility_security_threat_gang_member_status_no...</td>\n",
       "      <td>Jan 20, 2014</td>\n",
       "      <td>47.0</td>\n",
       "      <td>no</td>\n",
       "      <td>no</td>\n",
       "    </tr>\n",
       "    <tr>\n",
       "      <th>154</th>\n",
       "      <td>155</td>\n",
       "      <td>Mexico</td>\n",
       "      <td>mexico</td>\n",
       "      <td>SEA (Seattle)</td>\n",
       "      <td>WA</td>\n",
       "      <td>WA - Northwest Detention Center</td>\n",
       "      <td>northwest_detention_center_wa</td>\n",
       "      <td>2013-05-10</td>\n",
       "      <td>2013</td>\n",
       "      <td>Disciplinary</td>\n",
       "      <td>disciplinary</td>\n",
       "      <td>Oct 23, 2013</td>\n",
       "      <td>18.0</td>\n",
       "      <td>no</td>\n",
       "      <td>no</td>\n",
       "    </tr>\n",
       "  </tbody>\n",
       "</table>\n",
       "</div>"
      ],
      "text/plain": [
       "     record_id citizenship citizenship_id   facility_aor state  \\\n",
       "84          85       Palau          palau  SEA (Seattle)    WA   \n",
       "93          94      Mexico         mexico  SEA (Seattle)    WA   \n",
       "100        101      Mexico         mexico  SEA (Seattle)    WA   \n",
       "132        133      Mexico         mexico  SEA (Seattle)    WA   \n",
       "154        155      Mexico         mexico  SEA (Seattle)    WA   \n",
       "\n",
       "                             facility                    facility_id  \\\n",
       "84   WA - Northwest Detention Center   northwest_detention_center_wa   \n",
       "93   WA - Northwest Detention Center   northwest_detention_center_wa   \n",
       "100  WA - Northwest Detention Center   northwest_detention_center_wa   \n",
       "132  WA - Northwest Detention Center   northwest_detention_center_wa   \n",
       "154  WA - Northwest Detention Center   northwest_detention_center_wa   \n",
       "\n",
       "    placement_date  year                                   placement_reason  \\\n",
       "84      2013-03-06  2013  Facility Security Threat: Violent or Disruptiv...   \n",
       "93      2013-03-09  2013  Protective Custody: Gang Status (Protective Cu...   \n",
       "100     2013-03-11  2013          Protective Custody: Other Detainee Safety   \n",
       "132     2013-04-12  2013  Facility Security Threat: Gang Member Status (...   \n",
       "154     2013-05-10  2013                                       Disciplinary   \n",
       "\n",
       "                                  placement_reason_raw  release_date  \\\n",
       "84   facility_security_threat_violent_or_disruptive...  Aug 15, 2013   \n",
       "93   protective_custody_gang_status_protective_cust...  Nov 27, 2013   \n",
       "100           protective_custody_other_detainee_safety  Jan 30, 2014   \n",
       "132  facility_security_threat_gang_member_status_no...  Jan 20, 2014   \n",
       "154                                       disciplinary  Oct 23, 2013   \n",
       "\n",
       "     days_solitary mental_illness no_suicide_watch  \n",
       "84            73.0             no               no  \n",
       "93            85.0             no               no  \n",
       "100           88.0             no               no  \n",
       "132           47.0             no               no  \n",
       "154           18.0             no               no  "
      ]
     },
     "execution_count": 56,
     "metadata": {},
     "output_type": "execute_result"
    }
   ],
   "source": [
    "icij_nwdc.head()"
   ]
  },
  {
   "cell_type": "code",
   "execution_count": 57,
   "metadata": {},
   "outputs": [
    {
     "data": {
      "text/plain": [
       "Index(['Tracking Number', 'Alien Number', 'Last Name', 'First Name', 'Gender',\n",
       "       'Date of Birth', 'Country of Citizenship', 'Facility AOR', 'Facility',\n",
       "       'Facility:DETLOC', 'Report Type', 'Placement Date', 'Placement Reason',\n",
       "       'Release Date', 'Length of Stay', 'Disciplinary Infraction',\n",
       "       'Sanction Length', 'Detailed Reason', 'Attorney of Record',\n",
       "       'Attorney Notification', 'Detainee Request',\n",
       "       'Compliance with Detention Standards', 'Mental Illness',\n",
       "       'Serious Medical Illness', 'Serious Disability', 'Ever SMI?',\n",
       "       'FO Recommendation', 'Additional Comments Export',\n",
       "       'Non Compliance Detail', 'Special Criteria', 'ID', 'Current Review',\n",
       "       'Created', 'LGBTI', 'Item Type', 'Path', 'start_dt', 'end_dt'],\n",
       "      dtype='object')"
      ]
     },
     "execution_count": 57,
     "metadata": {},
     "output_type": "execute_result"
    }
   ],
   "source": [
    "uwchr.columns"
   ]
  },
  {
   "cell_type": "code",
   "execution_count": 58,
   "metadata": {},
   "outputs": [
    {
     "data": {
      "text/plain": [
       "1.0"
      ]
     },
     "execution_count": 58,
     "metadata": {},
     "output_type": "execute_result"
    }
   ],
   "source": [
    "icij_nwdc['days_solitary'].min()"
   ]
  },
  {
   "cell_type": "code",
   "execution_count": 59,
   "metadata": {},
   "outputs": [],
   "source": [
    "uwchr['start_dt'] = pd.to_datetime(uwchr['Placement Date'])\n",
    "uwchr['end_dt'] = pd.to_datetime(uwchr['Release Date'])"
   ]
  },
  {
   "cell_type": "code",
   "execution_count": 60,
   "metadata": {},
   "outputs": [],
   "source": [
    "uwchr['solitary_length'] = uwchr['end_dt'] - uwchr['start_dt']"
   ]
  },
  {
   "cell_type": "code",
   "execution_count": 61,
   "metadata": {},
   "outputs": [
    {
     "data": {
      "text/plain": [
       "count                        357\n",
       "mean     59 days 14:31:15.630252\n",
       "std      88 days 06:18:57.166750\n",
       "min              1 days 00:00:00\n",
       "25%             19 days 00:00:00\n",
       "50%             30 days 00:00:00\n",
       "75%             62 days 00:00:00\n",
       "max            781 days 00:00:00\n",
       "Name: solitary_length, dtype: object"
      ]
     },
     "execution_count": 61,
     "metadata": {},
     "output_type": "execute_result"
    }
   ],
   "source": [
    "uwchr['solitary_length'].describe()"
   ]
  },
  {
   "cell_type": "code",
   "execution_count": 62,
   "metadata": {},
   "outputs": [
    {
     "data": {
      "text/plain": [
       "count    260.000000\n",
       "mean      51.942308\n",
       "std       85.592735\n",
       "min        1.000000\n",
       "25%       17.000000\n",
       "50%       27.000000\n",
       "75%       42.250000\n",
       "max      781.000000\n",
       "Name: days_solitary, dtype: float64"
      ]
     },
     "execution_count": 62,
     "metadata": {},
     "output_type": "execute_result"
    }
   ],
   "source": [
    "icij_nwdc['days_solitary'].describe()"
   ]
  },
  {
   "cell_type": "code",
   "execution_count": 63,
   "metadata": {},
   "outputs": [
    {
     "data": {
      "text/plain": [
       "count    8293.000000\n",
       "mean       32.716870\n",
       "std        49.910964\n",
       "min         0.000000\n",
       "25%         9.000000\n",
       "50%        20.000000\n",
       "75%        32.000000\n",
       "max       781.000000\n",
       "Name: days_solitary, dtype: float64"
      ]
     },
     "execution_count": 63,
     "metadata": {},
     "output_type": "execute_result"
    }
   ],
   "source": [
    "icij['days_solitary'].describe()"
   ]
  },
  {
   "cell_type": "code",
   "execution_count": null,
   "metadata": {},
   "outputs": [],
   "source": []
  },
  {
   "cell_type": "code",
   "execution_count": null,
   "metadata": {},
   "outputs": [],
   "source": []
  }
 ],
 "metadata": {
  "kernelspec": {
   "display_name": "Python 3",
   "language": "python",
   "name": "python3"
  },
  "language_info": {
   "codemirror_mode": {
    "name": "ipython",
    "version": 3
   },
   "file_extension": ".py",
   "mimetype": "text/x-python",
   "name": "python",
   "nbconvert_exporter": "python",
   "pygments_lexer": "ipython3",
   "version": "3.7.1"
  }
 },
 "nbformat": 4,
 "nbformat_minor": 2
}
