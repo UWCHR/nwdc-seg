{
 "cells": [
  {
   "cell_type": "code",
   "execution_count": 6,
   "metadata": {},
   "outputs": [],
   "source": [
    "import pandas as pd\n",
    "import numpy as np\n",
    "import matplotlib.pyplot as plt\n",
    "import seaborn as sns\n",
    "import datetime as dt\n",
    "import yaml\n",
    "from pandas.tseries import offsets\n",
    "from matplotlib.ticker import (MultipleLocator, FormatStrFormatter,\n",
    "                               AutoMinorLocator, NullLocator)\n",
    "import matplotlib.dates as mdates"
   ]
  },
  {
   "cell_type": "code",
   "execution_count": 7,
   "metadata": {},
   "outputs": [],
   "source": [
    "icij = pd.read_csv('../input/icij-solitary-voices-final-dataset-for-publication.csv.gz', index_col='record_id', parse_dates=['placement_date', 'release_date'], compression='gzip')\n",
    "icij_not_parsed = pd.read_csv('../input/icij-solitary-voices-final-dataset-for-publication.csv.gz', compression='gzip', index_col='record_id',)"
   ]
  },
  {
   "cell_type": "code",
   "execution_count": 8,
   "metadata": {},
   "outputs": [
    {
     "name": "stdout",
     "output_type": "stream",
     "text": [
      "<class 'pandas.core.frame.DataFrame'>\n",
      "Int64Index: 8488 entries, 1 to 8488\n",
      "Data columns (total 14 columns):\n",
      "citizenship             8488 non-null object\n",
      "citizenship_id          8488 non-null object\n",
      "facility_aor            8487 non-null object\n",
      "state                   8488 non-null object\n",
      "facility                8488 non-null object\n",
      "facility_id             8488 non-null object\n",
      "placement_date          8488 non-null datetime64[ns]\n",
      "year                    8488 non-null int64\n",
      "placement_reason        8488 non-null object\n",
      "placement_reason_raw    8488 non-null object\n",
      "release_date            8293 non-null datetime64[ns]\n",
      "days_solitary           8293 non-null float64\n",
      "mental_illness          8488 non-null object\n",
      "no_suicide_watch        8488 non-null object\n",
      "dtypes: datetime64[ns](2), float64(1), int64(1), object(10)\n",
      "memory usage: 994.7+ KB\n"
     ]
    }
   ],
   "source": [
    "icij.info()"
   ]
  },
  {
   "cell_type": "code",
   "execution_count": 9,
   "metadata": {},
   "outputs": [
    {
     "data": {
      "text/plain": [
       "Index(['citizenship', 'citizenship_id', 'facility_aor', 'state', 'facility',\n",
       "       'facility_id', 'placement_date', 'year', 'placement_reason',\n",
       "       'placement_reason_raw', 'release_date', 'days_solitary',\n",
       "       'mental_illness', 'no_suicide_watch'],\n",
       "      dtype='object')"
      ]
     },
     "execution_count": 9,
     "metadata": {},
     "output_type": "execute_result"
    }
   ],
   "source": [
    "icij.columns"
   ]
  },
  {
   "cell_type": "code",
   "execution_count": 10,
   "metadata": {},
   "outputs": [
    {
     "data": {
      "text/html": [
       "<div>\n",
       "<style scoped>\n",
       "    .dataframe tbody tr th:only-of-type {\n",
       "        vertical-align: middle;\n",
       "    }\n",
       "\n",
       "    .dataframe tbody tr th {\n",
       "        vertical-align: top;\n",
       "    }\n",
       "\n",
       "    .dataframe thead th {\n",
       "        text-align: right;\n",
       "    }\n",
       "</style>\n",
       "<table border=\"1\" class=\"dataframe\">\n",
       "  <thead>\n",
       "    <tr style=\"text-align: right;\">\n",
       "      <th></th>\n",
       "      <th>citizenship</th>\n",
       "      <th>citizenship_id</th>\n",
       "      <th>facility_aor</th>\n",
       "      <th>state</th>\n",
       "      <th>facility</th>\n",
       "      <th>facility_id</th>\n",
       "      <th>placement_date</th>\n",
       "      <th>year</th>\n",
       "      <th>placement_reason</th>\n",
       "      <th>placement_reason_raw</th>\n",
       "      <th>release_date</th>\n",
       "      <th>days_solitary</th>\n",
       "      <th>mental_illness</th>\n",
       "      <th>no_suicide_watch</th>\n",
       "    </tr>\n",
       "    <tr>\n",
       "      <th>record_id</th>\n",
       "      <th></th>\n",
       "      <th></th>\n",
       "      <th></th>\n",
       "      <th></th>\n",
       "      <th></th>\n",
       "      <th></th>\n",
       "      <th></th>\n",
       "      <th></th>\n",
       "      <th></th>\n",
       "      <th></th>\n",
       "      <th></th>\n",
       "      <th></th>\n",
       "      <th></th>\n",
       "      <th></th>\n",
       "    </tr>\n",
       "  </thead>\n",
       "  <tbody>\n",
       "    <tr>\n",
       "      <th>1</th>\n",
       "      <td>Mexico</td>\n",
       "      <td>mexico</td>\n",
       "      <td>PHO (Phoenix)</td>\n",
       "      <td>AZ</td>\n",
       "      <td>AZ - Eloy Federal Contract Facility</td>\n",
       "      <td>eloy_federal_contract_facility_az</td>\n",
       "      <td>2012-04-30</td>\n",
       "      <td>2012</td>\n",
       "      <td>Protective Custody: Gang Status (Protective Cu...</td>\n",
       "      <td>protective_custody_gang_status_protective_cust...</td>\n",
       "      <td>2013-06-27</td>\n",
       "      <td>423.0</td>\n",
       "      <td>no</td>\n",
       "      <td>no</td>\n",
       "    </tr>\n",
       "    <tr>\n",
       "      <th>2</th>\n",
       "      <td>Sierra Leone</td>\n",
       "      <td>sierra_leone</td>\n",
       "      <td>SLC (Salt Lake City)</td>\n",
       "      <td>NV</td>\n",
       "      <td>NV - Henderson Detention Center</td>\n",
       "      <td>henderson_detention_center_nv</td>\n",
       "      <td>2012-05-30</td>\n",
       "      <td>2012</td>\n",
       "      <td>Protective Custody: Criminal Offense</td>\n",
       "      <td>protective_custody_criminal_offense</td>\n",
       "      <td>2013-10-30</td>\n",
       "      <td>518.0</td>\n",
       "      <td>no</td>\n",
       "      <td>no</td>\n",
       "    </tr>\n",
       "    <tr>\n",
       "      <th>3</th>\n",
       "      <td>El Salvador</td>\n",
       "      <td>el_salvador</td>\n",
       "      <td>SLC (Salt Lake City)</td>\n",
       "      <td>NV</td>\n",
       "      <td>NV - Henderson Detention Center</td>\n",
       "      <td>henderson_detention_center_nv</td>\n",
       "      <td>2012-07-12</td>\n",
       "      <td>2012</td>\n",
       "      <td>Protective Custody: Gang Status (Protective Cu...</td>\n",
       "      <td>protective_custody_gang_status_protective_cust...</td>\n",
       "      <td>2013-03-07</td>\n",
       "      <td>208.0</td>\n",
       "      <td>no</td>\n",
       "      <td>no</td>\n",
       "    </tr>\n",
       "    <tr>\n",
       "      <th>4</th>\n",
       "      <td>Iraq</td>\n",
       "      <td>iraq</td>\n",
       "      <td>SND (San Diego)</td>\n",
       "      <td>CA</td>\n",
       "      <td>CA - San Diego Contract Detention Facility - C...</td>\n",
       "      <td>san_diego_contract_detention_facility_cca_otay_ca</td>\n",
       "      <td>2012-07-25</td>\n",
       "      <td>2012</td>\n",
       "      <td>Mental Illness</td>\n",
       "      <td>mental_illness</td>\n",
       "      <td>2013-11-13</td>\n",
       "      <td>476.0</td>\n",
       "      <td>yes</td>\n",
       "      <td>no</td>\n",
       "    </tr>\n",
       "    <tr>\n",
       "      <th>5</th>\n",
       "      <td>Mexico</td>\n",
       "      <td>mexico</td>\n",
       "      <td>PHO (Phoenix)</td>\n",
       "      <td>AZ</td>\n",
       "      <td>AZ - Eloy Federal Contract Facility</td>\n",
       "      <td>eloy_federal_contract_facility_az</td>\n",
       "      <td>2012-08-17</td>\n",
       "      <td>2012</td>\n",
       "      <td>Protective Custody: Criminal Offense</td>\n",
       "      <td>protective_custody_criminal_offense</td>\n",
       "      <td>2013-08-11</td>\n",
       "      <td>448.0</td>\n",
       "      <td>no</td>\n",
       "      <td>no</td>\n",
       "    </tr>\n",
       "  </tbody>\n",
       "</table>\n",
       "</div>"
      ],
      "text/plain": [
       "            citizenship citizenship_id          facility_aor state  \\\n",
       "record_id                                                            \n",
       "1                Mexico         mexico         PHO (Phoenix)    AZ   \n",
       "2          Sierra Leone   sierra_leone  SLC (Salt Lake City)    NV   \n",
       "3           El Salvador    el_salvador  SLC (Salt Lake City)    NV   \n",
       "4                  Iraq           iraq       SND (San Diego)    CA   \n",
       "5                Mexico         mexico         PHO (Phoenix)    AZ   \n",
       "\n",
       "                                                    facility  \\\n",
       "record_id                                                      \n",
       "1                       AZ - Eloy Federal Contract Facility    \n",
       "2                           NV - Henderson Detention Center    \n",
       "3                           NV - Henderson Detention Center    \n",
       "4          CA - San Diego Contract Detention Facility - C...   \n",
       "5                       AZ - Eloy Federal Contract Facility    \n",
       "\n",
       "                                                 facility_id placement_date  \\\n",
       "record_id                                                                     \n",
       "1                          eloy_federal_contract_facility_az     2012-04-30   \n",
       "2                              henderson_detention_center_nv     2012-05-30   \n",
       "3                              henderson_detention_center_nv     2012-07-12   \n",
       "4          san_diego_contract_detention_facility_cca_otay_ca     2012-07-25   \n",
       "5                          eloy_federal_contract_facility_az     2012-08-17   \n",
       "\n",
       "           year                                   placement_reason  \\\n",
       "record_id                                                            \n",
       "1          2012  Protective Custody: Gang Status (Protective Cu...   \n",
       "2          2012               Protective Custody: Criminal Offense   \n",
       "3          2012  Protective Custody: Gang Status (Protective Cu...   \n",
       "4          2012                                     Mental Illness   \n",
       "5          2012               Protective Custody: Criminal Offense   \n",
       "\n",
       "                                        placement_reason_raw release_date  \\\n",
       "record_id                                                                   \n",
       "1          protective_custody_gang_status_protective_cust...   2013-06-27   \n",
       "2                        protective_custody_criminal_offense   2013-10-30   \n",
       "3          protective_custody_gang_status_protective_cust...   2013-03-07   \n",
       "4                                             mental_illness   2013-11-13   \n",
       "5                        protective_custody_criminal_offense   2013-08-11   \n",
       "\n",
       "           days_solitary mental_illness no_suicide_watch  \n",
       "record_id                                                 \n",
       "1                  423.0             no               no  \n",
       "2                  518.0             no               no  \n",
       "3                  208.0             no               no  \n",
       "4                  476.0            yes               no  \n",
       "5                  448.0             no               no  "
      ]
     },
     "execution_count": 10,
     "metadata": {},
     "output_type": "execute_result"
    }
   ],
   "source": [
    "icij.head()"
   ]
  },
  {
   "cell_type": "markdown",
   "metadata": {},
   "source": [
    "# Issue with dates"
   ]
  },
  {
   "cell_type": "markdown",
   "metadata": {},
   "source": [
    "Many records in the ICIJ publication dataset have release dates which precede their placement dates, which is illogical:"
   ]
  },
  {
   "cell_type": "code",
   "execution_count": 11,
   "metadata": {},
   "outputs": [
    {
     "name": "stdout",
     "output_type": "stream",
     "text": [
      "2148\n"
     ]
    }
   ],
   "source": [
    "release_pre_placement = icij['release_date'] < icij['placement_date']\n",
    "print(sum(release_pre_placement))"
   ]
  },
  {
   "cell_type": "markdown",
   "metadata": {},
   "source": [
    "When recalculating solitary length based on published release and placement dates, even more records do not match solitary length as calculated:"
   ]
  },
  {
   "cell_type": "code",
   "execution_count": 12,
   "metadata": {},
   "outputs": [
    {
     "name": "stdout",
     "output_type": "stream",
     "text": [
      "5154\n"
     ]
    }
   ],
   "source": [
    "mask = ((icij['release_date'] - icij['placement_date']) / np.timedelta64(1, 'D')) == icij['days_solitary']\n",
    "print(sum(~mask))"
   ]
  },
  {
   "cell_type": "markdown",
   "metadata": {},
   "source": [
    "Compare a sample of problematic records with unparsed dates in raw dataset to make sure that we didn't misread dates above; appears correct."
   ]
  },
  {
   "cell_type": "code",
   "execution_count": 13,
   "metadata": {},
   "outputs": [
    {
     "data": {
      "text/html": [
       "<div>\n",
       "<style scoped>\n",
       "    .dataframe tbody tr th:only-of-type {\n",
       "        vertical-align: middle;\n",
       "    }\n",
       "\n",
       "    .dataframe tbody tr th {\n",
       "        vertical-align: top;\n",
       "    }\n",
       "\n",
       "    .dataframe thead th {\n",
       "        text-align: right;\n",
       "    }\n",
       "</style>\n",
       "<table border=\"1\" class=\"dataframe\">\n",
       "  <thead>\n",
       "    <tr style=\"text-align: right;\">\n",
       "      <th></th>\n",
       "      <th>placement_date</th>\n",
       "      <th>release_date</th>\n",
       "      <th>days_solitary</th>\n",
       "    </tr>\n",
       "    <tr>\n",
       "      <th>record_id</th>\n",
       "      <th></th>\n",
       "      <th></th>\n",
       "      <th></th>\n",
       "    </tr>\n",
       "  </thead>\n",
       "  <tbody>\n",
       "    <tr>\n",
       "      <th>3</th>\n",
       "      <td>2012-07-12</td>\n",
       "      <td>2013-03-07</td>\n",
       "      <td>208.0</td>\n",
       "    </tr>\n",
       "    <tr>\n",
       "      <th>5</th>\n",
       "      <td>2012-08-17</td>\n",
       "      <td>2013-08-11</td>\n",
       "      <td>448.0</td>\n",
       "    </tr>\n",
       "    <tr>\n",
       "      <th>6</th>\n",
       "      <td>2012-09-03</td>\n",
       "      <td>2013-02-07</td>\n",
       "      <td>480.0</td>\n",
       "    </tr>\n",
       "    <tr>\n",
       "      <th>7</th>\n",
       "      <td>2012-10-12</td>\n",
       "      <td>2013-11-09</td>\n",
       "      <td>275.0</td>\n",
       "    </tr>\n",
       "    <tr>\n",
       "      <th>9</th>\n",
       "      <td>2012-11-14</td>\n",
       "      <td>2013-04-11</td>\n",
       "      <td>355.0</td>\n",
       "    </tr>\n",
       "  </tbody>\n",
       "</table>\n",
       "</div>"
      ],
      "text/plain": [
       "          placement_date release_date  days_solitary\n",
       "record_id                                           \n",
       "3             2012-07-12   2013-03-07          208.0\n",
       "5             2012-08-17   2013-08-11          448.0\n",
       "6             2012-09-03   2013-02-07          480.0\n",
       "7             2012-10-12   2013-11-09          275.0\n",
       "9             2012-11-14   2013-04-11          355.0"
      ]
     },
     "execution_count": 13,
     "metadata": {},
     "output_type": "execute_result"
    }
   ],
   "source": [
    "sample = icij.loc[~mask, ['placement_date', 'release_date', 'days_solitary']].head()\n",
    "sample_index = sample.index\n",
    "sample"
   ]
  },
  {
   "cell_type": "code",
   "execution_count": 14,
   "metadata": {},
   "outputs": [
    {
     "data": {
      "text/html": [
       "<div>\n",
       "<style scoped>\n",
       "    .dataframe tbody tr th:only-of-type {\n",
       "        vertical-align: middle;\n",
       "    }\n",
       "\n",
       "    .dataframe tbody tr th {\n",
       "        vertical-align: top;\n",
       "    }\n",
       "\n",
       "    .dataframe thead th {\n",
       "        text-align: right;\n",
       "    }\n",
       "</style>\n",
       "<table border=\"1\" class=\"dataframe\">\n",
       "  <thead>\n",
       "    <tr style=\"text-align: right;\">\n",
       "      <th></th>\n",
       "      <th>placement_date</th>\n",
       "      <th>release_date</th>\n",
       "      <th>days_solitary</th>\n",
       "    </tr>\n",
       "    <tr>\n",
       "      <th>record_id</th>\n",
       "      <th></th>\n",
       "      <th></th>\n",
       "      <th></th>\n",
       "    </tr>\n",
       "  </thead>\n",
       "  <tbody>\n",
       "    <tr>\n",
       "      <th>3</th>\n",
       "      <td>Jul 12, 2012</td>\n",
       "      <td>Mar 07, 2013</td>\n",
       "      <td>208.0</td>\n",
       "    </tr>\n",
       "    <tr>\n",
       "      <th>5</th>\n",
       "      <td>Aug 17, 2012</td>\n",
       "      <td>Aug 11, 2013</td>\n",
       "      <td>448.0</td>\n",
       "    </tr>\n",
       "    <tr>\n",
       "      <th>6</th>\n",
       "      <td>Sep 03, 2012</td>\n",
       "      <td>Feb 07, 2013</td>\n",
       "      <td>480.0</td>\n",
       "    </tr>\n",
       "    <tr>\n",
       "      <th>7</th>\n",
       "      <td>Oct 12, 2012</td>\n",
       "      <td>Nov 09, 2013</td>\n",
       "      <td>275.0</td>\n",
       "    </tr>\n",
       "    <tr>\n",
       "      <th>9</th>\n",
       "      <td>Nov 14, 2012</td>\n",
       "      <td>Apr 11, 2013</td>\n",
       "      <td>355.0</td>\n",
       "    </tr>\n",
       "  </tbody>\n",
       "</table>\n",
       "</div>"
      ],
      "text/plain": [
       "          placement_date  release_date  days_solitary\n",
       "record_id                                            \n",
       "3           Jul 12, 2012  Mar 07, 2013          208.0\n",
       "5           Aug 17, 2012  Aug 11, 2013          448.0\n",
       "6           Sep 03, 2012  Feb 07, 2013          480.0\n",
       "7           Oct 12, 2012  Nov 09, 2013          275.0\n",
       "9           Nov 14, 2012  Apr 11, 2013          355.0"
      ]
     },
     "execution_count": 14,
     "metadata": {},
     "output_type": "execute_result"
    }
   ],
   "source": [
    "not_parsed_sample = icij_not_parsed.loc[sample_index, ['placement_date', 'release_date', 'days_solitary']].head()\n",
    "not_parsed_sample"
   ]
  },
  {
   "cell_type": "markdown",
   "metadata": {},
   "source": [
    "Here we examine one record where published dates result in miscalculated solitary length. We see that if we swap day and month values in the dates (if day value is 12 or less), the solitary length calculation matches that published by ICIJ:"
   ]
  },
  {
   "cell_type": "code",
   "execution_count": 15,
   "metadata": {},
   "outputs": [
    {
     "data": {
      "text/html": [
       "<div>\n",
       "<style scoped>\n",
       "    .dataframe tbody tr th:only-of-type {\n",
       "        vertical-align: middle;\n",
       "    }\n",
       "\n",
       "    .dataframe tbody tr th {\n",
       "        vertical-align: top;\n",
       "    }\n",
       "\n",
       "    .dataframe thead th {\n",
       "        text-align: right;\n",
       "    }\n",
       "</style>\n",
       "<table border=\"1\" class=\"dataframe\">\n",
       "  <thead>\n",
       "    <tr style=\"text-align: right;\">\n",
       "      <th></th>\n",
       "      <th>citizenship</th>\n",
       "      <th>citizenship_id</th>\n",
       "      <th>facility_aor</th>\n",
       "      <th>state</th>\n",
       "      <th>facility</th>\n",
       "      <th>facility_id</th>\n",
       "      <th>placement_date</th>\n",
       "      <th>year</th>\n",
       "      <th>placement_reason</th>\n",
       "      <th>placement_reason_raw</th>\n",
       "      <th>release_date</th>\n",
       "      <th>days_solitary</th>\n",
       "      <th>mental_illness</th>\n",
       "      <th>no_suicide_watch</th>\n",
       "    </tr>\n",
       "    <tr>\n",
       "      <th>record_id</th>\n",
       "      <th></th>\n",
       "      <th></th>\n",
       "      <th></th>\n",
       "      <th></th>\n",
       "      <th></th>\n",
       "      <th></th>\n",
       "      <th></th>\n",
       "      <th></th>\n",
       "      <th></th>\n",
       "      <th></th>\n",
       "      <th></th>\n",
       "      <th></th>\n",
       "      <th></th>\n",
       "      <th></th>\n",
       "    </tr>\n",
       "  </thead>\n",
       "  <tbody>\n",
       "    <tr>\n",
       "      <th>3</th>\n",
       "      <td>El Salvador</td>\n",
       "      <td>el_salvador</td>\n",
       "      <td>SLC (Salt Lake City)</td>\n",
       "      <td>NV</td>\n",
       "      <td>NV - Henderson Detention Center</td>\n",
       "      <td>henderson_detention_center_nv</td>\n",
       "      <td>2012-07-12</td>\n",
       "      <td>2012</td>\n",
       "      <td>Protective Custody: Gang Status (Protective Cu...</td>\n",
       "      <td>protective_custody_gang_status_protective_cust...</td>\n",
       "      <td>2013-03-07</td>\n",
       "      <td>208.0</td>\n",
       "      <td>no</td>\n",
       "      <td>no</td>\n",
       "    </tr>\n",
       "  </tbody>\n",
       "</table>\n",
       "</div>"
      ],
      "text/plain": [
       "           citizenship citizenship_id          facility_aor state  \\\n",
       "record_id                                                           \n",
       "3          El Salvador    el_salvador  SLC (Salt Lake City)    NV   \n",
       "\n",
       "                                   facility                    facility_id  \\\n",
       "record_id                                                                    \n",
       "3          NV - Henderson Detention Center   henderson_detention_center_nv   \n",
       "\n",
       "          placement_date  year  \\\n",
       "record_id                        \n",
       "3             2012-07-12  2012   \n",
       "\n",
       "                                            placement_reason  \\\n",
       "record_id                                                      \n",
       "3          Protective Custody: Gang Status (Protective Cu...   \n",
       "\n",
       "                                        placement_reason_raw release_date  \\\n",
       "record_id                                                                   \n",
       "3          protective_custody_gang_status_protective_cust...   2013-03-07   \n",
       "\n",
       "           days_solitary mental_illness no_suicide_watch  \n",
       "record_id                                                 \n",
       "3                  208.0             no               no  "
      ]
     },
     "execution_count": 15,
     "metadata": {},
     "output_type": "execute_result"
    }
   ],
   "source": [
    "icij[~mask].head(1)"
   ]
  },
  {
   "cell_type": "code",
   "execution_count": 16,
   "metadata": {},
   "outputs": [
    {
     "name": "stdout",
     "output_type": "stream",
     "text": [
      "238 days 00:00:00\n",
      "208 days 00:00:00\n"
     ]
    }
   ],
   "source": [
    "# Dates as published results in solitary length that does not match published data:\n",
    "print(pd.to_datetime('2013-03-07') - pd.to_datetime('2012-07-12'))\n",
    "# Dates with reversed day and month values result in correct published solitary length:\n",
    "print(pd.to_datetime('2013-07-03') - pd.to_datetime('2012-12-07'))"
   ]
  },
  {
   "cell_type": "markdown",
   "metadata": {},
   "source": [
    "Simple function to reformat dates if value of day is 12 or less:"
   ]
  },
  {
   "cell_type": "code",
   "execution_count": 17,
   "metadata": {},
   "outputs": [],
   "source": [
    "def datefixer(date):\n",
    "    if date.day <= 12:\n",
    "        fixed = pd.to_datetime(f'{date.year}-{date.day}-{date.month}')\n",
    "        return fixed\n",
    "    elif date.day >= 13:\n",
    "        fixed = pd.to_datetime(f'{date.year}-{date.month}-{date.day}')\n",
    "        return fixed\n",
    "    elif pd.isnull(date):\n",
    "        fixed = np.nan\n",
    "        return fixed"
   ]
  },
  {
   "cell_type": "markdown",
   "metadata": {},
   "source": [
    "Create new fields with fixed dates, recalculate solitary length and compare to ICIJ published solitary length:"
   ]
  },
  {
   "cell_type": "code",
   "execution_count": 18,
   "metadata": {},
   "outputs": [],
   "source": [
    "icij['placement_date_fixed'] = icij['placement_date'].map(lambda x: datefixer(x))\n",
    "icij['release_date_fixed'] = icij['release_date'].map(lambda x: datefixer(x))"
   ]
  },
  {
   "cell_type": "code",
   "execution_count": 19,
   "metadata": {},
   "outputs": [],
   "source": [
    "icij['days_solitary_test'] = (icij['release_date_fixed'] - icij['placement_date_fixed']) / np.timedelta64(1, 'D')"
   ]
  },
  {
   "cell_type": "markdown",
   "metadata": {},
   "source": [
    "We see that most (but not all) of the issues are resolved:"
   ]
  },
  {
   "cell_type": "code",
   "execution_count": 20,
   "metadata": {},
   "outputs": [
    {
     "name": "stdout",
     "output_type": "stream",
     "text": [
      "349\n"
     ]
    }
   ],
   "source": [
    "mask = icij['days_solitary_test'] == icij['days_solitary']\n",
    "print(sum(~mask))"
   ]
  },
  {
   "cell_type": "markdown",
   "metadata": {},
   "source": [
    "Most of these remaining apparent mismatches are due to null release dates, which makes sense, as `NaN` values do not equate:"
   ]
  },
  {
   "cell_type": "code",
   "execution_count": 21,
   "metadata": {},
   "outputs": [
    {
     "data": {
      "text/plain": [
       "195"
      ]
     },
     "execution_count": 21,
     "metadata": {},
     "output_type": "execute_result"
    }
   ],
   "source": [
    "sum(icij[~mask]['release_date'].isnull())"
   ]
  },
  {
   "cell_type": "markdown",
   "metadata": {},
   "source": [
    "However in a few cases (approx. 150) `days_solitary` calculation simply seems to be wrong; in these cases for example the year seems to be ignored:"
   ]
  },
  {
   "cell_type": "code",
   "execution_count": 22,
   "metadata": {},
   "outputs": [
    {
     "data": {
      "text/html": [
       "<div>\n",
       "<style scoped>\n",
       "    .dataframe tbody tr th:only-of-type {\n",
       "        vertical-align: middle;\n",
       "    }\n",
       "\n",
       "    .dataframe tbody tr th {\n",
       "        vertical-align: top;\n",
       "    }\n",
       "\n",
       "    .dataframe thead th {\n",
       "        text-align: right;\n",
       "    }\n",
       "</style>\n",
       "<table border=\"1\" class=\"dataframe\">\n",
       "  <thead>\n",
       "    <tr style=\"text-align: right;\">\n",
       "      <th></th>\n",
       "      <th>citizenship</th>\n",
       "      <th>citizenship_id</th>\n",
       "      <th>facility_aor</th>\n",
       "      <th>state</th>\n",
       "      <th>facility</th>\n",
       "      <th>facility_id</th>\n",
       "      <th>placement_date</th>\n",
       "      <th>year</th>\n",
       "      <th>placement_reason</th>\n",
       "      <th>placement_reason_raw</th>\n",
       "      <th>release_date</th>\n",
       "      <th>days_solitary</th>\n",
       "      <th>mental_illness</th>\n",
       "      <th>no_suicide_watch</th>\n",
       "      <th>placement_date_fixed</th>\n",
       "      <th>release_date_fixed</th>\n",
       "      <th>days_solitary_test</th>\n",
       "    </tr>\n",
       "    <tr>\n",
       "      <th>record_id</th>\n",
       "      <th></th>\n",
       "      <th></th>\n",
       "      <th></th>\n",
       "      <th></th>\n",
       "      <th></th>\n",
       "      <th></th>\n",
       "      <th></th>\n",
       "      <th></th>\n",
       "      <th></th>\n",
       "      <th></th>\n",
       "      <th></th>\n",
       "      <th></th>\n",
       "      <th></th>\n",
       "      <th></th>\n",
       "      <th></th>\n",
       "      <th></th>\n",
       "      <th></th>\n",
       "    </tr>\n",
       "  </thead>\n",
       "  <tbody>\n",
       "    <tr>\n",
       "      <th>69</th>\n",
       "      <td>Mexico</td>\n",
       "      <td>mexico</td>\n",
       "      <td>SND (San Diego)</td>\n",
       "      <td>CA</td>\n",
       "      <td>CA - San Diego Contract Detention Facility - C...</td>\n",
       "      <td>san_diego_contract_detention_facility_cca_otay_ca</td>\n",
       "      <td>2013-02-12</td>\n",
       "      <td>2013</td>\n",
       "      <td>Disciplinary</td>\n",
       "      <td>disciplinary</td>\n",
       "      <td>2014-12-30</td>\n",
       "      <td>28.0</td>\n",
       "      <td>no</td>\n",
       "      <td>no</td>\n",
       "      <td>2013-12-02</td>\n",
       "      <td>2014-12-30</td>\n",
       "      <td>393.0</td>\n",
       "    </tr>\n",
       "    <tr>\n",
       "      <th>70</th>\n",
       "      <td>Guatemala</td>\n",
       "      <td>guatemala</td>\n",
       "      <td>SND (San Diego)</td>\n",
       "      <td>CA</td>\n",
       "      <td>CA - San Diego Contract Detention Facility - C...</td>\n",
       "      <td>san_diego_contract_detention_facility_cca_otay_ca</td>\n",
       "      <td>2013-02-12</td>\n",
       "      <td>2013</td>\n",
       "      <td>Disciplinary</td>\n",
       "      <td>disciplinary</td>\n",
       "      <td>2014-12-30</td>\n",
       "      <td>28.0</td>\n",
       "      <td>no</td>\n",
       "      <td>no</td>\n",
       "      <td>2013-12-02</td>\n",
       "      <td>2014-12-30</td>\n",
       "      <td>393.0</td>\n",
       "    </tr>\n",
       "    <tr>\n",
       "      <th>71</th>\n",
       "      <td>Mexico</td>\n",
       "      <td>mexico</td>\n",
       "      <td>SND (San Diego)</td>\n",
       "      <td>CA</td>\n",
       "      <td>CA - San Diego Contract Detention Facility - C...</td>\n",
       "      <td>san_diego_contract_detention_facility_cca_otay_ca</td>\n",
       "      <td>2013-02-12</td>\n",
       "      <td>2013</td>\n",
       "      <td>Disciplinary</td>\n",
       "      <td>disciplinary</td>\n",
       "      <td>2014-12-30</td>\n",
       "      <td>28.0</td>\n",
       "      <td>no</td>\n",
       "      <td>no</td>\n",
       "      <td>2013-12-02</td>\n",
       "      <td>2014-12-30</td>\n",
       "      <td>393.0</td>\n",
       "    </tr>\n",
       "    <tr>\n",
       "      <th>72</th>\n",
       "      <td>Mexico</td>\n",
       "      <td>mexico</td>\n",
       "      <td>SND (San Diego)</td>\n",
       "      <td>CA</td>\n",
       "      <td>CA - San Diego Contract Detention Facility - C...</td>\n",
       "      <td>san_diego_contract_detention_facility_cca_otay_ca</td>\n",
       "      <td>2013-02-12</td>\n",
       "      <td>2013</td>\n",
       "      <td>Disciplinary</td>\n",
       "      <td>disciplinary</td>\n",
       "      <td>2014-12-30</td>\n",
       "      <td>28.0</td>\n",
       "      <td>no</td>\n",
       "      <td>no</td>\n",
       "      <td>2013-12-02</td>\n",
       "      <td>2014-12-30</td>\n",
       "      <td>393.0</td>\n",
       "    </tr>\n",
       "    <tr>\n",
       "      <th>73</th>\n",
       "      <td>Honduras</td>\n",
       "      <td>honduras</td>\n",
       "      <td>SND (San Diego)</td>\n",
       "      <td>CA</td>\n",
       "      <td>CA - San Diego Contract Detention Facility - C...</td>\n",
       "      <td>san_diego_contract_detention_facility_cca_otay_ca</td>\n",
       "      <td>2013-02-12</td>\n",
       "      <td>2013</td>\n",
       "      <td>Disciplinary</td>\n",
       "      <td>disciplinary</td>\n",
       "      <td>2014-12-31</td>\n",
       "      <td>29.0</td>\n",
       "      <td>no</td>\n",
       "      <td>no</td>\n",
       "      <td>2013-12-02</td>\n",
       "      <td>2014-12-31</td>\n",
       "      <td>394.0</td>\n",
       "    </tr>\n",
       "  </tbody>\n",
       "</table>\n",
       "</div>"
      ],
      "text/plain": [
       "          citizenship citizenship_id     facility_aor state  \\\n",
       "record_id                                                     \n",
       "69             Mexico         mexico  SND (San Diego)    CA   \n",
       "70          Guatemala      guatemala  SND (San Diego)    CA   \n",
       "71             Mexico         mexico  SND (San Diego)    CA   \n",
       "72             Mexico         mexico  SND (San Diego)    CA   \n",
       "73           Honduras       honduras  SND (San Diego)    CA   \n",
       "\n",
       "                                                    facility  \\\n",
       "record_id                                                      \n",
       "69         CA - San Diego Contract Detention Facility - C...   \n",
       "70         CA - San Diego Contract Detention Facility - C...   \n",
       "71         CA - San Diego Contract Detention Facility - C...   \n",
       "72         CA - San Diego Contract Detention Facility - C...   \n",
       "73         CA - San Diego Contract Detention Facility - C...   \n",
       "\n",
       "                                                 facility_id placement_date  \\\n",
       "record_id                                                                     \n",
       "69         san_diego_contract_detention_facility_cca_otay_ca     2013-02-12   \n",
       "70         san_diego_contract_detention_facility_cca_otay_ca     2013-02-12   \n",
       "71         san_diego_contract_detention_facility_cca_otay_ca     2013-02-12   \n",
       "72         san_diego_contract_detention_facility_cca_otay_ca     2013-02-12   \n",
       "73         san_diego_contract_detention_facility_cca_otay_ca     2013-02-12   \n",
       "\n",
       "           year placement_reason placement_reason_raw release_date  \\\n",
       "record_id                                                            \n",
       "69         2013     Disciplinary         disciplinary   2014-12-30   \n",
       "70         2013     Disciplinary         disciplinary   2014-12-30   \n",
       "71         2013     Disciplinary         disciplinary   2014-12-30   \n",
       "72         2013     Disciplinary         disciplinary   2014-12-30   \n",
       "73         2013     Disciplinary         disciplinary   2014-12-31   \n",
       "\n",
       "           days_solitary mental_illness no_suicide_watch placement_date_fixed  \\\n",
       "record_id                                                                       \n",
       "69                  28.0             no               no           2013-12-02   \n",
       "70                  28.0             no               no           2013-12-02   \n",
       "71                  28.0             no               no           2013-12-02   \n",
       "72                  28.0             no               no           2013-12-02   \n",
       "73                  29.0             no               no           2013-12-02   \n",
       "\n",
       "          release_date_fixed  days_solitary_test  \n",
       "record_id                                         \n",
       "69                2014-12-30               393.0  \n",
       "70                2014-12-30               393.0  \n",
       "71                2014-12-30               393.0  \n",
       "72                2014-12-30               393.0  \n",
       "73                2014-12-31               394.0  "
      ]
     },
     "execution_count": 22,
     "metadata": {},
     "output_type": "execute_result"
    }
   ],
   "source": [
    "icij[~mask].head(5)"
   ]
  },
  {
   "cell_type": "code",
   "execution_count": 23,
   "metadata": {},
   "outputs": [
    {
     "data": {
      "text/plain": [
       "154"
      ]
     },
     "execution_count": 23,
     "metadata": {},
     "output_type": "execute_result"
    }
   ],
   "source": [
    "sum(pd.notnull(icij.loc[~mask, 'release_date']))"
   ]
  },
  {
   "cell_type": "code",
   "execution_count": 24,
   "metadata": {},
   "outputs": [],
   "source": [
    "csv_opts = {'sep': '|',\n",
    "            'quotechar': '\"',\n",
    "            'compression': 'gzip',\n",
    "            'encoding': 'utf-8'}"
   ]
  },
  {
   "cell_type": "code",
   "execution_count": 25,
   "metadata": {},
   "outputs": [],
   "source": [
    "icij.to_csv('../frozen/icij-date-fix-temp.csv', **csv_opts)"
   ]
  },
  {
   "cell_type": "code",
   "execution_count": null,
   "metadata": {},
   "outputs": [],
   "source": []
  },
  {
   "cell_type": "markdown",
   "metadata": {},
   "source": [
    "# Comparing \"fixed\" ICIJ data with UWCHR data"
   ]
  },
  {
   "cell_type": "code",
   "execution_count": 26,
   "metadata": {},
   "outputs": [],
   "source": [
    "csv_opts = {'sep': '|',\n",
    "            'quotechar': '\"',\n",
    "            'compression': 'gzip',\n",
    "            'encoding': 'utf-8'}\n",
    "\n",
    "uwchr = pd.read_csv('../input/2018-ICFO-00515 Highlighted_EDIT.csv.gz', parse_dates=['Placement Date', 'Release Date'], **csv_opts)"
   ]
  },
  {
   "cell_type": "code",
   "execution_count": 27,
   "metadata": {},
   "outputs": [],
   "source": [
    "redacted = ['Alien Number', 'Last Name', 'First Name', 'Date of Birth', 'Path']\n",
    "uwchr = uwchr.drop(redacted, axis=1)\n",
    "uwchr.columns = uwchr.columns.str.lower()\n",
    "uwchr.columns = uwchr.columns.str.replace(' ', '_')\n",
    "uwchr.columns = uwchr.columns.str.replace('?', '')"
   ]
  },
  {
   "cell_type": "code",
   "execution_count": 28,
   "metadata": {},
   "outputs": [],
   "source": [
    "nwdc_mask = icij['facility'] == 'WA - Northwest Detention Center '"
   ]
  },
  {
   "cell_type": "code",
   "execution_count": 29,
   "metadata": {},
   "outputs": [],
   "source": [
    "icij_nwdc = icij[nwdc_mask]"
   ]
  },
  {
   "cell_type": "code",
   "execution_count": 30,
   "metadata": {},
   "outputs": [],
   "source": [
    "icij_nwdc.reset_index(inplace=True)"
   ]
  },
  {
   "cell_type": "code",
   "execution_count": 31,
   "metadata": {},
   "outputs": [
    {
     "name": "stdout",
     "output_type": "stream",
     "text": [
      "2013-05-13 00:00:00\n",
      "2017-03-14 00:00:00\n"
     ]
    }
   ],
   "source": [
    "print(icij_nwdc['placement_date_fixed'].min())\n",
    "print(icij_nwdc['placement_date_fixed'].max())"
   ]
  },
  {
   "cell_type": "code",
   "execution_count": 32,
   "metadata": {},
   "outputs": [
    {
     "name": "stdout",
     "output_type": "stream",
     "text": [
      "2013-05-13 00:00:00\n",
      "2018-05-20 00:00:00\n"
     ]
    }
   ],
   "source": [
    "print(uwchr['placement_date'].min())\n",
    "print(uwchr['placement_date'].max())"
   ]
  },
  {
   "cell_type": "code",
   "execution_count": 33,
   "metadata": {},
   "outputs": [],
   "source": [
    "uwchr_annual = uwchr.set_index('placement_date').groupby(pd.Grouper(freq='AS'))\n",
    "uwchr_fy = uwchr.set_index('placement_date').groupby(pd.Grouper(freq='AS-OCT'))\n",
    "uwchr_monthly = uwchr.set_index('placement_date').groupby(pd.Grouper(freq='M'))\n",
    "\n",
    "icij_annual = icij_nwdc.set_index('placement_date_fixed').groupby(pd.Grouper(freq='AS'))\n",
    "icij_fy = icij_nwdc.set_index('placement_date_fixed').groupby(pd.Grouper(freq='AS-OCT'))\n",
    "icij_monthly = icij_nwdc.set_index('placement_date_fixed').groupby(pd.Grouper(freq='M'))"
   ]
  },
  {
   "cell_type": "code",
   "execution_count": 34,
   "metadata": {},
   "outputs": [
    {
     "data": {
      "text/plain": [
       "<matplotlib.axes._subplots.AxesSubplot at 0x1a1fa584e0>"
      ]
     },
     "execution_count": 34,
     "metadata": {},
     "output_type": "execute_result"
    },
    {
     "data": {
      "image/png": "[encoded data removed]",
      "text/plain": [
       "<Figure size 432x288 with 1 Axes>"
      ]
     },
     "metadata": {
      "needs_background": "light"
     },
     "output_type": "display_data"
    }
   ],
   "source": [
    "uwchr_fy['tracking_number'].nunique().plot()\n",
    "icij_fy['record_id'].nunique().plot()"
   ]
  },
  {
   "cell_type": "code",
   "execution_count": 35,
   "metadata": {},
   "outputs": [
    {
     "data": {
      "text/plain": [
       "<matplotlib.axes._subplots.AxesSubplot at 0x1a1fd42d68>"
      ]
     },
     "execution_count": 35,
     "metadata": {},
     "output_type": "execute_result"
    },
    {
     "data": {
      "image/png": "[encoded data removed]",
      "text/plain": [
       "<Figure size 432x288 with 1 Axes>"
      ]
     },
     "metadata": {
      "needs_background": "light"
     },
     "output_type": "display_data"
    }
   ],
   "source": [
    "uwchr_annual['tracking_number'].nunique().plot()\n",
    "icij_annual['record_id'].nunique().plot()"
   ]
  },
  {
   "cell_type": "code",
   "execution_count": 36,
   "metadata": {},
   "outputs": [],
   "source": [
    "uwchr_monthly_count = uwchr_monthly['tracking_number'].nunique()\n",
    "uwchr_monthly.name = \"UWCHR count\"\n",
    "icij_monthly_count = icij_monthly['record_id'].nunique()\n",
    "icij_monthly.name = \"ICIJ count\"\n",
    "df2 = pd.concat([uwchr_monthly_count, icij_monthly_count], axis=1)"
   ]
  },
  {
   "cell_type": "code",
   "execution_count": 37,
   "metadata": {},
   "outputs": [
    {
     "data": {
      "text/plain": [
       "<matplotlib.axes._subplots.AxesSubplot at 0x1a1fcc5780>"
      ]
     },
     "execution_count": 37,
     "metadata": {},
     "output_type": "execute_result"
    },
    {
     "data": {
      "image/png": "[encoded data removed]",
      "text/plain": [
       "<Figure size 432x288 with 1 Axes>"
      ]
     },
     "metadata": {
      "needs_background": "light"
     },
     "output_type": "display_data"
    }
   ],
   "source": [
    "df2.cumsum().plot()"
   ]
  },
  {
   "cell_type": "code",
   "execution_count": 38,
   "metadata": {},
   "outputs": [],
   "source": [
    "mask = icij_nwdc['release_date_fixed'].isnull()"
   ]
  },
  {
   "cell_type": "code",
   "execution_count": 39,
   "metadata": {},
   "outputs": [],
   "source": [
    "mask = icij_nwdc.loc[:, 'days_solitary'] == icij_nwdc.loc[:, 'days_solitary_test']"
   ]
  },
  {
   "cell_type": "code",
   "execution_count": 40,
   "metadata": {},
   "outputs": [
    {
     "data": {
      "text/html": [
       "<div>\n",
       "<style scoped>\n",
       "    .dataframe tbody tr th:only-of-type {\n",
       "        vertical-align: middle;\n",
       "    }\n",
       "\n",
       "    .dataframe tbody tr th {\n",
       "        vertical-align: top;\n",
       "    }\n",
       "\n",
       "    .dataframe thead th {\n",
       "        text-align: right;\n",
       "    }\n",
       "</style>\n",
       "<table border=\"1\" class=\"dataframe\">\n",
       "  <thead>\n",
       "    <tr style=\"text-align: right;\">\n",
       "      <th></th>\n",
       "      <th>record_id</th>\n",
       "      <th>citizenship</th>\n",
       "      <th>citizenship_id</th>\n",
       "      <th>facility_aor</th>\n",
       "      <th>state</th>\n",
       "      <th>facility</th>\n",
       "      <th>facility_id</th>\n",
       "      <th>placement_date</th>\n",
       "      <th>year</th>\n",
       "      <th>placement_reason</th>\n",
       "      <th>placement_reason_raw</th>\n",
       "      <th>release_date</th>\n",
       "      <th>days_solitary</th>\n",
       "      <th>mental_illness</th>\n",
       "      <th>no_suicide_watch</th>\n",
       "      <th>placement_date_fixed</th>\n",
       "      <th>release_date_fixed</th>\n",
       "      <th>days_solitary_test</th>\n",
       "    </tr>\n",
       "  </thead>\n",
       "  <tbody>\n",
       "    <tr>\n",
       "      <th>49</th>\n",
       "      <td>860</td>\n",
       "      <td>Mexico</td>\n",
       "      <td>mexico</td>\n",
       "      <td>SEA (Seattle)</td>\n",
       "      <td>WA</td>\n",
       "      <td>WA - Northwest Detention Center</td>\n",
       "      <td>northwest_detention_center_wa</td>\n",
       "      <td>2013-12-23</td>\n",
       "      <td>2013</td>\n",
       "      <td>Disciplinary</td>\n",
       "      <td>disciplinary</td>\n",
       "      <td>2014-12-30</td>\n",
       "      <td>7.0</td>\n",
       "      <td>yes</td>\n",
       "      <td>no</td>\n",
       "      <td>2013-12-23</td>\n",
       "      <td>2014-12-30</td>\n",
       "      <td>372.0</td>\n",
       "    </tr>\n",
       "    <tr>\n",
       "      <th>59</th>\n",
       "      <td>919</td>\n",
       "      <td>Mexico</td>\n",
       "      <td>mexico</td>\n",
       "      <td>SEA (Seattle)</td>\n",
       "      <td>WA</td>\n",
       "      <td>WA - Northwest Detention Center</td>\n",
       "      <td>northwest_detention_center_wa</td>\n",
       "      <td>2014-12-31</td>\n",
       "      <td>2013</td>\n",
       "      <td>Disciplinary</td>\n",
       "      <td>disciplinary</td>\n",
       "      <td>2014-01-30</td>\n",
       "      <td>30.0</td>\n",
       "      <td>no</td>\n",
       "      <td>no</td>\n",
       "      <td>2014-12-31</td>\n",
       "      <td>2014-01-30</td>\n",
       "      <td>-335.0</td>\n",
       "    </tr>\n",
       "    <tr>\n",
       "      <th>141</th>\n",
       "      <td>2986</td>\n",
       "      <td>Ethiopia</td>\n",
       "      <td>ethiopia</td>\n",
       "      <td>SEA (Seattle)</td>\n",
       "      <td>WA</td>\n",
       "      <td>WA - Northwest Detention Center</td>\n",
       "      <td>northwest_detention_center_wa</td>\n",
       "      <td>2015-12-30</td>\n",
       "      <td>2014</td>\n",
       "      <td>Disciplinary</td>\n",
       "      <td>disciplinary</td>\n",
       "      <td>2015-01-22</td>\n",
       "      <td>23.0</td>\n",
       "      <td>no</td>\n",
       "      <td>no</td>\n",
       "      <td>2015-12-30</td>\n",
       "      <td>2015-01-22</td>\n",
       "      <td>-342.0</td>\n",
       "    </tr>\n",
       "    <tr>\n",
       "      <th>204</th>\n",
       "      <td>4860</td>\n",
       "      <td>El Salvador</td>\n",
       "      <td>el_salvador</td>\n",
       "      <td>SEA (Seattle)</td>\n",
       "      <td>WA</td>\n",
       "      <td>WA - Northwest Detention Center</td>\n",
       "      <td>northwest_detention_center_wa</td>\n",
       "      <td>2015-10-17</td>\n",
       "      <td>2015</td>\n",
       "      <td>Protective Custody: Other Detainee Safety</td>\n",
       "      <td>protective_custody_other_detainee_safety</td>\n",
       "      <td>2016-12-30</td>\n",
       "      <td>74.0</td>\n",
       "      <td>yes</td>\n",
       "      <td>no</td>\n",
       "      <td>2015-10-17</td>\n",
       "      <td>2016-12-30</td>\n",
       "      <td>440.0</td>\n",
       "    </tr>\n",
       "    <tr>\n",
       "      <th>217</th>\n",
       "      <td>5396</td>\n",
       "      <td>Mexico</td>\n",
       "      <td>mexico</td>\n",
       "      <td>SEA (Seattle)</td>\n",
       "      <td>WA</td>\n",
       "      <td>WA - Northwest Detention Center</td>\n",
       "      <td>northwest_detention_center_wa</td>\n",
       "      <td>2016-12-31</td>\n",
       "      <td>2015</td>\n",
       "      <td>Protective Custody: Other Detainee Safety</td>\n",
       "      <td>protective_custody_other_detainee_safety</td>\n",
       "      <td>2016-01-14</td>\n",
       "      <td>14.0</td>\n",
       "      <td>yes</td>\n",
       "      <td>no</td>\n",
       "      <td>2016-12-31</td>\n",
       "      <td>2016-01-14</td>\n",
       "      <td>-352.0</td>\n",
       "    </tr>\n",
       "  </tbody>\n",
       "</table>\n",
       "</div>"
      ],
      "text/plain": [
       "     record_id  citizenship citizenship_id   facility_aor state  \\\n",
       "49         860       Mexico         mexico  SEA (Seattle)    WA   \n",
       "59         919       Mexico         mexico  SEA (Seattle)    WA   \n",
       "141       2986     Ethiopia       ethiopia  SEA (Seattle)    WA   \n",
       "204       4860  El Salvador    el_salvador  SEA (Seattle)    WA   \n",
       "217       5396       Mexico         mexico  SEA (Seattle)    WA   \n",
       "\n",
       "                             facility                    facility_id  \\\n",
       "49   WA - Northwest Detention Center   northwest_detention_center_wa   \n",
       "59   WA - Northwest Detention Center   northwest_detention_center_wa   \n",
       "141  WA - Northwest Detention Center   northwest_detention_center_wa   \n",
       "204  WA - Northwest Detention Center   northwest_detention_center_wa   \n",
       "217  WA - Northwest Detention Center   northwest_detention_center_wa   \n",
       "\n",
       "    placement_date  year                           placement_reason  \\\n",
       "49      2013-12-23  2013                               Disciplinary   \n",
       "59      2014-12-31  2013                               Disciplinary   \n",
       "141     2015-12-30  2014                               Disciplinary   \n",
       "204     2015-10-17  2015  Protective Custody: Other Detainee Safety   \n",
       "217     2016-12-31  2015  Protective Custody: Other Detainee Safety   \n",
       "\n",
       "                         placement_reason_raw release_date  days_solitary  \\\n",
       "49                               disciplinary   2014-12-30            7.0   \n",
       "59                               disciplinary   2014-01-30           30.0   \n",
       "141                              disciplinary   2015-01-22           23.0   \n",
       "204  protective_custody_other_detainee_safety   2016-12-30           74.0   \n",
       "217  protective_custody_other_detainee_safety   2016-01-14           14.0   \n",
       "\n",
       "    mental_illness no_suicide_watch placement_date_fixed release_date_fixed  \\\n",
       "49             yes               no           2013-12-23         2014-12-30   \n",
       "59              no               no           2014-12-31         2014-01-30   \n",
       "141             no               no           2015-12-30         2015-01-22   \n",
       "204            yes               no           2015-10-17         2016-12-30   \n",
       "217            yes               no           2016-12-31         2016-01-14   \n",
       "\n",
       "     days_solitary_test  \n",
       "49                372.0  \n",
       "59               -335.0  \n",
       "141              -342.0  \n",
       "204               440.0  \n",
       "217              -352.0  "
      ]
     },
     "execution_count": 40,
     "metadata": {},
     "output_type": "execute_result"
    }
   ],
   "source": [
    "icij_nwdc[~mask].dropna(subset=['release_date'])"
   ]
  },
  {
   "cell_type": "code",
   "execution_count": 41,
   "metadata": {},
   "outputs": [
    {
     "data": {
      "text/plain": [
       "count    255.000000\n",
       "mean      52.380392\n",
       "std       86.309964\n",
       "min        1.000000\n",
       "25%       17.000000\n",
       "50%       27.000000\n",
       "75%       42.500000\n",
       "max      781.000000\n",
       "Name: days_solitary, dtype: float64"
      ]
     },
     "execution_count": 41,
     "metadata": {},
     "output_type": "execute_result"
    }
   ],
   "source": [
    "icij_nwdc.loc[mask, 'days_solitary'].describe()"
   ]
  },
  {
   "cell_type": "code",
   "execution_count": 42,
   "metadata": {},
   "outputs": [
    {
     "data": {
      "text/plain": [
       "count    255.000000\n",
       "mean      52.380392\n",
       "std       86.309964\n",
       "min        1.000000\n",
       "25%       17.000000\n",
       "50%       27.000000\n",
       "75%       42.500000\n",
       "max      781.000000\n",
       "Name: days_solitary_test, dtype: float64"
      ]
     },
     "execution_count": 42,
     "metadata": {},
     "output_type": "execute_result"
    }
   ],
   "source": [
    "icij_nwdc.loc[mask, 'days_solitary_test'].describe()"
   ]
  },
  {
   "cell_type": "code",
   "execution_count": 43,
   "metadata": {},
   "outputs": [],
   "source": [
    "# Simplify placement reasons into more general categories:\n",
    "with open(f'../hand/placement-types.yaml', 'r') as yamlfile:\n",
    "    placement_reason_type = yaml.load(yamlfile)"
   ]
  },
  {
   "cell_type": "code",
   "execution_count": 48,
   "metadata": {},
   "outputs": [],
   "source": [
    "icij['placement_reason_type'] = icij['placement_reason'].replace(placement_reason_type)\n",
    "\n",
    "icij = icij[icij['days_solitary'] > 0]\n",
    "\n",
    "icij['placement_date_fixed'] = pd.to_datetime(icij['placement_date_fixed'])"
   ]
  },
  {
   "cell_type": "code",
   "execution_count": 49,
   "metadata": {},
   "outputs": [
    {
     "data": {
      "image/png": "[encoded data removed]",
      "text/plain": [
       "<Figure size 512x360 with 1 Axes>"
      ]
     },
     "metadata": {
      "needs_background": "light"
     },
     "output_type": "display_data"
    }
   ],
   "source": [
    "icij = icij.dropna(subset=['release_date'])\n",
    "icij.loc[:,'placement_date_int'] = icij['placement_date_fixed'].astype(int)\n",
    "icij.loc[:,'log_solitary_days'] = np.log(icij['days_solitary'])\n",
    "\n",
    "# x=icij.loc[:, 'placement_date'].astype(int)\n",
    "# y=icij.loc[:,'log_solitary_days']\n",
    "\n",
    "lm = sns.lmplot(data=icij, x='placement_date_int', y='log_solitary_days', hue='placement_reason_type')\n",
    "\n",
    "ax = lm.axes\n",
    "\n",
    "xticks = ax[0,0].get_xticks()\n",
    "xticks_dates = [pd.to_datetime(x).year for x in xticks]\n",
    "ax[0,0].set_xticklabels(xticks_dates);"
   ]
  },
  {
   "cell_type": "code",
   "execution_count": 50,
   "metadata": {},
   "outputs": [
    {
     "data": {
      "image/png": "[encoded data removed]",
      "text/plain": [
       "<Figure size 432x288 with 1 Axes>"
      ]
     },
     "metadata": {
      "needs_background": "light"
     },
     "output_type": "display_data"
    }
   ],
   "source": [
    "order = icij.groupby(by=[\"placement_reason_type\"])[\"log_solitary_days\"].median().sort_values(ascending=False).index\n",
    "ax = sns.boxplot(data=icij, x=\"placement_reason_type\", y=\"log_solitary_days\", order=order)\n",
    "ax.set_xticklabels(ax.get_xticklabels(),rotation=90);"
   ]
  },
  {
   "cell_type": "code",
   "execution_count": 52,
   "metadata": {},
   "outputs": [
    {
     "data": {
      "image/png": "[encoded data removed]",
      "text/plain": [
       "<Figure size 432x288 with 1 Axes>"
      ]
     },
     "metadata": {
      "needs_background": "light"
     },
     "output_type": "display_data"
    }
   ],
   "source": [
    "icij_nwdc_str = icij[icij['state'] == 'WA']['facility'].unique()[0]\n",
    "icij_nwdc_mask = icij.set_index('placement_date_fixed')['facility'] == icij_nwdc_str\n",
    "icij_nwdc = icij.set_index('placement_date_fixed').loc[icij_nwdc_mask, 'days_solitary'].dropna()\n",
    "icij_not_nwdc = icij.set_index('placement_date_fixed').loc[~icij_nwdc_mask, 'days_solitary'].dropna()\n",
    "\n",
    "x=icij_not_nwdc.index.astype(int)\n",
    "y=np.log(icij_not_nwdc.values)\n",
    "\n",
    "fig = plt.figure()\n",
    "ax = fig.add_subplot(111)\n",
    "plt.scatter(x, y)\n",
    "\n",
    "x=icij_nwdc.index.astype(int)\n",
    "y=np.log(icij_nwdc.values)\n",
    "plt.scatter(x, y)\n",
    "\n",
    "xticks = ax.get_xticks()\n",
    "xticks_dates = [pd.to_datetime(x).year for x in xticks]\n",
    "ax.set_xticklabels(xticks_dates)\n",
    "plt.show()\n",
    "plt.close(fig=fig)\n",
    "del fig, ax"
   ]
  },
  {
   "cell_type": "code",
   "execution_count": null,
   "metadata": {},
   "outputs": [],
   "source": []
  }
 ],
 "metadata": {
  "kernelspec": {
   "display_name": "Python 3",
   "language": "python",
   "name": "python3"
  },
  "language_info": {
   "codemirror_mode": {
    "name": "ipython",
    "version": 3
   },
   "file_extension": ".py",
   "mimetype": "text/x-python",
   "name": "python",
   "nbconvert_exporter": "python",
   "pygments_lexer": "ipython3",
   "version": "3.7.1"
  }
 },
 "nbformat": 4,
 "nbformat_minor": 2
}
