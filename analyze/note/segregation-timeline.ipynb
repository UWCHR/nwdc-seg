{
 "cells": [
  {
   "cell_type": "code",
   "execution_count": 1,
   "metadata": {},
   "outputs": [],
   "source": [
    "import pandas as pd\n",
    "import numpy as np\n",
    "import matplotlib.pyplot as plt\n",
    "import seaborn as sns\n",
    "import datetime\n",
    "from pandas.tseries import offsets\n",
    "from matplotlib.ticker import (MultipleLocator, FormatStrFormatter,\n",
    "                               AutoMinorLocator, NullLocator)\n",
    "import matplotlib.dates as mdates"
   ]
  },
  {
   "cell_type": "code",
   "execution_count": 2,
   "metadata": {},
   "outputs": [],
   "source": [
    "csv_opts = {'sep': '|',\n",
    "            'quotechar': '\"',\n",
    "            'compression': 'gzip',\n",
    "            'encoding': 'utf-8'}"
   ]
  },
  {
   "cell_type": "code",
   "execution_count": 3,
   "metadata": {},
   "outputs": [],
   "source": [
    "df = pd.read_csv('../input/2018-ICFO-00515 Highlighted_EDIT.csv.gz', **csv_opts)"
   ]
  },
  {
   "cell_type": "code",
   "execution_count": 4,
   "metadata": {},
   "outputs": [
    {
     "data": {
      "text/plain": [
       "Index(['Tracking Number', 'Alien Number', 'Last Name', 'First Name', 'Gender',\n",
       "       'Date of Birth', 'Country of Citizenship', 'Facility AOR', 'Facility',\n",
       "       'Facility:DETLOC', 'Report Type', 'Placement Date', 'Placement Reason',\n",
       "       'Release Date', 'Length of Stay', 'Disciplinary Infraction',\n",
       "       'Sanction Length', 'Detailed Reason', 'Attorney of Record',\n",
       "       'Attorney Notification', 'Detainee Request',\n",
       "       'Compliance with Detention Standards', 'Mental Illness',\n",
       "       'Serious Medical Illness', 'Serious Disability', 'Ever SMI?',\n",
       "       'FO Recommendation', 'Additional Comments Export',\n",
       "       'Non Compliance Detail', 'Special Criteria', 'ID', 'Current Review',\n",
       "       'Created', 'LGBTI', 'Item Type', 'Path'],\n",
       "      dtype='object')"
      ]
     },
     "execution_count": 4,
     "metadata": {},
     "output_type": "execute_result"
    }
   ],
   "source": [
    "df.columns"
   ]
  },
  {
   "cell_type": "code",
   "execution_count": 5,
   "metadata": {},
   "outputs": [
    {
     "data": {
      "text/html": [
       "<div>\n",
       "<style scoped>\n",
       "    .dataframe tbody tr th:only-of-type {\n",
       "        vertical-align: middle;\n",
       "    }\n",
       "\n",
       "    .dataframe tbody tr th {\n",
       "        vertical-align: top;\n",
       "    }\n",
       "\n",
       "    .dataframe thead th {\n",
       "        text-align: right;\n",
       "    }\n",
       "</style>\n",
       "<table border=\"1\" class=\"dataframe\">\n",
       "  <thead>\n",
       "    <tr style=\"text-align: right;\">\n",
       "      <th></th>\n",
       "      <th>Tracking Number</th>\n",
       "      <th>Alien Number</th>\n",
       "      <th>Last Name</th>\n",
       "      <th>First Name</th>\n",
       "      <th>Gender</th>\n",
       "      <th>Date of Birth</th>\n",
       "      <th>Country of Citizenship</th>\n",
       "      <th>Facility AOR</th>\n",
       "      <th>Facility</th>\n",
       "      <th>Facility:DETLOC</th>\n",
       "      <th>...</th>\n",
       "      <th>FO Recommendation</th>\n",
       "      <th>Additional Comments Export</th>\n",
       "      <th>Non Compliance Detail</th>\n",
       "      <th>Special Criteria</th>\n",
       "      <th>ID</th>\n",
       "      <th>Current Review</th>\n",
       "      <th>Created</th>\n",
       "      <th>LGBTI</th>\n",
       "      <th>Item Type</th>\n",
       "      <th>Path</th>\n",
       "    </tr>\n",
       "  </thead>\n",
       "  <tbody>\n",
       "    <tr>\n",
       "      <th>0</th>\n",
       "      <td>12442</td>\n",
       "      <td>(b)(6), (b)(7)(c )</td>\n",
       "      <td>(b)(6), (b)(7)(c )</td>\n",
       "      <td>(b)(6), (b)(7)(c )</td>\n",
       "      <td>Male</td>\n",
       "      <td>(b)(6), (b)(7)(c )</td>\n",
       "      <td>MOROCCO</td>\n",
       "      <td>SEA (Seattle)</td>\n",
       "      <td>TACOMA ICE PROCESSING CENTER (NORTHWEST DET CT...</td>\n",
       "      <td>CSCNWWA</td>\n",
       "      <td>...</td>\n",
       "      <td>NaN</td>\n",
       "      <td>05/23/2018 05/14/2018 Detainee is under medica...</td>\n",
       "      <td>NaN</td>\n",
       "      <td>Yes</td>\n",
       "      <td>12442</td>\n",
       "      <td>14.0</td>\n",
       "      <td>5/23/2018</td>\n",
       "      <td>NaN</td>\n",
       "      <td>Item</td>\n",
       "      <td>(b)(7)(E)</td>\n",
       "    </tr>\n",
       "    <tr>\n",
       "      <th>1</th>\n",
       "      <td>12439</td>\n",
       "      <td>(b)(6), (b)(7)(c )</td>\n",
       "      <td>(b)(6), (b)(7)(c )</td>\n",
       "      <td>(b)(6), (b)(7)(c )</td>\n",
       "      <td>Male</td>\n",
       "      <td>(b)(6), (b)(7)(c )</td>\n",
       "      <td>ERITREA</td>\n",
       "      <td>SEA (Seattle)</td>\n",
       "      <td>TACOMA ICE PROCESSING CENTER (NORTHWEST DET CT...</td>\n",
       "      <td>CSCNWWA</td>\n",
       "      <td>...</td>\n",
       "      <td>Detainee has been housed in all available hous...</td>\n",
       "      <td>05/22/2018 Detainee has been housed in all ava...</td>\n",
       "      <td>NaN</td>\n",
       "      <td>No</td>\n",
       "      <td>12439</td>\n",
       "      <td>14.0</td>\n",
       "      <td>5/22/2018</td>\n",
       "      <td>NaN</td>\n",
       "      <td>Item</td>\n",
       "      <td>(b)(7)(E)</td>\n",
       "    </tr>\n",
       "    <tr>\n",
       "      <th>2</th>\n",
       "      <td>12438</td>\n",
       "      <td>(b)(6), (b)(7)(c )</td>\n",
       "      <td>(b)(6), (b)(7)(c )</td>\n",
       "      <td>(b)(6), (b)(7)(c )</td>\n",
       "      <td>Male</td>\n",
       "      <td>(b)(6), (b)(7)(c )</td>\n",
       "      <td>INDIA</td>\n",
       "      <td>SEA (Seattle)</td>\n",
       "      <td>TACOMA ICE PROCESSING CENTER (NORTHWEST DET CT...</td>\n",
       "      <td>CSCNWWA</td>\n",
       "      <td>...</td>\n",
       "      <td>NaN</td>\n",
       "      <td>05/23/2018 Detainee placed in RHU pending SAAP...</td>\n",
       "      <td>NaN</td>\n",
       "      <td>Yes</td>\n",
       "      <td>12438</td>\n",
       "      <td>14.0</td>\n",
       "      <td>5/22/2018</td>\n",
       "      <td>NaN</td>\n",
       "      <td>Item</td>\n",
       "      <td>(b)(7)(E)</td>\n",
       "    </tr>\n",
       "    <tr>\n",
       "      <th>3</th>\n",
       "      <td>12437</td>\n",
       "      <td>(b)(6), (b)(7)(c )</td>\n",
       "      <td>(b)(6), (b)(7)(c )</td>\n",
       "      <td>(b)(6), (b)(7)(c )</td>\n",
       "      <td>Male</td>\n",
       "      <td>(b)(6), (b)(7)(c )</td>\n",
       "      <td>RUSSIA</td>\n",
       "      <td>SEA (Seattle)</td>\n",
       "      <td>TACOMA ICE PROCESSING CENTER (NORTHWEST DET CT...</td>\n",
       "      <td>CSCNWWA</td>\n",
       "      <td>...</td>\n",
       "      <td>Detainee had hazardous items in his possession...</td>\n",
       "      <td>05/23/2018 Detainee placed in RHU pending IDP ...</td>\n",
       "      <td>NaN</td>\n",
       "      <td>Yes</td>\n",
       "      <td>12437</td>\n",
       "      <td>14.0</td>\n",
       "      <td>5/22/2018</td>\n",
       "      <td>NaN</td>\n",
       "      <td>Item</td>\n",
       "      <td>(b)(7)(E)</td>\n",
       "    </tr>\n",
       "    <tr>\n",
       "      <th>4</th>\n",
       "      <td>12436</td>\n",
       "      <td>(b)(6), (b)(7)(c )</td>\n",
       "      <td>(b)(6), (b)(7)(c )</td>\n",
       "      <td>(b)(6), (b)(7)(c )</td>\n",
       "      <td>Female</td>\n",
       "      <td>(b)(6), (b)(7)(c )</td>\n",
       "      <td>MEXICO</td>\n",
       "      <td>SEA (Seattle)</td>\n",
       "      <td>TACOMA ICE PROCESSING CENTER (NORTHWEST DET CT...</td>\n",
       "      <td>CSCNWWA</td>\n",
       "      <td>...</td>\n",
       "      <td>Detainee's actions were deliberate and unprovo...</td>\n",
       "      <td>05/23/2018 Detainee returned from medical on 0...</td>\n",
       "      <td>NaN</td>\n",
       "      <td>Yes</td>\n",
       "      <td>12436</td>\n",
       "      <td>30.0</td>\n",
       "      <td>5/22/2018</td>\n",
       "      <td>NaN</td>\n",
       "      <td>Item</td>\n",
       "      <td>(b)(7)(E)</td>\n",
       "    </tr>\n",
       "  </tbody>\n",
       "</table>\n",
       "<p>5 rows × 36 columns</p>\n",
       "</div>"
      ],
      "text/plain": [
       "   Tracking Number         Alien Number            Last Name  \\\n",
       "0            12442  (b)(6), (b)(7)(c )   (b)(6), (b)(7)(c )    \n",
       "1            12439  (b)(6), (b)(7)(c )   (b)(6), (b)(7)(c )    \n",
       "2            12438  (b)(6), (b)(7)(c )   (b)(6), (b)(7)(c )    \n",
       "3            12437  (b)(6), (b)(7)(c )   (b)(6), (b)(7)(c )    \n",
       "4            12436  (b)(6), (b)(7)(c )   (b)(6), (b)(7)(c )    \n",
       "\n",
       "            First Name  Gender        Date of Birth Country of Citizenship  \\\n",
       "0  (b)(6), (b)(7)(c )     Male  (b)(6), (b)(7)(c )                 MOROCCO   \n",
       "1  (b)(6), (b)(7)(c )     Male  (b)(6), (b)(7)(c )                 ERITREA   \n",
       "2  (b)(6), (b)(7)(c )     Male  (b)(6), (b)(7)(c )                   INDIA   \n",
       "3  (b)(6), (b)(7)(c )     Male  (b)(6), (b)(7)(c )                  RUSSIA   \n",
       "4  (b)(6), (b)(7)(c )   Female  (b)(6), (b)(7)(c )                  MEXICO   \n",
       "\n",
       "    Facility AOR                                           Facility  \\\n",
       "0  SEA (Seattle)  TACOMA ICE PROCESSING CENTER (NORTHWEST DET CT...   \n",
       "1  SEA (Seattle)  TACOMA ICE PROCESSING CENTER (NORTHWEST DET CT...   \n",
       "2  SEA (Seattle)  TACOMA ICE PROCESSING CENTER (NORTHWEST DET CT...   \n",
       "3  SEA (Seattle)  TACOMA ICE PROCESSING CENTER (NORTHWEST DET CT...   \n",
       "4  SEA (Seattle)  TACOMA ICE PROCESSING CENTER (NORTHWEST DET CT...   \n",
       "\n",
       "  Facility:DETLOC    ...      \\\n",
       "0         CSCNWWA    ...       \n",
       "1         CSCNWWA    ...       \n",
       "2         CSCNWWA    ...       \n",
       "3         CSCNWWA    ...       \n",
       "4         CSCNWWA    ...       \n",
       "\n",
       "                                   FO Recommendation  \\\n",
       "0                                                NaN   \n",
       "1  Detainee has been housed in all available hous...   \n",
       "2                                                NaN   \n",
       "3  Detainee had hazardous items in his possession...   \n",
       "4  Detainee's actions were deliberate and unprovo...   \n",
       "\n",
       "                          Additional Comments Export Non Compliance Detail  \\\n",
       "0  05/23/2018 05/14/2018 Detainee is under medica...                   NaN   \n",
       "1  05/22/2018 Detainee has been housed in all ava...                   NaN   \n",
       "2  05/23/2018 Detainee placed in RHU pending SAAP...                   NaN   \n",
       "3  05/23/2018 Detainee placed in RHU pending IDP ...                   NaN   \n",
       "4  05/23/2018 Detainee returned from medical on 0...                   NaN   \n",
       "\n",
       "  Special Criteria     ID Current Review    Created LGBTI Item Type       Path  \n",
       "0              Yes  12442           14.0  5/23/2018   NaN      Item  (b)(7)(E)  \n",
       "1               No  12439           14.0  5/22/2018   NaN      Item  (b)(7)(E)  \n",
       "2              Yes  12438           14.0  5/22/2018   NaN      Item  (b)(7)(E)  \n",
       "3              Yes  12437           14.0  5/22/2018   NaN      Item  (b)(7)(E)  \n",
       "4              Yes  12436           30.0  5/22/2018   NaN      Item  (b)(7)(E)  \n",
       "\n",
       "[5 rows x 36 columns]"
      ]
     },
     "execution_count": 5,
     "metadata": {},
     "output_type": "execute_result"
    }
   ],
   "source": [
    "df.head()"
   ]
  },
  {
   "cell_type": "code",
   "execution_count": 6,
   "metadata": {},
   "outputs": [],
   "source": [
    "df['start_dt'] = pd.to_datetime(df['Placement Date'])\n",
    "df['end_dt'] = pd.to_datetime(df['Release Date'])"
   ]
  },
  {
   "cell_type": "code",
   "execution_count": 7,
   "metadata": {},
   "outputs": [],
   "source": [
    "assert sum(df['start_dt'].isnull()) == 0"
   ]
  },
  {
   "cell_type": "code",
   "execution_count": 8,
   "metadata": {},
   "outputs": [
    {
     "data": {
      "text/plain": [
       "14"
      ]
     },
     "execution_count": 8,
     "metadata": {},
     "output_type": "execute_result"
    }
   ],
   "source": [
    "sum(df['end_dt'].isnull())"
   ]
  },
  {
   "cell_type": "code",
   "execution_count": 9,
   "metadata": {},
   "outputs": [
    {
     "name": "stdout",
     "output_type": "stream",
     "text": [
      "2013-05-13 00:00:00 2018-05-31 00:00:00\n"
     ]
    }
   ],
   "source": [
    "min_date = df['start_dt'].min()\n",
    "max_date = df['end_dt'].max()\n",
    "print(min_date, max_date)"
   ]
  },
  {
   "cell_type": "code",
   "execution_count": 10,
   "metadata": {},
   "outputs": [],
   "source": [
    "g = df.set_index('start_dt').groupby(pd.Grouper(freq='A'))"
   ]
  },
  {
   "cell_type": "code",
   "execution_count": 11,
   "metadata": {},
   "outputs": [],
   "source": [
    "fy_count = g['Tracking Number'].nunique()"
   ]
  },
  {
   "cell_type": "code",
   "execution_count": 12,
   "metadata": {},
   "outputs": [],
   "source": [
    "fy_count.index = fy_count.index.year"
   ]
  },
  {
   "cell_type": "code",
   "execution_count": 13,
   "metadata": {},
   "outputs": [
    {
     "data": {
      "text/plain": [
       "start_dt\n",
       "2013    60\n",
       "2014    82\n",
       "2015    76\n",
       "2016    42\n",
       "2017    74\n",
       "2018    37\n",
       "Name: Tracking Number, dtype: int64"
      ]
     },
     "execution_count": 13,
     "metadata": {},
     "output_type": "execute_result"
    }
   ],
   "source": [
    "fy_count"
   ]
  },
  {
   "cell_type": "code",
   "execution_count": 14,
   "metadata": {},
   "outputs": [
    {
     "data": {
      "text/plain": [
       "371"
      ]
     },
     "execution_count": 14,
     "metadata": {},
     "output_type": "execute_result"
    }
   ],
   "source": [
    "len(set(df['Tracking Number']))"
   ]
  },
  {
   "cell_type": "code",
   "execution_count": 15,
   "metadata": {},
   "outputs": [],
   "source": [
    "data = df.set_index('start_dt').groupby(pd.Grouper(freq='M'))['Tracking Number'].count()"
   ]
  },
  {
   "cell_type": "code",
   "execution_count": 16,
   "metadata": {},
   "outputs": [
    {
     "data": {
      "image/png": "[encoded data removed]",
      "text/plain": [
       "<Figure size 720x432 with 1 Axes>"
      ]
     },
     "metadata": {
      "needs_background": "light"
     },
     "output_type": "display_data"
    }
   ],
   "source": [
    "years = mdates.YearLocator()\n",
    "months = mdates.MonthLocator()\n",
    "years_fmt = mdates.DateFormatter('%Y')\n",
    "\n",
    "fig, ax = plt.subplots(figsize=(10,6))\n",
    "ax.set_facecolor('#DDDDDD')\n",
    "ax.set_axisbelow(True)\n",
    "ax.yaxis.grid(color='#FFFFFF')\n",
    "ax.bar(data.index, data, width=20)\n",
    "ax.xaxis.set_minor_locator(months)\n",
    "ax.xaxis.set_major_locator(years)\n",
    "ax.xaxis.set_major_formatter(years_fmt)\n",
    "ax.yaxis.set_minor_locator(MultipleLocator(1))\n",
    "ax.yaxis.set_major_locator(MultipleLocator(2))\n",
    "plt.title('NWDC Administrative Segregation Placements per month')\n",
    "plt.ylabel('Placements')\n",
    "plt.xlabel('Calendar year')\n",
    "\n",
    "plt.show()"
   ]
  },
  {
   "cell_type": "markdown",
   "metadata": {},
   "source": [
    "## Time in solitary"
   ]
  },
  {
   "cell_type": "code",
   "execution_count": 17,
   "metadata": {},
   "outputs": [],
   "source": [
    "# df = df[~df['end_dt'].isnull()].copy() # Dropping unfinished solitary records - this makes it look like fewer ppl in latter part of dataset\n",
    "df.loc[df['end_dt'].isnull(), 'end_dt'] = max_date # Alternative: set end_date for unfinished records as last date of dataset"
   ]
  },
  {
   "cell_type": "code",
   "execution_count": 18,
   "metadata": {},
   "outputs": [],
   "source": [
    "df['solitary_length'] = df['end_dt'] - df['start_dt']"
   ]
  },
  {
   "cell_type": "code",
   "execution_count": 19,
   "metadata": {
    "scrolled": true
   },
   "outputs": [
    {
     "data": {
      "text/plain": [
       "count                        371\n",
       "mean     62 days 02:11:58.059299\n",
       "std      90 days 17:10:02.682051\n",
       "min              1 days 00:00:00\n",
       "25%             19 days 00:00:00\n",
       "50%             31 days 00:00:00\n",
       "75%             65 days 00:00:00\n",
       "max            781 days 00:00:00\n",
       "Name: solitary_length, dtype: object"
      ]
     },
     "execution_count": 19,
     "metadata": {},
     "output_type": "execute_result"
    }
   ],
   "source": [
    "df['solitary_length'].describe()"
   ]
  },
  {
   "cell_type": "code",
   "execution_count": 20,
   "metadata": {},
   "outputs": [],
   "source": [
    "df['solitary_days'] = df['solitary_length'] / np.timedelta64(1, 'D')"
   ]
  },
  {
   "cell_type": "code",
   "execution_count": 21,
   "metadata": {},
   "outputs": [],
   "source": [
    "df.loc[:, 'log_solitary_days'] = np.log(df['solitary_days'])"
   ]
  },
  {
   "cell_type": "code",
   "execution_count": 22,
   "metadata": {},
   "outputs": [
    {
     "data": {
      "text/plain": [
       "6.660575149839686"
      ]
     },
     "execution_count": 22,
     "metadata": {},
     "output_type": "execute_result"
    }
   ],
   "source": [
    "df['log_solitary_days'].max()"
   ]
  },
  {
   "cell_type": "code",
   "execution_count": 23,
   "metadata": {
    "scrolled": false
   },
   "outputs": [
    {
     "name": "stderr",
     "output_type": "stream",
     "text": [
      "/Users/philneff/anaconda3/lib/python3.7/site-packages/scipy/stats/stats.py:1713: FutureWarning: Using a non-tuple sequence for multidimensional indexing is deprecated; use `arr[tuple(seq)]` instead of `arr[seq]`. In the future this will be interpreted as an array index, `arr[np.array(seq)]`, which will result either in an error or a different result.\n",
      "  return np.add.reduce(sorted[indexer] * weights, axis=axis) / sumval\n"
     ]
    },
    {
     "data": {
      "image/png": "[encoded data removed]",
      "text/plain": [
       "<Figure size 432x288 with 1 Axes>"
      ]
     },
     "metadata": {
      "needs_background": "light"
     },
     "output_type": "display_data"
    }
   ],
   "source": [
    "x=df.loc[:, 'start_dt'].astype(int)\n",
    "y=df.loc[:,'log_solitary_days']\n",
    "\n",
    "fig = plt.figure()\n",
    "ax = fig.add_subplot(111)\n",
    "sns.regplot(x, y)\n",
    "\n",
    "xticks = ax.get_xticks()\n",
    "xticks_dates = [pd.to_datetime(x).year for x in xticks]\n",
    "ax.set_xticklabels(xticks_dates);"
   ]
  },
  {
   "cell_type": "markdown",
   "metadata": {},
   "source": [
    "## Timeline"
   ]
  },
  {
   "cell_type": "code",
   "execution_count": 24,
   "metadata": {},
   "outputs": [],
   "source": [
    "timeline = pd.date_range(min_date, max_date, freq='D')"
   ]
  },
  {
   "cell_type": "code",
   "execution_count": 25,
   "metadata": {},
   "outputs": [],
   "source": [
    "years = timeline.year.unique()"
   ]
  },
  {
   "cell_type": "code",
   "execution_count": 26,
   "metadata": {},
   "outputs": [],
   "source": [
    "counts = pd.Series(index=timeline)\n",
    "for day in timeline:\n",
    "    in_range = df[(df['start_dt'] <= day) & (df['end_dt'] >= day)]\n",
    "    counts[day] = len(in_range)"
   ]
  },
  {
   "cell_type": "code",
   "execution_count": 27,
   "metadata": {},
   "outputs": [
    {
     "data": {
      "image/png": "[encoded data removed]",
      "text/plain": [
       "<Figure size 432x288 with 1 Axes>"
      ]
     },
     "metadata": {
      "needs_background": "light"
     },
     "output_type": "display_data"
    }
   ],
   "source": [
    "fig, ax = plt.subplots()\n",
    "fig.figsize=(10,8)\n",
    "\n",
    "ax = counts.plot();\n",
    "ax.axhline(counts[min_date:max_date].mean(), color='r')\n",
    "plt.title('NWDC: Solitary confinement population')\n",
    "plt.xlabel('Calendar year')\n",
    "plt.ylabel('Total solitary pop.')\n",
    "leg = ax.legend(('Population', 'Mean'), loc='upper right', bbox_to_anchor=(1.35, 1))\n",
    "plt.show()\n",
    "fig.savefig('samplefigure', bbox_inches='tight')"
   ]
  },
  {
   "cell_type": "code",
   "execution_count": 28,
   "metadata": {},
   "outputs": [
    {
     "data": {
      "text/plain": [
       "2013-01-01     9.600858\n",
       "2014-01-01    11.101370\n",
       "2015-01-01    11.876712\n",
       "2016-01-01    10.295082\n",
       "2017-01-01    16.923288\n",
       "2018-01-01    18.794702\n",
       "Freq: AS-JAN, dtype: float64"
      ]
     },
     "execution_count": 28,
     "metadata": {},
     "output_type": "execute_result"
    }
   ],
   "source": [
    "counts.resample('AS').mean()"
   ]
  },
  {
   "cell_type": "code",
   "execution_count": 29,
   "metadata": {},
   "outputs": [
    {
     "data": {
      "text/plain": [
       "12.686720867208672"
      ]
     },
     "execution_count": 29,
     "metadata": {},
     "output_type": "execute_result"
    }
   ],
   "source": [
    "counts.mean()"
   ]
  },
  {
   "cell_type": "code",
   "execution_count": 30,
   "metadata": {},
   "outputs": [
    {
     "data": {
      "image/png": "[encoded data removed]",
      "text/plain": [
       "<Figure size 720x576 with 6 Axes>"
      ]
     },
     "metadata": {
      "needs_background": "light"
     },
     "output_type": "display_data"
    }
   ],
   "source": [
    "fig = plt.figure(figsize=(10,8))\n",
    "i = 0\n",
    "for year in years:\n",
    "    ax=plt.subplot(3,2,i+1)\n",
    "\n",
    "    ax.set_title(f'{year}')\n",
    "    counts[f'{year}'].plot(ax=ax)\n",
    "    datemin = pd.Timestamp(f'{year}-01-01')\n",
    "    datemax = pd.Timestamp(f'{year}-12-31')\n",
    "    ax.set_facecolor('#EEEEEE')\n",
    "    ax.set_xlim([datemin, datemax])\n",
    "    ax.set_ylim([-2,30])\n",
    "    ax.yaxis.set_minor_locator(MultipleLocator(5))\n",
    "    ax.xaxis.set_minor_locator(NullLocator())\n",
    "    ax.axhline(counts[f'{year}'].mean(), color='r')\n",
    "    i = i + 1\n",
    "    plt.grid(axis='y', which='minor', color='#FFFFFF')\n",
    "plt.subplots_adjust(wspace=.2, hspace=.4)\n",
    "fig.suptitle(\"NWDC Segregation Population\", fontsize=16)\n",
    "fig.legend(('Population', 'Annual Mean'), loc='upper right')\n",
    "plt.show()"
   ]
  },
  {
   "cell_type": "markdown",
   "metadata": {},
   "source": [
    "## Other characteristics"
   ]
  },
  {
   "cell_type": "code",
   "execution_count": 31,
   "metadata": {},
   "outputs": [
    {
     "data": {
      "text/plain": [
       "Index(['Tracking Number', 'Alien Number', 'Last Name', 'First Name', 'Gender',\n",
       "       'Date of Birth', 'Country of Citizenship', 'Facility AOR', 'Facility',\n",
       "       'Facility:DETLOC', 'Report Type', 'Placement Date', 'Placement Reason',\n",
       "       'Release Date', 'Length of Stay', 'Disciplinary Infraction',\n",
       "       'Sanction Length', 'Detailed Reason', 'Attorney of Record',\n",
       "       'Attorney Notification', 'Detainee Request',\n",
       "       'Compliance with Detention Standards', 'Mental Illness',\n",
       "       'Serious Medical Illness', 'Serious Disability', 'Ever SMI?',\n",
       "       'FO Recommendation', 'Additional Comments Export',\n",
       "       'Non Compliance Detail', 'Special Criteria', 'ID', 'Current Review',\n",
       "       'Created', 'LGBTI', 'Item Type', 'Path', 'start_dt', 'end_dt',\n",
       "       'solitary_length', 'solitary_days', 'log_solitary_days'],\n",
       "      dtype='object')"
      ]
     },
     "execution_count": 31,
     "metadata": {},
     "output_type": "execute_result"
    }
   ],
   "source": [
    "df.columns"
   ]
  },
  {
   "cell_type": "code",
   "execution_count": 32,
   "metadata": {},
   "outputs": [],
   "source": [
    "placement_counts = df['Placement Reason'].value_counts()"
   ]
  },
  {
   "cell_type": "code",
   "execution_count": 33,
   "metadata": {},
   "outputs": [],
   "source": [
    "placement_mean_days = df.groupby(['Placement Reason'])['solitary_days'].mean().sort_values(ascending=False)"
   ]
  },
  {
   "cell_type": "code",
   "execution_count": 34,
   "metadata": {},
   "outputs": [],
   "source": [
    "placements = pd.concat([placement_counts, placement_mean_days], axis=1, sort=False)"
   ]
  },
  {
   "cell_type": "code",
   "execution_count": 35,
   "metadata": {},
   "outputs": [
    {
     "data": {
      "text/html": [
       "<div>\n",
       "<style scoped>\n",
       "    .dataframe tbody tr th:only-of-type {\n",
       "        vertical-align: middle;\n",
       "    }\n",
       "\n",
       "    .dataframe tbody tr th {\n",
       "        vertical-align: top;\n",
       "    }\n",
       "\n",
       "    .dataframe thead th {\n",
       "        text-align: right;\n",
       "    }\n",
       "</style>\n",
       "<table border=\"1\" class=\"dataframe\">\n",
       "  <thead>\n",
       "    <tr style=\"text-align: right;\">\n",
       "      <th></th>\n",
       "      <th>Total placements</th>\n",
       "      <th>Av solitary length</th>\n",
       "    </tr>\n",
       "    <tr>\n",
       "      <th>Solitary Placement Reason</th>\n",
       "      <th></th>\n",
       "      <th></th>\n",
       "    </tr>\n",
       "  </thead>\n",
       "  <tbody>\n",
       "    <tr>\n",
       "      <th>Disciplinary</th>\n",
       "      <td>130</td>\n",
       "      <td>26.215385</td>\n",
       "    </tr>\n",
       "    <tr>\n",
       "      <th>Protective Custody: Other Detainee Safety</th>\n",
       "      <td>87</td>\n",
       "      <td>94.045977</td>\n",
       "    </tr>\n",
       "    <tr>\n",
       "      <th>Facility Security Threat: Other</th>\n",
       "      <td>37</td>\n",
       "      <td>54.216216</td>\n",
       "    </tr>\n",
       "    <tr>\n",
       "      <th>Facility Security Threat: Violent or Disruptive Behavior</th>\n",
       "      <td>25</td>\n",
       "      <td>79.360000</td>\n",
       "    </tr>\n",
       "    <tr>\n",
       "      <th>Protective Custody: Gang Status (Protective Custody Only)</th>\n",
       "      <td>25</td>\n",
       "      <td>138.920000</td>\n",
       "    </tr>\n",
       "    <tr>\n",
       "      <th>Facility Security Threat: Gang Member Status (Not Protective Custody)</th>\n",
       "      <td>19</td>\n",
       "      <td>68.526316</td>\n",
       "    </tr>\n",
       "    <tr>\n",
       "      <th>Mental Illness</th>\n",
       "      <td>9</td>\n",
       "      <td>41.666667</td>\n",
       "    </tr>\n",
       "    <tr>\n",
       "      <th>Medical: Observation</th>\n",
       "      <td>9</td>\n",
       "      <td>8.777778</td>\n",
       "    </tr>\n",
       "    <tr>\n",
       "      <th>Pending Investigation of Disciplinary Violation</th>\n",
       "      <td>8</td>\n",
       "      <td>6.750000</td>\n",
       "    </tr>\n",
       "    <tr>\n",
       "      <th>Protective Custody: Criminal Offense (i.e. Sex Offender)</th>\n",
       "      <td>8</td>\n",
       "      <td>217.750000</td>\n",
       "    </tr>\n",
       "    <tr>\n",
       "      <th>Medical: Other</th>\n",
       "      <td>4</td>\n",
       "      <td>14.500000</td>\n",
       "    </tr>\n",
       "    <tr>\n",
       "      <th>Protective Custody: Special Vulnerability Other</th>\n",
       "      <td>3</td>\n",
       "      <td>26.666667</td>\n",
       "    </tr>\n",
       "    <tr>\n",
       "      <th>Other</th>\n",
       "      <td>3</td>\n",
       "      <td>23.666667</td>\n",
       "    </tr>\n",
       "    <tr>\n",
       "      <th>Facility Security Threat: Due to Seriousness of Criminal Conviction</th>\n",
       "      <td>2</td>\n",
       "      <td>50.000000</td>\n",
       "    </tr>\n",
       "    <tr>\n",
       "      <th>Hunger Strike</th>\n",
       "      <td>1</td>\n",
       "      <td>4.000000</td>\n",
       "    </tr>\n",
       "    <tr>\n",
       "      <th>Protective Custody: Lesbian, Gay, Bisexual, Transgender (LGBT)</th>\n",
       "      <td>1</td>\n",
       "      <td>118.000000</td>\n",
       "    </tr>\n",
       "  </tbody>\n",
       "</table>\n",
       "</div>"
      ],
      "text/plain": [
       "                                                    Total placements  \\\n",
       "Solitary Placement Reason                                              \n",
       "Disciplinary                                                     130   \n",
       "Protective Custody: Other Detainee Safety                         87   \n",
       "Facility Security Threat: Other                                   37   \n",
       "Facility Security Threat: Violent or Disruptive...                25   \n",
       "Protective Custody: Gang Status (Protective Cus...                25   \n",
       "Facility Security Threat: Gang Member Status (N...                19   \n",
       "Mental Illness                                                     9   \n",
       "Medical: Observation                                               9   \n",
       "Pending Investigation of Disciplinary Violation                    8   \n",
       "Protective Custody: Criminal Offense (i.e. Sex ...                 8   \n",
       "Medical: Other                                                     4   \n",
       "Protective Custody: Special Vulnerability Other                    3   \n",
       "Other                                                              3   \n",
       "Facility Security Threat: Due to Seriousness of...                 2   \n",
       "Hunger Strike                                                      1   \n",
       "Protective Custody: Lesbian, Gay, Bisexual, Tra...                 1   \n",
       "\n",
       "                                                    Av solitary length  \n",
       "Solitary Placement Reason                                               \n",
       "Disciplinary                                                 26.215385  \n",
       "Protective Custody: Other Detainee Safety                    94.045977  \n",
       "Facility Security Threat: Other                              54.216216  \n",
       "Facility Security Threat: Violent or Disruptive...           79.360000  \n",
       "Protective Custody: Gang Status (Protective Cus...          138.920000  \n",
       "Facility Security Threat: Gang Member Status (N...           68.526316  \n",
       "Mental Illness                                               41.666667  \n",
       "Medical: Observation                                          8.777778  \n",
       "Pending Investigation of Disciplinary Violation               6.750000  \n",
       "Protective Custody: Criminal Offense (i.e. Sex ...          217.750000  \n",
       "Medical: Other                                               14.500000  \n",
       "Protective Custody: Special Vulnerability Other              26.666667  \n",
       "Other                                                        23.666667  \n",
       "Facility Security Threat: Due to Seriousness of...           50.000000  \n",
       "Hunger Strike                                                 4.000000  \n",
       "Protective Custody: Lesbian, Gay, Bisexual, Tra...          118.000000  "
      ]
     },
     "execution_count": 35,
     "metadata": {},
     "output_type": "execute_result"
    }
   ],
   "source": [
    "placements = placements.rename({'Placement Reason': 'Total placements',\n",
    "    'solitary_days': 'Av solitary length'}, axis=1)\n",
    "placements.index.name = 'Solitary Placement Reason'\n",
    "placements"
   ]
  },
  {
   "cell_type": "code",
   "execution_count": 36,
   "metadata": {},
   "outputs": [
    {
     "data": {
      "text/html": [
       "<div>\n",
       "<style scoped>\n",
       "    .dataframe tbody tr th:only-of-type {\n",
       "        vertical-align: middle;\n",
       "    }\n",
       "\n",
       "    .dataframe tbody tr th {\n",
       "        vertical-align: top;\n",
       "    }\n",
       "\n",
       "    .dataframe thead th {\n",
       "        text-align: right;\n",
       "    }\n",
       "</style>\n",
       "<table border=\"1\" class=\"dataframe\">\n",
       "  <thead>\n",
       "    <tr style=\"text-align: right;\">\n",
       "      <th>start_dt</th>\n",
       "      <th>2013-12-31 00:00:00</th>\n",
       "      <th>2014-12-31 00:00:00</th>\n",
       "      <th>2015-12-31 00:00:00</th>\n",
       "      <th>2016-12-31 00:00:00</th>\n",
       "      <th>2017-12-31 00:00:00</th>\n",
       "      <th>2018-12-31 00:00:00</th>\n",
       "    </tr>\n",
       "    <tr>\n",
       "      <th>Placement Reason</th>\n",
       "      <th></th>\n",
       "      <th></th>\n",
       "      <th></th>\n",
       "      <th></th>\n",
       "      <th></th>\n",
       "      <th></th>\n",
       "    </tr>\n",
       "  </thead>\n",
       "  <tbody>\n",
       "    <tr>\n",
       "      <th>Disciplinary</th>\n",
       "      <td>38.0</td>\n",
       "      <td>41.0</td>\n",
       "      <td>22.0</td>\n",
       "      <td>10.0</td>\n",
       "      <td>8.0</td>\n",
       "      <td>11.0</td>\n",
       "    </tr>\n",
       "    <tr>\n",
       "      <th>Facility Security Threat: Due to Seriousness of Criminal Conviction</th>\n",
       "      <td>NaN</td>\n",
       "      <td>1.0</td>\n",
       "      <td>1.0</td>\n",
       "      <td>NaN</td>\n",
       "      <td>NaN</td>\n",
       "      <td>NaN</td>\n",
       "    </tr>\n",
       "    <tr>\n",
       "      <th>Facility Security Threat: Gang Member Status (Not Protective Custody)</th>\n",
       "      <td>3.0</td>\n",
       "      <td>7.0</td>\n",
       "      <td>8.0</td>\n",
       "      <td>NaN</td>\n",
       "      <td>1.0</td>\n",
       "      <td>NaN</td>\n",
       "    </tr>\n",
       "    <tr>\n",
       "      <th>Facility Security Threat: Other</th>\n",
       "      <td>NaN</td>\n",
       "      <td>7.0</td>\n",
       "      <td>3.0</td>\n",
       "      <td>2.0</td>\n",
       "      <td>12.0</td>\n",
       "      <td>13.0</td>\n",
       "    </tr>\n",
       "    <tr>\n",
       "      <th>Facility Security Threat: Violent or Disruptive Behavior</th>\n",
       "      <td>1.0</td>\n",
       "      <td>4.0</td>\n",
       "      <td>4.0</td>\n",
       "      <td>5.0</td>\n",
       "      <td>11.0</td>\n",
       "      <td>NaN</td>\n",
       "    </tr>\n",
       "    <tr>\n",
       "      <th>Hunger Strike</th>\n",
       "      <td>NaN</td>\n",
       "      <td>1.0</td>\n",
       "      <td>NaN</td>\n",
       "      <td>NaN</td>\n",
       "      <td>NaN</td>\n",
       "      <td>NaN</td>\n",
       "    </tr>\n",
       "    <tr>\n",
       "      <th>Medical: Observation</th>\n",
       "      <td>NaN</td>\n",
       "      <td>NaN</td>\n",
       "      <td>7.0</td>\n",
       "      <td>1.0</td>\n",
       "      <td>NaN</td>\n",
       "      <td>1.0</td>\n",
       "    </tr>\n",
       "    <tr>\n",
       "      <th>Medical: Other</th>\n",
       "      <td>1.0</td>\n",
       "      <td>1.0</td>\n",
       "      <td>2.0</td>\n",
       "      <td>NaN</td>\n",
       "      <td>NaN</td>\n",
       "      <td>NaN</td>\n",
       "    </tr>\n",
       "    <tr>\n",
       "      <th>Mental Illness</th>\n",
       "      <td>3.0</td>\n",
       "      <td>3.0</td>\n",
       "      <td>1.0</td>\n",
       "      <td>2.0</td>\n",
       "      <td>NaN</td>\n",
       "      <td>NaN</td>\n",
       "    </tr>\n",
       "    <tr>\n",
       "      <th>Other</th>\n",
       "      <td>1.0</td>\n",
       "      <td>NaN</td>\n",
       "      <td>NaN</td>\n",
       "      <td>2.0</td>\n",
       "      <td>NaN</td>\n",
       "      <td>NaN</td>\n",
       "    </tr>\n",
       "    <tr>\n",
       "      <th>Pending Investigation of Disciplinary Violation</th>\n",
       "      <td>NaN</td>\n",
       "      <td>NaN</td>\n",
       "      <td>4.0</td>\n",
       "      <td>3.0</td>\n",
       "      <td>NaN</td>\n",
       "      <td>1.0</td>\n",
       "    </tr>\n",
       "    <tr>\n",
       "      <th>Protective Custody: Criminal Offense (i.e. Sex Offender)</th>\n",
       "      <td>3.0</td>\n",
       "      <td>2.0</td>\n",
       "      <td>NaN</td>\n",
       "      <td>2.0</td>\n",
       "      <td>1.0</td>\n",
       "      <td>NaN</td>\n",
       "    </tr>\n",
       "    <tr>\n",
       "      <th>Protective Custody: Gang Status (Protective Custody Only)</th>\n",
       "      <td>4.0</td>\n",
       "      <td>6.0</td>\n",
       "      <td>6.0</td>\n",
       "      <td>4.0</td>\n",
       "      <td>5.0</td>\n",
       "      <td>NaN</td>\n",
       "    </tr>\n",
       "    <tr>\n",
       "      <th>Protective Custody: Lesbian, Gay, Bisexual, Transgender (LGBT)</th>\n",
       "      <td>NaN</td>\n",
       "      <td>NaN</td>\n",
       "      <td>NaN</td>\n",
       "      <td>NaN</td>\n",
       "      <td>1.0</td>\n",
       "      <td>NaN</td>\n",
       "    </tr>\n",
       "    <tr>\n",
       "      <th>Protective Custody: Other Detainee Safety</th>\n",
       "      <td>6.0</td>\n",
       "      <td>8.0</td>\n",
       "      <td>17.0</td>\n",
       "      <td>11.0</td>\n",
       "      <td>34.0</td>\n",
       "      <td>11.0</td>\n",
       "    </tr>\n",
       "    <tr>\n",
       "      <th>Protective Custody: Special Vulnerability Other</th>\n",
       "      <td>NaN</td>\n",
       "      <td>1.0</td>\n",
       "      <td>1.0</td>\n",
       "      <td>NaN</td>\n",
       "      <td>1.0</td>\n",
       "      <td>NaN</td>\n",
       "    </tr>\n",
       "  </tbody>\n",
       "</table>\n",
       "</div>"
      ],
      "text/plain": [
       "start_dt                                            2013-12-31  2014-12-31  \\\n",
       "Placement Reason                                                             \n",
       "Disciplinary                                              38.0        41.0   \n",
       "Facility Security Threat: Due to Seriousness of...         NaN         1.0   \n",
       "Facility Security Threat: Gang Member Status (N...         3.0         7.0   \n",
       "Facility Security Threat: Other                            NaN         7.0   \n",
       "Facility Security Threat: Violent or Disruptive...         1.0         4.0   \n",
       "Hunger Strike                                              NaN         1.0   \n",
       "Medical: Observation                                       NaN         NaN   \n",
       "Medical: Other                                             1.0         1.0   \n",
       "Mental Illness                                             3.0         3.0   \n",
       "Other                                                      1.0         NaN   \n",
       "Pending Investigation of Disciplinary Violation            NaN         NaN   \n",
       "Protective Custody: Criminal Offense (i.e. Sex ...         3.0         2.0   \n",
       "Protective Custody: Gang Status (Protective Cus...         4.0         6.0   \n",
       "Protective Custody: Lesbian, Gay, Bisexual, Tra...         NaN         NaN   \n",
       "Protective Custody: Other Detainee Safety                  6.0         8.0   \n",
       "Protective Custody: Special Vulnerability Other            NaN         1.0   \n",
       "\n",
       "start_dt                                            2015-12-31  2016-12-31  \\\n",
       "Placement Reason                                                             \n",
       "Disciplinary                                              22.0        10.0   \n",
       "Facility Security Threat: Due to Seriousness of...         1.0         NaN   \n",
       "Facility Security Threat: Gang Member Status (N...         8.0         NaN   \n",
       "Facility Security Threat: Other                            3.0         2.0   \n",
       "Facility Security Threat: Violent or Disruptive...         4.0         5.0   \n",
       "Hunger Strike                                              NaN         NaN   \n",
       "Medical: Observation                                       7.0         1.0   \n",
       "Medical: Other                                             2.0         NaN   \n",
       "Mental Illness                                             1.0         2.0   \n",
       "Other                                                      NaN         2.0   \n",
       "Pending Investigation of Disciplinary Violation            4.0         3.0   \n",
       "Protective Custody: Criminal Offense (i.e. Sex ...         NaN         2.0   \n",
       "Protective Custody: Gang Status (Protective Cus...         6.0         4.0   \n",
       "Protective Custody: Lesbian, Gay, Bisexual, Tra...         NaN         NaN   \n",
       "Protective Custody: Other Detainee Safety                 17.0        11.0   \n",
       "Protective Custody: Special Vulnerability Other            1.0         NaN   \n",
       "\n",
       "start_dt                                            2017-12-31  2018-12-31  \n",
       "Placement Reason                                                            \n",
       "Disciplinary                                               8.0        11.0  \n",
       "Facility Security Threat: Due to Seriousness of...         NaN         NaN  \n",
       "Facility Security Threat: Gang Member Status (N...         1.0         NaN  \n",
       "Facility Security Threat: Other                           12.0        13.0  \n",
       "Facility Security Threat: Violent or Disruptive...        11.0         NaN  \n",
       "Hunger Strike                                              NaN         NaN  \n",
       "Medical: Observation                                       NaN         1.0  \n",
       "Medical: Other                                             NaN         NaN  \n",
       "Mental Illness                                             NaN         NaN  \n",
       "Other                                                      NaN         NaN  \n",
       "Pending Investigation of Disciplinary Violation            NaN         1.0  \n",
       "Protective Custody: Criminal Offense (i.e. Sex ...         1.0         NaN  \n",
       "Protective Custody: Gang Status (Protective Cus...         5.0         NaN  \n",
       "Protective Custody: Lesbian, Gay, Bisexual, Tra...         1.0         NaN  \n",
       "Protective Custody: Other Detainee Safety                 34.0        11.0  \n",
       "Protective Custody: Special Vulnerability Other            1.0         NaN  "
      ]
     },
     "execution_count": 36,
     "metadata": {},
     "output_type": "execute_result"
    }
   ],
   "source": [
    "df.set_index('start_dt').groupby([pd.Grouper(freq='A'), 'Placement Reason'])['Tracking Number'].count().unstack().T"
   ]
  },
  {
   "cell_type": "markdown",
   "metadata": {},
   "source": [
    "# Keyword search\n",
    "\n",
    "Scanning text fields for keywords"
   ]
  },
  {
   "cell_type": "code",
   "execution_count": 134,
   "metadata": {},
   "outputs": [],
   "source": [
    "keywords = ['incit', 'strike', ' work', 'hunger', 'tb ', 'flight', 'demon']"
   ]
  },
  {
   "cell_type": "code",
   "execution_count": 135,
   "metadata": {},
   "outputs": [],
   "source": [
    "mask = df['Disciplinary Infraction'].apply(lambda x: any(word in str(x).lower() for word in keywords))\n",
    "to_print = list(df[mask]['Tracking Number'])"
   ]
  },
  {
   "cell_type": "code",
   "execution_count": 136,
   "metadata": {},
   "outputs": [],
   "source": [
    "mask = df['Additional Comments Export'].apply(lambda x: any(word in str(x).lower() for word in keywords))\n",
    "to_print.extend(list(df[mask]['Tracking Number']))"
   ]
  },
  {
   "cell_type": "code",
   "execution_count": 137,
   "metadata": {},
   "outputs": [],
   "source": [
    "mask = df['Placement Reason'].apply(lambda x: any(word in str(x).lower() for word in keywords))\n",
    "to_print.extend(list(df[mask]['Tracking Number']))"
   ]
  },
  {
   "cell_type": "code",
   "execution_count": 138,
   "metadata": {},
   "outputs": [
    {
     "data": {
      "text/plain": [
       "[1592, 1591, 1590, 1468, 11588, 8461, 8410, 5529, 4738, 1662]"
      ]
     },
     "execution_count": 138,
     "metadata": {},
     "output_type": "execute_result"
    }
   ],
   "source": [
    "to_print"
   ]
  },
  {
   "cell_type": "code",
   "execution_count": 139,
   "metadata": {},
   "outputs": [],
   "source": [
    "file1 = open(\"../output/comments.txt\", 'w')"
   ]
  },
  {
   "cell_type": "code",
   "execution_count": 140,
   "metadata": {},
   "outputs": [],
   "source": [
    "for i, row in df.iterrows():\n",
    "    if row['Tracking Number'] in to_print:\n",
    "        file1.write(str(row['Tracking Number']))\n",
    "        file1.write('\\n')\n",
    "        file1.write(str(row['Placement Date']))\n",
    "        file1.write('\\n')\n",
    "        file1.write(str(row['Placement Reason']))\n",
    "        file1.write('\\n')\n",
    "        file1.write(str(row['Disciplinary Infraction']))\n",
    "        file1.write('\\n')\n",
    "        file1.write(str(row['Additional Comments Export']))\n",
    "        file1.write('\\n\\n')\n",
    "    else:\n",
    "        pass"
   ]
  },
  {
   "cell_type": "code",
   "execution_count": 109,
   "metadata": {},
   "outputs": [
    {
     "data": {
      "text/html": [
       "<div>\n",
       "<style scoped>\n",
       "    .dataframe tbody tr th:only-of-type {\n",
       "        vertical-align: middle;\n",
       "    }\n",
       "\n",
       "    .dataframe tbody tr th {\n",
       "        vertical-align: top;\n",
       "    }\n",
       "\n",
       "    .dataframe thead th {\n",
       "        text-align: right;\n",
       "    }\n",
       "</style>\n",
       "<table border=\"1\" class=\"dataframe\">\n",
       "  <thead>\n",
       "    <tr style=\"text-align: right;\">\n",
       "      <th></th>\n",
       "      <th>Alien Number</th>\n",
       "      <th>Last Name</th>\n",
       "      <th>First Name</th>\n",
       "      <th>Gender</th>\n",
       "      <th>Date of Birth</th>\n",
       "      <th>Country of Citizenship</th>\n",
       "      <th>Facility AOR</th>\n",
       "      <th>Facility</th>\n",
       "      <th>Facility:DETLOC</th>\n",
       "      <th>Report Type</th>\n",
       "      <th>...</th>\n",
       "      <th>Current Review</th>\n",
       "      <th>Created</th>\n",
       "      <th>LGBTI</th>\n",
       "      <th>Item Type</th>\n",
       "      <th>Path</th>\n",
       "      <th>start_dt</th>\n",
       "      <th>end_dt</th>\n",
       "      <th>solitary_length</th>\n",
       "      <th>solitary_days</th>\n",
       "      <th>log_solitary_days</th>\n",
       "    </tr>\n",
       "    <tr>\n",
       "      <th>Tracking Number</th>\n",
       "      <th></th>\n",
       "      <th></th>\n",
       "      <th></th>\n",
       "      <th></th>\n",
       "      <th></th>\n",
       "      <th></th>\n",
       "      <th></th>\n",
       "      <th></th>\n",
       "      <th></th>\n",
       "      <th></th>\n",
       "      <th></th>\n",
       "      <th></th>\n",
       "      <th></th>\n",
       "      <th></th>\n",
       "      <th></th>\n",
       "      <th></th>\n",
       "      <th></th>\n",
       "      <th></th>\n",
       "      <th></th>\n",
       "      <th></th>\n",
       "      <th></th>\n",
       "    </tr>\n",
       "  </thead>\n",
       "  <tbody>\n",
       "    <tr>\n",
       "      <th>1592</th>\n",
       "      <td>(b)(6), (b)(7)(c )</td>\n",
       "      <td>(b)(6), (b)(7)(c )</td>\n",
       "      <td>(b)(6), (b)(7)(c )</td>\n",
       "      <td>Male</td>\n",
       "      <td>(b)(6), (b)(7)(c )</td>\n",
       "      <td>MEXICO</td>\n",
       "      <td>SEA (Seattle)</td>\n",
       "      <td>TACOMA ICE PROCESSING CENTER (NORTHWEST DET CT...</td>\n",
       "      <td>CSCNWWA</td>\n",
       "      <td>30 Day Interval</td>\n",
       "      <td>...</td>\n",
       "      <td>14.0</td>\n",
       "      <td>4/10/2014</td>\n",
       "      <td>NaN</td>\n",
       "      <td>Item</td>\n",
       "      <td>(b)(7)(E)</td>\n",
       "      <td>2014-03-27</td>\n",
       "      <td>2014-04-20</td>\n",
       "      <td>24 days</td>\n",
       "      <td>24.0</td>\n",
       "      <td>3.178054</td>\n",
       "    </tr>\n",
       "    <tr>\n",
       "      <th>1591</th>\n",
       "      <td>(b)(6), (b)(7)(c )</td>\n",
       "      <td>(b)(6), (b)(7)(c )</td>\n",
       "      <td>(b)(6), (b)(7)(c )</td>\n",
       "      <td>Male</td>\n",
       "      <td>(b)(6), (b)(7)(c )</td>\n",
       "      <td>MEXICO</td>\n",
       "      <td>SEA (Seattle)</td>\n",
       "      <td>TACOMA ICE PROCESSING CENTER (NORTHWEST DET CT...</td>\n",
       "      <td>CSCNWWA</td>\n",
       "      <td>30 Day Interval</td>\n",
       "      <td>...</td>\n",
       "      <td>14.0</td>\n",
       "      <td>4/10/2014</td>\n",
       "      <td>NaN</td>\n",
       "      <td>Item</td>\n",
       "      <td>(b)(7)(E)</td>\n",
       "      <td>2014-03-27</td>\n",
       "      <td>2014-04-21</td>\n",
       "      <td>25 days</td>\n",
       "      <td>25.0</td>\n",
       "      <td>3.218876</td>\n",
       "    </tr>\n",
       "    <tr>\n",
       "      <th>1590</th>\n",
       "      <td>(b)(6), (b)(7)(c )</td>\n",
       "      <td>(b)(6), (b)(7)(c )</td>\n",
       "      <td>(b)(6), (b)(7)(c )</td>\n",
       "      <td>Male</td>\n",
       "      <td>(b)(6), (b)(7)(c )</td>\n",
       "      <td>MEXICO</td>\n",
       "      <td>SEA (Seattle)</td>\n",
       "      <td>TACOMA ICE PROCESSING CENTER (NORTHWEST DET CT...</td>\n",
       "      <td>CSCNWWA</td>\n",
       "      <td>30 Day Interval</td>\n",
       "      <td>...</td>\n",
       "      <td>14.0</td>\n",
       "      <td>4/10/2014</td>\n",
       "      <td>NaN</td>\n",
       "      <td>Item</td>\n",
       "      <td>(b)(7)(E)</td>\n",
       "      <td>2014-03-28</td>\n",
       "      <td>2014-04-17</td>\n",
       "      <td>20 days</td>\n",
       "      <td>20.0</td>\n",
       "      <td>2.995732</td>\n",
       "    </tr>\n",
       "    <tr>\n",
       "      <th>1468</th>\n",
       "      <td>(b)(6), (b)(7)(c )</td>\n",
       "      <td>(b)(6), (b)(7)(c )</td>\n",
       "      <td>(b)(6), (b)(7)(c )</td>\n",
       "      <td>Male</td>\n",
       "      <td>(b)(6), (b)(7)(c )</td>\n",
       "      <td>MEXICO</td>\n",
       "      <td>SEA (Seattle)</td>\n",
       "      <td>TACOMA ICE PROCESSING CENTER (NORTHWEST DET CT...</td>\n",
       "      <td>CSCNWWA</td>\n",
       "      <td>30 Day Interval</td>\n",
       "      <td>...</td>\n",
       "      <td>14.0</td>\n",
       "      <td>3/22/2014</td>\n",
       "      <td>NaN</td>\n",
       "      <td>Item</td>\n",
       "      <td>(b)(7)(E)</td>\n",
       "      <td>2014-03-08</td>\n",
       "      <td>2014-03-24</td>\n",
       "      <td>16 days</td>\n",
       "      <td>16.0</td>\n",
       "      <td>2.772589</td>\n",
       "    </tr>\n",
       "    <tr>\n",
       "      <th>11943</th>\n",
       "      <td>(b)(6), (b)(7)(c )</td>\n",
       "      <td>(b)(6), (b)(7)(c )</td>\n",
       "      <td>(b)(6), (b)(7)(c )</td>\n",
       "      <td>Male</td>\n",
       "      <td>(b)(6), (b)(7)(c )</td>\n",
       "      <td>VENEZUELA</td>\n",
       "      <td>SEA (Seattle)</td>\n",
       "      <td>TACOMA ICE PROCESSING CENTER (NORTHWEST DET CT...</td>\n",
       "      <td>CSCNWWA</td>\n",
       "      <td>30 Day Interval</td>\n",
       "      <td>...</td>\n",
       "      <td>90.0</td>\n",
       "      <td>4/3/2018</td>\n",
       "      <td>NaN</td>\n",
       "      <td>Item</td>\n",
       "      <td>(b)(7)(E)</td>\n",
       "      <td>2018-03-04</td>\n",
       "      <td>2018-05-26</td>\n",
       "      <td>83 days</td>\n",
       "      <td>83.0</td>\n",
       "      <td>4.418841</td>\n",
       "    </tr>\n",
       "    <tr>\n",
       "      <th>11588</th>\n",
       "      <td>(b)(6), (b)(7)(c )</td>\n",
       "      <td>(b)(6), (b)(7)(c )</td>\n",
       "      <td>(b)(6), (b)(7)(c )</td>\n",
       "      <td>Male</td>\n",
       "      <td>(b)(6), (b)(7)(c )</td>\n",
       "      <td>CANADA</td>\n",
       "      <td>SEA (Seattle)</td>\n",
       "      <td>TACOMA ICE PROCESSING CENTER (NORTHWEST DET CT...</td>\n",
       "      <td>CSCNWWA</td>\n",
       "      <td>30 Day Interval</td>\n",
       "      <td>...</td>\n",
       "      <td>120.0</td>\n",
       "      <td>2/20/2018</td>\n",
       "      <td>NaN</td>\n",
       "      <td>Item</td>\n",
       "      <td>(b)(7)(E)</td>\n",
       "      <td>2018-02-05</td>\n",
       "      <td>2018-05-31</td>\n",
       "      <td>115 days</td>\n",
       "      <td>115.0</td>\n",
       "      <td>4.744932</td>\n",
       "    </tr>\n",
       "    <tr>\n",
       "      <th>8461</th>\n",
       "      <td>(b)(6), (b)(7)(c )</td>\n",
       "      <td>(b)(6), (b)(7)(c )</td>\n",
       "      <td>(b)(6), (b)(7)(c )</td>\n",
       "      <td>Female</td>\n",
       "      <td>(b)(6), (b)(7)(c )</td>\n",
       "      <td>MEXICO</td>\n",
       "      <td>SEA (Seattle)</td>\n",
       "      <td>TACOMA ICE PROCESSING CENTER (NORTHWEST DET CT...</td>\n",
       "      <td>CSCNWWA</td>\n",
       "      <td>30 Day Interval</td>\n",
       "      <td>...</td>\n",
       "      <td>90.0</td>\n",
       "      <td>2/10/2017</td>\n",
       "      <td>NaN</td>\n",
       "      <td>Item</td>\n",
       "      <td>(b)(7)(E)</td>\n",
       "      <td>2017-01-31</td>\n",
       "      <td>2017-05-16</td>\n",
       "      <td>105 days</td>\n",
       "      <td>105.0</td>\n",
       "      <td>4.653960</td>\n",
       "    </tr>\n",
       "    <tr>\n",
       "      <th>8410</th>\n",
       "      <td>(b)(6), (b)(7)(c )</td>\n",
       "      <td>(b)(6), (b)(7)(c )</td>\n",
       "      <td>(b)(6), (b)(7)(c )</td>\n",
       "      <td>Male</td>\n",
       "      <td>(b)(6), (b)(7)(c )</td>\n",
       "      <td>MEXICO</td>\n",
       "      <td>SEA (Seattle)</td>\n",
       "      <td>TACOMA ICE PROCESSING CENTER (NORTHWEST DET CT...</td>\n",
       "      <td>CSCNWWA</td>\n",
       "      <td>30 Day Interval</td>\n",
       "      <td>...</td>\n",
       "      <td>90.0</td>\n",
       "      <td>2/3/2017</td>\n",
       "      <td>NaN</td>\n",
       "      <td>Item</td>\n",
       "      <td>(b)(7)(E)</td>\n",
       "      <td>2017-01-10</td>\n",
       "      <td>2017-04-27</td>\n",
       "      <td>107 days</td>\n",
       "      <td>107.0</td>\n",
       "      <td>4.672829</td>\n",
       "    </tr>\n",
       "    <tr>\n",
       "      <th>5529</th>\n",
       "      <td>(b)(6), (b)(7)(c )</td>\n",
       "      <td>(b)(6), (b)(7)(c )</td>\n",
       "      <td>(b)(6), (b)(7)(c )</td>\n",
       "      <td>Male</td>\n",
       "      <td>(b)(6), (b)(7)(c )</td>\n",
       "      <td>MEXICO</td>\n",
       "      <td>SEA (Seattle)</td>\n",
       "      <td>TACOMA ICE PROCESSING CENTER (NORTHWEST DET CT...</td>\n",
       "      <td>CSCNWWA</td>\n",
       "      <td>30 Day Interval</td>\n",
       "      <td>...</td>\n",
       "      <td>30.0</td>\n",
       "      <td>12/29/2015</td>\n",
       "      <td>NaN</td>\n",
       "      <td>Item</td>\n",
       "      <td>(b)(7)(E)</td>\n",
       "      <td>2015-12-03</td>\n",
       "      <td>2016-01-05</td>\n",
       "      <td>33 days</td>\n",
       "      <td>33.0</td>\n",
       "      <td>3.496508</td>\n",
       "    </tr>\n",
       "    <tr>\n",
       "      <th>4738</th>\n",
       "      <td>(b)(6), (b)(7)(c )</td>\n",
       "      <td>(b)(6), (b)(7)(c )</td>\n",
       "      <td>(b)(6), (b)(7)(c )</td>\n",
       "      <td>Male</td>\n",
       "      <td>(b)(6), (b)(7)(c )</td>\n",
       "      <td>MEXICO</td>\n",
       "      <td>SEA (Seattle)</td>\n",
       "      <td>TACOMA ICE PROCESSING CENTER (NORTHWEST DET CT...</td>\n",
       "      <td>CSCNWWA</td>\n",
       "      <td>30 Day Interval</td>\n",
       "      <td>...</td>\n",
       "      <td>120.0</td>\n",
       "      <td>9/13/2015</td>\n",
       "      <td>NaN</td>\n",
       "      <td>Item</td>\n",
       "      <td>(b)(7)(E)</td>\n",
       "      <td>2015-08-28</td>\n",
       "      <td>2016-01-21</td>\n",
       "      <td>146 days</td>\n",
       "      <td>146.0</td>\n",
       "      <td>4.983607</td>\n",
       "    </tr>\n",
       "    <tr>\n",
       "      <th>1662</th>\n",
       "      <td>(b)(6), (b)(7)(c )</td>\n",
       "      <td>(b)(6), (b)(7)(c )</td>\n",
       "      <td>(b)(6), (b)(7)(c )</td>\n",
       "      <td>Male</td>\n",
       "      <td>(b)(6), (b)(7)(c )</td>\n",
       "      <td>MEXICO</td>\n",
       "      <td>SEA (Seattle)</td>\n",
       "      <td>TACOMA ICE PROCESSING CENTER (NORTHWEST DET CT...</td>\n",
       "      <td>CSCNWWA</td>\n",
       "      <td>30 Day Interval</td>\n",
       "      <td>...</td>\n",
       "      <td>3.0</td>\n",
       "      <td>4/22/2014</td>\n",
       "      <td>NaN</td>\n",
       "      <td>Item</td>\n",
       "      <td>(b)(7)(E)</td>\n",
       "      <td>2014-04-20</td>\n",
       "      <td>2014-04-24</td>\n",
       "      <td>4 days</td>\n",
       "      <td>4.0</td>\n",
       "      <td>1.386294</td>\n",
       "    </tr>\n",
       "  </tbody>\n",
       "</table>\n",
       "<p>11 rows × 40 columns</p>\n",
       "</div>"
      ],
      "text/plain": [
       "                        Alien Number            Last Name  \\\n",
       "Tracking Number                                             \n",
       "1592             (b)(6), (b)(7)(c )   (b)(6), (b)(7)(c )    \n",
       "1591             (b)(6), (b)(7)(c )   (b)(6), (b)(7)(c )    \n",
       "1590             (b)(6), (b)(7)(c )   (b)(6), (b)(7)(c )    \n",
       "1468             (b)(6), (b)(7)(c )   (b)(6), (b)(7)(c )    \n",
       "11943            (b)(6), (b)(7)(c )   (b)(6), (b)(7)(c )    \n",
       "11588            (b)(6), (b)(7)(c )   (b)(6), (b)(7)(c )    \n",
       "8461             (b)(6), (b)(7)(c )   (b)(6), (b)(7)(c )    \n",
       "8410             (b)(6), (b)(7)(c )   (b)(6), (b)(7)(c )    \n",
       "5529             (b)(6), (b)(7)(c )   (b)(6), (b)(7)(c )    \n",
       "4738             (b)(6), (b)(7)(c )   (b)(6), (b)(7)(c )    \n",
       "1662             (b)(6), (b)(7)(c )   (b)(6), (b)(7)(c )    \n",
       "\n",
       "                          First Name  Gender        Date of Birth  \\\n",
       "Tracking Number                                                     \n",
       "1592             (b)(6), (b)(7)(c )     Male  (b)(6), (b)(7)(c )    \n",
       "1591             (b)(6), (b)(7)(c )     Male  (b)(6), (b)(7)(c )    \n",
       "1590             (b)(6), (b)(7)(c )     Male  (b)(6), (b)(7)(c )    \n",
       "1468             (b)(6), (b)(7)(c )     Male  (b)(6), (b)(7)(c )    \n",
       "11943            (b)(6), (b)(7)(c )     Male  (b)(6), (b)(7)(c )    \n",
       "11588            (b)(6), (b)(7)(c )     Male  (b)(6), (b)(7)(c )    \n",
       "8461             (b)(6), (b)(7)(c )   Female  (b)(6), (b)(7)(c )    \n",
       "8410             (b)(6), (b)(7)(c )     Male  (b)(6), (b)(7)(c )    \n",
       "5529             (b)(6), (b)(7)(c )     Male  (b)(6), (b)(7)(c )    \n",
       "4738             (b)(6), (b)(7)(c )     Male  (b)(6), (b)(7)(c )    \n",
       "1662             (b)(6), (b)(7)(c )     Male  (b)(6), (b)(7)(c )    \n",
       "\n",
       "                Country of Citizenship   Facility AOR  \\\n",
       "Tracking Number                                         \n",
       "1592                            MEXICO  SEA (Seattle)   \n",
       "1591                            MEXICO  SEA (Seattle)   \n",
       "1590                            MEXICO  SEA (Seattle)   \n",
       "1468                            MEXICO  SEA (Seattle)   \n",
       "11943                        VENEZUELA  SEA (Seattle)   \n",
       "11588                           CANADA  SEA (Seattle)   \n",
       "8461                            MEXICO  SEA (Seattle)   \n",
       "8410                            MEXICO  SEA (Seattle)   \n",
       "5529                            MEXICO  SEA (Seattle)   \n",
       "4738                            MEXICO  SEA (Seattle)   \n",
       "1662                            MEXICO  SEA (Seattle)   \n",
       "\n",
       "                                                          Facility  \\\n",
       "Tracking Number                                                      \n",
       "1592             TACOMA ICE PROCESSING CENTER (NORTHWEST DET CT...   \n",
       "1591             TACOMA ICE PROCESSING CENTER (NORTHWEST DET CT...   \n",
       "1590             TACOMA ICE PROCESSING CENTER (NORTHWEST DET CT...   \n",
       "1468             TACOMA ICE PROCESSING CENTER (NORTHWEST DET CT...   \n",
       "11943            TACOMA ICE PROCESSING CENTER (NORTHWEST DET CT...   \n",
       "11588            TACOMA ICE PROCESSING CENTER (NORTHWEST DET CT...   \n",
       "8461             TACOMA ICE PROCESSING CENTER (NORTHWEST DET CT...   \n",
       "8410             TACOMA ICE PROCESSING CENTER (NORTHWEST DET CT...   \n",
       "5529             TACOMA ICE PROCESSING CENTER (NORTHWEST DET CT...   \n",
       "4738             TACOMA ICE PROCESSING CENTER (NORTHWEST DET CT...   \n",
       "1662             TACOMA ICE PROCESSING CENTER (NORTHWEST DET CT...   \n",
       "\n",
       "                Facility:DETLOC      Report Type        ...         \\\n",
       "Tracking Number                                         ...          \n",
       "1592                    CSCNWWA  30 Day Interval        ...          \n",
       "1591                    CSCNWWA  30 Day Interval        ...          \n",
       "1590                    CSCNWWA  30 Day Interval        ...          \n",
       "1468                    CSCNWWA  30 Day Interval        ...          \n",
       "11943                   CSCNWWA  30 Day Interval        ...          \n",
       "11588                   CSCNWWA  30 Day Interval        ...          \n",
       "8461                    CSCNWWA  30 Day Interval        ...          \n",
       "8410                    CSCNWWA  30 Day Interval        ...          \n",
       "5529                    CSCNWWA  30 Day Interval        ...          \n",
       "4738                    CSCNWWA  30 Day Interval        ...          \n",
       "1662                    CSCNWWA  30 Day Interval        ...          \n",
       "\n",
       "                Current Review     Created LGBTI  Item Type       Path  \\\n",
       "Tracking Number                                                          \n",
       "1592                      14.0   4/10/2014   NaN       Item  (b)(7)(E)   \n",
       "1591                      14.0   4/10/2014   NaN       Item  (b)(7)(E)   \n",
       "1590                      14.0   4/10/2014   NaN       Item  (b)(7)(E)   \n",
       "1468                      14.0   3/22/2014   NaN       Item  (b)(7)(E)   \n",
       "11943                     90.0    4/3/2018   NaN       Item  (b)(7)(E)   \n",
       "11588                    120.0   2/20/2018   NaN       Item  (b)(7)(E)   \n",
       "8461                      90.0   2/10/2017   NaN       Item  (b)(7)(E)   \n",
       "8410                      90.0    2/3/2017   NaN       Item  (b)(7)(E)   \n",
       "5529                      30.0  12/29/2015   NaN       Item  (b)(7)(E)   \n",
       "4738                     120.0   9/13/2015   NaN       Item  (b)(7)(E)   \n",
       "1662                       3.0   4/22/2014   NaN       Item  (b)(7)(E)   \n",
       "\n",
       "                  start_dt     end_dt solitary_length solitary_days  \\\n",
       "Tracking Number                                                       \n",
       "1592            2014-03-27 2014-04-20         24 days          24.0   \n",
       "1591            2014-03-27 2014-04-21         25 days          25.0   \n",
       "1590            2014-03-28 2014-04-17         20 days          20.0   \n",
       "1468            2014-03-08 2014-03-24         16 days          16.0   \n",
       "11943           2018-03-04 2018-05-26         83 days          83.0   \n",
       "11588           2018-02-05 2018-05-31        115 days         115.0   \n",
       "8461            2017-01-31 2017-05-16        105 days         105.0   \n",
       "8410            2017-01-10 2017-04-27        107 days         107.0   \n",
       "5529            2015-12-03 2016-01-05         33 days          33.0   \n",
       "4738            2015-08-28 2016-01-21        146 days         146.0   \n",
       "1662            2014-04-20 2014-04-24          4 days           4.0   \n",
       "\n",
       "                log_solitary_days  \n",
       "Tracking Number                    \n",
       "1592                     3.178054  \n",
       "1591                     3.218876  \n",
       "1590                     2.995732  \n",
       "1468                     2.772589  \n",
       "11943                    4.418841  \n",
       "11588                    4.744932  \n",
       "8461                     4.653960  \n",
       "8410                     4.672829  \n",
       "5529                     3.496508  \n",
       "4738                     4.983607  \n",
       "1662                     1.386294  \n",
       "\n",
       "[11 rows x 40 columns]"
      ]
     },
     "execution_count": 109,
     "metadata": {},
     "output_type": "execute_result"
    }
   ],
   "source": [
    "df.set_index('Tracking Number').loc[to_print, :]"
   ]
  },
  {
   "cell_type": "markdown",
   "metadata": {},
   "source": [
    "# Segregation by detainee request"
   ]
  },
  {
   "cell_type": "code",
   "execution_count": 45,
   "metadata": {},
   "outputs": [],
   "source": [
    "detainee_request = df.set_index('start_dt').groupby(pd.Grouper(freq='A'))['Detainee Request'].value_counts(dropna=False).unstack()"
   ]
  },
  {
   "cell_type": "code",
   "execution_count": 46,
   "metadata": {},
   "outputs": [
    {
     "data": {
      "text/plain": [
       "<matplotlib.axes._subplots.AxesSubplot at 0x1a247f3048>"
      ]
     },
     "execution_count": 46,
     "metadata": {},
     "output_type": "execute_result"
    },
    {
     "data": {
      "image/png": "[encoded data removed]",
      "text/plain": [
       "<Figure size 432x288 with 1 Axes>"
      ]
     },
     "metadata": {
      "needs_background": "light"
     },
     "output_type": "display_data"
    }
   ],
   "source": [
    "detainee_request.plot(stacked=True)"
   ]
  },
  {
   "cell_type": "code",
   "execution_count": 47,
   "metadata": {},
   "outputs": [
    {
     "data": {
      "text/plain": [
       "start_dt\n",
       "2013-12-31    60\n",
       "2014-12-31    82\n",
       "2015-12-31    76\n",
       "2016-12-31    42\n",
       "2017-12-31    74\n",
       "2018-12-31    37\n",
       "Freq: A-DEC, dtype: int64"
      ]
     },
     "execution_count": 47,
     "metadata": {},
     "output_type": "execute_result"
    }
   ],
   "source": [
    "detainee_request.sum(axis=1)"
   ]
  },
  {
   "cell_type": "code",
   "execution_count": 48,
   "metadata": {},
   "outputs": [],
   "source": [
    "detainee_request['Total'] = detainee_request.sum(axis=1)"
   ]
  },
  {
   "cell_type": "code",
   "execution_count": 49,
   "metadata": {},
   "outputs": [],
   "source": [
    "detainee_request['Detainee Request %'] = detainee_request['Detainee Request']/detainee_request['Total']"
   ]
  },
  {
   "cell_type": "code",
   "execution_count": 50,
   "metadata": {},
   "outputs": [
    {
     "data": {
      "text/plain": [
       "<matplotlib.axes._subplots.AxesSubplot at 0x1a2486c898>"
      ]
     },
     "execution_count": 50,
     "metadata": {},
     "output_type": "execute_result"
    },
    {
     "data": {
      "image/png": "[encoded data removed]",
      "text/plain": [
       "<Figure size 432x288 with 1 Axes>"
      ]
     },
     "metadata": {
      "needs_background": "light"
     },
     "output_type": "display_data"
    }
   ],
   "source": [
    "detainee_request['Detainee Request %'].plot()"
   ]
  },
  {
   "cell_type": "code",
   "execution_count": null,
   "metadata": {},
   "outputs": [],
   "source": []
  },
  {
   "cell_type": "code",
   "execution_count": null,
   "metadata": {},
   "outputs": [],
   "source": []
  },
  {
   "cell_type": "code",
   "execution_count": null,
   "metadata": {},
   "outputs": [],
   "source": []
  },
  {
   "cell_type": "code",
   "execution_count": null,
   "metadata": {},
   "outputs": [],
   "source": []
  },
  {
   "cell_type": "code",
   "execution_count": 51,
   "metadata": {},
   "outputs": [
    {
     "data": {
      "text/plain": [
       "MEXICO         194\n",
       "CANADA          20\n",
       "GUATEMALA       18\n",
       "EL SALVADOR     17\n",
       "SOMALIA         13\n",
       "Name: Country of Citizenship, dtype: int64"
      ]
     },
     "execution_count": 51,
     "metadata": {},
     "output_type": "execute_result"
    }
   ],
   "source": [
    "df['Country of Citizenship'].value_counts().head()"
   ]
  },
  {
   "cell_type": "code",
   "execution_count": 52,
   "metadata": {},
   "outputs": [
    {
     "name": "stdout",
     "output_type": "stream",
     "text": [
      "Top 5 Placement Reasons (%)\n",
      "---------------------------------------------------\n",
      "Disciplinary                                                 35.040431\n",
      "Protective Custody: Other Detainee Safety                    23.450135\n",
      "Facility Security Threat: Other                               9.973046\n",
      "Protective Custody: Gang Status (Protective Custody Only)     6.738544\n",
      "Facility Security Threat: Violent or Disruptive Behavior      6.738544\n",
      "Name: Placement Reason, dtype: float64\n"
     ]
    }
   ],
   "source": [
    "print('Top 5 Placement Reasons (%)')\n",
    "print('---------------------------------------------------')\n",
    "print(df['Placement Reason'].value_counts(dropna=False).head(5) / len(df) * 100)"
   ]
  },
  {
   "cell_type": "code",
   "execution_count": 53,
   "metadata": {},
   "outputs": [
    {
     "name": "stdout",
     "output_type": "stream",
     "text": [
      "Report Type count\n",
      "---------------------------------------------------\n",
      "30 Day Interval    327\n",
      "14 Day              39\n",
      "72 Hour              5\n",
      "Name: Report Type, dtype: int64\n"
     ]
    }
   ],
   "source": [
    "print('Report Type count')\n",
    "print('---------------------------------------------------')\n",
    "print(df['Report Type'].value_counts(dropna=False))"
   ]
  },
  {
   "cell_type": "code",
   "execution_count": 54,
   "metadata": {},
   "outputs": [
    {
     "name": "stdout",
     "output_type": "stream",
     "text": [
      "Mental Illness count\n",
      "---------------------------------------------------\n",
      "No                        152\n",
      "None                       85\n",
      "Yes                        76\n",
      "Mental Illness             40\n",
      "Serious Mental Illness     18\n",
      "Name: Mental Illness, dtype: int64\n"
     ]
    }
   ],
   "source": [
    "print('Mental Illness count')\n",
    "print('---------------------------------------------------')\n",
    "print(df['Mental Illness'].value_counts(dropna=False))"
   ]
  },
  {
   "cell_type": "code",
   "execution_count": 55,
   "metadata": {},
   "outputs": [
    {
     "name": "stdout",
     "output_type": "stream",
     "text": [
      "Detainee Request (%)\n",
      "---------------------------------------------------\n",
      "Facility-Initiated    71.15903\n",
      "Detainee Request      28.84097\n",
      "Name: Detainee Request, dtype: float64\n"
     ]
    }
   ],
   "source": [
    "print('Detainee Request (%)')\n",
    "print('---------------------------------------------------')\n",
    "print(df['Detainee Request'].value_counts(dropna=False).head(5) / len(df) * 100)"
   ]
  },
  {
   "cell_type": "code",
   "execution_count": null,
   "metadata": {},
   "outputs": [],
   "source": []
  }
 ],
 "metadata": {
  "kernelspec": {
   "display_name": "Python 3",
   "language": "python",
   "name": "python3"
  },
  "language_info": {
   "codemirror_mode": {
    "name": "ipython",
    "version": 3
   },
   "file_extension": ".py",
   "mimetype": "text/x-python",
   "name": "python",
   "nbconvert_exporter": "python",
   "pygments_lexer": "ipython3",
   "version": "3.7.1"
  }
 },
 "nbformat": 4,
 "nbformat_minor": 2
}
