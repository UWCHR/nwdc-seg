{
 "cells": [
  {
   "cell_type": "code",
   "execution_count": 133,
   "metadata": {},
   "outputs": [],
   "source": [
    "import pandas as pd\n",
    "import numpy as np\n",
    "import matplotlib.pyplot as plt\n",
    "import yaml"
   ]
  },
  {
   "cell_type": "markdown",
   "metadata": {},
   "source": [
    "We reviewed four different sources of records relating to segregation placements at the Northwest ICE Processing Center/Northwest Detention Center (NWIPC/NWDC). These include two internal datasets created by GEO Group or its employees; and two installments of data from ICE’s Segregation Review Management System (SRMS). We detail each of these sources in turn below.\n",
    "\n",
    "The NWDC segregation datasets created by GEO Group were obtained from ICE via our ongoing FOIA lawsuit; we believe it is the first time that such internal records have been made publicly available. The first of these, with the original filename `Sep_1_2013_to_March_31_2020_SMU_geotrack_report_Redacted.pdf`, is described by US DOJ attorneys for ICE as follows:\n",
    "\n",
    "> “The GEOtrack report that was provided to Plaintiffs runs from September 1, 2013 to March 31, 2020.  That report not only reports all placements into segregation, but it also tracks movement.  This means that if an individual is placed into one particular unit then simply moves to a different unit, it is tracked in that report (if an individual is moved from H unit cell 101 to H unit cell 102, it would reflect the move as a new placement on the report).”\n",
    "\n",
    "We refer to this report here by the shorthand \"SMU\" for \"Special Management Unit\".\n",
    "\n",
    "The second internal dataset, with the original filename `15_16_17_18_19_20_RHU_admission_Redacted.xlsx`, is described by US DOJ attorneys for ICE as follows:\n",
    "\n",
    "> “The [RHU] spreadsheet runs from January 2015 to May 28, 2020 and was created by and for a lieutenant within the facility once he took over the segregation lieutenant duties. The spreadsheet is updated once a detainee departs segregation. The subjects who are included on this list, therefore, are those who were placed into segregation and have already been released from segregation. It does not include those individuals who are currently in segregation.”\n",
    "\n",
    "We refer to this report here by the shorthand \"RHU\" for \"Restricted Housing Unit\". (US DOJ attorneys for ICE specified that the terms “Special Management Unit” and “Restricted Housing Unit” are interchangeable and identify the same locations.)\n",
    "\n",
    "The Segregation Review Management System (SRMS) datasets are maintained by ICE based on segregation placements reported under ICE's national guidelines, including placements for longer than 14 days (or 14 days during a 21-day period) and involving people with “special vulnerabilities.” UWCHR received two installments of SRMS data for NWDC: the first, released in 2019, covers the period from 2013-05-13 to 2018-05-14; the second, released in 2020, covers the period from 2013-09-03 to 2020-03-16.\n",
    "\n",
    "The SRMS is the only available source of data for national-level analysis of segregation placements and comparisons between various detention facilities. Two investigative journalism and advocacy organizations, the International Consortium for Investigative Journalism (ICIJ) and Project On Government Oversight (POGO), have released national SRMS datasets covering different time periods.\n",
    "\n",
    "A close review of these various datasets gives us an overview of solitary confinement practices at the NWDC, but also raises further questions about consistency of record-keeping and reporting. While the datasets are not directly comparable, and lack unique or consistent identifiers that would allow de-duplication across datasets; there are some characteristics we would expect if record-keeping and reporting was consistent:\n",
    "\n",
    "- Between the GEO-created datasets for segregation placements at NWDC, SMU would be expected to show more and shorter placements than RHU, because it tracks specific placement locations within the NWDC; however, this would depend on frequency of transfers of detained people within SMU/RHU.\n",
    "\n",
    "- SRMS should contain approximately the same number of long placements as SMU and RHU datasets, based on requirement to report stays longer than 14 days; plus any shorter placements involving populations with “special vulnerabilities.”"
   ]
  },
  {
   "cell_type": "markdown",
   "metadata": {},
   "source": [
    "# SMU"
   ]
  },
  {
   "cell_type": "markdown",
   "metadata": {},
   "source": [
    "Original filename: `Sep_1_2013_to_March_31_2020_SMU_geotrack_report_Redacted.pdf`\n",
    "\n",
    "The original file has been converted from PDF to CSV format using the [Xpdf pdftotext](https://www.xpdfreader.com/pdftotext-man.html) command line tool with `--table` option, and hand cleaned to correct OCR errors. The resulting CSV has been minimally cleaned in a separate process; cleaning code availabe upon request.\n",
    "\n",
    "The original file includes three redacted fields: `Alien #`, `Name`, and `Birthdate`. The file appears to be generated by a database report for the date range \"9/1/2013 To 3/31/2020\", presumably from the \"GEOTrack\" database referenced in the filename and by the DOJ attorneys for ICE."
   ]
  },
  {
   "cell_type": "code",
   "execution_count": 134,
   "metadata": {},
   "outputs": [],
   "source": [
    "smu = pd.read_csv('../input/smu.csv.gz', sep='|', quotechar='\"', compression='gzip')"
   ]
  },
  {
   "cell_type": "code",
   "execution_count": 135,
   "metadata": {
    "scrolled": true
   },
   "outputs": [
    {
     "data": {
      "text/html": [
       "<div>\n",
       "<style scoped>\n",
       "    .dataframe tbody tr th:only-of-type {\n",
       "        vertical-align: middle;\n",
       "    }\n",
       "\n",
       "    .dataframe tbody tr th {\n",
       "        vertical-align: top;\n",
       "    }\n",
       "\n",
       "    .dataframe thead th {\n",
       "        text-align: right;\n",
       "    }\n",
       "</style>\n",
       "<table border=\"1\" class=\"dataframe\">\n",
       "  <thead>\n",
       "    <tr style=\"text-align: right;\">\n",
       "      <th></th>\n",
       "      <th>citizenship</th>\n",
       "      <th>housing</th>\n",
       "      <th>assigned_dt</th>\n",
       "      <th>removed_dt</th>\n",
       "      <th>days_in_seg</th>\n",
       "      <th>assigned_date</th>\n",
       "      <th>assigned_hour</th>\n",
       "      <th>removed_date</th>\n",
       "      <th>removed_hour</th>\n",
       "    </tr>\n",
       "  </thead>\n",
       "  <tbody>\n",
       "    <tr>\n",
       "      <th>0</th>\n",
       "      <td>GUATEMALA</td>\n",
       "      <td>H-NA-108</td>\n",
       "      <td>6/27/2013 1:31:00AM</td>\n",
       "      <td>4/9/2014 11:49:00PM</td>\n",
       "      <td>286</td>\n",
       "      <td>6/27/2013</td>\n",
       "      <td>1:31:00AM</td>\n",
       "      <td>4/9/2014</td>\n",
       "      <td>11:49:00PM</td>\n",
       "    </tr>\n",
       "    <tr>\n",
       "      <th>1</th>\n",
       "      <td>MEXICO</td>\n",
       "      <td>H-NA-205</td>\n",
       "      <td>8/5/2013 2:30:00PM</td>\n",
       "      <td>11/10/2014 6:34:00AM</td>\n",
       "      <td>462</td>\n",
       "      <td>8/5/2013</td>\n",
       "      <td>2:30:00PM</td>\n",
       "      <td>11/10/2014</td>\n",
       "      <td>6:34:00AM</td>\n",
       "    </tr>\n",
       "    <tr>\n",
       "      <th>2</th>\n",
       "      <td>MEXICO</td>\n",
       "      <td>H-NA-106</td>\n",
       "      <td>8/8/2013 10:08:00AM</td>\n",
       "      <td>9/6/2013 11:41:00AM</td>\n",
       "      <td>29</td>\n",
       "      <td>8/8/2013</td>\n",
       "      <td>10:08:00AM</td>\n",
       "      <td>9/6/2013</td>\n",
       "      <td>11:41:00AM</td>\n",
       "    </tr>\n",
       "    <tr>\n",
       "      <th>3</th>\n",
       "      <td>MARSHALL ISLANDS</td>\n",
       "      <td>H-NA-203</td>\n",
       "      <td>8/15/2013 11:17:00AM</td>\n",
       "      <td>9/13/2013 9:05:00AM</td>\n",
       "      <td>29</td>\n",
       "      <td>8/15/2013</td>\n",
       "      <td>11:17:00AM</td>\n",
       "      <td>9/13/2013</td>\n",
       "      <td>9:05:00AM</td>\n",
       "    </tr>\n",
       "    <tr>\n",
       "      <th>4</th>\n",
       "      <td>MEXICO</td>\n",
       "      <td>H-NA-209</td>\n",
       "      <td>8/15/2013 10:07:00PM</td>\n",
       "      <td>9/9/2013 12:00:00AM</td>\n",
       "      <td>25</td>\n",
       "      <td>8/15/2013</td>\n",
       "      <td>10:07:00PM</td>\n",
       "      <td>9/9/2013</td>\n",
       "      <td>12:00:00AM</td>\n",
       "    </tr>\n",
       "  </tbody>\n",
       "</table>\n",
       "</div>"
      ],
      "text/plain": [
       "        citizenship   housing           assigned_dt            removed_dt  \\\n",
       "0         GUATEMALA  H-NA-108   6/27/2013 1:31:00AM   4/9/2014 11:49:00PM   \n",
       "1            MEXICO  H-NA-205    8/5/2013 2:30:00PM  11/10/2014 6:34:00AM   \n",
       "2            MEXICO  H-NA-106   8/8/2013 10:08:00AM   9/6/2013 11:41:00AM   \n",
       "3  MARSHALL ISLANDS  H-NA-203  8/15/2013 11:17:00AM   9/13/2013 9:05:00AM   \n",
       "4            MEXICO  H-NA-209  8/15/2013 10:07:00PM   9/9/2013 12:00:00AM   \n",
       "\n",
       "   days_in_seg assigned_date assigned_hour removed_date removed_hour  \n",
       "0          286     6/27/2013     1:31:00AM     4/9/2014   11:49:00PM  \n",
       "1          462      8/5/2013     2:30:00PM   11/10/2014    6:34:00AM  \n",
       "2           29      8/8/2013    10:08:00AM     9/6/2013   11:41:00AM  \n",
       "3           29     8/15/2013    11:17:00AM    9/13/2013    9:05:00AM  \n",
       "4           25     8/15/2013    10:07:00PM     9/9/2013   12:00:00AM  "
      ]
     },
     "execution_count": 135,
     "metadata": {},
     "output_type": "execute_result"
    }
   ],
   "source": [
    "smu.head()"
   ]
  },
  {
   "cell_type": "code",
   "execution_count": 136,
   "metadata": {},
   "outputs": [
    {
     "data": {
      "text/plain": [
       "3447"
      ]
     },
     "execution_count": 136,
     "metadata": {},
     "output_type": "execute_result"
    }
   ],
   "source": [
    "len(smu)"
   ]
  },
  {
   "cell_type": "markdown",
   "metadata": {},
   "source": [
    "All dates convert successfully:"
   ]
  },
  {
   "cell_type": "code",
   "execution_count": 137,
   "metadata": {},
   "outputs": [],
   "source": [
    "assert pd.to_datetime(smu['assigned_dt'], errors='coerce').isnull().sum() == 0\n",
    "smu['assigned_dt'] = pd.to_datetime(smu['assigned_dt'])\n",
    "assert pd.to_datetime(smu['removed_dt'], errors='coerce').isnull().sum() == 0\n",
    "smu['removed_dt'] = pd.to_datetime(smu['removed_dt'])"
   ]
  },
  {
   "cell_type": "markdown",
   "metadata": {},
   "source": [
    "Validating date fields: One record has a `removed_dt` value less than `assigned_dt`, but this is only a discrepancy in the hour values:"
   ]
  },
  {
   "cell_type": "code",
   "execution_count": 138,
   "metadata": {},
   "outputs": [
    {
     "data": {
      "text/plain": [
       "1"
      ]
     },
     "execution_count": 138,
     "metadata": {},
     "output_type": "execute_result"
    }
   ],
   "source": [
    "sum(smu['assigned_dt'] > smu['removed_dt'])"
   ]
  },
  {
   "cell_type": "code",
   "execution_count": 139,
   "metadata": {},
   "outputs": [
    {
     "data": {
      "text/html": [
       "<div>\n",
       "<style scoped>\n",
       "    .dataframe tbody tr th:only-of-type {\n",
       "        vertical-align: middle;\n",
       "    }\n",
       "\n",
       "    .dataframe tbody tr th {\n",
       "        vertical-align: top;\n",
       "    }\n",
       "\n",
       "    .dataframe thead th {\n",
       "        text-align: right;\n",
       "    }\n",
       "</style>\n",
       "<table border=\"1\" class=\"dataframe\">\n",
       "  <thead>\n",
       "    <tr style=\"text-align: right;\">\n",
       "      <th></th>\n",
       "      <th>citizenship</th>\n",
       "      <th>housing</th>\n",
       "      <th>assigned_dt</th>\n",
       "      <th>removed_dt</th>\n",
       "      <th>days_in_seg</th>\n",
       "      <th>assigned_date</th>\n",
       "      <th>assigned_hour</th>\n",
       "      <th>removed_date</th>\n",
       "      <th>removed_hour</th>\n",
       "    </tr>\n",
       "  </thead>\n",
       "  <tbody>\n",
       "    <tr>\n",
       "      <th>3446</th>\n",
       "      <td>MEXICO</td>\n",
       "      <td>H-NA-110</td>\n",
       "      <td>2020-03-31 18:28:00</td>\n",
       "      <td>2020-03-31 12:00:00</td>\n",
       "      <td>0</td>\n",
       "      <td>3/31/2020</td>\n",
       "      <td>6:28:00PM</td>\n",
       "      <td>3/31/2020</td>\n",
       "      <td>12:00:00PM</td>\n",
       "    </tr>\n",
       "  </tbody>\n",
       "</table>\n",
       "</div>"
      ],
      "text/plain": [
       "     citizenship   housing         assigned_dt          removed_dt  \\\n",
       "3446      MEXICO  H-NA-110 2020-03-31 18:28:00 2020-03-31 12:00:00   \n",
       "\n",
       "      days_in_seg assigned_date assigned_hour removed_date removed_hour  \n",
       "3446            0     3/31/2020     6:28:00PM    3/31/2020   12:00:00PM  "
      ]
     },
     "execution_count": 139,
     "metadata": {},
     "output_type": "execute_result"
    }
   ],
   "source": [
    "smu.loc[smu['assigned_dt'] > smu['removed_dt']]"
   ]
  },
  {
   "cell_type": "markdown",
   "metadata": {},
   "source": [
    "95 records have a `removed_dt` value equal to `assigned_dt`:"
   ]
  },
  {
   "cell_type": "code",
   "execution_count": 140,
   "metadata": {},
   "outputs": [
    {
     "data": {
      "text/plain": [
       "95"
      ]
     },
     "execution_count": 140,
     "metadata": {},
     "output_type": "execute_result"
    }
   ],
   "source": [
    "sum(smu['assigned_dt'] == smu['removed_dt'])"
   ]
  },
  {
   "cell_type": "code",
   "execution_count": 141,
   "metadata": {},
   "outputs": [
    {
     "data": {
      "text/html": [
       "<div>\n",
       "<style scoped>\n",
       "    .dataframe tbody tr th:only-of-type {\n",
       "        vertical-align: middle;\n",
       "    }\n",
       "\n",
       "    .dataframe tbody tr th {\n",
       "        vertical-align: top;\n",
       "    }\n",
       "\n",
       "    .dataframe thead th {\n",
       "        text-align: right;\n",
       "    }\n",
       "</style>\n",
       "<table border=\"1\" class=\"dataframe\">\n",
       "  <thead>\n",
       "    <tr style=\"text-align: right;\">\n",
       "      <th></th>\n",
       "      <th>citizenship</th>\n",
       "      <th>housing</th>\n",
       "      <th>assigned_dt</th>\n",
       "      <th>removed_dt</th>\n",
       "      <th>days_in_seg</th>\n",
       "      <th>assigned_date</th>\n",
       "      <th>assigned_hour</th>\n",
       "      <th>removed_date</th>\n",
       "      <th>removed_hour</th>\n",
       "    </tr>\n",
       "  </thead>\n",
       "  <tbody>\n",
       "    <tr>\n",
       "      <th>55</th>\n",
       "      <td>MEXICO</td>\n",
       "      <td>H-NA-209</td>\n",
       "      <td>2013-09-22 03:25:00</td>\n",
       "      <td>2013-09-22 03:25:00</td>\n",
       "      <td>0</td>\n",
       "      <td>9/22/2013</td>\n",
       "      <td>3:25:00AM</td>\n",
       "      <td>9/22/2013</td>\n",
       "      <td>3:25:00AM</td>\n",
       "    </tr>\n",
       "    <tr>\n",
       "      <th>57</th>\n",
       "      <td>MEXICO</td>\n",
       "      <td>H-NA-209</td>\n",
       "      <td>2013-09-22 03:29:00</td>\n",
       "      <td>2013-09-22 03:29:00</td>\n",
       "      <td>0</td>\n",
       "      <td>9/22/2013</td>\n",
       "      <td>3:29:00AM</td>\n",
       "      <td>9/22/2013</td>\n",
       "      <td>3:29:00AM</td>\n",
       "    </tr>\n",
       "    <tr>\n",
       "      <th>145</th>\n",
       "      <td>UKRAINE</td>\n",
       "      <td>H-NA-210</td>\n",
       "      <td>2013-11-08 03:30:00</td>\n",
       "      <td>2013-11-08 03:30:00</td>\n",
       "      <td>0</td>\n",
       "      <td>11/8/2013</td>\n",
       "      <td>3:30:00AM</td>\n",
       "      <td>11/8/2013</td>\n",
       "      <td>3:30:00AM</td>\n",
       "    </tr>\n",
       "    <tr>\n",
       "      <th>190</th>\n",
       "      <td>MOROCCO</td>\n",
       "      <td>H-NA-103</td>\n",
       "      <td>2013-11-29 02:11:00</td>\n",
       "      <td>2013-11-29 02:11:00</td>\n",
       "      <td>0</td>\n",
       "      <td>11/29/2013</td>\n",
       "      <td>2:11:00AM</td>\n",
       "      <td>11/29/2013</td>\n",
       "      <td>2:11:00AM</td>\n",
       "    </tr>\n",
       "    <tr>\n",
       "      <th>253</th>\n",
       "      <td>LAOS</td>\n",
       "      <td>H-NA-102</td>\n",
       "      <td>2013-12-28 20:03:00</td>\n",
       "      <td>2013-12-28 20:03:00</td>\n",
       "      <td>0</td>\n",
       "      <td>12/28/2013</td>\n",
       "      <td>8:03:00PM</td>\n",
       "      <td>12/28/2013</td>\n",
       "      <td>8:03:00PM</td>\n",
       "    </tr>\n",
       "  </tbody>\n",
       "</table>\n",
       "</div>"
      ],
      "text/plain": [
       "    citizenship   housing         assigned_dt          removed_dt  \\\n",
       "55       MEXICO  H-NA-209 2013-09-22 03:25:00 2013-09-22 03:25:00   \n",
       "57       MEXICO  H-NA-209 2013-09-22 03:29:00 2013-09-22 03:29:00   \n",
       "145     UKRAINE  H-NA-210 2013-11-08 03:30:00 2013-11-08 03:30:00   \n",
       "190     MOROCCO  H-NA-103 2013-11-29 02:11:00 2013-11-29 02:11:00   \n",
       "253        LAOS  H-NA-102 2013-12-28 20:03:00 2013-12-28 20:03:00   \n",
       "\n",
       "     days_in_seg assigned_date assigned_hour removed_date removed_hour  \n",
       "55             0     9/22/2013     3:25:00AM    9/22/2013    3:25:00AM  \n",
       "57             0     9/22/2013     3:29:00AM    9/22/2013    3:29:00AM  \n",
       "145            0     11/8/2013     3:30:00AM    11/8/2013    3:30:00AM  \n",
       "190            0    11/29/2013     2:11:00AM   11/29/2013    2:11:00AM  \n",
       "253            0    12/28/2013     8:03:00PM   12/28/2013    8:03:00PM  "
      ]
     },
     "execution_count": 141,
     "metadata": {},
     "output_type": "execute_result"
    }
   ],
   "source": [
    "smu.loc[smu['assigned_dt'] == smu['removed_dt']].head()"
   ]
  },
  {
   "cell_type": "markdown",
   "metadata": {},
   "source": [
    "Recalculating segregation placement length based on date only results in same value as `days_in_seg` field.\n",
    "\n",
    "Note that this calculation is not first day inclusive, as in the case of the RHU dataset and SRMS datasets below. We will discard hourly data and calculate first day inclusive stay lengths below for comparison purposes."
   ]
  },
  {
   "cell_type": "code",
   "execution_count": 142,
   "metadata": {},
   "outputs": [],
   "source": [
    "smu['days_calc'] = (pd.to_datetime(smu['removed_date']) - pd.to_datetime(smu['assigned_date'])) / np.timedelta64(1, 'D')\n",
    "assert sum(smu['days_in_seg'] == smu['days_calc']) == len(smu)"
   ]
  },
  {
   "cell_type": "code",
   "execution_count": 143,
   "metadata": {},
   "outputs": [
    {
     "data": {
      "text/plain": [
       "count    3447.000000\n",
       "mean        9.936176\n",
       "std        23.632917\n",
       "min         0.000000\n",
       "25%         1.000000\n",
       "50%         3.000000\n",
       "75%        10.000000\n",
       "max       488.000000\n",
       "Name: days_calc, dtype: float64"
      ]
     },
     "execution_count": 143,
     "metadata": {},
     "output_type": "execute_result"
    }
   ],
   "source": [
    "smu['days_calc'].describe()"
   ]
  },
  {
   "cell_type": "markdown",
   "metadata": {},
   "source": [
    "About 16% of records reflect stay lengths of less than one day, based on placement dates."
   ]
  },
  {
   "cell_type": "code",
   "execution_count": 145,
   "metadata": {},
   "outputs": [
    {
     "data": {
      "text/plain": [
       "0.16275021758050479"
      ]
     },
     "execution_count": 145,
     "metadata": {},
     "output_type": "execute_result"
    }
   ],
   "source": [
    "sum(smu['days_calc'] < 1) / len(smu)"
   ]
  },
  {
   "cell_type": "markdown",
   "metadata": {},
   "source": [
    "Calculating hourly segregation placement length based on datetime field gives us slightly different values; but we should discard hourly data because it is not available in other datasets for comparison."
   ]
  },
  {
   "cell_type": "code",
   "execution_count": 146,
   "metadata": {},
   "outputs": [],
   "source": [
    "smu['hours_calc'] = (smu['removed_dt'] - smu['assigned_dt']) /  np.timedelta64(1, 'h')"
   ]
  },
  {
   "cell_type": "code",
   "execution_count": 147,
   "metadata": {},
   "outputs": [
    {
     "data": {
      "text/plain": [
       "count     3447.000000\n",
       "mean       238.731525\n",
       "std        566.594120\n",
       "min         -6.466667\n",
       "25%         25.741667\n",
       "50%         80.683333\n",
       "75%        232.891667\n",
       "max      11710.366667\n",
       "Name: hours_calc, dtype: float64"
      ]
     },
     "execution_count": 147,
     "metadata": {},
     "output_type": "execute_result"
    }
   ],
   "source": [
    "smu['hours_calc'].describe()"
   ]
  },
  {
   "cell_type": "code",
   "execution_count": 148,
   "metadata": {},
   "outputs": [
    {
     "data": {
      "text/plain": [
       "832"
      ]
     },
     "execution_count": 148,
     "metadata": {},
     "output_type": "execute_result"
    }
   ],
   "source": [
    "sum(smu['hours_calc'] <= 24)"
   ]
  },
  {
   "cell_type": "markdown",
   "metadata": {},
   "source": [
    "GEOTrack database export timeframe appears to be based on `removed_dt` min/max values:"
   ]
  },
  {
   "cell_type": "code",
   "execution_count": 17,
   "metadata": {},
   "outputs": [
    {
     "data": {
      "text/plain": [
       "count                    3351\n",
       "unique                   3253\n",
       "top       2020-02-28 04:29:00\n",
       "freq                        3\n",
       "first     2013-06-27 01:31:00\n",
       "last      2020-03-30 18:59:00\n",
       "Name: assigned_dt, dtype: object"
      ]
     },
     "execution_count": 17,
     "metadata": {},
     "output_type": "execute_result"
    }
   ],
   "source": [
    "smu['assigned_dt'].describe()"
   ]
  },
  {
   "cell_type": "code",
   "execution_count": 18,
   "metadata": {},
   "outputs": [
    {
     "data": {
      "text/plain": [
       "count                    3351\n",
       "unique                   3246\n",
       "top       2020-03-31 12:00:00\n",
       "freq                       16\n",
       "first     2013-09-01 18:18:00\n",
       "last      2020-03-31 12:00:00\n",
       "Name: removed_dt, dtype: object"
      ]
     },
     "execution_count": 18,
     "metadata": {},
     "output_type": "execute_result"
    }
   ],
   "source": [
    "smu['removed_dt'].describe()"
   ]
  },
  {
   "cell_type": "code",
   "execution_count": 19,
   "metadata": {},
   "outputs": [
    {
     "data": {
      "text/plain": [
       "assigned_dt\n",
       "2013-01-01    3.0\n",
       "2014-01-01    3.0\n",
       "2015-01-01    3.0\n",
       "2016-01-01    3.0\n",
       "2017-01-01    4.0\n",
       "2018-01-01    5.0\n",
       "2019-01-01    4.0\n",
       "2020-01-01    3.0\n",
       "Freq: AS-JAN, Name: days_calc, dtype: float64"
      ]
     },
     "execution_count": 19,
     "metadata": {},
     "output_type": "execute_result"
    }
   ],
   "source": [
    "smu.set_index('assigned_dt').groupby([pd.Grouper(freq='AS')])['days_calc'].median()"
   ]
  },
  {
   "cell_type": "code",
   "execution_count": 20,
   "metadata": {},
   "outputs": [
    {
     "data": {
      "text/plain": [
       "assigned_dt\n",
       "2013-01-01    10.988679\n",
       "2014-01-01     8.163306\n",
       "2015-01-01     9.571429\n",
       "2016-01-01     9.979927\n",
       "2017-01-01    12.692456\n",
       "2018-01-01    11.345794\n",
       "2019-01-01     9.712274\n",
       "2020-01-01     8.217742\n",
       "Freq: AS-JAN, Name: days_calc, dtype: float64"
      ]
     },
     "execution_count": 20,
     "metadata": {},
     "output_type": "execute_result"
    }
   ],
   "source": [
    "smu.set_index('assigned_dt').groupby([pd.Grouper(freq='AS')])['days_calc'].mean()"
   ]
  },
  {
   "cell_type": "code",
   "execution_count": 21,
   "metadata": {},
   "outputs": [],
   "source": [
    "assert sum(smu['citizenship'].isnull()) == 0"
   ]
  },
  {
   "cell_type": "code",
   "execution_count": 22,
   "metadata": {},
   "outputs": [
    {
     "data": {
      "text/plain": [
       "<matplotlib.axes._subplots.AxesSubplot at 0x7f143d6a88d0>"
      ]
     },
     "execution_count": 22,
     "metadata": {},
     "output_type": "execute_result"
    },
    {
     "data": {
      "image/png": "[encoded data removed]",
      "text/plain": [
       "<Figure size 432x288 with 1 Axes>"
      ]
     },
     "metadata": {
      "needs_background": "light"
     },
     "output_type": "display_data"
    }
   ],
   "source": [
    "smu_annual = smu.set_index('assigned_dt').groupby([pd.Grouper(freq='AS')])['citizenship'].count()\n",
    "smu_annual.plot()"
   ]
  },
  {
   "cell_type": "code",
   "execution_count": 23,
   "metadata": {},
   "outputs": [
    {
     "data": {
      "text/plain": [
       "<matplotlib.axes._subplots.AxesSubplot at 0x7f143b5fe9b0>"
      ]
     },
     "execution_count": 23,
     "metadata": {},
     "output_type": "execute_result"
    },
    {
     "data": {
      "image/png": "[encoded data removed]",
      "text/plain": [
       "<Figure size 432x288 with 1 Axes>"
      ]
     },
     "metadata": {
      "needs_background": "light"
     },
     "output_type": "display_data"
    }
   ],
   "source": [
    "smu_monthly = smu.set_index('assigned_dt').groupby([pd.Grouper(freq='M')])['citizenship'].count()\n",
    "smu_monthly.plot()"
   ]
  },
  {
   "cell_type": "code",
   "execution_count": 24,
   "metadata": {},
   "outputs": [
    {
     "data": {
      "text/plain": [
       "<matplotlib.axes._subplots.AxesSubplot at 0x7f143aec3ef0>"
      ]
     },
     "execution_count": 24,
     "metadata": {},
     "output_type": "execute_result"
    },
    {
     "data": {
      "image/png": "[encoded data removed]",
      "text/plain": [
       "<Figure size 432x288 with 1 Axes>"
      ]
     },
     "metadata": {
      "needs_background": "light"
     },
     "output_type": "display_data"
    }
   ],
   "source": [
    "smu.set_index('assigned_dt').loc['2013-09-01':].groupby([pd.Grouper(freq='M')])['days_calc'].mean().plot()"
   ]
  },
  {
   "cell_type": "code",
   "execution_count": 25,
   "metadata": {},
   "outputs": [
    {
     "data": {
      "text/plain": [
       "<matplotlib.axes._subplots.AxesSubplot at 0x7f143adf5a90>"
      ]
     },
     "execution_count": 25,
     "metadata": {},
     "output_type": "execute_result"
    },
    {
     "data": {
      "image/png": "[encoded data removed]",
      "text/plain": [
       "<Figure size 432x288 with 1 Axes>"
      ]
     },
     "metadata": {
      "needs_background": "light"
     },
     "output_type": "display_data"
    }
   ],
   "source": [
    "smu.set_index('assigned_dt').loc['2013-09-01':].groupby([pd.Grouper(freq='M')])['days_calc'].median().plot()"
   ]
  },
  {
   "cell_type": "markdown",
   "metadata": {},
   "source": [
    "Stays over 14 days must be reported to ICE SRMS. Flagging long placements and calculating as percent of total placements. (Caveat: placements are by housing assignment, not cumulative stay length, so long stays are likely undercounted here.)"
   ]
  },
  {
   "cell_type": "code",
   "execution_count": 26,
   "metadata": {},
   "outputs": [],
   "source": [
    "smu['long_stay'] = smu['days_calc'] > 14"
   ]
  },
  {
   "cell_type": "code",
   "execution_count": 27,
   "metadata": {},
   "outputs": [],
   "source": [
    "long_g = smu.set_index('assigned_dt').groupby([pd.Grouper(freq='AS')])['long_stay'].sum()"
   ]
  },
  {
   "cell_type": "code",
   "execution_count": 28,
   "metadata": {},
   "outputs": [],
   "source": [
    "count_g = smu.set_index('assigned_dt').groupby([pd.Grouper(freq='AS')])['citizenship'].count()"
   ]
  },
  {
   "cell_type": "markdown",
   "metadata": {},
   "source": [
    "Long stays are increasing over time both absolutely and as proportion of total placements:"
   ]
  },
  {
   "cell_type": "code",
   "execution_count": 29,
   "metadata": {
    "scrolled": true
   },
   "outputs": [
    {
     "data": {
      "text/plain": [
       "assigned_dt\n",
       "2013-01-01    18.113208\n",
       "2014-01-01    13.306452\n",
       "2015-01-01    13.235294\n",
       "2016-01-01    15.510949\n",
       "2017-01-01    18.181818\n",
       "2018-01-01    24.532710\n",
       "2019-01-01    22.334004\n",
       "2020-01-01    20.967742\n",
       "Freq: AS-JAN, dtype: float64"
      ]
     },
     "execution_count": 29,
     "metadata": {},
     "output_type": "execute_result"
    }
   ],
   "source": [
    "(long_g / count_g * 100)"
   ]
  },
  {
   "cell_type": "code",
   "execution_count": 30,
   "metadata": {},
   "outputs": [
    {
     "data": {
      "text/plain": [
       "assigned_dt\n",
       "2013-01-01     48.0\n",
       "2014-01-01     66.0\n",
       "2015-01-01     63.0\n",
       "2016-01-01     85.0\n",
       "2017-01-01     94.0\n",
       "2018-01-01    105.0\n",
       "2019-01-01    111.0\n",
       "2020-01-01     26.0\n",
       "Freq: AS-JAN, Name: long_stay, dtype: float64"
      ]
     },
     "execution_count": 30,
     "metadata": {},
     "output_type": "execute_result"
    }
   ],
   "source": [
    "long_g"
   ]
  },
  {
   "cell_type": "code",
   "execution_count": 31,
   "metadata": {},
   "outputs": [
    {
     "data": {
      "text/plain": [
       "assigned_dt\n",
       "2013-01-01    265\n",
       "2014-01-01    496\n",
       "2015-01-01    476\n",
       "2016-01-01    548\n",
       "2017-01-01    517\n",
       "2018-01-01    428\n",
       "2019-01-01    497\n",
       "2020-01-01    124\n",
       "Freq: AS-JAN, Name: citizenship, dtype: int64"
      ]
     },
     "execution_count": 31,
     "metadata": {},
     "output_type": "execute_result"
    }
   ],
   "source": [
    "count_g"
   ]
  },
  {
   "cell_type": "markdown",
   "metadata": {},
   "source": [
    "A [June 24-26, 2014 DHS inspection report](https://drive.google.com/file/d/1YDX4fOOJ3DCftWiQv7O_5jwA2eZ0ftWR/view?usp=sharing) for NWDC states, “Documentation reflects there were 776 assignments to segregation in the past year”;"
   ]
  },
  {
   "cell_type": "code",
   "execution_count": 32,
   "metadata": {},
   "outputs": [
    {
     "data": {
      "text/plain": [
       "600"
      ]
     },
     "execution_count": 32,
     "metadata": {},
     "output_type": "execute_result"
    }
   ],
   "source": [
    "len(smu.set_index('assigned_dt').loc[:'2014-06-30'])"
   ]
  },
  {
   "cell_type": "code",
   "execution_count": 33,
   "metadata": {},
   "outputs": [
    {
     "data": {
      "text/html": [
       "<div>\n",
       "<style scoped>\n",
       "    .dataframe tbody tr th:only-of-type {\n",
       "        vertical-align: middle;\n",
       "    }\n",
       "\n",
       "    .dataframe tbody tr th {\n",
       "        vertical-align: top;\n",
       "    }\n",
       "\n",
       "    .dataframe thead th {\n",
       "        text-align: right;\n",
       "    }\n",
       "</style>\n",
       "<table border=\"1\" class=\"dataframe\">\n",
       "  <thead>\n",
       "    <tr style=\"text-align: right;\">\n",
       "      <th></th>\n",
       "      <th>citizenship</th>\n",
       "      <th>housing</th>\n",
       "      <th>assigned_dt</th>\n",
       "      <th>removed_dt</th>\n",
       "      <th>days_in_seg</th>\n",
       "      <th>assigned_date</th>\n",
       "      <th>assigned_hour</th>\n",
       "      <th>removed_date</th>\n",
       "      <th>removed_hour</th>\n",
       "      <th>days_calc</th>\n",
       "      <th>hours_calc</th>\n",
       "      <th>long_stay</th>\n",
       "    </tr>\n",
       "  </thead>\n",
       "  <tbody>\n",
       "    <tr>\n",
       "      <th>0</th>\n",
       "      <td>GUATEMALA</td>\n",
       "      <td>H-NA-108</td>\n",
       "      <td>2013-06-27 01:31:00</td>\n",
       "      <td>2014-04-09 23:49:00</td>\n",
       "      <td>286</td>\n",
       "      <td>6/27/2013</td>\n",
       "      <td>1:31:00AM</td>\n",
       "      <td>4/9/2014</td>\n",
       "      <td>11:49:00PM</td>\n",
       "      <td>286.0</td>\n",
       "      <td>6886.300000</td>\n",
       "      <td>True</td>\n",
       "    </tr>\n",
       "    <tr>\n",
       "      <th>1</th>\n",
       "      <td>MEXICO</td>\n",
       "      <td>H-NA-205</td>\n",
       "      <td>2013-08-05 14:30:00</td>\n",
       "      <td>2014-11-10 06:34:00</td>\n",
       "      <td>462</td>\n",
       "      <td>8/5/2013</td>\n",
       "      <td>2:30:00PM</td>\n",
       "      <td>11/10/2014</td>\n",
       "      <td>6:34:00AM</td>\n",
       "      <td>462.0</td>\n",
       "      <td>11080.066667</td>\n",
       "      <td>True</td>\n",
       "    </tr>\n",
       "    <tr>\n",
       "      <th>2</th>\n",
       "      <td>MEXICO</td>\n",
       "      <td>H-NA-106</td>\n",
       "      <td>2013-08-08 10:08:00</td>\n",
       "      <td>2013-09-06 11:41:00</td>\n",
       "      <td>29</td>\n",
       "      <td>8/8/2013</td>\n",
       "      <td>10:08:00AM</td>\n",
       "      <td>9/6/2013</td>\n",
       "      <td>11:41:00AM</td>\n",
       "      <td>29.0</td>\n",
       "      <td>697.550000</td>\n",
       "      <td>True</td>\n",
       "    </tr>\n",
       "    <tr>\n",
       "      <th>3</th>\n",
       "      <td>MARSHALL ISLANDS</td>\n",
       "      <td>H-NA-203</td>\n",
       "      <td>2013-08-15 11:17:00</td>\n",
       "      <td>2013-09-13 09:05:00</td>\n",
       "      <td>29</td>\n",
       "      <td>8/15/2013</td>\n",
       "      <td>11:17:00AM</td>\n",
       "      <td>9/13/2013</td>\n",
       "      <td>9:05:00AM</td>\n",
       "      <td>29.0</td>\n",
       "      <td>693.800000</td>\n",
       "      <td>True</td>\n",
       "    </tr>\n",
       "    <tr>\n",
       "      <th>4</th>\n",
       "      <td>MEXICO</td>\n",
       "      <td>H-NA-209</td>\n",
       "      <td>2013-08-15 22:07:00</td>\n",
       "      <td>2013-09-09 00:00:00</td>\n",
       "      <td>25</td>\n",
       "      <td>8/15/2013</td>\n",
       "      <td>10:07:00PM</td>\n",
       "      <td>9/9/2013</td>\n",
       "      <td>12:00:00AM</td>\n",
       "      <td>25.0</td>\n",
       "      <td>577.883333</td>\n",
       "      <td>True</td>\n",
       "    </tr>\n",
       "  </tbody>\n",
       "</table>\n",
       "</div>"
      ],
      "text/plain": [
       "        citizenship   housing         assigned_dt          removed_dt  \\\n",
       "0         GUATEMALA  H-NA-108 2013-06-27 01:31:00 2014-04-09 23:49:00   \n",
       "1            MEXICO  H-NA-205 2013-08-05 14:30:00 2014-11-10 06:34:00   \n",
       "2            MEXICO  H-NA-106 2013-08-08 10:08:00 2013-09-06 11:41:00   \n",
       "3  MARSHALL ISLANDS  H-NA-203 2013-08-15 11:17:00 2013-09-13 09:05:00   \n",
       "4            MEXICO  H-NA-209 2013-08-15 22:07:00 2013-09-09 00:00:00   \n",
       "\n",
       "   days_in_seg assigned_date assigned_hour removed_date removed_hour  \\\n",
       "0          286     6/27/2013     1:31:00AM     4/9/2014   11:49:00PM   \n",
       "1          462      8/5/2013     2:30:00PM   11/10/2014    6:34:00AM   \n",
       "2           29      8/8/2013    10:08:00AM     9/6/2013   11:41:00AM   \n",
       "3           29     8/15/2013    11:17:00AM    9/13/2013    9:05:00AM   \n",
       "4           25     8/15/2013    10:07:00PM     9/9/2013   12:00:00AM   \n",
       "\n",
       "   days_calc    hours_calc  long_stay  \n",
       "0      286.0   6886.300000       True  \n",
       "1      462.0  11080.066667       True  \n",
       "2       29.0    697.550000       True  \n",
       "3       29.0    693.800000       True  \n",
       "4       25.0    577.883333       True  "
      ]
     },
     "execution_count": 33,
     "metadata": {},
     "output_type": "execute_result"
    }
   ],
   "source": [
    "smu.head()"
   ]
  },
  {
   "cell_type": "code",
   "execution_count": 34,
   "metadata": {},
   "outputs": [
    {
     "data": {
      "text/plain": [
       "20"
      ]
     },
     "execution_count": 34,
     "metadata": {},
     "output_type": "execute_result"
    }
   ],
   "source": [
    "len(smu['housing'].unique())"
   ]
  },
  {
   "cell_type": "markdown",
   "metadata": {},
   "source": [
    "# RHU\n",
    "\n",
    "Original file: `15_16_17_18_19_20_RHU_admission_Redacted.xlsx`\n",
    "\n",
    "Log created and maintained by hand by GEO employee to track Restricted Housing Unit placements. Described by US DOJ attorneys for ICE as follows:\n",
    "\n",
    "> “The [RHU] spreadsheet runs from January 2015 to May 28, 2020 and was created by and for a lieutenant within the facility once he took over the segregation lieutenant duties. The spreadsheet is updated once a detainee departs segregation. The subjects who are included on this list, therefore, are those who were placed into segregation and have already been released from segregation. It does not include those individuals who are currently in segregation.”\n",
    "\n",
    "## Dates and total days calculation\n",
    "\n",
    "Inspection of the original Excel file suggests that the `Total days` column values are incorrect throughout, based on a broken cell formula. For example, on the \"2020\" spreadsheet tab, the `Total days` column values are integers which only occasionally align with calculated placement length based on the `Date in` and `Date out` columns. However, additional spreadsheet rows at the bottom of the sheet not containing values in other fields contain an Excel formula (\"=(D138-C138)+1\") which should have been used to calculate these values. Comparing calculated stay lengths with reported `Total days` suggests that this formula was not updated consistently, causing fields to become misaligned. Additionally, the \"2015\" spreadsheet tab includes many `Total days` values equal to \"1\", suggesting that the formula was applied incorrectly or with missing data.\n",
    "\n",
    "We can recalculate actual stay lengths based on the formula cited above (where stays of less than one day would be calculated as \"1\"); or with the formula used for the \"SMU\" records above (where stays of less than one day would be calculated as \"0\"), for more consistent comparison with other datasets.\n",
    "\n",
    "The above issue raises the possibility that other fields in addition to `Total days` may be misaligned in the original dataset. One fact mitigating this possibility is that no `Date out` values predate associated `Date in` values. We can also look more closely at qualitative fields to make an educated guess as to the data quality. However, we do not intend to use this dataset for detailed qualitative analysis; of most interest are total segregation placements and segregation stay lengths."
   ]
  },
  {
   "cell_type": "code",
   "execution_count": 35,
   "metadata": {},
   "outputs": [],
   "source": [
    "rhu = pd.read_csv('../input/rhu.csv.gz', sep='|', quotechar='\"', compression='gzip')"
   ]
  },
  {
   "cell_type": "code",
   "execution_count": 36,
   "metadata": {},
   "outputs": [
    {
     "name": "stdout",
     "output_type": "stream",
     "text": [
      "<class 'pandas.core.frame.DataFrame'>\n",
      "RangeIndex: 2532 entries, 0 to 2531\n",
      "Data columns (total 9 columns):\n",
      " #   Column             Non-Null Count  Dtype \n",
      "---  ------             --------------  ----- \n",
      " 0   name               2532 non-null   object\n",
      " 1   alien_#            2532 non-null   object\n",
      " 2   date_in            2532 non-null   object\n",
      " 3   date_out           2532 non-null   object\n",
      " 4   total_days         2532 non-null   int64 \n",
      " 5   initial_placement  2532 non-null   object\n",
      " 6   placement_reason   2532 non-null   object\n",
      " 7   disc_seg           2532 non-null   object\n",
      " 8   release_reason     2532 non-null   object\n",
      "dtypes: int64(1), object(8)\n",
      "memory usage: 178.2+ KB\n"
     ]
    }
   ],
   "source": [
    "rhu.info()"
   ]
  },
  {
   "cell_type": "code",
   "execution_count": 37,
   "metadata": {},
   "outputs": [
    {
     "data": {
      "text/html": [
       "<div>\n",
       "<style scoped>\n",
       "    .dataframe tbody tr th:only-of-type {\n",
       "        vertical-align: middle;\n",
       "    }\n",
       "\n",
       "    .dataframe tbody tr th {\n",
       "        vertical-align: top;\n",
       "    }\n",
       "\n",
       "    .dataframe thead th {\n",
       "        text-align: right;\n",
       "    }\n",
       "</style>\n",
       "<table border=\"1\" class=\"dataframe\">\n",
       "  <thead>\n",
       "    <tr style=\"text-align: right;\">\n",
       "      <th></th>\n",
       "      <th>name</th>\n",
       "      <th>alien_#</th>\n",
       "      <th>date_in</th>\n",
       "      <th>date_out</th>\n",
       "      <th>total_days</th>\n",
       "      <th>initial_placement</th>\n",
       "      <th>placement_reason</th>\n",
       "      <th>disc_seg</th>\n",
       "      <th>release_reason</th>\n",
       "    </tr>\n",
       "  </thead>\n",
       "  <tbody>\n",
       "    <tr>\n",
       "      <th>0</th>\n",
       "      <td>(b)(6),(b)(7)(c )</td>\n",
       "      <td>(b)(6),(b)(7)(c )</td>\n",
       "      <td>1/3/2015</td>\n",
       "      <td>1/5/2015</td>\n",
       "      <td>20</td>\n",
       "      <td>pending hearing</td>\n",
       "      <td>refusing staff orders</td>\n",
       "      <td>N</td>\n",
       "      <td>release to gen pop</td>\n",
       "    </tr>\n",
       "    <tr>\n",
       "      <th>1</th>\n",
       "      <td>(b)(6),(b)(7)(c )</td>\n",
       "      <td>(b)(6),(b)(7)(c )</td>\n",
       "      <td>1/10/2015</td>\n",
       "      <td>1/12/2015</td>\n",
       "      <td>294</td>\n",
       "      <td>pending hearing</td>\n",
       "      <td>assault</td>\n",
       "      <td>N</td>\n",
       "      <td>release from custody</td>\n",
       "    </tr>\n",
       "    <tr>\n",
       "      <th>2</th>\n",
       "      <td>(b)(6),(b)(7)(c )</td>\n",
       "      <td>(b)(6),(b)(7)(c )</td>\n",
       "      <td>1/12/2015</td>\n",
       "      <td>1/16/2015</td>\n",
       "      <td>8</td>\n",
       "      <td>pending hearing</td>\n",
       "      <td>disrupting facility operations</td>\n",
       "      <td>Y</td>\n",
       "      <td>released to medical</td>\n",
       "    </tr>\n",
       "    <tr>\n",
       "      <th>3</th>\n",
       "      <td>(b)(6),(b)(7)(c )</td>\n",
       "      <td>(b)(6),(b)(7)(c )</td>\n",
       "      <td>1/13/2015</td>\n",
       "      <td>1/29/2015</td>\n",
       "      <td>3</td>\n",
       "      <td>pending hearing</td>\n",
       "      <td>assault</td>\n",
       "      <td>Y</td>\n",
       "      <td>release to gen pop</td>\n",
       "    </tr>\n",
       "    <tr>\n",
       "      <th>4</th>\n",
       "      <td>(b)(6),(b)(7)(c )</td>\n",
       "      <td>(b)(6),(b)(7)(c )</td>\n",
       "      <td>1/14/2015</td>\n",
       "      <td>2/6/2015</td>\n",
       "      <td>4</td>\n",
       "      <td>security risk</td>\n",
       "      <td>(b)(6), (b)(7)(C), (b)(7)(E)</td>\n",
       "      <td>N</td>\n",
       "      <td>release from custody</td>\n",
       "    </tr>\n",
       "  </tbody>\n",
       "</table>\n",
       "</div>"
      ],
      "text/plain": [
       "                name            alien_#    date_in   date_out  total_days  \\\n",
       "0  (b)(6),(b)(7)(c )  (b)(6),(b)(7)(c )   1/3/2015   1/5/2015          20   \n",
       "1  (b)(6),(b)(7)(c )  (b)(6),(b)(7)(c )  1/10/2015  1/12/2015         294   \n",
       "2  (b)(6),(b)(7)(c )  (b)(6),(b)(7)(c )  1/12/2015  1/16/2015           8   \n",
       "3  (b)(6),(b)(7)(c )  (b)(6),(b)(7)(c )  1/13/2015  1/29/2015           3   \n",
       "4  (b)(6),(b)(7)(c )  (b)(6),(b)(7)(c )  1/14/2015   2/6/2015           4   \n",
       "\n",
       "  initial_placement                placement_reason disc_seg  \\\n",
       "0   pending hearing           refusing staff orders        N   \n",
       "1   pending hearing                         assault        N   \n",
       "2   pending hearing  disrupting facility operations        Y   \n",
       "3   pending hearing                         assault        Y   \n",
       "4     security risk    (b)(6), (b)(7)(C), (b)(7)(E)        N   \n",
       "\n",
       "         release_reason  \n",
       "0    release to gen pop  \n",
       "1  release from custody  \n",
       "2   released to medical  \n",
       "3    release to gen pop  \n",
       "4  release from custody  "
      ]
     },
     "execution_count": 37,
     "metadata": {},
     "output_type": "execute_result"
    }
   ],
   "source": [
    "rhu.head()"
   ]
  },
  {
   "cell_type": "code",
   "execution_count": 38,
   "metadata": {},
   "outputs": [],
   "source": [
    "rhu['date_in'] = pd.to_datetime(rhu['date_in'])\n",
    "rhu['date_out'] = pd.to_datetime(rhu['date_out'])"
   ]
  },
  {
   "cell_type": "markdown",
   "metadata": {},
   "source": [
    "As noted above, no `date_out` values precede associated `date_in` values:"
   ]
  },
  {
   "cell_type": "code",
   "execution_count": 39,
   "metadata": {},
   "outputs": [],
   "source": [
    "assert sum(rhu['date_in'] > rhu['date_out']) == 0"
   ]
  },
  {
   "cell_type": "markdown",
   "metadata": {},
   "source": [
    "Here we recalculate the `total days` field based on the formula in the original spreadsheet (\"=(D138-C138)+1\"):"
   ]
  },
  {
   "cell_type": "code",
   "execution_count": 40,
   "metadata": {},
   "outputs": [],
   "source": [
    "rhu['total_days_calc'] = (rhu['date_out'] - rhu['date_in']) / np.timedelta64(1, 'D') + 1"
   ]
  },
  {
   "cell_type": "markdown",
   "metadata": {},
   "source": [
    "Less than 10% of `total_days` values match `total_days_calc`:"
   ]
  },
  {
   "cell_type": "code",
   "execution_count": 41,
   "metadata": {},
   "outputs": [
    {
     "data": {
      "text/plain": [
       "8.175355450236967"
      ]
     },
     "execution_count": 41,
     "metadata": {},
     "output_type": "execute_result"
    }
   ],
   "source": [
    "sum(rhu['total_days_calc'] == rhu['total_days']) / len(rhu) * 100"
   ]
  },
  {
   "cell_type": "markdown",
   "metadata": {},
   "source": [
    "Note that the summary statistics for the original field (`total_days`) are very similar to the recalculated field (`total_days_calc`), suggesting that most values are present in the dataset but misaligned:"
   ]
  },
  {
   "cell_type": "code",
   "execution_count": 42,
   "metadata": {},
   "outputs": [
    {
     "data": {
      "text/plain": [
       "count    2532.000000\n",
       "mean       13.579384\n",
       "std        37.031862\n",
       "min         1.000000\n",
       "25%         2.000000\n",
       "50%         4.000000\n",
       "75%        10.000000\n",
       "max       694.000000\n",
       "Name: total_days, dtype: float64"
      ]
     },
     "execution_count": 42,
     "metadata": {},
     "output_type": "execute_result"
    }
   ],
   "source": [
    "rhu['total_days'].describe()"
   ]
  },
  {
   "cell_type": "code",
   "execution_count": 43,
   "metadata": {},
   "outputs": [
    {
     "data": {
      "text/plain": [
       "count    2532.000000\n",
       "mean       14.777646\n",
       "std        37.624797\n",
       "min         1.000000\n",
       "25%         3.000000\n",
       "50%         5.000000\n",
       "75%        12.000000\n",
       "max       694.000000\n",
       "Name: total_days_calc, dtype: float64"
      ]
     },
     "execution_count": 43,
     "metadata": {},
     "output_type": "execute_result"
    }
   ],
   "source": [
    "rhu['total_days_calc'].describe()"
   ]
  },
  {
   "cell_type": "markdown",
   "metadata": {},
   "source": [
    "The symmetrical distribution of values when analyzing the difference between the fields also suggests that values are largely misaligned rather than miscalculated:"
   ]
  },
  {
   "cell_type": "code",
   "execution_count": 44,
   "metadata": {},
   "outputs": [
    {
     "data": {
      "text/plain": [
       "count    2532.000000\n",
       "mean        1.198262\n",
       "std        53.309465\n",
       "min      -692.000000\n",
       "25%        -4.000000\n",
       "50%         1.000000\n",
       "75%         6.000000\n",
       "max       693.000000\n",
       "dtype: float64"
      ]
     },
     "execution_count": 44,
     "metadata": {},
     "output_type": "execute_result"
    }
   ],
   "source": [
    "# why so symmetrical?\n",
    "(rhu['total_days_calc'] - (rhu['total_days'])).describe()"
   ]
  },
  {
   "cell_type": "markdown",
   "metadata": {},
   "source": [
    "Therefore, we will conclude that it is correct to recalculate the `total_days` field here. We will follow the formula used for other datasets in this repository, where stays of less than one day would be calculated as \"0\"."
   ]
  },
  {
   "cell_type": "code",
   "execution_count": 45,
   "metadata": {},
   "outputs": [],
   "source": [
    "rhu['total_days'] = (rhu['date_out'] - rhu['date_in']) / np.timedelta64(1, 'D')"
   ]
  },
  {
   "cell_type": "code",
   "execution_count": 46,
   "metadata": {},
   "outputs": [],
   "source": [
    "rhu = rhu.drop('total_days_calc', axis=1)"
   ]
  },
  {
   "cell_type": "code",
   "execution_count": 47,
   "metadata": {},
   "outputs": [
    {
     "data": {
      "text/plain": [
       "count    2532.000000\n",
       "mean       13.777646\n",
       "std        37.624797\n",
       "min         0.000000\n",
       "25%         2.000000\n",
       "50%         4.000000\n",
       "75%        11.000000\n",
       "max       693.000000\n",
       "Name: total_days, dtype: float64"
      ]
     },
     "execution_count": 47,
     "metadata": {},
     "output_type": "execute_result"
    }
   ],
   "source": [
    "rhu['total_days'].describe()"
   ]
  },
  {
   "cell_type": "code",
   "execution_count": 48,
   "metadata": {},
   "outputs": [],
   "source": [
    "assert sum(pd.isnull(rhu['name'])) == 0"
   ]
  },
  {
   "cell_type": "code",
   "execution_count": 49,
   "metadata": {},
   "outputs": [],
   "source": [
    "rhu_annual = rhu.set_index('date_in').groupby(pd.Grouper(freq='AS'))['name'].count()"
   ]
  },
  {
   "cell_type": "code",
   "execution_count": 50,
   "metadata": {},
   "outputs": [],
   "source": [
    "rhu_monthly = rhu.set_index('date_in').groupby(pd.Grouper(freq='M'))['name'].count()"
   ]
  },
  {
   "cell_type": "code",
   "execution_count": 51,
   "metadata": {},
   "outputs": [
    {
     "data": {
      "text/plain": [
       "date_in\n",
       "2015-01-01    13.698061\n",
       "2016-01-01    11.855530\n",
       "2017-01-01    16.704120\n",
       "2018-01-01    13.645763\n",
       "2019-01-01    13.980769\n",
       "2020-01-01     8.632353\n",
       "Freq: AS-JAN, Name: total_days, dtype: float64"
      ]
     },
     "execution_count": 51,
     "metadata": {},
     "output_type": "execute_result"
    }
   ],
   "source": [
    "rhu.set_index('date_in').groupby(pd.Grouper(freq='AS'))['total_days'].mean()"
   ]
  },
  {
   "cell_type": "markdown",
   "metadata": {},
   "source": [
    "# RHU/SMU comparison"
   ]
  },
  {
   "cell_type": "code",
   "execution_count": 52,
   "metadata": {},
   "outputs": [],
   "source": [
    "data = pd.concat([rhu_annual, smu_annual], axis=1)"
   ]
  },
  {
   "cell_type": "code",
   "execution_count": 53,
   "metadata": {},
   "outputs": [],
   "source": [
    "data.columns = ['RHU', 'SMU']"
   ]
  },
  {
   "cell_type": "code",
   "execution_count": 54,
   "metadata": {},
   "outputs": [
    {
     "data": {
      "text/plain": [
       "<matplotlib.axes._subplots.AxesSubplot at 0x7f143ae521d0>"
      ]
     },
     "execution_count": 54,
     "metadata": {},
     "output_type": "execute_result"
    },
    {
     "data": {
      "image/png": "[encoded data removed]",
      "text/plain": [
       "<Figure size 432x288 with 1 Axes>"
      ]
     },
     "metadata": {
      "needs_background": "light"
     },
     "output_type": "display_data"
    }
   ],
   "source": [
    "data.plot(kind='bar')"
   ]
  },
  {
   "cell_type": "code",
   "execution_count": 55,
   "metadata": {},
   "outputs": [
    {
     "data": {
      "text/html": [
       "<div>\n",
       "<style scoped>\n",
       "    .dataframe tbody tr th:only-of-type {\n",
       "        vertical-align: middle;\n",
       "    }\n",
       "\n",
       "    .dataframe tbody tr th {\n",
       "        vertical-align: top;\n",
       "    }\n",
       "\n",
       "    .dataframe thead th {\n",
       "        text-align: right;\n",
       "    }\n",
       "</style>\n",
       "<table border=\"1\" class=\"dataframe\">\n",
       "  <thead>\n",
       "    <tr style=\"text-align: right;\">\n",
       "      <th></th>\n",
       "      <th>RHU</th>\n",
       "      <th>SMU</th>\n",
       "    </tr>\n",
       "    <tr>\n",
       "      <th>assigned_dt</th>\n",
       "      <th></th>\n",
       "      <th></th>\n",
       "    </tr>\n",
       "  </thead>\n",
       "  <tbody>\n",
       "    <tr>\n",
       "      <th>2013-01-01</th>\n",
       "      <td>NaN</td>\n",
       "      <td>265</td>\n",
       "    </tr>\n",
       "    <tr>\n",
       "      <th>2014-01-01</th>\n",
       "      <td>NaN</td>\n",
       "      <td>496</td>\n",
       "    </tr>\n",
       "    <tr>\n",
       "      <th>2015-01-01</th>\n",
       "      <td>361.0</td>\n",
       "      <td>476</td>\n",
       "    </tr>\n",
       "    <tr>\n",
       "      <th>2016-01-01</th>\n",
       "      <td>443.0</td>\n",
       "      <td>548</td>\n",
       "    </tr>\n",
       "    <tr>\n",
       "      <th>2017-01-01</th>\n",
       "      <td>534.0</td>\n",
       "      <td>517</td>\n",
       "    </tr>\n",
       "    <tr>\n",
       "      <th>2018-01-01</th>\n",
       "      <td>590.0</td>\n",
       "      <td>428</td>\n",
       "    </tr>\n",
       "    <tr>\n",
       "      <th>2019-01-01</th>\n",
       "      <td>468.0</td>\n",
       "      <td>497</td>\n",
       "    </tr>\n",
       "    <tr>\n",
       "      <th>2020-01-01</th>\n",
       "      <td>136.0</td>\n",
       "      <td>124</td>\n",
       "    </tr>\n",
       "  </tbody>\n",
       "</table>\n",
       "</div>"
      ],
      "text/plain": [
       "               RHU  SMU\n",
       "assigned_dt            \n",
       "2013-01-01     NaN  265\n",
       "2014-01-01     NaN  496\n",
       "2015-01-01   361.0  476\n",
       "2016-01-01   443.0  548\n",
       "2017-01-01   534.0  517\n",
       "2018-01-01   590.0  428\n",
       "2019-01-01   468.0  497\n",
       "2020-01-01   136.0  124"
      ]
     },
     "execution_count": 55,
     "metadata": {},
     "output_type": "execute_result"
    }
   ],
   "source": [
    "data"
   ]
  },
  {
   "cell_type": "code",
   "execution_count": 56,
   "metadata": {},
   "outputs": [
    {
     "data": {
      "text/plain": [
       "<matplotlib.axes._subplots.AxesSubplot at 0x7f142efb6b00>"
      ]
     },
     "execution_count": 56,
     "metadata": {},
     "output_type": "execute_result"
    },
    {
     "data": {
      "image/png": "[encoded data removed]",
      "text/plain": [
       "<Figure size 432x288 with 1 Axes>"
      ]
     },
     "metadata": {
      "needs_background": "light"
     },
     "output_type": "display_data"
    }
   ],
   "source": [
    "data = pd.concat([rhu_monthly, smu_monthly], axis=1)\n",
    "data.columns = ['RHU', 'SMU']\n",
    "data.plot()"
   ]
  },
  {
   "cell_type": "markdown",
   "metadata": {},
   "source": [
    "# SRMS data"
   ]
  },
  {
   "cell_type": "code",
   "execution_count": 57,
   "metadata": {},
   "outputs": [],
   "source": [
    "srms_1 = pd.read_csv('../input/srms-1.csv.gz', sep='|', compression='gzip')\n",
    "srms_2 = pd.read_csv('../input/srms-2.csv.gz', sep='|', compression='gzip')"
   ]
  },
  {
   "cell_type": "code",
   "execution_count": 58,
   "metadata": {},
   "outputs": [
    {
     "data": {
      "text/plain": [
       "Index(['tracking_number', 'gender', 'country_of_citizenship', 'facility_aor',\n",
       "       'facility', 'facility:detloc', 'report_type', 'placement_date',\n",
       "       'placement_reason', 'release_date', 'length_of_stay',\n",
       "       'disciplinary_infraction', 'sanction_length', 'attorney_of_record',\n",
       "       'attorney_notification', 'detainee_request',\n",
       "       'compliance_with_detention_standards', 'mental_illness',\n",
       "       'serious_medical_illness', 'serious_disability', 'ever_smi',\n",
       "       'non_compliance_detail', 'special_criteria', 'id', 'current_review',\n",
       "       'created', 'lgbti', 'item_type', 'placement_reason_type',\n",
       "       'admin_or_disciplinary', 'detloc'],\n",
       "      dtype='object')"
      ]
     },
     "execution_count": 58,
     "metadata": {},
     "output_type": "execute_result"
    }
   ],
   "source": [
    "srms_1.columns"
   ]
  },
  {
   "cell_type": "code",
   "execution_count": 59,
   "metadata": {},
   "outputs": [],
   "source": [
    "srms_1['placement_date'] = pd.to_datetime(srms_1['placement_date'])\n",
    "srms_1['release_date'] = pd.to_datetime(srms_1['release_date'])\n",
    "srms_2['placement_date'] = pd.to_datetime(srms_2['placement_date'])\n",
    "srms_2['release_date'] = pd.to_datetime(srms_2['release_date'])"
   ]
  },
  {
   "cell_type": "code",
   "execution_count": 60,
   "metadata": {},
   "outputs": [],
   "source": [
    "srms_1['days_calc'] = (srms_1['release_date'] - srms_1['placement_date']) / np.timedelta64(1, 'D')\n",
    "srms_2['days_calc'] = (srms_2['release_date'] - srms_2['placement_date']) / np.timedelta64(1, 'D')"
   ]
  },
  {
   "cell_type": "markdown",
   "metadata": {},
   "source": [
    "There are no SRMS records with placement and release on same day; this suggests comparison with first-day-inclusive calculation for stay length for SMU/RHU records."
   ]
  },
  {
   "cell_type": "code",
   "execution_count": 61,
   "metadata": {},
   "outputs": [
    {
     "data": {
      "text/plain": [
       "count    357.000000\n",
       "mean      59.605042\n",
       "std       88.263162\n",
       "min        1.000000\n",
       "25%       19.000000\n",
       "50%       30.000000\n",
       "75%       62.000000\n",
       "max      781.000000\n",
       "Name: days_calc, dtype: float64"
      ]
     },
     "execution_count": 61,
     "metadata": {},
     "output_type": "execute_result"
    }
   ],
   "source": [
    "srms_1['days_calc'].describe()"
   ]
  },
  {
   "cell_type": "code",
   "execution_count": 62,
   "metadata": {},
   "outputs": [
    {
     "data": {
      "text/plain": [
       "count    459.000000\n",
       "mean      59.052288\n",
       "std       76.574175\n",
       "min        1.000000\n",
       "25%       20.000000\n",
       "50%       31.000000\n",
       "75%       66.000000\n",
       "max      691.000000\n",
       "Name: days_calc, dtype: float64"
      ]
     },
     "execution_count": 62,
     "metadata": {},
     "output_type": "execute_result"
    }
   ],
   "source": [
    "srms_2['days_calc'].describe()"
   ]
  },
  {
   "cell_type": "code",
   "execution_count": 63,
   "metadata": {},
   "outputs": [],
   "source": [
    "srms_1_annual = srms_1.set_index('placement_date').groupby(pd.Grouper(freq='AS'))['tracking_number'].count()\n",
    "srms_2_annual = srms_2.set_index('placement_date').groupby(pd.Grouper(freq='AS'))['tracking_number'].count()\n",
    "srms_1_monthly = srms_1.set_index('placement_date').groupby(pd.Grouper(freq='M'))['tracking_number'].count()\n",
    "srms_2_monthly = srms_2.set_index('placement_date').groupby(pd.Grouper(freq='M'))['tracking_number'].count()"
   ]
  },
  {
   "cell_type": "markdown",
   "metadata": {},
   "source": [
    "## Comparison of placement counts"
   ]
  },
  {
   "cell_type": "code",
   "execution_count": 64,
   "metadata": {},
   "outputs": [],
   "source": [
    "data = pd.concat([rhu_annual, smu_annual, srms_1_annual, srms_2_annual], axis=1)"
   ]
  },
  {
   "cell_type": "code",
   "execution_count": 65,
   "metadata": {},
   "outputs": [],
   "source": [
    "data.columns = ['RHU', 'SMU', 'SRMS 1', 'SRMS 2']"
   ]
  },
  {
   "cell_type": "code",
   "execution_count": 66,
   "metadata": {},
   "outputs": [
    {
     "data": {
      "text/plain": [
       "<matplotlib.axes._subplots.AxesSubplot at 0x7f143ae52ba8>"
      ]
     },
     "execution_count": 66,
     "metadata": {},
     "output_type": "execute_result"
    },
    {
     "data": {
      "image/png": "[encoded data removed]",
      "text/plain": [
       "<Figure size 432x288 with 1 Axes>"
      ]
     },
     "metadata": {
      "needs_background": "light"
     },
     "output_type": "display_data"
    }
   ],
   "source": [
    "data.plot(kind='bar')"
   ]
  },
  {
   "cell_type": "code",
   "execution_count": 67,
   "metadata": {},
   "outputs": [
    {
     "data": {
      "text/html": [
       "<div>\n",
       "<style scoped>\n",
       "    .dataframe tbody tr th:only-of-type {\n",
       "        vertical-align: middle;\n",
       "    }\n",
       "\n",
       "    .dataframe tbody tr th {\n",
       "        vertical-align: top;\n",
       "    }\n",
       "\n",
       "    .dataframe thead th {\n",
       "        text-align: right;\n",
       "    }\n",
       "</style>\n",
       "<table border=\"1\" class=\"dataframe\">\n",
       "  <thead>\n",
       "    <tr style=\"text-align: right;\">\n",
       "      <th></th>\n",
       "      <th>RHU</th>\n",
       "      <th>SMU</th>\n",
       "      <th>SRMS 1</th>\n",
       "      <th>SRMS 2</th>\n",
       "    </tr>\n",
       "    <tr>\n",
       "      <th>assigned_dt</th>\n",
       "      <th></th>\n",
       "      <th></th>\n",
       "      <th></th>\n",
       "      <th></th>\n",
       "    </tr>\n",
       "  </thead>\n",
       "  <tbody>\n",
       "    <tr>\n",
       "      <th>2013-01-01</th>\n",
       "      <td>NaN</td>\n",
       "      <td>265</td>\n",
       "      <td>60.0</td>\n",
       "      <td>41</td>\n",
       "    </tr>\n",
       "    <tr>\n",
       "      <th>2014-01-01</th>\n",
       "      <td>NaN</td>\n",
       "      <td>496</td>\n",
       "      <td>82.0</td>\n",
       "      <td>70</td>\n",
       "    </tr>\n",
       "    <tr>\n",
       "      <th>2015-01-01</th>\n",
       "      <td>361.0</td>\n",
       "      <td>476</td>\n",
       "      <td>76.0</td>\n",
       "      <td>66</td>\n",
       "    </tr>\n",
       "    <tr>\n",
       "      <th>2016-01-01</th>\n",
       "      <td>443.0</td>\n",
       "      <td>548</td>\n",
       "      <td>42.0</td>\n",
       "      <td>38</td>\n",
       "    </tr>\n",
       "    <tr>\n",
       "      <th>2017-01-01</th>\n",
       "      <td>534.0</td>\n",
       "      <td>517</td>\n",
       "      <td>74.0</td>\n",
       "      <td>66</td>\n",
       "    </tr>\n",
       "    <tr>\n",
       "      <th>2018-01-01</th>\n",
       "      <td>590.0</td>\n",
       "      <td>428</td>\n",
       "      <td>37.0</td>\n",
       "      <td>101</td>\n",
       "    </tr>\n",
       "    <tr>\n",
       "      <th>2019-01-01</th>\n",
       "      <td>468.0</td>\n",
       "      <td>497</td>\n",
       "      <td>NaN</td>\n",
       "      <td>75</td>\n",
       "    </tr>\n",
       "    <tr>\n",
       "      <th>2020-01-01</th>\n",
       "      <td>136.0</td>\n",
       "      <td>124</td>\n",
       "      <td>NaN</td>\n",
       "      <td>10</td>\n",
       "    </tr>\n",
       "  </tbody>\n",
       "</table>\n",
       "</div>"
      ],
      "text/plain": [
       "               RHU  SMU  SRMS 1  SRMS 2\n",
       "assigned_dt                            \n",
       "2013-01-01     NaN  265    60.0      41\n",
       "2014-01-01     NaN  496    82.0      70\n",
       "2015-01-01   361.0  476    76.0      66\n",
       "2016-01-01   443.0  548    42.0      38\n",
       "2017-01-01   534.0  517    74.0      66\n",
       "2018-01-01   590.0  428    37.0     101\n",
       "2019-01-01   468.0  497     NaN      75\n",
       "2020-01-01   136.0  124     NaN      10"
      ]
     },
     "execution_count": 67,
     "metadata": {},
     "output_type": "execute_result"
    }
   ],
   "source": [
    "data"
   ]
  },
  {
   "cell_type": "code",
   "execution_count": 68,
   "metadata": {},
   "outputs": [
    {
     "data": {
      "text/plain": [
       "<matplotlib.axes._subplots.AxesSubplot at 0x7f142ee1c160>"
      ]
     },
     "execution_count": 68,
     "metadata": {},
     "output_type": "execute_result"
    },
    {
     "data": {
      "image/png": "[encoded data removed]",
      "text/plain": [
       "<Figure size 432x288 with 1 Axes>"
      ]
     },
     "metadata": {
      "needs_background": "light"
     },
     "output_type": "display_data"
    }
   ],
   "source": [
    "data = pd.concat([rhu_monthly, smu_monthly, srms_1_monthly, srms_2_monthly], axis=1)\n",
    "data.columns = ['RHU', 'SMU', 'SRMS 1', 'SRMS 2']\n",
    "data.plot()"
   ]
  },
  {
   "cell_type": "code",
   "execution_count": null,
   "metadata": {},
   "outputs": [],
   "source": []
  },
  {
   "cell_type": "markdown",
   "metadata": {},
   "source": [
    "## Comparison avg. placement length over time"
   ]
  },
  {
   "cell_type": "code",
   "execution_count": 69,
   "metadata": {},
   "outputs": [],
   "source": [
    "smu_mean = smu.set_index('assigned_dt').groupby([pd.Grouper(freq='Q')])['days_calc'].mean()"
   ]
  },
  {
   "cell_type": "code",
   "execution_count": 70,
   "metadata": {},
   "outputs": [],
   "source": [
    "rhu_mean = rhu.set_index('date_in').groupby([pd.Grouper(freq='Q')])['total_days'].mean()"
   ]
  },
  {
   "cell_type": "code",
   "execution_count": 71,
   "metadata": {},
   "outputs": [],
   "source": [
    "srms_1_mean = srms_1.set_index('placement_date').groupby([pd.Grouper(freq='Q')])['days_calc'].mean()"
   ]
  },
  {
   "cell_type": "code",
   "execution_count": 72,
   "metadata": {},
   "outputs": [],
   "source": [
    "srms_2_mean = srms_2.set_index('placement_date').groupby([pd.Grouper(freq='Q')])['days_calc'].mean()"
   ]
  },
  {
   "cell_type": "code",
   "execution_count": 73,
   "metadata": {},
   "outputs": [
    {
     "data": {
      "text/plain": [
       "<matplotlib.axes._subplots.AxesSubplot at 0x7f142ed5a080>"
      ]
     },
     "execution_count": 73,
     "metadata": {},
     "output_type": "execute_result"
    },
    {
     "data": {
      "image/png": "[encoded data removed]",
      "text/plain": [
       "<Figure size 432x288 with 1 Axes>"
      ]
     },
     "metadata": {
      "needs_background": "light"
     },
     "output_type": "display_data"
    }
   ],
   "source": [
    "data = pd.concat([rhu_mean, smu_mean, srms_1_mean, srms_2_mean], axis=1)\n",
    "data.columns = ['RHU', 'SMU', 'SRMS 1', 'SRMS 2']\n",
    "data.plot()"
   ]
  },
  {
   "cell_type": "code",
   "execution_count": 74,
   "metadata": {},
   "outputs": [
    {
     "data": {
      "text/html": [
       "<div>\n",
       "<style scoped>\n",
       "    .dataframe tbody tr th:only-of-type {\n",
       "        vertical-align: middle;\n",
       "    }\n",
       "\n",
       "    .dataframe tbody tr th {\n",
       "        vertical-align: top;\n",
       "    }\n",
       "\n",
       "    .dataframe thead th {\n",
       "        text-align: right;\n",
       "    }\n",
       "</style>\n",
       "<table border=\"1\" class=\"dataframe\">\n",
       "  <thead>\n",
       "    <tr style=\"text-align: right;\">\n",
       "      <th></th>\n",
       "      <th>RHU</th>\n",
       "      <th>SMU</th>\n",
       "      <th>SRMS 1</th>\n",
       "      <th>SRMS 2</th>\n",
       "    </tr>\n",
       "    <tr>\n",
       "      <th>date_in</th>\n",
       "      <th></th>\n",
       "      <th></th>\n",
       "      <th></th>\n",
       "      <th></th>\n",
       "    </tr>\n",
       "  </thead>\n",
       "  <tbody>\n",
       "    <tr>\n",
       "      <th>2013-06-30</th>\n",
       "      <td>NaN</td>\n",
       "      <td>286.000000</td>\n",
       "      <td>227.142857</td>\n",
       "      <td>NaN</td>\n",
       "    </tr>\n",
       "    <tr>\n",
       "      <th>2013-09-30</th>\n",
       "      <td>NaN</td>\n",
       "      <td>15.000000</td>\n",
       "      <td>42.222222</td>\n",
       "      <td>38.375000</td>\n",
       "    </tr>\n",
       "    <tr>\n",
       "      <th>2013-12-31</th>\n",
       "      <td>NaN</td>\n",
       "      <td>7.866310</td>\n",
       "      <td>36.942857</td>\n",
       "      <td>37.606061</td>\n",
       "    </tr>\n",
       "    <tr>\n",
       "      <th>2014-03-31</th>\n",
       "      <td>NaN</td>\n",
       "      <td>6.809249</td>\n",
       "      <td>31.521739</td>\n",
       "      <td>32.285714</td>\n",
       "    </tr>\n",
       "    <tr>\n",
       "      <th>2014-06-30</th>\n",
       "      <td>NaN</td>\n",
       "      <td>7.537037</td>\n",
       "      <td>30.880000</td>\n",
       "      <td>30.761905</td>\n",
       "    </tr>\n",
       "    <tr>\n",
       "      <th>2014-09-30</th>\n",
       "      <td>NaN</td>\n",
       "      <td>7.189189</td>\n",
       "      <td>77.833333</td>\n",
       "      <td>62.700000</td>\n",
       "    </tr>\n",
       "    <tr>\n",
       "      <th>2014-12-31</th>\n",
       "      <td>NaN</td>\n",
       "      <td>12.850575</td>\n",
       "      <td>66.954545</td>\n",
       "      <td>54.000000</td>\n",
       "    </tr>\n",
       "    <tr>\n",
       "      <th>2015-03-31</th>\n",
       "      <td>18.064516</td>\n",
       "      <td>13.858586</td>\n",
       "      <td>110.454545</td>\n",
       "      <td>88.333333</td>\n",
       "    </tr>\n",
       "    <tr>\n",
       "      <th>2015-06-30</th>\n",
       "      <td>7.222222</td>\n",
       "      <td>7.945205</td>\n",
       "      <td>15.454545</td>\n",
       "      <td>16.777778</td>\n",
       "    </tr>\n",
       "    <tr>\n",
       "      <th>2015-09-30</th>\n",
       "      <td>13.115702</td>\n",
       "      <td>7.598540</td>\n",
       "      <td>45.433333</td>\n",
       "      <td>46.370370</td>\n",
       "    </tr>\n",
       "    <tr>\n",
       "      <th>2015-12-31</th>\n",
       "      <td>15.504348</td>\n",
       "      <td>9.359281</td>\n",
       "      <td>55.666667</td>\n",
       "      <td>60.380952</td>\n",
       "    </tr>\n",
       "    <tr>\n",
       "      <th>2016-03-31</th>\n",
       "      <td>12.504950</td>\n",
       "      <td>10.511450</td>\n",
       "      <td>85.705882</td>\n",
       "      <td>74.666667</td>\n",
       "    </tr>\n",
       "    <tr>\n",
       "      <th>2016-06-30</th>\n",
       "      <td>18.099099</td>\n",
       "      <td>9.136691</td>\n",
       "      <td>71.333333</td>\n",
       "      <td>80.000000</td>\n",
       "    </tr>\n",
       "    <tr>\n",
       "      <th>2016-09-30</th>\n",
       "      <td>7.178295</td>\n",
       "      <td>9.605096</td>\n",
       "      <td>112.571429</td>\n",
       "      <td>129.166667</td>\n",
       "    </tr>\n",
       "    <tr>\n",
       "      <th>2016-12-31</th>\n",
       "      <td>10.333333</td>\n",
       "      <td>10.859504</td>\n",
       "      <td>34.555556</td>\n",
       "      <td>34.555556</td>\n",
       "    </tr>\n",
       "    <tr>\n",
       "      <th>2017-03-31</th>\n",
       "      <td>19.231884</td>\n",
       "      <td>11.000000</td>\n",
       "      <td>95.857143</td>\n",
       "      <td>106.153846</td>\n",
       "    </tr>\n",
       "    <tr>\n",
       "      <th>2017-06-30</th>\n",
       "      <td>19.016529</td>\n",
       "      <td>13.295652</td>\n",
       "      <td>100.347826</td>\n",
       "      <td>103.681818</td>\n",
       "    </tr>\n",
       "    <tr>\n",
       "      <th>2017-09-30</th>\n",
       "      <td>14.185484</td>\n",
       "      <td>12.733871</td>\n",
       "      <td>66.500000</td>\n",
       "      <td>129.900000</td>\n",
       "    </tr>\n",
       "    <tr>\n",
       "      <th>2017-12-31</th>\n",
       "      <td>14.609272</td>\n",
       "      <td>14.567568</td>\n",
       "      <td>48.217391</td>\n",
       "      <td>51.238095</td>\n",
       "    </tr>\n",
       "    <tr>\n",
       "      <th>2018-03-31</th>\n",
       "      <td>14.300613</td>\n",
       "      <td>13.443182</td>\n",
       "      <td>44.266667</td>\n",
       "      <td>115.466667</td>\n",
       "    </tr>\n",
       "    <tr>\n",
       "      <th>2018-06-30</th>\n",
       "      <td>11.046358</td>\n",
       "      <td>9.560000</td>\n",
       "      <td>30.166667</td>\n",
       "      <td>42.655172</td>\n",
       "    </tr>\n",
       "    <tr>\n",
       "      <th>2018-09-30</th>\n",
       "      <td>13.351351</td>\n",
       "      <td>11.082569</td>\n",
       "      <td>NaN</td>\n",
       "      <td>64.068966</td>\n",
       "    </tr>\n",
       "    <tr>\n",
       "      <th>2018-12-31</th>\n",
       "      <td>17.384615</td>\n",
       "      <td>11.519084</td>\n",
       "      <td>NaN</td>\n",
       "      <td>59.592593</td>\n",
       "    </tr>\n",
       "    <tr>\n",
       "      <th>2019-03-31</th>\n",
       "      <td>12.032520</td>\n",
       "      <td>11.365517</td>\n",
       "      <td>NaN</td>\n",
       "      <td>39.000000</td>\n",
       "    </tr>\n",
       "    <tr>\n",
       "      <th>2019-06-30</th>\n",
       "      <td>14.231293</td>\n",
       "      <td>7.848739</td>\n",
       "      <td>NaN</td>\n",
       "      <td>64.800000</td>\n",
       "    </tr>\n",
       "    <tr>\n",
       "      <th>2019-09-30</th>\n",
       "      <td>15.514019</td>\n",
       "      <td>9.839695</td>\n",
       "      <td>NaN</td>\n",
       "      <td>46.933333</td>\n",
       "    </tr>\n",
       "    <tr>\n",
       "      <th>2019-12-31</th>\n",
       "      <td>14.406593</td>\n",
       "      <td>9.372549</td>\n",
       "      <td>NaN</td>\n",
       "      <td>51.000000</td>\n",
       "    </tr>\n",
       "    <tr>\n",
       "      <th>2020-03-31</th>\n",
       "      <td>9.836735</td>\n",
       "      <td>8.217742</td>\n",
       "      <td>NaN</td>\n",
       "      <td>26.333333</td>\n",
       "    </tr>\n",
       "    <tr>\n",
       "      <th>2020-06-30</th>\n",
       "      <td>5.526316</td>\n",
       "      <td>NaN</td>\n",
       "      <td>NaN</td>\n",
       "      <td>NaN</td>\n",
       "    </tr>\n",
       "  </tbody>\n",
       "</table>\n",
       "</div>"
      ],
      "text/plain": [
       "                  RHU         SMU      SRMS 1      SRMS 2\n",
       "date_in                                                  \n",
       "2013-06-30        NaN  286.000000  227.142857         NaN\n",
       "2013-09-30        NaN   15.000000   42.222222   38.375000\n",
       "2013-12-31        NaN    7.866310   36.942857   37.606061\n",
       "2014-03-31        NaN    6.809249   31.521739   32.285714\n",
       "2014-06-30        NaN    7.537037   30.880000   30.761905\n",
       "2014-09-30        NaN    7.189189   77.833333   62.700000\n",
       "2014-12-31        NaN   12.850575   66.954545   54.000000\n",
       "2015-03-31  18.064516   13.858586  110.454545   88.333333\n",
       "2015-06-30   7.222222    7.945205   15.454545   16.777778\n",
       "2015-09-30  13.115702    7.598540   45.433333   46.370370\n",
       "2015-12-31  15.504348    9.359281   55.666667   60.380952\n",
       "2016-03-31  12.504950   10.511450   85.705882   74.666667\n",
       "2016-06-30  18.099099    9.136691   71.333333   80.000000\n",
       "2016-09-30   7.178295    9.605096  112.571429  129.166667\n",
       "2016-12-31  10.333333   10.859504   34.555556   34.555556\n",
       "2017-03-31  19.231884   11.000000   95.857143  106.153846\n",
       "2017-06-30  19.016529   13.295652  100.347826  103.681818\n",
       "2017-09-30  14.185484   12.733871   66.500000  129.900000\n",
       "2017-12-31  14.609272   14.567568   48.217391   51.238095\n",
       "2018-03-31  14.300613   13.443182   44.266667  115.466667\n",
       "2018-06-30  11.046358    9.560000   30.166667   42.655172\n",
       "2018-09-30  13.351351   11.082569         NaN   64.068966\n",
       "2018-12-31  17.384615   11.519084         NaN   59.592593\n",
       "2019-03-31  12.032520   11.365517         NaN   39.000000\n",
       "2019-06-30  14.231293    7.848739         NaN   64.800000\n",
       "2019-09-30  15.514019    9.839695         NaN   46.933333\n",
       "2019-12-31  14.406593    9.372549         NaN   51.000000\n",
       "2020-03-31   9.836735    8.217742         NaN   26.333333\n",
       "2020-06-30   5.526316         NaN         NaN         NaN"
      ]
     },
     "execution_count": 74,
     "metadata": {},
     "output_type": "execute_result"
    }
   ],
   "source": [
    "data"
   ]
  },
  {
   "cell_type": "markdown",
   "metadata": {},
   "source": [
    "## Comparing \"long stays\"\n",
    "\n",
    "Solitary placements longer than 14 days should be reported to SRMS. Yet GEO records consistently report more long stays than long stays reflected in SRMS"
   ]
  },
  {
   "cell_type": "code",
   "execution_count": 75,
   "metadata": {},
   "outputs": [],
   "source": [
    "rhu['long_stay'] = rhu['total_days'] > 14"
   ]
  },
  {
   "cell_type": "code",
   "execution_count": 76,
   "metadata": {},
   "outputs": [],
   "source": [
    "srms_1['long_stay'] = srms_1['days_calc'] > 14\n",
    "srms_2['long_stay'] = srms_2['days_calc'] > 14"
   ]
  },
  {
   "cell_type": "code",
   "execution_count": 77,
   "metadata": {},
   "outputs": [],
   "source": [
    "rhu_long = rhu.set_index('date_in').groupby(pd.Grouper(freq='AS'))['long_stay'].sum()"
   ]
  },
  {
   "cell_type": "code",
   "execution_count": 78,
   "metadata": {},
   "outputs": [],
   "source": [
    "smu_long = smu.set_index('assigned_dt').groupby(pd.Grouper(freq='AS'))['long_stay'].sum()"
   ]
  },
  {
   "cell_type": "code",
   "execution_count": 79,
   "metadata": {},
   "outputs": [],
   "source": [
    "srms_1_long = srms_1.set_index('placement_date').groupby(pd.Grouper(freq='AS'))['long_stay'].sum()\n",
    "srms_2_long = srms_2.set_index('placement_date').groupby(pd.Grouper(freq='AS'))['long_stay'].sum()"
   ]
  },
  {
   "cell_type": "code",
   "execution_count": 80,
   "metadata": {},
   "outputs": [
    {
     "data": {
      "text/plain": [
       "<matplotlib.axes._subplots.AxesSubplot at 0x7f142ecbd3c8>"
      ]
     },
     "execution_count": 80,
     "metadata": {},
     "output_type": "execute_result"
    },
    {
     "data": {
      "image/png": "[encoded data removed]",
      "text/plain": [
       "<Figure size 432x288 with 1 Axes>"
      ]
     },
     "metadata": {
      "needs_background": "light"
     },
     "output_type": "display_data"
    }
   ],
   "source": [
    "data = pd.concat([rhu_long, smu_long, srms_1_long, srms_2_long], axis=1)\n",
    "data.columns = ['RHU', 'SMU', 'SRMS 1', 'SRMS 2']\n",
    "data.plot(kind='bar')"
   ]
  },
  {
   "cell_type": "code",
   "execution_count": 81,
   "metadata": {},
   "outputs": [
    {
     "data": {
      "text/html": [
       "<div>\n",
       "<style scoped>\n",
       "    .dataframe tbody tr th:only-of-type {\n",
       "        vertical-align: middle;\n",
       "    }\n",
       "\n",
       "    .dataframe tbody tr th {\n",
       "        vertical-align: top;\n",
       "    }\n",
       "\n",
       "    .dataframe thead th {\n",
       "        text-align: right;\n",
       "    }\n",
       "</style>\n",
       "<table border=\"1\" class=\"dataframe\">\n",
       "  <thead>\n",
       "    <tr style=\"text-align: right;\">\n",
       "      <th></th>\n",
       "      <th>RHU</th>\n",
       "      <th>SMU</th>\n",
       "      <th>SRMS 1</th>\n",
       "      <th>SRMS 2</th>\n",
       "    </tr>\n",
       "    <tr>\n",
       "      <th>assigned_dt</th>\n",
       "      <th></th>\n",
       "      <th></th>\n",
       "      <th></th>\n",
       "      <th></th>\n",
       "    </tr>\n",
       "  </thead>\n",
       "  <tbody>\n",
       "    <tr>\n",
       "      <th>2013-01-01</th>\n",
       "      <td>NaN</td>\n",
       "      <td>48.0</td>\n",
       "      <td>57.0</td>\n",
       "      <td>38.0</td>\n",
       "    </tr>\n",
       "    <tr>\n",
       "      <th>2014-01-01</th>\n",
       "      <td>NaN</td>\n",
       "      <td>66.0</td>\n",
       "      <td>73.0</td>\n",
       "      <td>61.0</td>\n",
       "    </tr>\n",
       "    <tr>\n",
       "      <th>2015-01-01</th>\n",
       "      <td>53.0</td>\n",
       "      <td>63.0</td>\n",
       "      <td>46.0</td>\n",
       "      <td>37.0</td>\n",
       "    </tr>\n",
       "    <tr>\n",
       "      <th>2016-01-01</th>\n",
       "      <td>73.0</td>\n",
       "      <td>85.0</td>\n",
       "      <td>29.0</td>\n",
       "      <td>28.0</td>\n",
       "    </tr>\n",
       "    <tr>\n",
       "      <th>2017-01-01</th>\n",
       "      <td>103.0</td>\n",
       "      <td>94.0</td>\n",
       "      <td>65.0</td>\n",
       "      <td>62.0</td>\n",
       "    </tr>\n",
       "    <tr>\n",
       "      <th>2018-01-01</th>\n",
       "      <td>131.0</td>\n",
       "      <td>105.0</td>\n",
       "      <td>26.0</td>\n",
       "      <td>99.0</td>\n",
       "    </tr>\n",
       "    <tr>\n",
       "      <th>2019-01-01</th>\n",
       "      <td>104.0</td>\n",
       "      <td>111.0</td>\n",
       "      <td>NaN</td>\n",
       "      <td>64.0</td>\n",
       "    </tr>\n",
       "    <tr>\n",
       "      <th>2020-01-01</th>\n",
       "      <td>21.0</td>\n",
       "      <td>26.0</td>\n",
       "      <td>NaN</td>\n",
       "      <td>4.0</td>\n",
       "    </tr>\n",
       "  </tbody>\n",
       "</table>\n",
       "</div>"
      ],
      "text/plain": [
       "               RHU    SMU  SRMS 1  SRMS 2\n",
       "assigned_dt                              \n",
       "2013-01-01     NaN   48.0    57.0    38.0\n",
       "2014-01-01     NaN   66.0    73.0    61.0\n",
       "2015-01-01    53.0   63.0    46.0    37.0\n",
       "2016-01-01    73.0   85.0    29.0    28.0\n",
       "2017-01-01   103.0   94.0    65.0    62.0\n",
       "2018-01-01   131.0  105.0    26.0    99.0\n",
       "2019-01-01   104.0  111.0     NaN    64.0\n",
       "2020-01-01    21.0   26.0     NaN     4.0"
      ]
     },
     "execution_count": 81,
     "metadata": {},
     "output_type": "execute_result"
    }
   ],
   "source": [
    "data"
   ]
  },
  {
   "cell_type": "markdown",
   "metadata": {},
   "source": [
    "### Comparison of only long RHU/SMU stays versus all SRMS stays"
   ]
  },
  {
   "cell_type": "code",
   "execution_count": 82,
   "metadata": {},
   "outputs": [
    {
     "data": {
      "text/plain": [
       "<matplotlib.axes._subplots.AxesSubplot at 0x7f142ebf9240>"
      ]
     },
     "execution_count": 82,
     "metadata": {},
     "output_type": "execute_result"
    },
    {
     "data": {
      "image/png": "[encoded data removed]",
      "text/plain": [
       "<Figure size 432x288 with 1 Axes>"
      ]
     },
     "metadata": {
      "needs_background": "light"
     },
     "output_type": "display_data"
    }
   ],
   "source": [
    "data = pd.concat([rhu_long, smu_long, srms_1_annual, srms_2_annual], axis=1)\n",
    "data.columns = ['RHU long', 'SMU long', 'SRMS 1 all', 'SRMS 2 all']\n",
    "data.plot(kind='bar')"
   ]
  },
  {
   "cell_type": "code",
   "execution_count": 83,
   "metadata": {},
   "outputs": [
    {
     "data": {
      "text/html": [
       "<div>\n",
       "<style scoped>\n",
       "    .dataframe tbody tr th:only-of-type {\n",
       "        vertical-align: middle;\n",
       "    }\n",
       "\n",
       "    .dataframe tbody tr th {\n",
       "        vertical-align: top;\n",
       "    }\n",
       "\n",
       "    .dataframe thead th {\n",
       "        text-align: right;\n",
       "    }\n",
       "</style>\n",
       "<table border=\"1\" class=\"dataframe\">\n",
       "  <thead>\n",
       "    <tr style=\"text-align: right;\">\n",
       "      <th></th>\n",
       "      <th>RHU long</th>\n",
       "      <th>SMU long</th>\n",
       "      <th>SRMS 1 all</th>\n",
       "      <th>SRMS 2 all</th>\n",
       "    </tr>\n",
       "    <tr>\n",
       "      <th>assigned_dt</th>\n",
       "      <th></th>\n",
       "      <th></th>\n",
       "      <th></th>\n",
       "      <th></th>\n",
       "    </tr>\n",
       "  </thead>\n",
       "  <tbody>\n",
       "    <tr>\n",
       "      <th>2013-01-01</th>\n",
       "      <td>NaN</td>\n",
       "      <td>48.0</td>\n",
       "      <td>60.0</td>\n",
       "      <td>41</td>\n",
       "    </tr>\n",
       "    <tr>\n",
       "      <th>2014-01-01</th>\n",
       "      <td>NaN</td>\n",
       "      <td>66.0</td>\n",
       "      <td>82.0</td>\n",
       "      <td>70</td>\n",
       "    </tr>\n",
       "    <tr>\n",
       "      <th>2015-01-01</th>\n",
       "      <td>53.0</td>\n",
       "      <td>63.0</td>\n",
       "      <td>76.0</td>\n",
       "      <td>66</td>\n",
       "    </tr>\n",
       "    <tr>\n",
       "      <th>2016-01-01</th>\n",
       "      <td>73.0</td>\n",
       "      <td>85.0</td>\n",
       "      <td>42.0</td>\n",
       "      <td>38</td>\n",
       "    </tr>\n",
       "    <tr>\n",
       "      <th>2017-01-01</th>\n",
       "      <td>103.0</td>\n",
       "      <td>94.0</td>\n",
       "      <td>74.0</td>\n",
       "      <td>66</td>\n",
       "    </tr>\n",
       "    <tr>\n",
       "      <th>2018-01-01</th>\n",
       "      <td>131.0</td>\n",
       "      <td>105.0</td>\n",
       "      <td>37.0</td>\n",
       "      <td>101</td>\n",
       "    </tr>\n",
       "    <tr>\n",
       "      <th>2019-01-01</th>\n",
       "      <td>104.0</td>\n",
       "      <td>111.0</td>\n",
       "      <td>NaN</td>\n",
       "      <td>75</td>\n",
       "    </tr>\n",
       "    <tr>\n",
       "      <th>2020-01-01</th>\n",
       "      <td>21.0</td>\n",
       "      <td>26.0</td>\n",
       "      <td>NaN</td>\n",
       "      <td>10</td>\n",
       "    </tr>\n",
       "  </tbody>\n",
       "</table>\n",
       "</div>"
      ],
      "text/plain": [
       "             RHU long  SMU long  SRMS 1 all  SRMS 2 all\n",
       "assigned_dt                                            \n",
       "2013-01-01        NaN      48.0        60.0          41\n",
       "2014-01-01        NaN      66.0        82.0          70\n",
       "2015-01-01       53.0      63.0        76.0          66\n",
       "2016-01-01       73.0      85.0        42.0          38\n",
       "2017-01-01      103.0      94.0        74.0          66\n",
       "2018-01-01      131.0     105.0        37.0         101\n",
       "2019-01-01      104.0     111.0         NaN          75\n",
       "2020-01-01       21.0      26.0         NaN          10"
      ]
     },
     "execution_count": 83,
     "metadata": {},
     "output_type": "execute_result"
    }
   ],
   "source": [
    "data"
   ]
  },
  {
   "cell_type": "code",
   "execution_count": 84,
   "metadata": {},
   "outputs": [
    {
     "data": {
      "text/plain": [
       "0.1915481832543444"
      ]
     },
     "execution_count": 84,
     "metadata": {},
     "output_type": "execute_result"
    }
   ],
   "source": [
    "rhu['long_stay'].sum() / len(rhu)"
   ]
  },
  {
   "cell_type": "code",
   "execution_count": 85,
   "metadata": {},
   "outputs": [
    {
     "data": {
      "text/plain": [
       "0.17845419277827515"
      ]
     },
     "execution_count": 85,
     "metadata": {},
     "output_type": "execute_result"
    }
   ],
   "source": [
    "smu['long_stay'].sum() / len(smu)"
   ]
  },
  {
   "cell_type": "code",
   "execution_count": 86,
   "metadata": {},
   "outputs": [
    {
     "data": {
      "text/plain": [
       "0.7978436657681941"
      ]
     },
     "execution_count": 86,
     "metadata": {},
     "output_type": "execute_result"
    }
   ],
   "source": [
    "srms_1['long_stay'].sum() / len(srms_1)"
   ]
  },
  {
   "cell_type": "code",
   "execution_count": 87,
   "metadata": {},
   "outputs": [
    {
     "data": {
      "text/plain": [
       "0.841541755888651"
      ]
     },
     "execution_count": 87,
     "metadata": {},
     "output_type": "execute_result"
    }
   ],
   "source": [
    "srms_2['long_stay'].sum() / len(srms_2)"
   ]
  },
  {
   "cell_type": "code",
   "execution_count": 88,
   "metadata": {},
   "outputs": [
    {
     "data": {
      "text/plain": [
       "2532"
      ]
     },
     "execution_count": 88,
     "metadata": {},
     "output_type": "execute_result"
    }
   ],
   "source": [
    "len(rhu)"
   ]
  },
  {
   "cell_type": "code",
   "execution_count": 89,
   "metadata": {},
   "outputs": [
    {
     "data": {
      "text/plain": [
       "467"
      ]
     },
     "execution_count": 89,
     "metadata": {},
     "output_type": "execute_result"
    }
   ],
   "source": [
    "len(srms_2)"
   ]
  },
  {
   "cell_type": "code",
   "execution_count": null,
   "metadata": {},
   "outputs": [],
   "source": []
  },
  {
   "cell_type": "code",
   "execution_count": null,
   "metadata": {},
   "outputs": [],
   "source": []
  },
  {
   "cell_type": "markdown",
   "metadata": {},
   "source": [
    "# Join datasets"
   ]
  },
  {
   "cell_type": "code",
   "execution_count": 90,
   "metadata": {},
   "outputs": [
    {
     "data": {
      "text/plain": [
       "Index(['citizenship', 'housing', 'assigned_dt', 'removed_dt', 'days_in_seg',\n",
       "       'assigned_date', 'assigned_hour', 'removed_date', 'removed_hour',\n",
       "       'days_calc', 'hours_calc', 'long_stay'],\n",
       "      dtype='object')"
      ]
     },
     "execution_count": 90,
     "metadata": {},
     "output_type": "execute_result"
    }
   ],
   "source": [
    "smu.columns"
   ]
  },
  {
   "cell_type": "code",
   "execution_count": 91,
   "metadata": {},
   "outputs": [],
   "source": [
    "smu_ex = smu[['assigned_date', 'removed_date']].copy()\n",
    "smu_ex = smu_ex.rename({'assigned_date': 'placement_date', 'removed_date': 'release_date'}, axis=1) \n",
    "smu_ex.loc[:,'placement_date'] = pd.to_datetime(smu_ex['placement_date'])\n",
    "smu_ex.loc[:,'release_date'] = pd.to_datetime(smu_ex['release_date'])\n",
    "smu_ex['dataset'] = 'SMU'\n",
    "# First day inclusive:\n",
    "smu_ex['days_calc'] = (smu_ex['release_date'] - smu_ex['placement_date']) / np.timedelta64(1, 'D') + 1"
   ]
  },
  {
   "cell_type": "code",
   "execution_count": 92,
   "metadata": {},
   "outputs": [
    {
     "data": {
      "text/plain": [
       "Index(['name', 'alien_#', 'date_in', 'date_out', 'total_days',\n",
       "       'initial_placement', 'placement_reason', 'disc_seg', 'release_reason',\n",
       "       'long_stay'],\n",
       "      dtype='object')"
      ]
     },
     "execution_count": 92,
     "metadata": {},
     "output_type": "execute_result"
    }
   ],
   "source": [
    "rhu.columns"
   ]
  },
  {
   "cell_type": "code",
   "execution_count": 93,
   "metadata": {},
   "outputs": [],
   "source": [
    "rhu_ex = rhu[['date_in', 'date_out']].copy()\n",
    "rhu_ex = rhu_ex.rename({'date_in': 'placement_date', 'date_out': 'release_date'}, axis=1)\n",
    "rhu_ex['dataset'] = 'RHU'\n",
    "# First day inclusive:\n",
    "rhu_ex['days_calc'] = (rhu_ex['release_date'] - rhu_ex['placement_date']) / np.timedelta64(1, 'D') + 1"
   ]
  },
  {
   "cell_type": "code",
   "execution_count": 94,
   "metadata": {},
   "outputs": [
    {
     "data": {
      "text/plain": [
       "Index(['tracking_number', 'gender', 'country_of_citizenship', 'facility_aor',\n",
       "       'facility', 'facility:detloc', 'report_type', 'placement_date',\n",
       "       'placement_reason', 'release_date', 'length_of_stay',\n",
       "       'disciplinary_infraction', 'sanction_length', 'attorney_of_record',\n",
       "       'attorney_notification', 'detainee_request',\n",
       "       'compliance_with_detention_standards', 'mental_illness',\n",
       "       'serious_medical_illness', 'serious_disability', 'ever_smi',\n",
       "       'non_compliance_detail', 'special_criteria', 'id', 'current_review',\n",
       "       'created', 'lgbti', 'item_type', 'placement_reason_type',\n",
       "       'admin_or_disciplinary', 'detloc', 'days_calc', 'long_stay'],\n",
       "      dtype='object')"
      ]
     },
     "execution_count": 94,
     "metadata": {},
     "output_type": "execute_result"
    }
   ],
   "source": [
    "srms_1.columns"
   ]
  },
  {
   "cell_type": "code",
   "execution_count": 95,
   "metadata": {},
   "outputs": [],
   "source": [
    "srms_1_ex = srms_1[['placement_date', 'release_date']].copy()\n",
    "srms_1_ex['dataset'] = 'SRMS 1'\n",
    "# SRMS datasets are already first day inclusive:\n",
    "srms_1_ex['days_calc'] = (srms_1_ex['release_date'] - srms_1_ex['placement_date']) / np.timedelta64(1, 'D')\n",
    "\n",
    "srms_2_ex = srms_2[['placement_date', 'release_date']].copy()\n",
    "srms_2_ex['dataset'] = 'SRMS 2'\n",
    "# SRMS datasets are already first day inclusive:\n",
    "srms_2_ex['days_calc'] = (srms_2_ex['release_date'] - srms_2_ex['placement_date']) / np.timedelta64(1, 'D')"
   ]
  },
  {
   "cell_type": "code",
   "execution_count": 96,
   "metadata": {},
   "outputs": [],
   "source": [
    "df = pd.concat([smu_ex, rhu_ex, srms_1_ex, srms_2_ex], axis=0)"
   ]
  },
  {
   "cell_type": "code",
   "execution_count": 97,
   "metadata": {},
   "outputs": [],
   "source": [
    "df = df.dropna()"
   ]
  },
  {
   "cell_type": "code",
   "execution_count": 98,
   "metadata": {},
   "outputs": [],
   "source": [
    "# df.loc[:,'placement_date'] = pd.to_datetime(df['placement_date'])\n",
    "# df.loc[:,'release_date'] = pd.to_datetime(df['release_date'])"
   ]
  },
  {
   "cell_type": "code",
   "execution_count": 99,
   "metadata": {},
   "outputs": [],
   "source": [
    "# df['days_calc'] = (df['release_date'] - df['placement_date']) / np.timedelta64(1, 'D')"
   ]
  },
  {
   "cell_type": "code",
   "execution_count": 100,
   "metadata": {},
   "outputs": [],
   "source": [
    "df['long_stay'] = df['days_calc'] > 14"
   ]
  },
  {
   "cell_type": "code",
   "execution_count": 101,
   "metadata": {},
   "outputs": [],
   "source": [
    "table = pd.DataFrame()"
   ]
  },
  {
   "cell_type": "code",
   "execution_count": 102,
   "metadata": {},
   "outputs": [],
   "source": [
    "table['total'] = df.groupby(['dataset'])['placement_date'].count()\n",
    "table['min_date'] = df.groupby(['dataset'])['placement_date'].min()\n",
    "table['max_date'] = df.groupby(['dataset'])['placement_date'].max()\n",
    "table['avg_length'] = df.groupby(['dataset'])['days_calc'].mean()\n",
    "table['med_length'] = df.groupby(['dataset'])['days_calc'].median()\n",
    "table['min_length'] = df.groupby(['dataset'])['days_calc'].min()\n",
    "table['max_length'] = df.groupby(['dataset'])['days_calc'].max()\n",
    "# table['total_days'] = df.groupby(['dataset'])['days_calc'].sum()\n",
    "table['total_long'] = df.groupby(['dataset'])['long_stay'].sum()\n",
    "# table['pct_long'] = (df.groupby(['dataset'])['long_stay'].sum()) / (df.groupby(['dataset'])['placement_date'].count())"
   ]
  },
  {
   "cell_type": "code",
   "execution_count": 103,
   "metadata": {},
   "outputs": [
    {
     "data": {
      "text/html": [
       "<div>\n",
       "<style scoped>\n",
       "    .dataframe tbody tr th:only-of-type {\n",
       "        vertical-align: middle;\n",
       "    }\n",
       "\n",
       "    .dataframe tbody tr th {\n",
       "        vertical-align: top;\n",
       "    }\n",
       "\n",
       "    .dataframe thead th {\n",
       "        text-align: right;\n",
       "    }\n",
       "</style>\n",
       "<table border=\"1\" class=\"dataframe\">\n",
       "  <thead>\n",
       "    <tr style=\"text-align: right;\">\n",
       "      <th></th>\n",
       "      <th>total</th>\n",
       "      <th>min_date</th>\n",
       "      <th>max_date</th>\n",
       "      <th>avg_length</th>\n",
       "      <th>med_length</th>\n",
       "      <th>min_length</th>\n",
       "      <th>max_length</th>\n",
       "      <th>total_long</th>\n",
       "    </tr>\n",
       "    <tr>\n",
       "      <th>dataset</th>\n",
       "      <th></th>\n",
       "      <th></th>\n",
       "      <th></th>\n",
       "      <th></th>\n",
       "      <th></th>\n",
       "      <th></th>\n",
       "      <th></th>\n",
       "      <th></th>\n",
       "    </tr>\n",
       "  </thead>\n",
       "  <tbody>\n",
       "    <tr>\n",
       "      <th>RHU</th>\n",
       "      <td>2532</td>\n",
       "      <td>2015-01-03</td>\n",
       "      <td>2020-05-28</td>\n",
       "      <td>14.777646</td>\n",
       "      <td>5.0</td>\n",
       "      <td>1.0</td>\n",
       "      <td>694.0</td>\n",
       "      <td>523.0</td>\n",
       "    </tr>\n",
       "    <tr>\n",
       "      <th>SMU</th>\n",
       "      <td>3351</td>\n",
       "      <td>2013-06-27</td>\n",
       "      <td>2020-03-30</td>\n",
       "      <td>11.220830</td>\n",
       "      <td>4.0</td>\n",
       "      <td>1.0</td>\n",
       "      <td>489.0</td>\n",
       "      <td>649.0</td>\n",
       "    </tr>\n",
       "    <tr>\n",
       "      <th>SRMS 1</th>\n",
       "      <td>357</td>\n",
       "      <td>2013-05-13</td>\n",
       "      <td>2018-05-14</td>\n",
       "      <td>59.605042</td>\n",
       "      <td>30.0</td>\n",
       "      <td>1.0</td>\n",
       "      <td>781.0</td>\n",
       "      <td>296.0</td>\n",
       "    </tr>\n",
       "    <tr>\n",
       "      <th>SRMS 2</th>\n",
       "      <td>459</td>\n",
       "      <td>2013-09-03</td>\n",
       "      <td>2020-03-16</td>\n",
       "      <td>59.052288</td>\n",
       "      <td>31.0</td>\n",
       "      <td>1.0</td>\n",
       "      <td>691.0</td>\n",
       "      <td>393.0</td>\n",
       "    </tr>\n",
       "  </tbody>\n",
       "</table>\n",
       "</div>"
      ],
      "text/plain": [
       "         total   min_date   max_date  avg_length  med_length  min_length  \\\n",
       "dataset                                                                    \n",
       "RHU       2532 2015-01-03 2020-05-28   14.777646         5.0         1.0   \n",
       "SMU       3351 2013-06-27 2020-03-30   11.220830         4.0         1.0   \n",
       "SRMS 1     357 2013-05-13 2018-05-14   59.605042        30.0         1.0   \n",
       "SRMS 2     459 2013-09-03 2020-03-16   59.052288        31.0         1.0   \n",
       "\n",
       "         max_length  total_long  \n",
       "dataset                          \n",
       "RHU           694.0       523.0  \n",
       "SMU           489.0       649.0  \n",
       "SRMS 1        781.0       296.0  \n",
       "SRMS 2        691.0       393.0  "
      ]
     },
     "execution_count": 103,
     "metadata": {},
     "output_type": "execute_result"
    }
   ],
   "source": [
    "table"
   ]
  },
  {
   "cell_type": "code",
   "execution_count": 104,
   "metadata": {},
   "outputs": [],
   "source": [
    "table.to_csv('../output/dataset_description.csv')"
   ]
  },
  {
   "cell_type": "code",
   "execution_count": 126,
   "metadata": {},
   "outputs": [],
   "source": [
    "d = df[df['dataset'] != 'SRMS 1']\n",
    "d = d[d['long_stay'] == True]\n",
    "d = d.set_index('placement_date').loc['2015-01-03': '2020-03-16']"
   ]
  },
  {
   "cell_type": "code",
   "execution_count": 127,
   "metadata": {},
   "outputs": [],
   "source": [
    "g = d.groupby([pd.Grouper(freq='AS'), 'dataset'])['long_stay'].sum().unstack()"
   ]
  },
  {
   "cell_type": "code",
   "execution_count": 128,
   "metadata": {},
   "outputs": [
    {
     "data": {
      "text/plain": [
       "<matplotlib.axes._subplots.AxesSubplot at 0x7f142eca3b38>"
      ]
     },
     "execution_count": 128,
     "metadata": {},
     "output_type": "execute_result"
    },
    {
     "data": {
      "image/png": "[encoded data removed]",
      "text/plain": [
       "<Figure size 432x288 with 1 Axes>"
      ]
     },
     "metadata": {
      "needs_background": "light"
     },
     "output_type": "display_data"
    }
   ],
   "source": [
    "g.plot(kind='bar')"
   ]
  },
  {
   "cell_type": "code",
   "execution_count": 129,
   "metadata": {},
   "outputs": [
    {
     "data": {
      "text/html": [
       "<div>\n",
       "<style scoped>\n",
       "    .dataframe tbody tr th:only-of-type {\n",
       "        vertical-align: middle;\n",
       "    }\n",
       "\n",
       "    .dataframe tbody tr th {\n",
       "        vertical-align: top;\n",
       "    }\n",
       "\n",
       "    .dataframe thead th {\n",
       "        text-align: right;\n",
       "    }\n",
       "</style>\n",
       "<table border=\"1\" class=\"dataframe\">\n",
       "  <thead>\n",
       "    <tr style=\"text-align: right;\">\n",
       "      <th>dataset</th>\n",
       "      <th>RHU</th>\n",
       "      <th>SMU</th>\n",
       "      <th>SRMS 2</th>\n",
       "    </tr>\n",
       "    <tr>\n",
       "      <th>placement_date</th>\n",
       "      <th></th>\n",
       "      <th></th>\n",
       "      <th></th>\n",
       "    </tr>\n",
       "  </thead>\n",
       "  <tbody>\n",
       "    <tr>\n",
       "      <th>2015-01-01</th>\n",
       "      <td>60.0</td>\n",
       "      <td>71.0</td>\n",
       "      <td>37.0</td>\n",
       "    </tr>\n",
       "    <tr>\n",
       "      <th>2016-01-01</th>\n",
       "      <td>79.0</td>\n",
       "      <td>89.0</td>\n",
       "      <td>28.0</td>\n",
       "    </tr>\n",
       "    <tr>\n",
       "      <th>2017-01-01</th>\n",
       "      <td>112.0</td>\n",
       "      <td>101.0</td>\n",
       "      <td>62.0</td>\n",
       "    </tr>\n",
       "    <tr>\n",
       "      <th>2018-01-01</th>\n",
       "      <td>139.0</td>\n",
       "      <td>111.0</td>\n",
       "      <td>99.0</td>\n",
       "    </tr>\n",
       "    <tr>\n",
       "      <th>2019-01-01</th>\n",
       "      <td>110.0</td>\n",
       "      <td>116.0</td>\n",
       "      <td>64.0</td>\n",
       "    </tr>\n",
       "    <tr>\n",
       "      <th>2020-01-01</th>\n",
       "      <td>15.0</td>\n",
       "      <td>28.0</td>\n",
       "      <td>4.0</td>\n",
       "    </tr>\n",
       "  </tbody>\n",
       "</table>\n",
       "</div>"
      ],
      "text/plain": [
       "dataset           RHU    SMU  SRMS 2\n",
       "placement_date                      \n",
       "2015-01-01       60.0   71.0    37.0\n",
       "2016-01-01       79.0   89.0    28.0\n",
       "2017-01-01      112.0  101.0    62.0\n",
       "2018-01-01      139.0  111.0    99.0\n",
       "2019-01-01      110.0  116.0    64.0\n",
       "2020-01-01       15.0   28.0     4.0"
      ]
     },
     "execution_count": 129,
     "metadata": {},
     "output_type": "execute_result"
    }
   ],
   "source": [
    "g"
   ]
  },
  {
   "cell_type": "code",
   "execution_count": 130,
   "metadata": {},
   "outputs": [],
   "source": [
    "d = df[df['dataset'] != 'SRMS 1']\n",
    "d = d[d['long_stay'] == True]\n",
    "d = d.set_index('placement_date').loc['2015-01-03':'2020-03-16']"
   ]
  },
  {
   "cell_type": "code",
   "execution_count": 131,
   "metadata": {},
   "outputs": [],
   "source": [
    "g = d.groupby([pd.Grouper(freq='AS'), 'dataset'])['days_calc'].sum().unstack()"
   ]
  },
  {
   "cell_type": "code",
   "execution_count": 132,
   "metadata": {},
   "outputs": [
    {
     "data": {
      "text/plain": [
       "<matplotlib.axes._subplots.AxesSubplot at 0x7f142e5899b0>"
      ]
     },
     "execution_count": 132,
     "metadata": {},
     "output_type": "execute_result"
    },
    {
     "data": {
      "image/png": "[encoded data removed]",
      "text/plain": [
       "<Figure size 432x288 with 1 Axes>"
      ]
     },
     "metadata": {
      "needs_background": "light"
     },
     "output_type": "display_data"
    }
   ],
   "source": [
    "g.plot(kind='bar')"
   ]
  },
  {
   "cell_type": "code",
   "execution_count": 112,
   "metadata": {},
   "outputs": [
    {
     "data": {
      "text/plain": [
       "dataset\n",
       "RHU       27393.0\n",
       "SMU       20326.0\n",
       "SRMS 2    22214.0\n",
       "dtype: float64"
      ]
     },
     "execution_count": 112,
     "metadata": {},
     "output_type": "execute_result"
    }
   ],
   "source": [
    "g.sum()"
   ]
  },
  {
   "cell_type": "code",
   "execution_count": 113,
   "metadata": {},
   "outputs": [
    {
     "data": {
      "text/plain": [
       "22634.0"
      ]
     },
     "execution_count": 113,
     "metadata": {},
     "output_type": "execute_result"
    }
   ],
   "source": [
    "df[df['dataset'] == 'SRMS 2'].set_index('placement_date').loc['2015-01-03':'2020-03-16']['days_calc'].sum()"
   ]
  }
 ],
 "metadata": {
  "kernelspec": {
   "display_name": "Python 3",
   "language": "python",
   "name": "python3"
  },
  "language_info": {
   "codemirror_mode": {
    "name": "ipython",
    "version": 3
   },
   "file_extension": ".py",
   "mimetype": "text/x-python",
   "name": "python",
   "nbconvert_exporter": "python",
   "pygments_lexer": "ipython3",
   "version": "3.7.2"
  }
 },
 "nbformat": 4,
 "nbformat_minor": 2
}
