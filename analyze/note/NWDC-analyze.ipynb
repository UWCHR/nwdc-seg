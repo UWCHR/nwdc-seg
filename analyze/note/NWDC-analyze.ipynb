{
 "cells": [
  {
   "cell_type": "markdown",
   "metadata": {},
   "source": [
    "# Use of Solitary Confinement at Northwest ICE Processing Center\\*\n",
    "## UW Center for Human Rights preliminary report, November 2019\n",
    "\n",
    "Data analyzed:\n",
    "\n",
    "1. Dataset of solitary confinement placements at NWDC relased to UWCHR via FOIA on February 22, 2019\n",
    "2. Dataset of national solitary confinement placements in ICE detention analyzed by International Consortium of Investigative Journalists (Spencer Woodman, Karrie Kehoe, Maryam Saleh, and Hannah Rappleye, [\"Thousands of Immigrants Suffer In US Solitary Confinement\"]((https://www.icij.org/investigations/solitary-voices/thousands-of-immigrants-suffer-in-us-solitary-confinement/)), ICIJ, May 21 2019)\n",
    "3. Dataset of national solitary confinement placements in ICE detention analyzed by Project on Government Oversight (POGO, [\"ISOLATED: ICE Confines Some Detainees with Mental Illness in Solitary for Months\"](https://www.pogo.org/investigation/2019/08/isolated-ice-confines-some-detainees-with-mental-illness-in-solitary-for-months/), August 14 2019)\n",
    "\n",
    "\\* This report uses the term \"solitary confinement\" to describe practices named by ICE and GEO Group as \"administrative segregation\" or \"disciplinary segregation\". This report interchangably uses the titles \"Northwest ICE Processing Center\" (the title currently employed by ICE) and \"Northwest Detention Center (NWDC)\" (the former title used during the time period covered by this report) to refer to the immigration prison in Tacoma, Washington privately owned and operated by GEO Group on behalf of ICE."
   ]
  },
  {
   "cell_type": "markdown",
   "metadata": {},
   "source": [
    "\n",
    "\n",
    "\\[Description of NWDC and ICE segregation practices here?\\]\n",
    "\n"
   ]
  },
  {
   "cell_type": "markdown",
   "metadata": {},
   "source": [
    "## NWDC Solitary Confinement Placements Dataset Released to UWCHR\n",
    "\n",
    "### FOIA Request Timeline\n",
    "\n",
    "On September 18, 2017, UWCHR filed the following Freedom of Information Request with Immigration and Customs Enforcement (ICE):\n",
    "\n",
    "\"We are seeking all records (including written documents, files, electronic communications, records or reports of any sort) describing or reviewing the placement of detainees in segregation (including both administrative and disciplinary segregation) at the Northwest Detention Center in Tacoma, WA, from September 2013 to the present. This includes both notifications of initial placement in segregation as well as regular reviews performed in cases of extended segregation. We ask that documents be redacted to protect inmate privacy.\"\n",
    "\n",
    "The request was acknowledged by ICE on October 4, 2017 and assigned Case Number 2018-ICFO-00515. During the following year UWCHR made various requests for status updates. On February 26, 2018, an ICE FOIA officer acknowledged that the request was active.\n",
    "\n",
    "On September 21, 2018, the University of Washington filed suit against the Department of Homeland Security (DHS), ICE, and Customs and Border Protection (CBP) for violations of FOIA, including failure to respond to this request in a timely manner (The University of Washington, et al. v. Department of Homeland Security, et al.\n",
    "U.S. District Court, Western District of Washington Case No. 2:18-cv-01396-BJR).\n",
    "\n",
    "On February 22, 2019, as part of document production pursuant to the UW lawsuit, ICE released a with filename `2018-ICFO-00515 Highlighted_EDIT.xlsx` in response to this request. This document is described and analyzed in the continuing sections.\n",
    "\n",
    "In response to this production as part of the ongoing litigation, UWCHR pointed out that this release does not fully satisfy its original request:\n",
    "\n",
    "\"_First_, the original request sought all records, not just summaries of those records in a spreadsheet. Plaintiffs are seeking the underlying records which ICE used to create this spreadsheet, such as Administrative Detention Orders. _Second_, Plaintiffs have an Administrative Detention Order which shows that one particular detainee was sent to solitary confinement on 8/8/2017. This entry is not included in the spreadsheet ICE produced, which makes Plaintiffs question the thoroughness and accuracy of the spreadsheet as a representation of the underlying data.\" (March 12, 2019 letter by UW counsel Thomas R. Burke to Assistant United States Attorney Michelle R. Lambert)\n",
    "\n",
    "Litigation in this case is ongoing.\n",
    "\n",
    "\\[Include ADO referenced above as appendix?\\]"
   ]
  },
  {
   "cell_type": "markdown",
   "metadata": {},
   "source": [
    "## Dataset Description and Analysis"
   ]
  },
  {
   "cell_type": "code",
   "execution_count": null,
   "metadata": {},
   "outputs": [],
   "source": [
    "import pandas as pd\n",
    "import numpy as np\n",
    "import matplotlib.pyplot as plt\n",
    "from matplotlib.pyplot import cm\n",
    "import seaborn as sns\n",
    "import datetime as dt\n",
    "import yaml\n",
    "from pandas.tseries import offsets\n",
    "from matplotlib.ticker import (MultipleLocator, FormatStrFormatter,\n",
    "                               AutoMinorLocator, NullLocator)\n",
    "import matplotlib.dates as mdates"
   ]
  },
  {
   "cell_type": "markdown",
   "metadata": {},
   "source": [
    "The following code section loads the dataset, prints a description of the dataset, and displays the first five records:"
   ]
  },
  {
   "cell_type": "code",
   "execution_count": null,
   "metadata": {},
   "outputs": [],
   "source": [
    "csv_opts = {'sep': '|',\n",
    "            'quotechar': '\"',\n",
    "            'compression': 'gzip',\n",
    "            'encoding': 'utf-8'}\n",
    "\n",
    "df = pd.read_csv('../input/uwchr.csv.gz',\n",
    "                 parse_dates=['placement_date', 'release_date'],\n",
    "                 **csv_opts)\n",
    "print(df.info())\n",
    "print()\n",
    "df.head()"
   ]
  },
  {
   "cell_type": "markdown",
   "metadata": {},
   "source": [
    "The following code section checks that the \"Tracking Number\" value for each record is unique; checks that no solitary record release date precedes placement date; and prints some basic characteristics of the dataset:"
   ]
  },
  {
   "cell_type": "code",
   "execution_count": null,
   "metadata": {
    "scrolled": false
   },
   "outputs": [],
   "source": [
    "assert len(df[df['release_date'] < df['placement_date']]) == 0\n",
    "assert len(df) == len(set(df['tracking_number']))\n",
    "print(f'{len(df)} total unique records.')\n",
    "print()\n",
    "print(f'Earliest placement date: {df.placement_date.min()}')\n",
    "print(f'Latest placement date: {df.placement_date.max()}')\n",
    "print()\n",
    "print(f'Earliest release date: {df.release_date.min()}')\n",
    "print(f'Latest release date: {df.release_date.max()}')\n",
    "print()\n",
    "print('Solitary pop. countries of citizenship (Top 10):')\n",
    "print(df['country_of_citizenship'].value_counts(dropna=False).head(10))\n",
    "print()\n",
    "print('Solitary population by gender:')\n",
    "print(df['gender'].value_counts(dropna=False).head(10))"
   ]
  },
  {
   "cell_type": "code",
   "execution_count": null,
   "metadata": {},
   "outputs": [],
   "source": [
    "top_10 = pd.DataFrame(df['country_of_citizenship'].value_counts(dropna=False).head(10))"
   ]
  },
  {
   "cell_type": "code",
   "execution_count": null,
   "metadata": {},
   "outputs": [],
   "source": [
    "all_others = df[~df['country_of_citizenship'].isin(list(top_10.index))]"
   ]
  },
  {
   "cell_type": "code",
   "execution_count": null,
   "metadata": {},
   "outputs": [],
   "source": [
    "top_10.loc['ALL OTHERS', 'country_of_citizenship'] = len(all_others)"
   ]
  },
  {
   "cell_type": "code",
   "execution_count": null,
   "metadata": {},
   "outputs": [],
   "source": [
    "top_10.reset_index()"
   ]
  },
  {
   "cell_type": "markdown",
   "metadata": {},
   "source": [
    "Total solitary placements per calendar year:"
   ]
  },
  {
   "cell_type": "code",
   "execution_count": null,
   "metadata": {},
   "outputs": [],
   "source": [
    "g_annual = df.set_index('placement_date').groupby(pd.Grouper(freq='AS'))\n",
    "g_annual['tracking_number'].nunique()"
   ]
  },
  {
   "cell_type": "markdown",
   "metadata": {},
   "source": [
    "Total solitary placements per fiscal year:"
   ]
  },
  {
   "cell_type": "code",
   "execution_count": null,
   "metadata": {},
   "outputs": [],
   "source": [
    "g_fy = df.set_index('placement_date').groupby(pd.Grouper(freq='AS-OCT'))\n",
    "g_fy['tracking_number'].nunique()"
   ]
  },
  {
   "cell_type": "markdown",
   "metadata": {},
   "source": [
    "Average monthly solitary placements per year:"
   ]
  },
  {
   "cell_type": "code",
   "execution_count": null,
   "metadata": {},
   "outputs": [],
   "source": [
    "g_monthly = df.set_index('placement_date').groupby(pd.Grouper(freq='MS'))\n",
    "g_monthly['tracking_number'].nunique().resample('AS').mean()"
   ]
  },
  {
   "cell_type": "code",
   "execution_count": null,
   "metadata": {},
   "outputs": [],
   "source": [
    "g_monthly['tracking_number'].nunique()"
   ]
  },
  {
   "cell_type": "markdown",
   "metadata": {},
   "source": [
    "The following code section generates a visualization of the number of solitary confinement placements per month for the time period covered by the dataset:"
   ]
  },
  {
   "cell_type": "code",
   "execution_count": null,
   "metadata": {},
   "outputs": [],
   "source": [
    "data = g_monthly['tracking_number'].nunique()\n",
    "\n",
    "years_loc = mdates.YearLocator()\n",
    "months_loc = mdates.MonthLocator()\n",
    "years_fmt = mdates.DateFormatter('%Y')\n",
    "\n",
    "fig, ax = plt.subplots(figsize=(10,6))\n",
    "ax.set_facecolor('#DDDDDD')\n",
    "ax.set_axisbelow(True)\n",
    "ax.yaxis.grid(color='#FFFFFF')\n",
    "ax.bar(data.index, data, width=20)\n",
    "ax.xaxis.set_minor_locator(months_loc)\n",
    "ax.xaxis.set_major_locator(years_loc)\n",
    "ax.xaxis.set_major_formatter(years_fmt)\n",
    "ax.axhline(data.mean(), color='r')\n",
    "ax.yaxis.set_minor_locator(MultipleLocator(1))\n",
    "ax.yaxis.set_major_locator(MultipleLocator(2))\n",
    "plt.title('NWDC Solitary Confinement Placements per month', fontsize=16)\n",
    "plt.ylabel('Placements', fontsize=12)\n",
    "plt.xlabel('Calendar year', fontsize=12)\n",
    "plt.legend(('Average monthly placements', 'Monthly solitary placements'), loc='upper right')\n",
    "\n",
    "plt.show()\n",
    "\n",
    "print(f'Minimum monthly solitary placements: {data.min()}')\n",
    "print(f'Maximum monthly solitary placements: {data.max()} in {data.idxmax().month_name()} {data.idxmax().year}')\n",
    "print(f'Overall average monthly solitary placements: {data.mean()}')"
   ]
  },
  {
   "cell_type": "markdown",
   "metadata": {},
   "source": [
    "### Calculating time in solitary confinement"
   ]
  },
  {
   "cell_type": "markdown",
   "metadata": {},
   "source": [
    "We see in the following code section that several records do not have an \"Release Date\" specified. All of these records are segregation placements beginning during the latter portion of the dataset, which suggests that these refer to individuals who remained in solitary confinement at the time of production of this dataset."
   ]
  },
  {
   "cell_type": "code",
   "execution_count": null,
   "metadata": {},
   "outputs": [],
   "source": [
    "null_start = df['placement_date'].isnull()\n",
    "assert sum(null_start) == 0\n",
    "null_end = df['release_date'].isnull()\n",
    "print('No missing placement dates.')\n",
    "print(f'{sum(null_end)} records with missing release dates.')\n",
    "print()\n",
    "print('Description of \"Placement Date\" for records with no \"Release Date\":')\n",
    "print(df[null_end]['placement_date'].describe())\n",
    "print()"
   ]
  },
  {
   "cell_type": "markdown",
   "metadata": {},
   "source": [
    "For purposes of analysis, we set the release date for individuals still in solitary confinement to that of the latest date represented in the dataset, allowing us to calculate minimum total solitary confinement length for all records:"
   ]
  },
  {
   "cell_type": "code",
   "execution_count": null,
   "metadata": {},
   "outputs": [],
   "source": [
    "df_pre_fill = df.copy()\n",
    "df['release_date'] = df['release_date'].fillna(df['release_date'].max())\n",
    "df['solitary_length'] = df['release_date'] - df['placement_date']\n",
    "df['solitary_length'].describe()"
   ]
  },
  {
   "cell_type": "markdown",
   "metadata": {},
   "source": [
    "After setting missing release dates to latest date represented in dataset, we examine the 14 records in question and see that for all measures except maximum time, they represent individuals with longer solitary stays:"
   ]
  },
  {
   "cell_type": "code",
   "execution_count": null,
   "metadata": {},
   "outputs": [],
   "source": [
    "df[null_end]['solitary_length'].describe()"
   ]
  },
  {
   "cell_type": "markdown",
   "metadata": {},
   "source": [
    "By comparison, we note that excluding records without a specified release date results in a decreased average length of solitary confinement:"
   ]
  },
  {
   "cell_type": "code",
   "execution_count": null,
   "metadata": {},
   "outputs": [],
   "source": [
    "df_drop = df_pre_fill.dropna(subset=['release_date'], axis=0).copy()\n",
    "df_drop.loc[:, 'solitary_length'] = df_drop['release_date'] - df_drop['placement_date']\n",
    "df_drop['solitary_length'].describe()"
   ]
  },
  {
   "cell_type": "code",
   "execution_count": null,
   "metadata": {},
   "outputs": [],
   "source": [
    "# Using dataset with minimum total solitary length for all records\n",
    "df['days_solitary'] = df['solitary_length'] / np.timedelta64(1, 'D')\n",
    "df.loc[:, 'log_days_solitary'] = np.log(df['days_solitary'])"
   ]
  },
  {
   "cell_type": "code",
   "execution_count": null,
   "metadata": {},
   "outputs": [],
   "source": [
    "# Testing that no solitary placement has negative stay length\n",
    "assert sum(df['days_solitary'] < 0) == 0"
   ]
  },
  {
   "cell_type": "code",
   "execution_count": null,
   "metadata": {},
   "outputs": [],
   "source": [
    "df.sort_values(by='days_solitary', ascending=False)"
   ]
  },
  {
   "cell_type": "markdown",
   "metadata": {},
   "source": [
    "A histogram of solitary placement lengths shows that the vast majority of placement are less than 50 days, but the distribution has a wide distribution to a maximum of 781 days."
   ]
  },
  {
   "cell_type": "code",
   "execution_count": null,
   "metadata": {},
   "outputs": [],
   "source": [
    "df['days_solitary'].mode()"
   ]
  },
  {
   "cell_type": "code",
   "execution_count": null,
   "metadata": {},
   "outputs": [],
   "source": [
    "df['days_solitary'].median()"
   ]
  },
  {
   "cell_type": "code",
   "execution_count": null,
   "metadata": {},
   "outputs": [],
   "source": [
    "num_bins = np.arange(0,780,30)\n",
    "data = df['days_solitary']\n",
    "# the histogram of the data\n",
    "n, bins, patches = plt.hist(data, num_bins, facecolor='blue', alpha=0.5)\n",
    " \n",
    "plt.plot()\n",
    "plt.xlabel('Days')\n",
    "plt.xticks(np.arange(0, 780, step=60), rotation=45)\n",
    "plt.ylabel('Placement count')\n",
    "plt.yticks(np.arange(0, 300, step=50))\n",
    "plt.ylim(-5, 275)\n",
    "plt.title('Solitary placement length')\n",
    " \n",
    "# Tweak spacing to prevent clipping of ylabel\n",
    "plt.subplots_adjust(left=0.15) \n",
    "# plt.savefig('output/nwdc_solitary_length_hist.png', bbox_inches='tight')\n",
    "plt.show()"
   ]
  },
  {
   "cell_type": "markdown",
   "metadata": {},
   "source": [
    "82 solitary placements were for stays longer than 75 days:"
   ]
  },
  {
   "cell_type": "code",
   "execution_count": null,
   "metadata": {},
   "outputs": [],
   "source": [
    "sum(df['days_solitary'] > 75)"
   ]
  },
  {
   "cell_type": "code",
   "execution_count": null,
   "metadata": {},
   "outputs": [],
   "source": [
    "sum(df['days_solitary'] > 15)"
   ]
  },
  {
   "cell_type": "code",
   "execution_count": null,
   "metadata": {},
   "outputs": [],
   "source": [
    "sum(df['days_solitary'] > 15) / len(df['days_solitary'])"
   ]
  },
  {
   "cell_type": "code",
   "execution_count": null,
   "metadata": {},
   "outputs": [],
   "source": [
    "sum(df['days_solitary'] > 30)"
   ]
  },
  {
   "cell_type": "code",
   "execution_count": null,
   "metadata": {},
   "outputs": [],
   "source": [
    "sum(df['days_solitary'] > 30) / len(df)"
   ]
  },
  {
   "cell_type": "code",
   "execution_count": null,
   "metadata": {},
   "outputs": [],
   "source": [
    "round(sum(df['days_solitary'] <= 30) / len(df) * 100, 2)"
   ]
  },
  {
   "cell_type": "markdown",
   "metadata": {},
   "source": [
    "We can plot length of solitary stay by date of placement. Note that as we might expect, the longest placement falls early in the timeline; as noted above some placements were apparently ongoing at the time of release of this data, and we represent the minimum amount of solitary time (orange points):"
   ]
  },
  {
   "cell_type": "code",
   "execution_count": null,
   "metadata": {},
   "outputs": [],
   "source": [
    "# years = mdates.YearLocator()   # every year\n",
    "# months = mdates.MonthLocator()  # every month\n",
    "# years_fmt = mdates.DateFormatter('%Y')\n",
    "\n",
    "x=df[~null_end].loc[:, 'placement_date'].astype(int)\n",
    "y=df[~null_end].loc[:,'days_solitary']\n",
    "\n",
    "fig = plt.figure()\n",
    "ax = fig.add_subplot(111)\n",
    "plt.scatter(x, y)\n",
    "\n",
    "x=df[null_end].loc[:, 'placement_date'].astype(int)\n",
    "y=df[null_end].loc[:,'days_solitary']\n",
    "plt.scatter(x, y)\n",
    "\n",
    "# ax.xaxis.set_major_locator(years)\n",
    "# ax.xaxis.set_major_formatter(years_fmt)\n",
    "# ax.xaxis.set_minor_locator(months)\n",
    "\n",
    "# datemin = np.datetime64(df['placement_date'][0], 'Y')\n",
    "# datemax = np.datetime64(df['placement_date'][-1], 'Y') + np.timedelta64(1, 'Y')\n",
    "# ax.set_xlim(datemin, datemax)\n",
    "\n",
    "xticks = ax.get_xticks()\n",
    "xticks_dates = [str(f'{pd.to_datetime(x).year}-Q{pd.to_datetime(x).quarter}') for x in xticks]\n",
    "ax.set_xticklabels(xticks_dates,  rotation=45)\n",
    "plt.show()\n",
    "plt.close(fig=fig)\n",
    "del fig, ax"
   ]
  },
  {
   "cell_type": "markdown",
   "metadata": {},
   "source": [
    "Values vary greatly, and the average solitary placement length is much lower than the maximum, so we can use a log transformation to get a better idea of distribution. These rough visualizations of trend in solitary stay length over time suggest a slight apparent increase. More statistically rigorous work would be needed to explore whether this trend is significant."
   ]
  },
  {
   "cell_type": "code",
   "execution_count": null,
   "metadata": {},
   "outputs": [],
   "source": [
    "df['placement_year'] = df['placement_date'].map(lambda x: x.year)\n",
    "ax = sns.boxplot(data=df, x=\"placement_year\", y=\"log_days_solitary\")"
   ]
  },
  {
   "cell_type": "code",
   "execution_count": null,
   "metadata": {},
   "outputs": [],
   "source": [
    "years = mdates.YearLocator()   # every year\n",
    "months = mdates.MonthLocator()  # every month\n",
    "years_fmt = mdates.DateFormatter('%Y')"
   ]
  },
  {
   "cell_type": "code",
   "execution_count": null,
   "metadata": {},
   "outputs": [],
   "source": [
    "x=df.loc[:, 'placement_date'].astype(int)\n",
    "y=df.loc[:,'log_days_solitary']\n",
    "\n",
    "fig, ax = plt.subplots()\n",
    "sns.regplot(x, y, ax=ax)\n",
    "\n",
    "# ax.xaxis.set_major_locator(years)\n",
    "# ax.xaxis.set_major_formatter(years_fmt)\n",
    "\n",
    "# datemin = np.datetime64(df['placement_date'].min(), 'Y')\n",
    "# datemax = np.datetime64(df['placement_date'].max(), 'Y')\n",
    "# ax.set_xlim(datemin, datemax)\n",
    "\n",
    "\n",
    "xticks = ax.get_xticks()\n",
    "xticks_dates = [str(f'{pd.to_datetime(x).year}-Q{pd.to_datetime(x).quarter}') for x in xticks]\n",
    "ax.set_xticklabels(xticks_dates, rotation=45);"
   ]
  },
  {
   "cell_type": "code",
   "execution_count": null,
   "metadata": {},
   "outputs": [],
   "source": [
    "np.datetime64(df['placement_date'].min(), 'Y')"
   ]
  },
  {
   "cell_type": "code",
   "execution_count": null,
   "metadata": {
    "scrolled": true
   },
   "outputs": [],
   "source": [
    "df.set_index('placement_date').resample('AS')['days_solitary'].mean()"
   ]
  },
  {
   "cell_type": "code",
   "execution_count": null,
   "metadata": {},
   "outputs": [],
   "source": [
    "df.set_index('placement_date').resample('AS')['days_solitary'].median()"
   ]
  },
  {
   "cell_type": "code",
   "execution_count": null,
   "metadata": {},
   "outputs": [],
   "source": [
    "df.set_index('placement_date').resample('AS-OCT')['days_solitary'].median()"
   ]
  },
  {
   "cell_type": "markdown",
   "metadata": {},
   "source": [
    "Solitary placement length by gender:"
   ]
  },
  {
   "cell_type": "code",
   "execution_count": null,
   "metadata": {},
   "outputs": [],
   "source": [
    "ax = sns.boxplot(data=df, x=\"gender\", y=\"log_days_solitary\")"
   ]
  },
  {
   "cell_type": "markdown",
   "metadata": {},
   "source": [
    "Solitary length for nationalities with > 5 placements:"
   ]
  },
  {
   "cell_type": "code",
   "execution_count": null,
   "metadata": {},
   "outputs": [],
   "source": [
    "coc_count = df['country_of_citizenship'].value_counts()\n",
    "coc_list = list(coc_count[coc_count > 5].index)\n",
    "mask = df['country_of_citizenship'].isin(coc_list)"
   ]
  },
  {
   "cell_type": "code",
   "execution_count": null,
   "metadata": {},
   "outputs": [],
   "source": [
    "order = df[mask].groupby(by=[\"country_of_citizenship\"])[\"log_days_solitary\"].median().sort_values(ascending=False).index"
   ]
  },
  {
   "cell_type": "code",
   "execution_count": null,
   "metadata": {},
   "outputs": [],
   "source": [
    "ax = sns.boxplot(data=df[mask], x=\"country_of_citizenship\", y=\"log_days_solitary\", order=order)\n",
    "ax.set_xticklabels(ax.get_xticklabels(),rotation=90);"
   ]
  },
  {
   "cell_type": "markdown",
   "metadata": {},
   "source": [
    "Solitary placements coded as detainee requested tend to be longer than facility-iniated placements:"
   ]
  },
  {
   "cell_type": "code",
   "execution_count": null,
   "metadata": {},
   "outputs": [],
   "source": [
    "ax = sns.boxplot(data=df, x=\"detainee_request\", y=\"log_days_solitary\")\n",
    "ax = ax.set_xticklabels(ax.get_xticklabels(),rotation=0);"
   ]
  },
  {
   "cell_type": "code",
   "execution_count": null,
   "metadata": {},
   "outputs": [],
   "source": [
    "sns.boxplot(x='placement_year',y='log_days_solitary',data=df,hue='detainee_request')"
   ]
  },
  {
   "cell_type": "code",
   "execution_count": null,
   "metadata": {},
   "outputs": [],
   "source": [
    "len(df[pd.Series(df['placement_reason'] == 'Disciplinary') & pd.Series(df['days_solitary'] > 30)])"
   ]
  },
  {
   "cell_type": "code",
   "execution_count": null,
   "metadata": {},
   "outputs": [],
   "source": [
    "data = df.set_index('placement_date').groupby([pd.Grouper(freq='Q')])['placement_reason_type'].value_counts().unstack()"
   ]
  },
  {
   "cell_type": "code",
   "execution_count": null,
   "metadata": {},
   "outputs": [],
   "source": [
    "data"
   ]
  },
  {
   "cell_type": "code",
   "execution_count": null,
   "metadata": {},
   "outputs": [],
   "source": [
    "years_loc_1 = mdates.YearLocator()\n",
    "months_loc_1 = mdates.MonthLocator()\n",
    "years_fmt_1 = mdates.DateFormatter('%Y')\n",
    "months_fmt_1 = mdates.DateFormatter('%M')\n",
    "\n",
    "fig, ax = plt.subplots(figsize=(10,6))\n",
    "\n",
    "fig = data.plot(kind='bar', ax=ax, stacked=True)\n",
    "\n",
    "ax.xaxis.set_minor_locator(months_loc_1)\n",
    "ax.xaxis.set_minor_formatter(months_fmt_1)\n",
    "ax.xaxis.set_major_locator(years_loc_1)\n",
    "ax.xaxis.set_major_formatter(years_fmt_1)\n",
    "ax.yaxis.set_minor_locator(MultipleLocator(5))\n",
    "ax.yaxis.set_major_locator(MultipleLocator(10))\n",
    "\n",
    "plt.title('NWDC Solitary Confinement Placements per quarter', fontsize=16)\n",
    "plt.ylabel('Placements', fontsize=12)\n",
    "plt.xlabel('Calendar year', fontsize=12)\n",
    "plt.legend(loc='upper right')\n",
    "\n"
   ]
  },
  {
   "cell_type": "code",
   "execution_count": null,
   "metadata": {},
   "outputs": [],
   "source": [
    "data = g_monthly['tracking_number'].nunique()\n",
    "\n",
    "years_loc = mdates.YearLocator()\n",
    "months_loc = mdates.MonthLocator()\n",
    "years_fmt = mdates.DateFormatter('%Y')\n",
    "\n",
    "fig, ax = plt.subplots(figsize=(10,6))\n",
    "ax.set_facecolor('#DDDDDD')\n",
    "ax.set_axisbelow(True)\n",
    "ax.yaxis.grid(color='#FFFFFF')\n",
    "ax.bar(data.index, data, width=20)\n",
    "ax.xaxis.set_minor_locator(months_loc)\n",
    "ax.xaxis.set_major_locator(years_loc)\n",
    "ax.xaxis.set_major_formatter(years_fmt)\n",
    "ax.axhline(data.mean(), color='r')\n",
    "ax.yaxis.set_minor_locator(MultipleLocator(1))\n",
    "ax.yaxis.set_major_locator(MultipleLocator(2))\n",
    "plt.title('NWDC Solitary Confinement Placements per month', fontsize=16)\n",
    "plt.ylabel('Placements', fontsize=12)\n",
    "plt.xlabel('Calendar year', fontsize=12)\n",
    "plt.legend(('Average monthly placements', 'Monthly solitary placements'), loc='upper right')\n",
    "\n",
    "plt.show()\n",
    "\n",
    "print(f'Minimum monthly solitary placements: {data.min()}')\n",
    "print(f'Maximum monthly solitary placements: {data.max()} in {data.idxmax().month_name()} {data.idxmax().year}')\n",
    "print(f'Overall average monthly solitary placements: {data.mean()}')"
   ]
  },
  {
   "cell_type": "markdown",
   "metadata": {},
   "source": [
    "### Calculating total population in solitary placements at any given time"
   ]
  },
  {
   "cell_type": "markdown",
   "metadata": {},
   "source": [
    "For the period of time covered by the dataset, we count the number of people currently in solitary confinement placements on each day to present a timeline of total solitary confinement population. Note that some individuals may have already been in solitary confinement at the beginning of this timeline, so the earlier period may represent an under-count of the total population.\n",
    "\n",
    "We can note that since early 2017, the total solitary confinement population has only briefly fallen below the overall mean population."
   ]
  },
  {
   "cell_type": "code",
   "execution_count": null,
   "metadata": {},
   "outputs": [],
   "source": [
    "min_date = df['placement_date'].min()\n",
    "max_date = df['release_date'].max()\n",
    "timeline = pd.date_range(min_date, max_date, freq='D')\n",
    "years = timeline.year.unique()\n",
    "\n",
    "counts = pd.Series(index=timeline)\n",
    "for day in timeline:\n",
    "    in_range = df[(df['placement_date'] <= day) & (df['release_date'] >= day)]\n",
    "    counts[day] = len(in_range)\n",
    "\n",
    "fig, ax = plt.subplots()\n",
    "fig.figsize=(10,8)\n",
    "\n",
    "ax = counts.plot();\n",
    "ax.axhline(counts.mean(), color='r')\n",
    "ax.set_facecolor('#DDDDDD')\n",
    "ax.set_axisbelow(True)\n",
    "ax.yaxis.grid(color='#FFFFFF')\n",
    "plt.title('NWDC Daily Solitary Confinement Population', fontsize=16)\n",
    "plt.xlabel('Calendar year', fontsize=12)\n",
    "plt.ylabel('Total solitary pop.', fontsize=12)\n",
    "leg = ax.legend(('Population', 'Mean'), loc='upper right', bbox_to_anchor=(1.35, 1))\n",
    "plt.show()\n",
    "# fig.savefig('samplefigure', bbox_inches='tight')"
   ]
  },
  {
   "cell_type": "code",
   "execution_count": null,
   "metadata": {},
   "outputs": [],
   "source": [
    "counts.resample('AS-OCT').mean()"
   ]
  },
  {
   "cell_type": "code",
   "execution_count": null,
   "metadata": {},
   "outputs": [],
   "source": [
    "counts.mean()"
   ]
  },
  {
   "cell_type": "markdown",
   "metadata": {},
   "source": [
    "We can also visualize this data at higher resolution by plotting each year separately, and superimposing lines for yearly average population:"
   ]
  },
  {
   "cell_type": "code",
   "execution_count": null,
   "metadata": {},
   "outputs": [],
   "source": [
    "fig = plt.figure(figsize=(10,8))\n",
    "i = 0\n",
    "for year in years:\n",
    "    ax=plt.subplot(3,2,i+1)\n",
    "\n",
    "    ax.set_title(f'{year}')\n",
    "    counts[f'{year}'].plot(ax=ax)\n",
    "    datemin = pd.Timestamp(f'{year}-01-01')\n",
    "    datemax = pd.Timestamp(f'{year}-12-31')\n",
    "    ax.set_facecolor('#EEEEEE')\n",
    "    ax.set_xlim([datemin, datemax])\n",
    "    ax.set_ylim([-2,30])\n",
    "    ax.yaxis.set_minor_locator(MultipleLocator(5))\n",
    "    ax.xaxis.set_minor_locator(NullLocator())\n",
    "    ax.axhline(counts[f'{year}'].mean(), color='r')\n",
    "    i = i + 1\n",
    "    plt.grid(axis='y', which='minor', color='#FFFFFF')\n",
    "plt.subplots_adjust(wspace=.2, hspace=.4)\n",
    "fig.suptitle(\"NWDC Daily Solitary Confinement Population\", fontsize=16)\n",
    "fig.legend(('Population', 'Annual Mean'), loc='upper right')\n",
    "plt.show()"
   ]
  },
  {
   "cell_type": "markdown",
   "metadata": {},
   "source": [
    "While limitations of the dataset may cause an underestimate of the total population during the early period of the dataset, we see clearly that the average population in solitary is between 9 to 12 during 2013-2016, rising to an average of nearly 17 during 2017, and an average of more than 18 people in solitary time during the first five months of 2018."
   ]
  },
  {
   "cell_type": "markdown",
   "metadata": {},
   "source": [
    "## National solitary confinement datasets\n",
    "\n",
    "### ICIJ\n",
    "\n",
    "See: [\"Solitary Voices: Thousands of Immigrants Suffer In US Solitary Confinement\"](https://www.icij.org/investigations/solitary-voices/thousands-of-immigrants-suffer-in-us-solitary-confinement/) by Spencer Woodman Karrie Kehoe Maryam Saleh Hannah Rappleye, International Consortium of Investigative Journalists, May 21, 2019 \n",
    "\n",
    "See notebook `icij.ipynb` for writeup on apparent issues with `placement_date` and `release_date` values in the published version of this dataset. Correcting for this issue shows that ICIJ and UWCHR's respective datasets for NWDC solitary confinement placements are very similar, though some discrepancies remain.\n",
    "\n",
    "### POGO\n",
    "\n",
    "See: POGO, [\"ISOLATED: ICE Confines Some Detainees with Mental Illness in Solitary for Months\"](https://www.pogo.org/investigation/2019/08/isolated-ice-confines-some-detainees-with-mental-illness-in-solitary-for-months/), August 14 2019\n",
    "\n",
    "See notebook `pogo.ipynb` for descriptive analysis of POGO dataset including comparison with UWCHR records. Records published by POGO match recods released to UWCHR."
   ]
  },
  {
   "cell_type": "code",
   "execution_count": null,
   "metadata": {},
   "outputs": [],
   "source": [
    "icij = pd.read_csv('../input/icij.csv.gz',\n",
    "                   parse_dates=['placement_date', 'release_date'],\n",
    "                   **csv_opts)\n",
    "\n",
    "# icij = pd.read_csv('../frozen/icij-date-fix-temp.csv',\n",
    "#                    parse_dates=['placement_date',\n",
    "#                                 'release_date',\n",
    "#                                 'placement_date_fixed',\n",
    "#                                 'release_date_fixed'],\n",
    "#                    **csv_opts)\n",
    "\n",
    "pogo = pd.read_csv('../input/pogo.csv.gz',\n",
    "                   parse_dates=['placement_date', 'release_date'],\n",
    "                   **csv_opts)"
   ]
  },
  {
   "cell_type": "code",
   "execution_count": null,
   "metadata": {},
   "outputs": [],
   "source": [
    "# pogo = pogo[pd.notnull(pogo['days_solitary'])]\n",
    "# pogo = pogo[pogo['days_solitary'] > 0]"
   ]
  },
  {
   "cell_type": "code",
   "execution_count": null,
   "metadata": {
    "scrolled": false
   },
   "outputs": [],
   "source": [
    "print(icij.info())\n",
    "print()\n",
    "icij.head()"
   ]
  },
  {
   "cell_type": "code",
   "execution_count": null,
   "metadata": {},
   "outputs": [],
   "source": [
    "icij['facility'] = icij['facility'].str.strip()"
   ]
  },
  {
   "cell_type": "code",
   "execution_count": null,
   "metadata": {},
   "outputs": [],
   "source": [
    "icij_nwdc_str = icij[icij['state'] == 'WA']['facility'].unique()[0]"
   ]
  },
  {
   "cell_type": "code",
   "execution_count": null,
   "metadata": {},
   "outputs": [],
   "source": [
    "icij_nwdc_str"
   ]
  },
  {
   "cell_type": "code",
   "execution_count": null,
   "metadata": {},
   "outputs": [],
   "source": [
    "icij_nwdc = icij[icij['facility'] == icij_nwdc_str]"
   ]
  },
  {
   "cell_type": "code",
   "execution_count": null,
   "metadata": {},
   "outputs": [],
   "source": [
    "icij_nwdc_count = len(icij_nwdc)\n",
    "icij_nwdc_max_date = icij_nwdc['placement_date'].max()\n",
    "icij_nwdc_min_date = icij_nwdc['placement_date'].min()\n",
    "print(icij_nwdc_min_date, icij_nwdc_max_date)"
   ]
  },
  {
   "cell_type": "code",
   "execution_count": null,
   "metadata": {},
   "outputs": [],
   "source": []
  },
  {
   "cell_type": "code",
   "execution_count": null,
   "metadata": {},
   "outputs": [],
   "source": [
    "print(pogo.info())\n",
    "print()\n",
    "pogo.head()"
   ]
  },
  {
   "cell_type": "code",
   "execution_count": null,
   "metadata": {},
   "outputs": [],
   "source": [
    "pogo['record_id'] = range(len(pogo))\n",
    "pogo = pogo.rename({'length_of_solitary_confinement_(pogo_calculation)': 'days_solitary'}, axis=1)"
   ]
  },
  {
   "cell_type": "code",
   "execution_count": null,
   "metadata": {},
   "outputs": [],
   "source": [
    "pogo_nwdc_str = 'TACOMA ICE PROCESSING CENTER (NORTHWEST DET CTR) (WA)'\n",
    "pogo_nwdc = pogo[pogo['facility'] == pogo_nwdc_str]"
   ]
  },
  {
   "cell_type": "code",
   "execution_count": null,
   "metadata": {},
   "outputs": [],
   "source": [
    "pogo_nwdc_count = len(pogo_nwdc)\n",
    "pogo_nwdc_max_date = pogo_nwdc['placement_date'].max()\n",
    "pogo_nwdc_min_date = pogo_nwdc['placement_date'].min()\n",
    "print(pogo_nwdc_min_date, pogo_nwdc_max_date, pogo_nwdc_count)"
   ]
  },
  {
   "cell_type": "markdown",
   "metadata": {},
   "source": [
    "### ICIJ: NWDC use of solitary confinement in comparison with other ICE detention facilities"
   ]
  },
  {
   "cell_type": "markdown",
   "metadata": {},
   "source": [
    "The dataset published by ICIJ includes 272 solitary confinement placements at NWDC between March 2013 to October 2017, placing NWDC at #9 among 111 ICE facilities ranked by number of solitary placements. The average length of solitary stay is almost 52 days (rank #10), median solitary stay is 27 days (rank #24)."
   ]
  },
  {
   "cell_type": "code",
   "execution_count": null,
   "metadata": {},
   "outputs": [],
   "source": [
    "avg_days = icij.groupby('facility')['days_solitary'].mean().sort_values(ascending=False)\n",
    "avg_days.name = 'mean_days_solitary'\n",
    "avg_days = avg_days.reset_index()\n",
    "avg_days['rank'] = avg_days.index + 1\n",
    "avg_days.set_index('rank', inplace=True)\n",
    "avg_days.head(10)"
   ]
  },
  {
   "cell_type": "code",
   "execution_count": null,
   "metadata": {},
   "outputs": [],
   "source": [
    "median_days = icij.groupby('facility')['days_solitary'].median().sort_values(ascending=False)\n",
    "median_days.name = 'median_days_solitary'\n",
    "median_days = median_days.reset_index()\n",
    "median_days['rank'] = median_days.index + 1\n",
    "median_days.set_index('rank', inplace=True)\n",
    "median_days[median_days['facility'] == icij_nwdc_str]"
   ]
  },
  {
   "cell_type": "code",
   "execution_count": null,
   "metadata": {},
   "outputs": [],
   "source": [
    "placement_count = icij.groupby('facility')['record_id'].count().sort_values(ascending=False)\n",
    "placement_count.name = 'solitary_placements'\n",
    "placement_count = placement_count.reset_index()\n",
    "placement_count['rank'] = placement_count.index + 1\n",
    "placement_count.set_index('rank', inplace=True)\n",
    "placement_count.head(10)"
   ]
  },
  {
   "cell_type": "markdown",
   "metadata": {},
   "source": [
    "### POGO: NWDC use of solitary confinement in comparison with other ICE detention facilities\n",
    "\n",
    "The dataset published by POGO includes 149 solitary confinement placements at NWDC from January 1, 2016 to May 3, 2018, placing NWDC at #13 among 99 ICE facilities ranked by number of solitary placements. The average length of solitary stay is almost 70 days (rank #2), median solitary stay is 42 days (rank #6). For both measures of length of stay, NWDC has the longest stays among federal detention centers."
   ]
  },
  {
   "cell_type": "code",
   "execution_count": null,
   "metadata": {},
   "outputs": [],
   "source": [
    "pogo['days_solitary'].describe()"
   ]
  },
  {
   "cell_type": "code",
   "execution_count": null,
   "metadata": {},
   "outputs": [],
   "source": [
    "sum(pogo['days_solitary'] > 15)"
   ]
  },
  {
   "cell_type": "code",
   "execution_count": null,
   "metadata": {},
   "outputs": [],
   "source": [
    "sum(pogo['days_solitary'] > 15) / len(pogo)"
   ]
  },
  {
   "cell_type": "code",
   "execution_count": null,
   "metadata": {},
   "outputs": [],
   "source": [
    "pogo.groupby('facility')['record_id'].count().rank(ascending=False)[pogo_nwdc_str]"
   ]
  },
  {
   "cell_type": "code",
   "execution_count": null,
   "metadata": {},
   "outputs": [],
   "source": [
    "pogo.groupby('facility')['days_solitary'].median().rank(ascending=False, method='min')[pogo_nwdc_str]"
   ]
  },
  {
   "cell_type": "code",
   "execution_count": null,
   "metadata": {},
   "outputs": [],
   "source": [
    "pogo.groupby('facility')['days_solitary'].describe().sort_values(by='mean', ascending=False).head(10)"
   ]
  },
  {
   "cell_type": "code",
   "execution_count": null,
   "metadata": {},
   "outputs": [],
   "source": [
    "pogo.groupby('facility')['days_solitary'].describe().sort_values(by='count', ascending=False).head(15)"
   ]
  },
  {
   "cell_type": "code",
   "execution_count": null,
   "metadata": {},
   "outputs": [],
   "source": [
    "avg_days = pogo.groupby('facility')['days_solitary'].mean().sort_values(ascending=False)\n",
    "avg_days.name = 'mean_days_solitary'\n",
    "avg_days = avg_days.reset_index()\n",
    "avg_days['rank'] = avg_days.index + 1\n",
    "avg_days.set_index('rank', inplace=True)\n",
    "avg_days.head(10)"
   ]
  },
  {
   "cell_type": "code",
   "execution_count": null,
   "metadata": {},
   "outputs": [],
   "source": [
    "median_days = pogo.groupby('facility')['days_solitary'].median().sort_values(ascending=False)\n",
    "median_days.name = 'median_days_solitary'\n",
    "median_days = median_days.reset_index()\n",
    "median_days['rank'] = median_days.index + 1\n",
    "median_days.set_index('rank', inplace=True)\n",
    "median_days[median_days['facility'] == pogo_nwdc_str]\n",
    "median_days.head(10)"
   ]
  },
  {
   "cell_type": "code",
   "execution_count": null,
   "metadata": {
    "scrolled": true
   },
   "outputs": [],
   "source": [
    "placement_count = pogo.groupby('facility')['record_id'].count().sort_values(ascending=False)\n",
    "placement_count.name = 'solitary_placements'\n",
    "placement_count = placement_count.reset_index()\n",
    "placement_count['rank'] = placement_count.index + 1\n",
    "placement_count.set_index('rank', inplace=True)\n",
    "placement_count[placement_count['facility'] == pogo_nwdc_str]"
   ]
  },
  {
   "cell_type": "code",
   "execution_count": null,
   "metadata": {
    "scrolled": true
   },
   "outputs": [],
   "source": [
    "pogo_nwdc_mask = pogo.set_index('placement_date')['facility'] == pogo_nwdc_str\n",
    "pogo_nwdc = pogo.set_index('placement_date').loc[pogo_nwdc_mask, 'days_solitary'].dropna()\n",
    "pogo_not_nwdc = pogo.set_index('placement_date').loc[~pogo_nwdc_mask, 'days_solitary'].dropna()\n",
    "\n",
    "x=pogo_not_nwdc.index.astype(int)\n",
    "y=np.log(pogo_not_nwdc.values)\n",
    "\n",
    "fig = plt.figure()\n",
    "ax = fig.add_subplot(111)\n",
    "plt.scatter(x, y)\n",
    "\n",
    "x=pogo_nwdc.index.astype(int)\n",
    "y=np.log(pogo_nwdc.values)\n",
    "plt.scatter(x, y)\n",
    "\n",
    "xticks = ax.get_xticks()\n",
    "xticks_dates = [pd.to_datetime(x).year for x in xticks]\n",
    "ax.set_xticklabels(xticks_dates)\n",
    "plt.show()\n",
    "plt.close(fig=fig)\n",
    "del fig, ax"
   ]
  },
  {
   "cell_type": "code",
   "execution_count": null,
   "metadata": {},
   "outputs": [],
   "source": [
    "import scipy.stats as scipystats"
   ]
  },
  {
   "cell_type": "code",
   "execution_count": null,
   "metadata": {},
   "outputs": [],
   "source": [
    "nwdc = pogo['facility'] == pogo_nwdc_str"
   ]
  },
  {
   "cell_type": "code",
   "execution_count": null,
   "metadata": {},
   "outputs": [],
   "source": [
    "# This statistical analysis section is speculative"
   ]
  },
  {
   "cell_type": "code",
   "execution_count": null,
   "metadata": {},
   "outputs": [],
   "source": [
    "ttest = scipystats.ttest_ind(pogo[nwdc]['days_solitary'], pogo[~nwdc]['days_solitary'], nan_policy='omit')"
   ]
  },
  {
   "cell_type": "code",
   "execution_count": null,
   "metadata": {},
   "outputs": [],
   "source": [
    "ttest"
   ]
  },
  {
   "cell_type": "markdown",
   "metadata": {},
   "source": [
    "### Placement reasons"
   ]
  },
  {
   "cell_type": "markdown",
   "metadata": {},
   "source": [
    "### Solitary length by Placement Reason"
   ]
  },
  {
   "cell_type": "markdown",
   "metadata": {},
   "source": [
    "Placement reasons are uniform categories used by all three datasets (UWCHR, ICIJ, POGO)."
   ]
  },
  {
   "cell_type": "code",
   "execution_count": null,
   "metadata": {},
   "outputs": [],
   "source": [
    "set(df['placement_reason']).union(set(pogo['placement_reason'])).union(set(icij['placement_reason']))"
   ]
  },
  {
   "cell_type": "code",
   "execution_count": null,
   "metadata": {},
   "outputs": [],
   "source": [
    "placement_counts = df['placement_reason'].value_counts(dropna=False)\n",
    "placement_mean_days = df.groupby(['placement_reason'])['days_solitary'].mean()\n",
    "placements = pd.concat([placement_counts, placement_mean_days], axis=1, sort=False)\n",
    "placements = placements.rename({'placement_reason': 'Total placements',\n",
    "    'days_solitary': 'Avg. solitary length'}, axis=1)\n",
    "placements.index.name = 'Solitary Placement Reason'\n",
    "placements"
   ]
  },
  {
   "cell_type": "markdown",
   "metadata": {},
   "source": [
    "Here we simplify placement reasons into broader groups for easier comparative analysis between dataests. We note that no \"Suicide Risk Placement\" records are associated with NWDC in any of the datasets, but all the other categories are present."
   ]
  },
  {
   "cell_type": "code",
   "execution_count": null,
   "metadata": {},
   "outputs": [],
   "source": [
    "# Simplify placement reasons into more general categories:\n",
    "with open(f'../hand/placement-types.yaml', 'r') as yamlfile:\n",
    "    placement_reason_type = yaml.load(yamlfile)"
   ]
  },
  {
   "cell_type": "code",
   "execution_count": null,
   "metadata": {},
   "outputs": [],
   "source": [
    "df['placement_reason_type'] = df['placement_reason'].replace(placement_reason_type)"
   ]
  },
  {
   "cell_type": "code",
   "execution_count": null,
   "metadata": {},
   "outputs": [],
   "source": [
    "order = df.groupby(by=[\"placement_reason_type\"])[\"log_days_solitary\"].median().sort_values(ascending=False).index"
   ]
  },
  {
   "cell_type": "code",
   "execution_count": null,
   "metadata": {
    "scrolled": true
   },
   "outputs": [],
   "source": [
    "ax = sns.boxplot(data=df, x=\"placement_reason_type\", y=\"log_days_solitary\", order=order)\n",
    "ax.set_xticklabels(ax.get_xticklabels(),rotation=90);"
   ]
  },
  {
   "cell_type": "code",
   "execution_count": null,
   "metadata": {},
   "outputs": [],
   "source": [
    "df['placement_reason_type'] = df['placement_reason_type'].astype('category')"
   ]
  },
  {
   "cell_type": "code",
   "execution_count": null,
   "metadata": {},
   "outputs": [],
   "source": [
    "df['placement_date_int'] = df['placement_date'].astype(int)"
   ]
  },
  {
   "cell_type": "code",
   "execution_count": null,
   "metadata": {
    "scrolled": false
   },
   "outputs": [],
   "source": [
    "# x=df.loc[:, 'placement_date'].astype(int)\n",
    "# y=df.loc[:,'log_days_solitary']\n",
    "\n",
    "lm = sns.lmplot(data=df, x='placement_date_int', y='log_days_solitary', hue='placement_reason_type', height=5,\n",
    "               aspect=2, fit_reg=False)\n",
    "\n",
    "ax = lm.axes\n",
    "\n",
    "xticks = ax[0,0].get_xticks()\n",
    "xticks_dates = [str(f'{pd.to_datetime(x).year}-Q{pd.to_datetime(x).quarter}') for x in xticks]\n",
    "ax = ax[0,0].set_xticklabels(xticks_dates, rotation=45)"
   ]
  },
  {
   "cell_type": "code",
   "execution_count": null,
   "metadata": {},
   "outputs": [],
   "source": [
    "# x=df.loc[:, 'placement_date'].astype(int)\n",
    "# y=df.loc[:,'log_days_solitary']\n",
    "\n",
    "lm = sns.lmplot(data=df, x='placement_date_int', y='log_days_solitary', hue='detainee_request', height=5,\n",
    "               aspect=2, fit_reg=False)\n",
    "\n",
    "ax = lm.axes\n",
    "\n",
    "xticks = ax[0,0].get_xticks()\n",
    "xticks_dates = [str(f'{pd.to_datetime(x).year}-Q{pd.to_datetime(x).quarter}') for x in xticks]\n",
    "ax[0,0].set_xticklabels(xticks_dates, rotation=45);"
   ]
  },
  {
   "cell_type": "code",
   "execution_count": null,
   "metadata": {},
   "outputs": [],
   "source": [
    "icij['placement_reason_type'] = icij['placement_reason'].replace(placement_reason_type)\n",
    "pogo['placement_reason_type'] = pogo['placement_reason'].replace(placement_reason_type)"
   ]
  },
  {
   "cell_type": "code",
   "execution_count": null,
   "metadata": {},
   "outputs": [],
   "source": [
    "icij['nwdc'] = icij['facility'] == icij_nwdc_str\n",
    "pogo['nwdc'] = pogo['facility'] == pogo_nwdc_str"
   ]
  },
  {
   "cell_type": "code",
   "execution_count": null,
   "metadata": {},
   "outputs": [],
   "source": [
    "icij.groupby(by=['nwdc',\"placement_reason_type\"])[\"days_solitary\"].describe()"
   ]
  },
  {
   "cell_type": "code",
   "execution_count": null,
   "metadata": {},
   "outputs": [],
   "source": [
    "pogo.groupby(by=[\"nwdc\",\"detainee_request\"])[\"days_solitary\"].describe()"
   ]
  },
  {
   "cell_type": "code",
   "execution_count": null,
   "metadata": {},
   "outputs": [],
   "source": [
    "pogo['log_days_solitary'] = np.log(pogo['days_solitary'])"
   ]
  },
  {
   "cell_type": "code",
   "execution_count": null,
   "metadata": {},
   "outputs": [],
   "source": [
    "sns.boxplot(x='nwdc',y='log_days_solitary',data=pogo,hue='detainee_request')"
   ]
  },
  {
   "cell_type": "code",
   "execution_count": null,
   "metadata": {},
   "outputs": [],
   "source": [
    "pogo.groupby(by=[\"nwdc\"])[\"days_solitary\"].describe()"
   ]
  },
  {
   "cell_type": "code",
   "execution_count": null,
   "metadata": {
    "scrolled": false
   },
   "outputs": [],
   "source": [
    "pogo.groupby(by=[\"nwdc\",\"placement_reason_type\"])[\"days_solitary\"].describe()"
   ]
  },
  {
   "cell_type": "code",
   "execution_count": null,
   "metadata": {},
   "outputs": [],
   "source": [
    "df.groupby(by=[\"placement_reason\"])[\"days_solitary\"].describe().sort_values(by='count', ascending=False)"
   ]
  },
  {
   "cell_type": "code",
   "execution_count": null,
   "metadata": {},
   "outputs": [],
   "source": [
    "df.groupby(by=[\"placement_reason_type\", 'detainee_request'])[\"days_solitary\"].describe()"
   ]
  },
  {
   "cell_type": "code",
   "execution_count": null,
   "metadata": {},
   "outputs": [],
   "source": [
    "pogo['detainee_request'].value_counts()"
   ]
  },
  {
   "cell_type": "code",
   "execution_count": null,
   "metadata": {},
   "outputs": [],
   "source": [
    "facility_init = pogo['detainee_request'] == 'Facility-Initiated'"
   ]
  },
  {
   "cell_type": "code",
   "execution_count": null,
   "metadata": {},
   "outputs": [],
   "source": [
    "# Only facility-initated segregation: NWDC versus all other facilities\n",
    "pogo[facility_init].groupby(by=[\"nwdc\"])[\"days_solitary\"].describe()"
   ]
  },
  {
   "cell_type": "code",
   "execution_count": null,
   "metadata": {},
   "outputs": [],
   "source": [
    "pogo.groupby(by=[\"nwdc\", 'detainee_request', 'placement_reason_type'])[\"days_solitary\"].describe()"
   ]
  },
  {
   "cell_type": "code",
   "execution_count": null,
   "metadata": {},
   "outputs": [],
   "source": [
    "pogo.set_index('placement_date').groupby('facility')['days_solitary'].mean().rank(ascending=False)[pogo_nwdc_str]"
   ]
  },
  {
   "cell_type": "code",
   "execution_count": null,
   "metadata": {
    "scrolled": true
   },
   "outputs": [],
   "source": [
    "pogo.set_index('placement_date').groupby([pd.Grouper(freq='Q'),'facility'])['days_solitary'].mean().rank(pct=False, ascending=False).unstack()[pogo_nwdc_str]"
   ]
  },
  {
   "cell_type": "code",
   "execution_count": null,
   "metadata": {},
   "outputs": [],
   "source": [
    "pogo.set_index('placement_date').groupby([pd.Grouper(freq='Q'),'facility'])['days_solitary'].mean().unstack()[pogo_nwdc_str]"
   ]
  },
  {
   "cell_type": "code",
   "execution_count": null,
   "metadata": {},
   "outputs": [],
   "source": [
    "pogo[facility_init].set_index('placement_date').groupby('facility')['days_solitary'].mean().rank(ascending=False)[pogo_nwdc_str]"
   ]
  },
  {
   "cell_type": "markdown",
   "metadata": {},
   "source": [
    "### Facility population"
   ]
  },
  {
   "cell_type": "markdown",
   "metadata": {},
   "source": [
    "Bringing in standardized `DETLOC` codes from ICE Facilities List"
   ]
  },
  {
   "cell_type": "code",
   "execution_count": 122,
   "metadata": {},
   "outputs": [],
   "source": [
    "facil_df = pd.read_csv('../../../ice-facilities/import/output/ICEFacilityListReport.csv.gz',\n",
    "                      **csv_opts,\n",
    "                      header=8)"
   ]
  },
  {
   "cell_type": "code",
   "execution_count": 123,
   "metadata": {},
   "outputs": [
    {
     "data": {
      "text/html": [
       "<div>\n",
       "<style scoped>\n",
       "    .dataframe tbody tr th:only-of-type {\n",
       "        vertical-align: middle;\n",
       "    }\n",
       "\n",
       "    .dataframe tbody tr th {\n",
       "        vertical-align: top;\n",
       "    }\n",
       "\n",
       "    .dataframe thead th {\n",
       "        text-align: right;\n",
       "    }\n",
       "</style>\n",
       "<table border=\"1\" class=\"dataframe\">\n",
       "  <thead>\n",
       "    <tr style=\"text-align: right;\">\n",
       "      <th></th>\n",
       "      <th>DETLOC</th>\n",
       "      <th>Name</th>\n",
       "      <th>Address</th>\n",
       "      <th>City</th>\n",
       "      <th>County</th>\n",
       "      <th>State</th>\n",
       "      <th>Zip</th>\n",
       "      <th>Circuit</th>\n",
       "      <th>AOR</th>\n",
       "      <th>Docket</th>\n",
       "      <th>...</th>\n",
       "      <th>DSM Assigned?</th>\n",
       "      <th>DSM Assignment Type</th>\n",
       "      <th>FY18 Calendar Days in Use</th>\n",
       "      <th>FY18 Possible Days</th>\n",
       "      <th>FY18 % of Days in Use</th>\n",
       "      <th>FY18 Total Mandays</th>\n",
       "      <th>FY17 Calendar Days in Use</th>\n",
       "      <th>FY17 % of Days in Use</th>\n",
       "      <th>FY17 Total Mandays</th>\n",
       "      <th>FY17 Max Pop Count</th>\n",
       "    </tr>\n",
       "  </thead>\n",
       "  <tbody>\n",
       "    <tr>\n",
       "      <th>0</th>\n",
       "      <td>ABRDNWA</td>\n",
       "      <td>ABERDEEN CITY JAIL</td>\n",
       "      <td>210 EAST MARKET ST</td>\n",
       "      <td>ABERDEEN</td>\n",
       "      <td>GRAYS HARBOR</td>\n",
       "      <td>WA</td>\n",
       "      <td>98520</td>\n",
       "      <td>9</td>\n",
       "      <td>SEA</td>\n",
       "      <td>SEA</td>\n",
       "      <td>...</td>\n",
       "      <td>No</td>\n",
       "      <td>NaN</td>\n",
       "      <td>0</td>\n",
       "      <td>400</td>\n",
       "      <td>0%</td>\n",
       "      <td>0</td>\n",
       "      <td>0</td>\n",
       "      <td>0%</td>\n",
       "      <td>0</td>\n",
       "      <td>0</td>\n",
       "    </tr>\n",
       "    <tr>\n",
       "      <th>1</th>\n",
       "      <td>ABTHOLD</td>\n",
       "      <td>ABILENE HOLD ROOM</td>\n",
       "      <td>12071 FM 3522</td>\n",
       "      <td>ABILENE</td>\n",
       "      <td>ABILENE</td>\n",
       "      <td>TX</td>\n",
       "      <td>79601</td>\n",
       "      <td>5</td>\n",
       "      <td>DAL</td>\n",
       "      <td>ABT</td>\n",
       "      <td>...</td>\n",
       "      <td>No</td>\n",
       "      <td>NaN</td>\n",
       "      <td>0</td>\n",
       "      <td>400</td>\n",
       "      <td>0%</td>\n",
       "      <td>0</td>\n",
       "      <td>0</td>\n",
       "      <td>0%</td>\n",
       "      <td>0</td>\n",
       "      <td>0</td>\n",
       "    </tr>\n",
       "    <tr>\n",
       "      <th>2</th>\n",
       "      <td>ABRXSPA</td>\n",
       "      <td>ABRAXAS ACADEMY DETENTION CENTER</td>\n",
       "      <td>1000 ACADEMY DRIVE</td>\n",
       "      <td>MORGANTOWN</td>\n",
       "      <td>BERKS</td>\n",
       "      <td>PA</td>\n",
       "      <td>19543</td>\n",
       "      <td>3</td>\n",
       "      <td>PHI</td>\n",
       "      <td>BRK</td>\n",
       "      <td>...</td>\n",
       "      <td>No</td>\n",
       "      <td>NaN</td>\n",
       "      <td>35</td>\n",
       "      <td>400</td>\n",
       "      <td>9%</td>\n",
       "      <td>800</td>\n",
       "      <td>372</td>\n",
       "      <td>102%</td>\n",
       "      <td>1,207</td>\n",
       "      <td>5</td>\n",
       "    </tr>\n",
       "    <tr>\n",
       "      <th>3</th>\n",
       "      <td>RICRANS</td>\n",
       "      <td>ACI (CRANSTON, RHODE ISLAND)</td>\n",
       "      <td>39 HOWARD AVE</td>\n",
       "      <td>CRANSTON</td>\n",
       "      <td>PROVIDENCE</td>\n",
       "      <td>RI</td>\n",
       "      <td>02920</td>\n",
       "      <td>1</td>\n",
       "      <td>BOS</td>\n",
       "      <td>BOS</td>\n",
       "      <td>...</td>\n",
       "      <td>No</td>\n",
       "      <td>NaN</td>\n",
       "      <td>0</td>\n",
       "      <td>400</td>\n",
       "      <td>0%</td>\n",
       "      <td>0</td>\n",
       "      <td>0</td>\n",
       "      <td>0%</td>\n",
       "      <td>0</td>\n",
       "      <td>0</td>\n",
       "    </tr>\n",
       "    <tr>\n",
       "      <th>4</th>\n",
       "      <td>ADACOID</td>\n",
       "      <td>ADA COUNTY JAIL</td>\n",
       "      <td>7210 BARRISTER DRIVE</td>\n",
       "      <td>BOISE</td>\n",
       "      <td>ADA</td>\n",
       "      <td>ID</td>\n",
       "      <td>83704</td>\n",
       "      <td>9</td>\n",
       "      <td>SLC</td>\n",
       "      <td>HEL</td>\n",
       "      <td>...</td>\n",
       "      <td>No</td>\n",
       "      <td>NaN</td>\n",
       "      <td>0</td>\n",
       "      <td>400</td>\n",
       "      <td>0%</td>\n",
       "      <td>0</td>\n",
       "      <td>0</td>\n",
       "      <td>0%</td>\n",
       "      <td>0</td>\n",
       "      <td>0</td>\n",
       "    </tr>\n",
       "  </tbody>\n",
       "</table>\n",
       "<p>5 rows × 135 columns</p>\n",
       "</div>"
      ],
      "text/plain": [
       "    DETLOC                              Name               Address  \\\n",
       "0  ABRDNWA                ABERDEEN CITY JAIL    210 EAST MARKET ST   \n",
       "1  ABTHOLD                 ABILENE HOLD ROOM         12071 FM 3522   \n",
       "2  ABRXSPA  ABRAXAS ACADEMY DETENTION CENTER    1000 ACADEMY DRIVE   \n",
       "3  RICRANS      ACI (CRANSTON, RHODE ISLAND)         39 HOWARD AVE   \n",
       "4  ADACOID                   ADA COUNTY JAIL  7210 BARRISTER DRIVE   \n",
       "\n",
       "         City         County State    Zip  Circuit  AOR Docket  \\\n",
       "0    ABERDEEN  GRAYS HARBOR     WA  98520        9  SEA    SEA   \n",
       "1     ABILENE        ABILENE    TX  79601        5  DAL    ABT   \n",
       "2  MORGANTOWN          BERKS    PA  19543        3  PHI    BRK   \n",
       "3    CRANSTON     PROVIDENCE    RI  02920        1  BOS    BOS   \n",
       "4       BOISE            ADA    ID  83704        9  SLC    HEL   \n",
       "\n",
       "         ...         DSM Assigned? DSM Assignment Type  \\\n",
       "0        ...                    No                 NaN   \n",
       "1        ...                    No                 NaN   \n",
       "2        ...                    No                 NaN   \n",
       "3        ...                    No                 NaN   \n",
       "4        ...                    No                 NaN   \n",
       "\n",
       "  FY18 Calendar Days in Use FY18 Possible Days FY18 % of Days in Use  \\\n",
       "0                         0                400                    0%   \n",
       "1                         0                400                    0%   \n",
       "2                        35                400                    9%   \n",
       "3                         0                400                    0%   \n",
       "4                         0                400                    0%   \n",
       "\n",
       "  FY18 Total Mandays FY17 Calendar Days in Use FY17 % of Days in Use  \\\n",
       "0                  0                         0                    0%   \n",
       "1                  0                         0                    0%   \n",
       "2                800                       372                  102%   \n",
       "3                  0                         0                    0%   \n",
       "4                  0                         0                    0%   \n",
       "\n",
       "  FY17 Total Mandays FY17 Max Pop Count  \n",
       "0                  0                  0  \n",
       "1                  0                  0  \n",
       "2              1,207                  5  \n",
       "3                  0                  0  \n",
       "4                  0                  0  \n",
       "\n",
       "[5 rows x 135 columns]"
      ]
     },
     "execution_count": 123,
     "metadata": {},
     "output_type": "execute_result"
    }
   ],
   "source": [
    "facil_df.head()"
   ]
  },
  {
   "cell_type": "code",
   "execution_count": null,
   "metadata": {},
   "outputs": [],
   "source": [
    "# Quick and dirty cleaning of facilities data\n",
    "for col in facil_df.columns:\n",
    "    try:\n",
    "        facil_df.loc[:, col] = facil_df.loc[:, col].astype(str)\n",
    "        facil_df.loc[:, col] = facil_df.loc[:, col].str.replace(',','')\n",
    "        facil_df.loc[:, col] = facil_df.loc[:, col].str.replace('$','')\n",
    "        facil_df.loc[:, col] = facil_df.loc[:, col].str.replace('%','')\n",
    "        facil_df.loc[:, col] = facil_df.loc[:, col].astype(int)\n",
    "    except ValueError:\n",
    "        pass"
   ]
  },
  {
   "cell_type": "code",
   "execution_count": null,
   "metadata": {},
   "outputs": [],
   "source": [
    "facil_name = facil_df.set_index('DETLOC')['Name']"
   ]
  },
  {
   "cell_type": "code",
   "execution_count": null,
   "metadata": {},
   "outputs": [],
   "source": [
    "facil_detloc_df = pd.read_csv('../hand/icij-pogo-facilities.csv')"
   ]
  },
  {
   "cell_type": "code",
   "execution_count": null,
   "metadata": {},
   "outputs": [],
   "source": [
    "facil_detloc_df.set_index('detloc').join(facil_name)"
   ]
  },
  {
   "cell_type": "code",
   "execution_count": null,
   "metadata": {},
   "outputs": [],
   "source": [
    "facil_detloc_df.to_csv('../output/icij-pogo-facilities.csv')"
   ]
  },
  {
   "cell_type": "code",
   "execution_count": null,
   "metadata": {},
   "outputs": [],
   "source": [
    "facil_detloc = dict(zip(facil_detloc_df['facility'], facil_detloc_df['detloc']))"
   ]
  },
  {
   "cell_type": "code",
   "execution_count": null,
   "metadata": {},
   "outputs": [],
   "source": [
    "icij['detloc'] = icij['facility'].replace(facil_detloc)"
   ]
  },
  {
   "cell_type": "code",
   "execution_count": null,
   "metadata": {},
   "outputs": [],
   "source": [
    "pogo['detloc'] = pogo['facility'].replace(facil_detloc)"
   ]
  },
  {
   "cell_type": "markdown",
   "metadata": {},
   "source": [
    "### Stats by facility operator"
   ]
  },
  {
   "cell_type": "code",
   "execution_count": null,
   "metadata": {},
   "outputs": [],
   "source": [
    "detloc_operator = facil_df[['DETLOC', 'Facility Operator']].set_index('DETLOC')"
   ]
  },
  {
   "cell_type": "code",
   "execution_count": null,
   "metadata": {},
   "outputs": [],
   "source": [
    "pogo = pogo.join(detloc_operator, on='detloc')"
   ]
  },
  {
   "cell_type": "code",
   "execution_count": null,
   "metadata": {},
   "outputs": [],
   "source": [
    "pogo['Facility Operator'] = pogo['Facility Operator'].fillna('UNKNOWN')\n",
    "pogo.groupby('Facility Operator')['days_solitary'].mean().sort_values()"
   ]
  },
  {
   "cell_type": "code",
   "execution_count": null,
   "metadata": {},
   "outputs": [],
   "source": [
    "facil_df.set_index('DETLOC')['FY17 ADP'].sort_values(ascending=False).head(15)"
   ]
  },
  {
   "cell_type": "code",
   "execution_count": null,
   "metadata": {},
   "outputs": [],
   "source": [
    "facil_capacity = facil_df.set_index('DETLOC')['Capacity']\n",
    "facil_capacity = facil_capacity[facil_capacity != 'AS NEEDED']\n",
    "facil_capacity = facil_capacity.astype(int)\n",
    "facil_capacity.sort_values(ascending=False).head(15)"
   ]
  },
  {
   "cell_type": "markdown",
   "metadata": {},
   "source": [
    "## Analysis of ADP, ALOS"
   ]
  },
  {
   "cell_type": "code",
   "execution_count": null,
   "metadata": {},
   "outputs": [],
   "source": [
    "with open(f'../hand/adp_dict.yaml', 'r') as yamlfile:\n",
    "    adp_dict = yaml.load(yamlfile)\n",
    "    \n",
    "with open(f'../hand/alos_dict.yaml', 'r') as yamlfile:\n",
    "    alos_dict = yaml.load(yamlfile)"
   ]
  },
  {
   "cell_type": "code",
   "execution_count": null,
   "metadata": {},
   "outputs": [],
   "source": [
    "adp = pd.DataFrame(adp_dict).astype('float')"
   ]
  },
  {
   "cell_type": "code",
   "execution_count": null,
   "metadata": {},
   "outputs": [],
   "source": []
  },
  {
   "cell_type": "code",
   "execution_count": null,
   "metadata": {},
   "outputs": [],
   "source": [
    "alos = pd.DataFrame(alos_dict).astype('float')"
   ]
  },
  {
   "cell_type": "code",
   "execution_count": null,
   "metadata": {},
   "outputs": [],
   "source": [
    "alos = alos.drop('Redacted', axis=1)"
   ]
  },
  {
   "cell_type": "code",
   "execution_count": null,
   "metadata": {},
   "outputs": [],
   "source": [
    "alos.dropna(how='all', axis=1)"
   ]
  },
  {
   "cell_type": "code",
   "execution_count": null,
   "metadata": {},
   "outputs": [],
   "source": [
    "alos.mean().dropna().rank(pct=True, ascending=True)['CSCNWWA']"
   ]
  },
  {
   "cell_type": "code",
   "execution_count": null,
   "metadata": {},
   "outputs": [],
   "source": [
    "# NWDC ALOS percentile rank\n",
    "alos.T.rank(pct=True, ascending=True).loc['CSCNWWA']"
   ]
  },
  {
   "cell_type": "code",
   "execution_count": null,
   "metadata": {},
   "outputs": [],
   "source": [
    "alos.T.loc['CSCNWWA']"
   ]
  },
  {
   "cell_type": "code",
   "execution_count": null,
   "metadata": {},
   "outputs": [],
   "source": [
    "alos.index"
   ]
  },
  {
   "cell_type": "code",
   "execution_count": null,
   "metadata": {},
   "outputs": [],
   "source": [
    "alos.T.rank(pct=True, ascending=True).loc['CSCNWWA'].mean()"
   ]
  },
  {
   "cell_type": "code",
   "execution_count": null,
   "metadata": {},
   "outputs": [],
   "source": [
    "# NWDC ALOS absolute rank\n",
    "alos.T.rank(ascending=False).loc['CSCNWWA']"
   ]
  },
  {
   "cell_type": "code",
   "execution_count": null,
   "metadata": {},
   "outputs": [],
   "source": [
    "alos.loc[:,'CSCNWWA']"
   ]
  },
  {
   "cell_type": "code",
   "execution_count": null,
   "metadata": {},
   "outputs": [],
   "source": [
    "nwdc_adp = adp.loc[:,'CSCNWWA']\n",
    "nwdc_alos = alos.loc[:,'CSCNWWA']"
   ]
  },
  {
   "cell_type": "code",
   "execution_count": null,
   "metadata": {},
   "outputs": [],
   "source": [
    "nwdc_alos"
   ]
  },
  {
   "cell_type": "code",
   "execution_count": null,
   "metadata": {},
   "outputs": [],
   "source": [
    "nwdc_adp.index = ['2008-10-01',\n",
    "                  '2009-10-01',\n",
    "                  '2010-10-01',\n",
    "                  '2011-10-01',\n",
    "                  '2012-10-01',\n",
    "                  '2013-10-01',\n",
    "                  '2014-10-01',\n",
    "                  '2015-10-01',\n",
    "                  '2016-10-01',\n",
    "                  '2017-10-01',\n",
    "                 ]\n",
    "\n",
    "nwdc_alos.index = ['2014-10-01',\n",
    "                   '2015-10-01',\n",
    "                   '2016-10-01',\n",
    "                   '2017-10-01',\n",
    "                  ]"
   ]
  },
  {
   "cell_type": "code",
   "execution_count": null,
   "metadata": {},
   "outputs": [],
   "source": [
    "nwdc_adp.index = pd.to_datetime(nwdc_adp.index)\n",
    "nwdc_alos.index = pd.to_datetime(nwdc_alos.index)"
   ]
  },
  {
   "cell_type": "code",
   "execution_count": null,
   "metadata": {},
   "outputs": [],
   "source": [
    "fy14_fy17_adp = nwdc_adp.loc['2013':'2016']\n",
    "fy15_fy17_alos = nwdc_alos.loc['2014':'2016']"
   ]
  },
  {
   "cell_type": "code",
   "execution_count": null,
   "metadata": {},
   "outputs": [],
   "source": [
    "df_full_fy = df[(df['placement_date'] > '2013-10-01') & (df['placement_date'] < '2017-10-01')]"
   ]
  },
  {
   "cell_type": "code",
   "execution_count": null,
   "metadata": {},
   "outputs": [],
   "source": [
    "fy14_fy17_adp"
   ]
  },
  {
   "cell_type": "code",
   "execution_count": null,
   "metadata": {},
   "outputs": [],
   "source": [
    "fy15_fy17_alos"
   ]
  },
  {
   "cell_type": "code",
   "execution_count": null,
   "metadata": {},
   "outputs": [],
   "source": [
    "min_date = df_full_fy['placement_date'].min()\n",
    "max_date = df_full_fy['placement_date'].max()\n",
    "timeline = pd.date_range(min_date, max_date, freq='D')\n",
    "years = timeline.year.unique()\n",
    "\n",
    "counts = pd.Series(index=timeline)\n",
    "for day in timeline:\n",
    "    in_range = df_full_fy[(df_full_fy['placement_date'] <= day) & (df_full_fy['release_date'] >= day)]\n",
    "    counts[day] = len(in_range)"
   ]
  },
  {
   "cell_type": "code",
   "execution_count": null,
   "metadata": {},
   "outputs": [],
   "source": [
    "fy14_fy17_solitary = counts.resample('AS-OCT').mean()"
   ]
  },
  {
   "cell_type": "code",
   "execution_count": null,
   "metadata": {},
   "outputs": [],
   "source": [
    "fy14_fy17_solitary.name = 'solitary_ADP'"
   ]
  },
  {
   "cell_type": "code",
   "execution_count": null,
   "metadata": {},
   "outputs": [],
   "source": [
    "fy14_fy17_solitary_length = df_full_fy.set_index('placement_date').resample('AS-OCT')['days_solitary'].mean()\n",
    "fy14_fy17_solitary_length.name = 'avg_solitary_length'"
   ]
  },
  {
   "cell_type": "code",
   "execution_count": null,
   "metadata": {},
   "outputs": [],
   "source": [
    "nwdc_per_capita = pd.concat([fy14_fy17_solitary, fy14_fy17_adp], axis=1)"
   ]
  },
  {
   "cell_type": "code",
   "execution_count": null,
   "metadata": {},
   "outputs": [],
   "source": [
    "nwdc_per_capita = nwdc_per_capita.rename({'CSCNWWA': 'ADP'}, axis=1)"
   ]
  },
  {
   "cell_type": "code",
   "execution_count": null,
   "metadata": {},
   "outputs": [],
   "source": [
    "nwdc_per_capita"
   ]
  },
  {
   "cell_type": "code",
   "execution_count": null,
   "metadata": {},
   "outputs": [],
   "source": [
    "nwdc_per_capita['per_capita'] = nwdc_per_capita['solitary_ADP'] / nwdc_per_capita['ADP']"
   ]
  },
  {
   "cell_type": "code",
   "execution_count": null,
   "metadata": {
    "scrolled": true
   },
   "outputs": [],
   "source": [
    "nwdc_per_capita['per_capita'] * 100"
   ]
  },
  {
   "cell_type": "code",
   "execution_count": null,
   "metadata": {},
   "outputs": [],
   "source": [
    "# pogo_fy_17 = pogo[(pogo['placement_date'] > '2016-10-01') & (pogo['placement_date'] < '2017-10-01')]"
   ]
  },
  {
   "cell_type": "code",
   "execution_count": null,
   "metadata": {},
   "outputs": [],
   "source": [
    "min_date = pogo['placement_date'].min()\n",
    "max_date = pogo['release_date'].max()\n",
    "timeline = pd.date_range(min_date, max_date, freq='D')\n",
    "years = timeline.year.unique()\n",
    "\n",
    "counts = dict()\n",
    "\n",
    "for facility in pogo['facility'].unique():\n",
    "    facil_count = pd.Series(index=timeline)\n",
    "    facil_temp = pogo[pogo['facility'] == facility]\n",
    "    for day in timeline:\n",
    "        in_range = facil_temp[(facil_temp['placement_date'] <= day) & (facil_temp['release_date'] >= day)]\n",
    "        facil_count[day] = len(in_range)\n",
    "        facil_solitary_adp = facil_count.resample('AS-OCT').mean()\n",
    "    counts[facility] = facil_solitary_adp.loc['2016']"
   ]
  },
  {
   "cell_type": "markdown",
   "metadata": {},
   "source": [
    "Calculation of average daily solitary pop. for NWDC based on POGO is close but not exactly the same as when calculated with UWCHR dataset. Why not? Because UWCHR dataset includes people placed prior to POGO dataset?"
   ]
  },
  {
   "cell_type": "code",
   "execution_count": null,
   "metadata": {},
   "outputs": [],
   "source": [
    "counts[pogo_nwdc_str]"
   ]
  },
  {
   "cell_type": "code",
   "execution_count": null,
   "metadata": {},
   "outputs": [],
   "source": [
    "detloc_count = pogo.groupby('detloc')['record_id'].count()\n",
    "top_15_detloc = set(detloc_count.sort_values(ascending=False).head(15).index)"
   ]
  },
  {
   "cell_type": "code",
   "execution_count": null,
   "metadata": {},
   "outputs": [],
   "source": [
    "detloc_count_fy17 = pogo.set_index('placement_date').loc['2016'].groupby('detloc')['record_id'].count()\n"
   ]
  },
  {
   "cell_type": "code",
   "execution_count": null,
   "metadata": {},
   "outputs": [],
   "source": [
    "detloc_count_fy17.head()"
   ]
  },
  {
   "cell_type": "code",
   "execution_count": null,
   "metadata": {},
   "outputs": [],
   "source": [
    "facil_solitary_adp = pd.DataFrame.from_dict(counts).T\n",
    "facil_solitary_adp = facil_solitary_adp.rename({0: 'solitary_ADP'}, axis=1)"
   ]
  },
  {
   "cell_type": "code",
   "execution_count": null,
   "metadata": {},
   "outputs": [],
   "source": [
    "facil_solitary_adp.columns = ['FY17_solitary_ADP']"
   ]
  },
  {
   "cell_type": "code",
   "execution_count": null,
   "metadata": {},
   "outputs": [],
   "source": [
    "facil_solitary_adp.sort_values(by='FY17_solitary_ADP',ascending=False).head(10)"
   ]
  },
  {
   "cell_type": "code",
   "execution_count": null,
   "metadata": {},
   "outputs": [],
   "source": [
    "facil_solitary_adp = facil_solitary_adp.join(pogo.set_index('facility')['detloc'].drop_duplicates())"
   ]
  },
  {
   "cell_type": "code",
   "execution_count": null,
   "metadata": {},
   "outputs": [],
   "source": [
    "facil_solitary_adp.set_index('detloc', inplace=True)"
   ]
  },
  {
   "cell_type": "code",
   "execution_count": null,
   "metadata": {},
   "outputs": [],
   "source": [
    "pogo_fy17_adps = facil_solitary_adp.join(facil_df.set_index('DETLOC')['FY17 ADP'])\n",
    "pogo_fy17_adps['FY17 Solitary per capita'] = pogo_fy17_adps['FY17_solitary_ADP'] / pogo_fy17_adps['FY17 ADP'] * 100\n",
    "pogo_fy17_adps.sort_values(by='FY17_solitary_ADP', ascending=False).head(15)\n",
    "# pogo_fy17_adps.sort_values(by='FY17 Solitary per capita', ascending=False).head(15)"
   ]
  },
  {
   "cell_type": "code",
   "execution_count": null,
   "metadata": {},
   "outputs": [],
   "source": [
    "pogo_fy17_adps.sort_values(by='FY17 Solitary per capita', ascending=False).head(15)"
   ]
  },
  {
   "cell_type": "code",
   "execution_count": null,
   "metadata": {},
   "outputs": [],
   "source": [
    "pogo_avg_solitary_length = pogo.set_index('placement_date').groupby(['detloc',pd.Grouper(freq='AS-OCT')])['days_solitary'].mean().unstack()"
   ]
  },
  {
   "cell_type": "code",
   "execution_count": null,
   "metadata": {},
   "outputs": [],
   "source": [
    "pogo_med_solitary_length = pogo.set_index('placement_date').groupby(['detloc',pd.Grouper(freq='AS-OCT')])['days_solitary'].median().unstack()"
   ]
  },
  {
   "cell_type": "code",
   "execution_count": null,
   "metadata": {},
   "outputs": [],
   "source": [
    "pogo_med_solitary_length.head(10)"
   ]
  },
  {
   "cell_type": "code",
   "execution_count": null,
   "metadata": {},
   "outputs": [],
   "source": [
    "pogo_fy17_avg_solitary_length = pogo_avg_solitary_length.T.loc['2016'].T"
   ]
  },
  {
   "cell_type": "code",
   "execution_count": null,
   "metadata": {},
   "outputs": [],
   "source": [
    "pogo_fy17_med_solitary_length = pogo_med_solitary_length.T.loc['2016'].T"
   ]
  },
  {
   "cell_type": "code",
   "execution_count": null,
   "metadata": {},
   "outputs": [],
   "source": [
    "pogo_fy17_avg_solitary_length.columns = ['FY17 avg solitary length']"
   ]
  },
  {
   "cell_type": "code",
   "execution_count": null,
   "metadata": {},
   "outputs": [],
   "source": [
    "pogo_fy17_med_solitary_length.columns = ['FY17 med solitary length']"
   ]
  },
  {
   "cell_type": "code",
   "execution_count": null,
   "metadata": {},
   "outputs": [],
   "source": [
    "alos_fy17 = pd.DataFrame(alos.T['FY17 ALOS'])"
   ]
  },
  {
   "cell_type": "code",
   "execution_count": null,
   "metadata": {},
   "outputs": [],
   "source": [
    "solitary_v_alos_fy17 = pogo_fy17_avg_solitary_length.join(alos_fy17)"
   ]
  },
  {
   "cell_type": "code",
   "execution_count": null,
   "metadata": {},
   "outputs": [],
   "source": [
    "solitary_v_alos_fy17.columns = ['FY17 avg solitary length', 'FY17 ALOS']"
   ]
  },
  {
   "cell_type": "code",
   "execution_count": null,
   "metadata": {},
   "outputs": [],
   "source": [
    "solitary_v_alos_fy17['Solitary / ALOS ratio'] = solitary_v_alos_fy17['FY17 avg solitary length'] / solitary_v_alos_fy17['FY17 ALOS']"
   ]
  },
  {
   "cell_type": "code",
   "execution_count": null,
   "metadata": {},
   "outputs": [],
   "source": [
    "solitary_v_alos_fy17 = solitary_v_alos_fy17.join(pd.DataFrame(facil_capacity))"
   ]
  },
  {
   "cell_type": "code",
   "execution_count": null,
   "metadata": {},
   "outputs": [],
   "source": [
    "# solitary_v_alos_fy17 = solitary_v_alos_fy17.loc[solitary_v_alos_fy17.index.isin(top_15_detloc)]"
   ]
  },
  {
   "cell_type": "code",
   "execution_count": null,
   "metadata": {},
   "outputs": [],
   "source": [
    "# solitary_v_alos_fy17 = solitary_v_alos_fy17.sort_values(by='Solitary / ALOS ratio', ascending=False)"
   ]
  },
  {
   "cell_type": "code",
   "execution_count": null,
   "metadata": {},
   "outputs": [],
   "source": [
    "# solitary_v_alos_fy17 = solitary_v_alos_fy17.reset_index().reset_index().rename({'index': 'Solitary / ALOS ratio rank'}, axis=1)"
   ]
  },
  {
   "cell_type": "code",
   "execution_count": null,
   "metadata": {},
   "outputs": [],
   "source": [
    "solitary_v_alos_fy17.head()"
   ]
  },
  {
   "cell_type": "code",
   "execution_count": null,
   "metadata": {},
   "outputs": [],
   "source": [
    "# solitary_v_alos_fy17['Solitary / ALOS ratio rank'] = solitary_v_alos_fy17['Solitary / ALOS ratio rank'] + 1"
   ]
  },
  {
   "cell_type": "code",
   "execution_count": null,
   "metadata": {},
   "outputs": [],
   "source": [
    "# solitary_v_alos_fy17.set_index('detloc').loc['CSCNWWA']"
   ]
  },
  {
   "cell_type": "code",
   "execution_count": null,
   "metadata": {},
   "outputs": [],
   "source": [
    "# solitary_v_alos_fy17.set_index('detloc', inplace=True)"
   ]
  },
  {
   "cell_type": "code",
   "execution_count": null,
   "metadata": {},
   "outputs": [],
   "source": [
    "solitary_v_alos_fy17['solitary_placements_fy17'] = detloc_count_fy17"
   ]
  },
  {
   "cell_type": "code",
   "execution_count": null,
   "metadata": {},
   "outputs": [],
   "source": [
    "temp = solitary_v_alos_fy17.join(pogo_fy17_adps)"
   ]
  },
  {
   "cell_type": "code",
   "execution_count": null,
   "metadata": {},
   "outputs": [],
   "source": [
    "temp = temp.join(pogo_fy17_med_solitary_length)"
   ]
  },
  {
   "cell_type": "code",
   "execution_count": null,
   "metadata": {},
   "outputs": [],
   "source": [
    "# temp = temp.drop(['Capacity', 'solitary_placements'], axis=1)"
   ]
  },
  {
   "cell_type": "code",
   "execution_count": null,
   "metadata": {},
   "outputs": [],
   "source": [
    "temp_2 = facil_detloc_df[['detloc', 'facility']].drop_duplicates(subset='detloc').set_index('detloc')"
   ]
  },
  {
   "cell_type": "code",
   "execution_count": null,
   "metadata": {},
   "outputs": [],
   "source": [
    "temp = temp.join(temp_2)"
   ]
  },
  {
   "cell_type": "code",
   "execution_count": null,
   "metadata": {},
   "outputs": [],
   "source": [
    "# temp.to_csv('../output/FY17-solitary-stats-draft.csv')"
   ]
  },
  {
   "cell_type": "code",
   "execution_count": null,
   "metadata": {},
   "outputs": [],
   "source": [
    "temp.sort_values(by='FY17_solitary_ADP', ascending=False).head(15)"
   ]
  },
  {
   "cell_type": "markdown",
   "metadata": {},
   "source": [
    "## Visualizing/calculating rank over time"
   ]
  },
  {
   "cell_type": "code",
   "execution_count": null,
   "metadata": {},
   "outputs": [],
   "source": [
    "# pogo['placement_year'] = pogo['placement_date'].map(lambda x: x.year)"
   ]
  },
  {
   "cell_type": "code",
   "execution_count": null,
   "metadata": {},
   "outputs": [],
   "source": [
    "facil_count = pogo.groupby('facility')['record_id'].count()"
   ]
  },
  {
   "cell_type": "code",
   "execution_count": null,
   "metadata": {},
   "outputs": [],
   "source": [
    "facil_count = facil_count.sort_values(ascending=False)"
   ]
  },
  {
   "cell_type": "code",
   "execution_count": null,
   "metadata": {},
   "outputs": [],
   "source": [
    "top_15_facil = facil_count.sort_values(ascending=False).head(15).index"
   ]
  },
  {
   "cell_type": "code",
   "execution_count": null,
   "metadata": {},
   "outputs": [],
   "source": [
    "edit_labels = pd.Series(facil_count.index + ' - ' + facil_count.values.astype(str)).head(15)"
   ]
  },
  {
   "cell_type": "code",
   "execution_count": null,
   "metadata": {},
   "outputs": [],
   "source": [
    "edit_labels.values"
   ]
  },
  {
   "cell_type": "code",
   "execution_count": null,
   "metadata": {},
   "outputs": [],
   "source": [
    "avg_days = pogo.set_index('placement_date').groupby([pd.Grouper(freq='Q'),'facility'])['days_solitary'].mean()"
   ]
  },
  {
   "cell_type": "code",
   "execution_count": null,
   "metadata": {},
   "outputs": [],
   "source": [
    "avg_days"
   ]
  },
  {
   "cell_type": "code",
   "execution_count": null,
   "metadata": {},
   "outputs": [],
   "source": [
    "avg_days = pogo.set_index('placement_date').groupby([pd.Grouper(freq='Q'),'facility'])['days_solitary'].mean()\n",
    "avg_days.name = 'mean_days_solitary'\n",
    "avg_days = avg_days.reset_index().set_index('facility')\n",
    "avg_days = avg_days.sort_values(by=['placement_date', 'mean_days_solitary'],ascending=[True, False])"
   ]
  },
  {
   "cell_type": "code",
   "execution_count": null,
   "metadata": {},
   "outputs": [],
   "source": [
    "# avg_days.set_index('facility').loc[pogo_nwdc_str]"
   ]
  },
  {
   "cell_type": "code",
   "execution_count": null,
   "metadata": {},
   "outputs": [],
   "source": [
    "avg_days = avg_days.reset_index().set_index('placement_date')"
   ]
  },
  {
   "cell_type": "code",
   "execution_count": null,
   "metadata": {},
   "outputs": [],
   "source": [
    "for period in avg_days.index.unique():\n",
    "    avg_days.loc[period, 'rank'] = avg_days.loc[period, 'mean_days_solitary'].rank(ascending=False)"
   ]
  },
  {
   "cell_type": "code",
   "execution_count": null,
   "metadata": {},
   "outputs": [],
   "source": [
    "data = avg_days.reset_index().set_index('facility')"
   ]
  },
  {
   "cell_type": "code",
   "execution_count": null,
   "metadata": {},
   "outputs": [],
   "source": [
    "data = data.reset_index().set_index('placement_date').dropna()"
   ]
  },
  {
   "cell_type": "code",
   "execution_count": null,
   "metadata": {},
   "outputs": [],
   "source": [
    "temp = data[data['facility'] == pogo_nwdc_str]"
   ]
  },
  {
   "cell_type": "code",
   "execution_count": null,
   "metadata": {},
   "outputs": [],
   "source": [
    "temp"
   ]
  },
  {
   "cell_type": "code",
   "execution_count": null,
   "metadata": {},
   "outputs": [],
   "source": [
    "temp.reset_index().set_index('placement_date')['mean_days_solitary'].plot()"
   ]
  },
  {
   "cell_type": "markdown",
   "metadata": {},
   "source": [
    "Starting to become legible... NWDC consistently among top large facilities in terms of average length of solitary placement."
   ]
  },
  {
   "cell_type": "code",
   "execution_count": null,
   "metadata": {},
   "outputs": [],
   "source": []
  },
  {
   "cell_type": "code",
   "execution_count": null,
   "metadata": {},
   "outputs": [],
   "source": [
    "len(set(data['facility']))"
   ]
  },
  {
   "cell_type": "code",
   "execution_count": null,
   "metadata": {
    "scrolled": false
   },
   "outputs": [],
   "source": [
    "fig, ax = plt.subplots(figsize=(10,6))\n",
    "\n",
    "color=iter(cm.viridis_r(np.linspace(0,1,15)))\n",
    "grey=iter(cm.Greys(np.linspace(0,1,100)))\n",
    "\n",
    "for facil in top_15_facil:\n",
    "# for facil in data['facility'].unique():\n",
    "    if facil == pogo_nwdc_str:\n",
    "        data_sub = data[data['facility'] == facil]\n",
    "        data_sub['mean_days_solitary'].name = facil\n",
    "        c=next(color)\n",
    "        ax.plot(data_sub['mean_days_solitary'], color=c, alpha=1, linewidth=3)\n",
    "    else:\n",
    "        data_sub = data[data['facility'] == facil]\n",
    "        data_sub['mean_days_solitary'].name = facil\n",
    "        c=next(color)\n",
    "        ax.plot(data_sub['mean_days_solitary'], color=c, alpha=.9)\n",
    "\n",
    "ax.yaxis.grid(color='#DDDDDD')\n",
    "plt.suptitle('Avg. length of solitary confinement in immigration detention (quarterly)', fontsize=20)\n",
    "plt.title('Top 15 ICE facilities by total solitary placements, Jan. 2016 - May 2018', fontsize=14)\n",
    "handles, labels = ax.get_legend_handles_labels()\n",
    "leg = ax.legend(loc='upper right', bbox_to_anchor=(1.9, 1), fontsize=12,\n",
    "                title='Detention Facility - Total Solitary Placements',\n",
    "                title_fontsize=14, labels=edit_labels.values)\n",
    "plt.ylabel('Length of stay (days)', fontsize=14)\n",
    "txt='Source: ICE data obtained via FOIA by Project on Government Oversight\\nAnalysis and figure by UW Center for Human Rights'\n",
    "plt.figtext(1.58, .05, txt, wrap=True, horizontalalignment='right', fontsize=12)\n",
    "fig.savefig('../output/avg_solitary_length.png', dpi=300, bbox_inches='tight')\n",
    "plt.show()\n",
    "    "
   ]
  },
  {
   "cell_type": "code",
   "execution_count": null,
   "metadata": {},
   "outputs": [],
   "source": [
    "data = pogo[pogo['facility'].isin(top_15_facil)]"
   ]
  },
  {
   "cell_type": "code",
   "execution_count": null,
   "metadata": {},
   "outputs": [],
   "source": [
    "data"
   ]
  },
  {
   "cell_type": "code",
   "execution_count": null,
   "metadata": {},
   "outputs": [],
   "source": [
    "order = data.groupby('detloc')['record_id'].count().sort_values(ascending=False).index"
   ]
  },
  {
   "cell_type": "code",
   "execution_count": null,
   "metadata": {},
   "outputs": [],
   "source": [
    "# Top 15 facilities by solitary placements distribution of solitary length (in order of # of placements)\n",
    "ax = sns.boxplot(x='detloc',y='log_days_solitary',data=data, order=order)\n",
    "ax.set_xticklabels(ax.get_xticklabels(),rotation=90);"
   ]
  },
  {
   "cell_type": "code",
   "execution_count": null,
   "metadata": {},
   "outputs": [],
   "source": [
    "# Top 15 facilities by solitary placements distribution of solitary length\n",
    "ax = sns.boxplot(x='detloc',y='log_days_solitary',data=data)\n",
    "ax.set_xticklabels(ax.get_xticklabels(),rotation=90);"
   ]
  },
  {
   "cell_type": "markdown",
   "metadata": {},
   "source": [
    "# ADP/ALOS"
   ]
  },
  {
   "cell_type": "code",
   "execution_count": null,
   "metadata": {},
   "outputs": [],
   "source": [
    "adp.index = pd.to_datetime(adp.index)\n",
    "alos.index = pd.to_datetime(alos.index )"
   ]
  },
  {
   "cell_type": "code",
   "execution_count": null,
   "metadata": {},
   "outputs": [],
   "source": [
    "adp.index = ['2008-10-01',\n",
    "             '2009-10-01',\n",
    "             '2010-10-01',\n",
    "             '2011-10-01',\n",
    "             '2012-10-01',\n",
    "             '2013-10-01',\n",
    "             '2014-10-01',\n",
    "             '2015-10-01',\n",
    "             '2016-10-01',\n",
    "             '2017-10-01',\n",
    "            ]\n",
    "alos.index = ['2014-10-01',\n",
    "              '2015-10-01',\n",
    "              '2016-10-01',\n",
    "              '2017-10-01',\n",
    "             ]"
   ]
  },
  {
   "cell_type": "code",
   "execution_count": null,
   "metadata": {},
   "outputs": [],
   "source": [
    "adp = adp['2015':].T\n",
    "alos = alos['2015':].T"
   ]
  },
  {
   "cell_type": "code",
   "execution_count": null,
   "metadata": {},
   "outputs": [],
   "source": [
    "fy_sol_alos = pogo.set_index('placement_date').groupby([pd.Grouper(freq='AS-OCT'),'detloc'])['days_solitary'].mean()\n",
    "fy_sol_count = pogo.set_index('placement_date').groupby([pd.Grouper(freq='AS-OCT'),'detloc'])['record_id'].count()"
   ]
  },
  {
   "cell_type": "code",
   "execution_count": null,
   "metadata": {},
   "outputs": [],
   "source": [
    "fy_sol_alos = fy_sol_alos.unstack().T\n",
    "fy_sol_count = fy_sol_count.unstack().T"
   ]
  },
  {
   "cell_type": "code",
   "execution_count": null,
   "metadata": {},
   "outputs": [],
   "source": [
    "adp.columns = ['FY16 ADP', 'FY17 ADP', 'FY18 ADP']\n",
    "alos.columns = ['FY16 ALOS', 'FY17 ALOS', 'FY18 ALOS']\n",
    "fy_sol_alos.columns = ['FY16 solitary ALOS', 'FY17 solitary ALOS', 'FY18 solitary ALOS']\n",
    "fy_sol_count.columns = ['FY16 solitary count', 'FY17 solitary count', 'FY18 solitary count']"
   ]
  },
  {
   "cell_type": "code",
   "execution_count": null,
   "metadata": {},
   "outputs": [],
   "source": [
    "facil_solitary_adp.head()"
   ]
  },
  {
   "cell_type": "code",
   "execution_count": null,
   "metadata": {},
   "outputs": [],
   "source": [
    "data = adp.join([alos, fy_sol_alos, fy_sol_count, facil_solitary_adp])"
   ]
  },
  {
   "cell_type": "code",
   "execution_count": null,
   "metadata": {},
   "outputs": [],
   "source": [
    "data.head()"
   ]
  },
  {
   "cell_type": "code",
   "execution_count": null,
   "metadata": {},
   "outputs": [],
   "source": [
    "data = data[data.loc[:,'FY16 ALOS'] < 500]\n",
    "data = data[data.loc[:,'FY17 ALOS'] < 500]\n",
    "data = data[data.loc[:,'FY18 ALOS'] < 500]"
   ]
  },
  {
   "cell_type": "code",
   "execution_count": null,
   "metadata": {},
   "outputs": [],
   "source": [
    "fys = ['FY16',\n",
    "       'FY17',\n",
    "       'FY18']"
   ]
  },
  {
   "cell_type": "code",
   "execution_count": null,
   "metadata": {},
   "outputs": [],
   "source": [
    "#this is currently excluding all but 1 redacted ORR facility\n",
    "\n",
    "target_facil = 'CSCNWWA'\n",
    "\n",
    "fig = plt.figure(figsize=(10,8))\n",
    "i = 0\n",
    "for fy in fys:\n",
    "    adp_col = f'{fy} ADP'\n",
    "    alos_col = f'{fy} ALOS'\n",
    "    ax=plt.subplot(2,2,i+1)\n",
    "    i = i+1\n",
    "    \n",
    "    plt.scatter(x=alos_col, y=adp_col, data=data)\n",
    "    plt.scatter(x=alos_col, y=adp_col, c='r', data=data.loc[target_facil])\n",
    "    \n",
    "    plt.xlabel('ALOS')\n",
    "    plt.xticks(np.arange(0, 450, step=50), rotation=45)\n",
    "    plt.ylabel('ADP')\n",
    "    plt.yticks(np.arange(0, 2001, step=200))\n",
    "    plt.ylim(-100, 2000)\n",
    "    plt.title(f'{fy}')\n",
    "\n",
    "plt.suptitle(f'ICE facilities by ADP, ALOS; {target_facil} highlighted', fontsize=14)\n",
    "plt.subplots_adjust(wspace=.4, hspace=.4)\n",
    "plt.show;"
   ]
  },
  {
   "cell_type": "code",
   "execution_count": null,
   "metadata": {},
   "outputs": [],
   "source": [
    "data[['FY16 solitary ALOS', 'FY17 solitary ALOS',\n",
    "       'FY18 solitary ALOS', 'FY16 solitary count', 'FY17 solitary count',\n",
    "       'FY18 solitary count', 'FY17_solitary_ADP']].to_csv('../output/solitary_stats.csv', sep='|')"
   ]
  }
 ],
 "metadata": {
  "kernelspec": {
   "display_name": "Python 3",
   "language": "python",
   "name": "python3"
  },
  "language_info": {
   "codemirror_mode": {
    "name": "ipython",
    "version": 3
   },
   "file_extension": ".py",
   "mimetype": "text/x-python",
   "name": "python",
   "nbconvert_exporter": "python",
   "pygments_lexer": "ipython3",
   "version": "3.7.1"
  }
 },
 "nbformat": 4,
 "nbformat_minor": 2
}
