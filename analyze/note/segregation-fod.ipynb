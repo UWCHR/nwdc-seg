{
 "cells": [
  {
   "cell_type": "code",
   "execution_count": 69,
   "metadata": {},
   "outputs": [],
   "source": [
    "import pandas as pd\n",
    "import numpy as np\n",
    "import matplotlib.pyplot as plt\n",
    "import seaborn as sns\n",
    "import datetime\n",
    "from pandas.tseries import offsets"
   ]
  },
  {
   "cell_type": "code",
   "execution_count": 70,
   "metadata": {},
   "outputs": [],
   "source": [
    "df = pd.read_csv('../input/nwdc-segregation-log.csv.gz', sep='|', quotechar='\"', compression='gzip')"
   ]
  },
  {
   "cell_type": "code",
   "execution_count": 71,
   "metadata": {},
   "outputs": [],
   "source": [
    "df['start_dt'] = pd.to_datetime(df['Placement Date'])\n",
    "df['end_dt'] = pd.to_datetime(df['Release Date'])"
   ]
  },
  {
   "cell_type": "code",
   "execution_count": 72,
   "metadata": {},
   "outputs": [],
   "source": [
    "assert sum(df['start_dt'].isnull()) == 0"
   ]
  },
  {
   "cell_type": "code",
   "execution_count": 73,
   "metadata": {},
   "outputs": [
    {
     "data": {
      "text/plain": [
       "14"
      ]
     },
     "execution_count": 73,
     "metadata": {},
     "output_type": "execute_result"
    }
   ],
   "source": [
    "sum(df['end_dt'].isnull())"
   ]
  },
  {
   "cell_type": "code",
   "execution_count": 74,
   "metadata": {},
   "outputs": [],
   "source": [
    "df['solitary_length'] = df['end_dt'] - df['start_dt']"
   ]
  },
  {
   "cell_type": "code",
   "execution_count": 75,
   "metadata": {},
   "outputs": [
    {
     "data": {
      "text/plain": [
       "count                        357\n",
       "mean     59 days 14:31:15.630252\n",
       "std      88 days 06:18:57.166750\n",
       "min              1 days 00:00:00\n",
       "25%             19 days 00:00:00\n",
       "50%             30 days 00:00:00\n",
       "75%             62 days 00:00:00\n",
       "max            781 days 00:00:00\n",
       "Name: solitary_length, dtype: object"
      ]
     },
     "execution_count": 75,
     "metadata": {},
     "output_type": "execute_result"
    }
   ],
   "source": [
    "df['solitary_length'].describe()"
   ]
  },
  {
   "cell_type": "code",
   "execution_count": 76,
   "metadata": {},
   "outputs": [],
   "source": [
    "df['solitary_days'] = df['solitary_length'] / np.timedelta64(1, 'D')"
   ]
  },
  {
   "cell_type": "code",
   "execution_count": 77,
   "metadata": {},
   "outputs": [
    {
     "data": {
      "text/plain": [
       "count    357.000000\n",
       "mean      59.605042\n",
       "std       88.263162\n",
       "min        1.000000\n",
       "25%       19.000000\n",
       "50%       30.000000\n",
       "75%       62.000000\n",
       "max      781.000000\n",
       "Name: solitary_days, dtype: float64"
      ]
     },
     "execution_count": 77,
     "metadata": {},
     "output_type": "execute_result"
    }
   ],
   "source": [
    "df['solitary_days'].describe()"
   ]
  },
  {
   "cell_type": "code",
   "execution_count": 78,
   "metadata": {},
   "outputs": [
    {
     "data": {
      "text/plain": [
       "26.033333333333335"
      ]
     },
     "execution_count": 78,
     "metadata": {},
     "output_type": "execute_result"
    }
   ],
   "source": [
    "df['solitary_days'].max()/30"
   ]
  },
  {
   "cell_type": "code",
   "execution_count": 79,
   "metadata": {},
   "outputs": [
    {
     "data": {
      "text/plain": [
       "Index(['Tracking Number', 'Alien Number', 'Last Name', 'First Name', 'Gender',\n",
       "       'Date of Birth', 'Country of Citizenship', 'Facility AOR', 'Facility',\n",
       "       'Facility:DETLOC', 'Report Type', 'Placement Date', 'Placement Reason',\n",
       "       'Release Date', 'Length of Stay', 'Disciplinary Infraction',\n",
       "       'Sanction Length', 'Detailed Reason', 'Attorney of Record',\n",
       "       'Attorney Notification', 'Detainee Request',\n",
       "       'Compliance with Detention Standards', 'Mental Illness',\n",
       "       'Serious Medical Illness', 'Serious Disability', 'Ever SMI?',\n",
       "       'FO Recommendation', 'Additional Comments Export',\n",
       "       'Non Compliance Detail', 'Special Criteria', 'ID', 'Current Review',\n",
       "       'Created', 'LGBTI', 'Item Type', 'Path', 'start_dt', 'end_dt',\n",
       "       'solitary_length', 'solitary_days'],\n",
       "      dtype='object')"
      ]
     },
     "execution_count": 79,
     "metadata": {},
     "output_type": "execute_result"
    }
   ],
   "source": [
    "df.columns"
   ]
  },
  {
   "cell_type": "markdown",
   "metadata": {},
   "source": [
    "**Category 5.1** Any inmate who is is “held continuously in segregation for 14 days, 30 days, and at every 30-day interval thereafter, or has been held in segregation for 14 days out of any 21 day period.”)\n",
    "\n",
    "\n",
    "**Category 5.2.2.** Any inmate who, immediately after being assigned to solitary, is determined to fall into one of these particularly vulnerable categories: has a disability, medical or mental illness, or other special vulnerability; or who is an alleged victim of a sexual assault, an identified suicide risk, or is on a hunger strike."
   ]
  },
  {
   "cell_type": "code",
   "execution_count": 80,
   "metadata": {},
   "outputs": [],
   "source": [
    "fod1 = df['solitary_days'] >= 14\n",
    "fod2 = df['solitary_days'] >= 30"
   ]
  },
  {
   "cell_type": "code",
   "execution_count": 81,
   "metadata": {},
   "outputs": [],
   "source": [
    "df['FOD1'] = df[fod1]['start_dt'] + datetime.timedelta(days=14)"
   ]
  },
  {
   "cell_type": "code",
   "execution_count": 82,
   "metadata": {},
   "outputs": [],
   "source": [
    "df['FOD2'] = df[fod2]['start_dt'] + datetime.timedelta(days=30)"
   ]
  },
  {
   "cell_type": "code",
   "execution_count": 83,
   "metadata": {},
   "outputs": [],
   "source": [
    "interval = 30"
   ]
  },
  {
   "cell_type": "code",
   "execution_count": 84,
   "metadata": {},
   "outputs": [
    {
     "data": {
      "text/plain": [
       "22     83.0\n",
       "27     91.0\n",
       "29     66.0\n",
       "35     77.0\n",
       "38    101.0\n",
       "Name: solitary_days, dtype: float64"
      ]
     },
     "execution_count": 84,
     "metadata": {},
     "output_type": "execute_result"
    }
   ],
   "source": [
    "df[df['solitary_days'] >= 60]['solitary_days'].head()"
   ]
  },
  {
   "cell_type": "code",
   "execution_count": 85,
   "metadata": {},
   "outputs": [],
   "source": [
    "df['additional_FOD_intervals'] = (df[df['solitary_days'] >= 60]['solitary_days'] - 30) // 30"
   ]
  },
  {
   "cell_type": "code",
   "execution_count": 86,
   "metadata": {},
   "outputs": [],
   "source": [
    "df['total_FOD'] = df['additional_FOD_intervals'] + 2"
   ]
  },
  {
   "cell_type": "code",
   "execution_count": 101,
   "metadata": {},
   "outputs": [],
   "source": [
    "df['total_FOD'] = df['total_FOD'].fillna(0)"
   ]
  },
  {
   "cell_type": "code",
   "execution_count": 87,
   "metadata": {},
   "outputs": [
    {
     "data": {
      "text/plain": [
       "array(['Medical: Observation',\n",
       "       'Protective Custody: Other Detainee Safety',\n",
       "       'Facility Security Threat: Other', 'Disciplinary',\n",
       "       'Pending Investigation of Disciplinary Violation',\n",
       "       'Facility Security Threat: Violent or Disruptive Behavior',\n",
       "       'Protective Custody: Gang Status (Protective Custody Only)',\n",
       "       'Protective Custody: Special Vulnerability Other',\n",
       "       'Protective Custody: Lesbian, Gay, Bisexual, Transgender (LGBT)',\n",
       "       'Facility Security Threat: Gang Member Status (Not Protective Custody)',\n",
       "       'Protective Custody: Criminal Offense (i.e. Sex Offender)',\n",
       "       'Mental Illness', 'Other', 'Medical: Other',\n",
       "       'Facility Security Threat: Due to Seriousness of Criminal Conviction',\n",
       "       'Hunger Strike'], dtype=object)"
      ]
     },
     "execution_count": 87,
     "metadata": {},
     "output_type": "execute_result"
    }
   ],
   "source": [
    "df['Placement Reason'].unique()"
   ]
  },
  {
   "cell_type": "code",
   "execution_count": 95,
   "metadata": {},
   "outputs": [],
   "source": [
    "vulnerable_cat = ['Medical: Observation',\n",
    "              'Protective Custody: Other Detainee Safety',\n",
    "              'Protective Custody: Special Vulnerability Other',\n",
    "              'Protective Custody: Lesbian, Gay, Bisexual, Transgender (LGBT)',\n",
    "              'Mental Illness', 'Medical: Other',\n",
    "              'Hunger Strike']"
   ]
  },
  {
   "cell_type": "code",
   "execution_count": 96,
   "metadata": {},
   "outputs": [],
   "source": [
    "vulnerable = df['Placement Reason'].isin(vulnerable_cat)"
   ]
  },
  {
   "cell_type": "code",
   "execution_count": 97,
   "metadata": {},
   "outputs": [],
   "source": [
    "df['vulnerable_initial_FOD'] = df[vulnerable]['start_dt']"
   ]
  },
  {
   "cell_type": "code",
   "execution_count": 106,
   "metadata": {},
   "outputs": [],
   "source": [
    "df.loc[vulnerable, 'total_FOD'] = df.loc[vulnerable, 'total_FOD'] + 1"
   ]
  },
  {
   "cell_type": "code",
   "execution_count": 107,
   "metadata": {},
   "outputs": [
    {
     "data": {
      "text/plain": [
       "0       1.0\n",
       "1       1.0\n",
       "5       1.0\n",
       "8       1.0\n",
       "13      1.0\n",
       "15      1.0\n",
       "21      1.0\n",
       "22      4.0\n",
       "23      1.0\n",
       "25      1.0\n",
       "29      4.0\n",
       "34      1.0\n",
       "36      1.0\n",
       "44      5.0\n",
       "47      1.0\n",
       "49      1.0\n",
       "53      1.0\n",
       "54      1.0\n",
       "55      7.0\n",
       "56      1.0\n",
       "59      4.0\n",
       "60      1.0\n",
       "61      1.0\n",
       "62      1.0\n",
       "66      6.0\n",
       "67      8.0\n",
       "68      1.0\n",
       "69      1.0\n",
       "72      5.0\n",
       "74      1.0\n",
       "       ... \n",
       "198     7.0\n",
       "199     1.0\n",
       "200     1.0\n",
       "202     1.0\n",
       "215     1.0\n",
       "225     6.0\n",
       "255     1.0\n",
       "259    11.0\n",
       "264     6.0\n",
       "280     1.0\n",
       "282     1.0\n",
       "284     1.0\n",
       "286     1.0\n",
       "288     1.0\n",
       "290     1.0\n",
       "296     1.0\n",
       "298     1.0\n",
       "303     1.0\n",
       "305     1.0\n",
       "306     4.0\n",
       "326     1.0\n",
       "333     1.0\n",
       "334     4.0\n",
       "335     1.0\n",
       "336     1.0\n",
       "337     1.0\n",
       "361     1.0\n",
       "363     4.0\n",
       "365     1.0\n",
       "366     1.0\n",
       "Name: total_FOD, Length: 114, dtype: float64"
      ]
     },
     "execution_count": 107,
     "metadata": {},
     "output_type": "execute_result"
    }
   ],
   "source": [
    "df[vulnerable]['total_FOD']"
   ]
  },
  {
   "cell_type": "code",
   "execution_count": 108,
   "metadata": {},
   "outputs": [
    {
     "data": {
      "text/plain": [
       "27.0"
      ]
     },
     "execution_count": 108,
     "metadata": {},
     "output_type": "execute_result"
    }
   ],
   "source": [
    "df['total_FOD'].max()"
   ]
  },
  {
   "cell_type": "code",
   "execution_count": 110,
   "metadata": {},
   "outputs": [
    {
     "data": {
      "text/plain": [
       "163"
      ]
     },
     "execution_count": 110,
     "metadata": {},
     "output_type": "execute_result"
    }
   ],
   "source": [
    "sum(df['total_FOD'] >= 1)"
   ]
  },
  {
   "cell_type": "code",
   "execution_count": 112,
   "metadata": {},
   "outputs": [
    {
     "data": {
      "text/plain": [
       "114"
      ]
     },
     "execution_count": 112,
     "metadata": {},
     "output_type": "execute_result"
    }
   ],
   "source": [
    "len(df[vulnerable])"
   ]
  },
  {
   "cell_type": "code",
   "execution_count": 114,
   "metadata": {},
   "outputs": [
    {
     "data": {
      "text/plain": [
       "657.0"
      ]
     },
     "execution_count": 114,
     "metadata": {},
     "output_type": "execute_result"
    }
   ],
   "source": [
    "sum(df['total_FOD'])"
   ]
  },
  {
   "cell_type": "code",
   "execution_count": 127,
   "metadata": {},
   "outputs": [
    {
     "name": "stdout",
     "output_type": "stream",
     "text": [
      "[12442, 12439, 12342, 12240, 12112, 12110, 11944, 11943, 11594, 11592, 11587, 11456, 11353, 11263, 11206, 11133, 11112, 11111, 11038, 11035, 11017, 10691, 10690, 10688, 10635, 10618, 10582, 10431, 10430, 10429, 10125, 10122, 10045, 10042, 9769, 9679, 9678, 9677, 9676, 9675, 9488, 9487, 9459, 9441, 9439, 9438, 9423, 9394, 9374, 9361, 9342, 9295, 9230, 9222, 9180, 9111, 9107, 9015, 8500, 8461, 8460, 8447, 8436, 8410, 8346, 8196, 8193, 7636, 7523, 7305, 7198, 7059, 6659, 6373, 6372, 6371, 6336, 6222, 6094, 6093, 6055, 6007, 5968, 5959, 5741, 5740, 5627, 5604, 5535, 5528, 5516, 5515, 5308, 5132, 5131, 5130, 5075, 4887, 4762, 4738, 4735, 4587, 4511, 4484, 4483, 4466, 4450, 4449, 4448, 4446, 4445, 4441, 4418, 4403, 3808, 3511, 3504, 3503, 3466, 3334, 3286, 3087, 3076, 2938, 2871, 2870, 2699, 2573, 2372, 2330, 2085, 1727, 1726, 1676, 1662, 1661, 1652, 1617, 1594, 1503, 1469, 1427, 1386, 1303, 1234, 965, 860, 798, 750, 749, 700, 699, 694, 399, 328, 307, 281, 264, 262, 259, 252, 233, 210]\n"
     ]
    }
   ],
   "source": [
    "print(list(df[df['total_FOD'] >= 1]['Tracking Number']))"
   ]
  },
  {
   "cell_type": "code",
   "execution_count": 122,
   "metadata": {},
   "outputs": [
    {
     "data": {
      "text/html": [
       "<div>\n",
       "<style scoped>\n",
       "    .dataframe tbody tr th:only-of-type {\n",
       "        vertical-align: middle;\n",
       "    }\n",
       "\n",
       "    .dataframe tbody tr th {\n",
       "        vertical-align: top;\n",
       "    }\n",
       "\n",
       "    .dataframe thead th {\n",
       "        text-align: right;\n",
       "    }\n",
       "</style>\n",
       "<table border=\"1\" class=\"dataframe\">\n",
       "  <thead>\n",
       "    <tr style=\"text-align: right;\">\n",
       "      <th></th>\n",
       "      <th>Tracking Number</th>\n",
       "      <th>Alien Number</th>\n",
       "      <th>Last Name</th>\n",
       "      <th>First Name</th>\n",
       "      <th>Gender</th>\n",
       "      <th>Date of Birth</th>\n",
       "      <th>Country of Citizenship</th>\n",
       "      <th>Facility AOR</th>\n",
       "      <th>Facility</th>\n",
       "      <th>Facility:DETLOC</th>\n",
       "      <th>...</th>\n",
       "      <th>Path</th>\n",
       "      <th>start_dt</th>\n",
       "      <th>end_dt</th>\n",
       "      <th>solitary_length</th>\n",
       "      <th>solitary_days</th>\n",
       "      <th>FOD1</th>\n",
       "      <th>FOD2</th>\n",
       "      <th>additional_FOD_intervals</th>\n",
       "      <th>total_FOD</th>\n",
       "      <th>vulnerable_initial_FOD</th>\n",
       "    </tr>\n",
       "  </thead>\n",
       "  <tbody>\n",
       "    <tr>\n",
       "      <th>366</th>\n",
       "      <td>259</td>\n",
       "      <td>(b)(6), (b)(7)(c )</td>\n",
       "      <td>(b)(6), (b)(7)(c )</td>\n",
       "      <td>(b)(6), (b)(7)(c )</td>\n",
       "      <td>Male</td>\n",
       "      <td>(b)(6), (b)(7)(c )</td>\n",
       "      <td>RUSSIA</td>\n",
       "      <td>SEA (Seattle)</td>\n",
       "      <td>TACOMA ICE PROCESSING CENTER (NORTHWEST DET CT...</td>\n",
       "      <td>CSCNWWA</td>\n",
       "      <td>...</td>\n",
       "      <td>(b)(7)(E)</td>\n",
       "      <td>2013-06-24</td>\n",
       "      <td>2013-07-30</td>\n",
       "      <td>36 days</td>\n",
       "      <td>36.0</td>\n",
       "      <td>2013-07-08</td>\n",
       "      <td>2013-07-24</td>\n",
       "      <td>NaN</td>\n",
       "      <td>1.0</td>\n",
       "      <td>2013-06-24</td>\n",
       "    </tr>\n",
       "    <tr>\n",
       "      <th>367</th>\n",
       "      <td>252</td>\n",
       "      <td>(b)(6), (b)(7)(c )</td>\n",
       "      <td>(b)(6), (b)(7)(c )</td>\n",
       "      <td>(b)(6), (b)(7)(c )</td>\n",
       "      <td>Male</td>\n",
       "      <td>(b)(6), (b)(7)(c )</td>\n",
       "      <td>MEXICO</td>\n",
       "      <td>SEA (Seattle)</td>\n",
       "      <td>TACOMA ICE PROCESSING CENTER (NORTHWEST DET CT...</td>\n",
       "      <td>CSCNWWA</td>\n",
       "      <td>...</td>\n",
       "      <td>(b)(7)(E)</td>\n",
       "      <td>2013-06-19</td>\n",
       "      <td>2014-11-10</td>\n",
       "      <td>509 days</td>\n",
       "      <td>509.0</td>\n",
       "      <td>2013-07-03</td>\n",
       "      <td>2013-07-19</td>\n",
       "      <td>15.0</td>\n",
       "      <td>17.0</td>\n",
       "      <td>NaT</td>\n",
       "    </tr>\n",
       "    <tr>\n",
       "      <th>368</th>\n",
       "      <td>233</td>\n",
       "      <td>(b)(6), (b)(7)(c )</td>\n",
       "      <td>(b)(6), (b)(7)(c )</td>\n",
       "      <td>(b)(6), (b)(7)(c )</td>\n",
       "      <td>Male</td>\n",
       "      <td>(b)(6), (b)(7)(c )</td>\n",
       "      <td>PALAU</td>\n",
       "      <td>SEA (Seattle)</td>\n",
       "      <td>TACOMA ICE PROCESSING CENTER (NORTHWEST DET CT...</td>\n",
       "      <td>CSCNWWA</td>\n",
       "      <td>...</td>\n",
       "      <td>(b)(7)(E)</td>\n",
       "      <td>2013-06-03</td>\n",
       "      <td>2013-08-15</td>\n",
       "      <td>73 days</td>\n",
       "      <td>73.0</td>\n",
       "      <td>2013-06-17</td>\n",
       "      <td>2013-07-03</td>\n",
       "      <td>1.0</td>\n",
       "      <td>3.0</td>\n",
       "      <td>NaT</td>\n",
       "    </tr>\n",
       "    <tr>\n",
       "      <th>369</th>\n",
       "      <td>219</td>\n",
       "      <td>(b)(6), (b)(7)(c )</td>\n",
       "      <td>(b)(6), (b)(7)(c )</td>\n",
       "      <td>(b)(6), (b)(7)(c )</td>\n",
       "      <td>Male</td>\n",
       "      <td>(b)(6), (b)(7)(c )</td>\n",
       "      <td>BOSNIA-HERZEGOVINA</td>\n",
       "      <td>SEA (Seattle)</td>\n",
       "      <td>TACOMA ICE PROCESSING CENTER (NORTHWEST DET CT...</td>\n",
       "      <td>CSCNWWA</td>\n",
       "      <td>...</td>\n",
       "      <td>(b)(7)(E)</td>\n",
       "      <td>2013-05-24</td>\n",
       "      <td>2013-07-16</td>\n",
       "      <td>53 days</td>\n",
       "      <td>53.0</td>\n",
       "      <td>2013-06-07</td>\n",
       "      <td>2013-06-23</td>\n",
       "      <td>NaN</td>\n",
       "      <td>0.0</td>\n",
       "      <td>NaT</td>\n",
       "    </tr>\n",
       "    <tr>\n",
       "      <th>370</th>\n",
       "      <td>210</td>\n",
       "      <td>(b)(6), (b)(7)(c )</td>\n",
       "      <td>(b)(6), (b)(7)(c )</td>\n",
       "      <td>(b)(6), (b)(7)(c )</td>\n",
       "      <td>Male</td>\n",
       "      <td>(b)(6), (b)(7)(c )</td>\n",
       "      <td>MEXICO</td>\n",
       "      <td>SEA (Seattle)</td>\n",
       "      <td>TACOMA ICE PROCESSING CENTER (NORTHWEST DET CT...</td>\n",
       "      <td>CSCNWWA</td>\n",
       "      <td>...</td>\n",
       "      <td>(b)(7)(E)</td>\n",
       "      <td>2013-05-13</td>\n",
       "      <td>2013-08-15</td>\n",
       "      <td>94 days</td>\n",
       "      <td>94.0</td>\n",
       "      <td>2013-05-27</td>\n",
       "      <td>2013-06-12</td>\n",
       "      <td>2.0</td>\n",
       "      <td>4.0</td>\n",
       "      <td>NaT</td>\n",
       "    </tr>\n",
       "  </tbody>\n",
       "</table>\n",
       "<p>5 rows × 45 columns</p>\n",
       "</div>"
      ],
      "text/plain": [
       "     Tracking Number         Alien Number            Last Name  \\\n",
       "366              259  (b)(6), (b)(7)(c )   (b)(6), (b)(7)(c )    \n",
       "367              252  (b)(6), (b)(7)(c )   (b)(6), (b)(7)(c )    \n",
       "368              233  (b)(6), (b)(7)(c )   (b)(6), (b)(7)(c )    \n",
       "369              219  (b)(6), (b)(7)(c )   (b)(6), (b)(7)(c )    \n",
       "370              210  (b)(6), (b)(7)(c )   (b)(6), (b)(7)(c )    \n",
       "\n",
       "              First Name Gender        Date of Birth Country of Citizenship  \\\n",
       "366  (b)(6), (b)(7)(c )    Male  (b)(6), (b)(7)(c )                  RUSSIA   \n",
       "367  (b)(6), (b)(7)(c )    Male  (b)(6), (b)(7)(c )                  MEXICO   \n",
       "368  (b)(6), (b)(7)(c )    Male  (b)(6), (b)(7)(c )                   PALAU   \n",
       "369  (b)(6), (b)(7)(c )    Male  (b)(6), (b)(7)(c )      BOSNIA-HERZEGOVINA   \n",
       "370  (b)(6), (b)(7)(c )    Male  (b)(6), (b)(7)(c )                  MEXICO   \n",
       "\n",
       "      Facility AOR                                           Facility  \\\n",
       "366  SEA (Seattle)  TACOMA ICE PROCESSING CENTER (NORTHWEST DET CT...   \n",
       "367  SEA (Seattle)  TACOMA ICE PROCESSING CENTER (NORTHWEST DET CT...   \n",
       "368  SEA (Seattle)  TACOMA ICE PROCESSING CENTER (NORTHWEST DET CT...   \n",
       "369  SEA (Seattle)  TACOMA ICE PROCESSING CENTER (NORTHWEST DET CT...   \n",
       "370  SEA (Seattle)  TACOMA ICE PROCESSING CENTER (NORTHWEST DET CT...   \n",
       "\n",
       "    Facility:DETLOC          ...                 Path   start_dt     end_dt  \\\n",
       "366         CSCNWWA          ...            (b)(7)(E) 2013-06-24 2013-07-30   \n",
       "367         CSCNWWA          ...            (b)(7)(E) 2013-06-19 2014-11-10   \n",
       "368         CSCNWWA          ...            (b)(7)(E) 2013-06-03 2013-08-15   \n",
       "369         CSCNWWA          ...            (b)(7)(E) 2013-05-24 2013-07-16   \n",
       "370         CSCNWWA          ...            (b)(7)(E) 2013-05-13 2013-08-15   \n",
       "\n",
       "    solitary_length  solitary_days       FOD1       FOD2  \\\n",
       "366         36 days           36.0 2013-07-08 2013-07-24   \n",
       "367        509 days          509.0 2013-07-03 2013-07-19   \n",
       "368         73 days           73.0 2013-06-17 2013-07-03   \n",
       "369         53 days           53.0 2013-06-07 2013-06-23   \n",
       "370         94 days           94.0 2013-05-27 2013-06-12   \n",
       "\n",
       "    additional_FOD_intervals total_FOD vulnerable_initial_FOD  \n",
       "366                      NaN       1.0             2013-06-24  \n",
       "367                     15.0      17.0                    NaT  \n",
       "368                      1.0       3.0                    NaT  \n",
       "369                      NaN       0.0                    NaT  \n",
       "370                      2.0       4.0                    NaT  \n",
       "\n",
       "[5 rows x 45 columns]"
      ]
     },
     "execution_count": 122,
     "metadata": {},
     "output_type": "execute_result"
    }
   ],
   "source": [
    "df.tail()"
   ]
  },
  {
   "cell_type": "code",
   "execution_count": 126,
   "metadata": {},
   "outputs": [
    {
     "data": {
      "text/plain": [
       "'Protective Custody: Criminal Offense (i.e. Sex Offender)'"
      ]
     },
     "execution_count": 126,
     "metadata": {},
     "output_type": "execute_result"
    }
   ],
   "source": [
    "df.loc[df['solitary_days'].idxmax()]['Placement Reason']"
   ]
  },
  {
   "cell_type": "code",
   "execution_count": null,
   "metadata": {},
   "outputs": [],
   "source": []
  }
 ],
 "metadata": {
  "kernelspec": {
   "display_name": "Python 3",
   "language": "python",
   "name": "python3"
  },
  "language_info": {
   "codemirror_mode": {
    "name": "ipython",
    "version": 3
   },
   "file_extension": ".py",
   "mimetype": "text/x-python",
   "name": "python",
   "nbconvert_exporter": "python",
   "pygments_lexer": "ipython3",
   "version": "3.7.1"
  }
 },
 "nbformat": 4,
 "nbformat_minor": 2
}
