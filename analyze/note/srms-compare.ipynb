{
 "cells": [
  {
   "cell_type": "code",
   "execution_count": 9,
   "metadata": {},
   "outputs": [],
   "source": [
    "import pandas as pd\n",
    "import numpy as np\n",
    "import matplotlib.pyplot as plt\n",
    "import seaborn as sns\n",
    "import yaml"
   ]
  },
  {
   "cell_type": "code",
   "execution_count": 10,
   "metadata": {},
   "outputs": [],
   "source": [
    "csv_opts = {'sep': '|',\n",
    "            'quotechar': '\"',\n",
    "            'compression': 'gzip'}"
   ]
  },
  {
   "cell_type": "code",
   "execution_count": 11,
   "metadata": {},
   "outputs": [],
   "source": [
    "srms1 = pd.read_csv('../input/srms-1.csv.gz', **csv_opts)\n",
    "srms2 = pd.read_csv('../input/srms-2.csv.gz', **csv_opts)"
   ]
  },
  {
   "cell_type": "code",
   "execution_count": 12,
   "metadata": {},
   "outputs": [
    {
     "name": "stdout",
     "output_type": "stream",
     "text": [
      "<class 'pandas.core.frame.DataFrame'>\n",
      "RangeIndex: 371 entries, 0 to 370\n",
      "Data columns (total 33 columns):\n",
      " #   Column                               Non-Null Count  Dtype  \n",
      "---  ------                               --------------  -----  \n",
      " 0   tracking_number                      371 non-null    int64  \n",
      " 1   gender                               371 non-null    object \n",
      " 2   country_of_citizenship               371 non-null    object \n",
      " 3   facility_aor                         371 non-null    object \n",
      " 4   facility                             371 non-null    object \n",
      " 5   facility:detloc                      371 non-null    object \n",
      " 6   report_type                          371 non-null    object \n",
      " 7   placement_date                       371 non-null    object \n",
      " 8   placement_reason                     371 non-null    object \n",
      " 9   release_date                         357 non-null    object \n",
      " 10  length_of_stay                       0 non-null      float64\n",
      " 11  disciplinary_infraction              130 non-null    object \n",
      " 12  sanction_length                      63 non-null     object \n",
      " 13  detailed_reason                      45 non-null     object \n",
      " 14  attorney_of_record                   321 non-null    object \n",
      " 15  attorney_notification                321 non-null    object \n",
      " 16  detainee_request                     371 non-null    object \n",
      " 17  compliance_with_detention_standards  371 non-null    object \n",
      " 18  mental_illness                       371 non-null    object \n",
      " 19  serious_medical_illness              371 non-null    object \n",
      " 20  serious_disability                   371 non-null    object \n",
      " 21  ever_smi                             371 non-null    object \n",
      " 22  fo_recommendation                    76 non-null     object \n",
      " 23  additional_comments_export           210 non-null    object \n",
      " 24  non_compliance_detail                0 non-null      float64\n",
      " 25  special_criteria                     291 non-null    object \n",
      " 26  id                                   371 non-null    int64  \n",
      " 27  current_review                       366 non-null    float64\n",
      " 28  created                              371 non-null    object \n",
      " 29  lgbti                                1 non-null      object \n",
      " 30  item_type                            371 non-null    object \n",
      " 31  placement_reason_type                371 non-null    object \n",
      " 32  detloc                               371 non-null    object \n",
      "dtypes: float64(3), int64(2), object(28)\n",
      "memory usage: 95.8+ KB\n"
     ]
    }
   ],
   "source": [
    "srms1.info()"
   ]
  },
  {
   "cell_type": "code",
   "execution_count": 13,
   "metadata": {},
   "outputs": [
    {
     "data": {
      "text/html": [
       "<div>\n",
       "<style scoped>\n",
       "    .dataframe tbody tr th:only-of-type {\n",
       "        vertical-align: middle;\n",
       "    }\n",
       "\n",
       "    .dataframe tbody tr th {\n",
       "        vertical-align: top;\n",
       "    }\n",
       "\n",
       "    .dataframe thead th {\n",
       "        text-align: right;\n",
       "    }\n",
       "</style>\n",
       "<table border=\"1\" class=\"dataframe\">\n",
       "  <thead>\n",
       "    <tr style=\"text-align: right;\">\n",
       "      <th></th>\n",
       "      <th>tracking_number</th>\n",
       "      <th>gender</th>\n",
       "      <th>country_of_citizenship</th>\n",
       "      <th>facility_aor</th>\n",
       "      <th>facility</th>\n",
       "      <th>facility:detloc</th>\n",
       "      <th>report_type</th>\n",
       "      <th>placement_date</th>\n",
       "      <th>placement_reason</th>\n",
       "      <th>release_date</th>\n",
       "      <th>...</th>\n",
       "      <th>additional_comments_export</th>\n",
       "      <th>non_compliance_detail</th>\n",
       "      <th>special_criteria</th>\n",
       "      <th>id</th>\n",
       "      <th>current_review</th>\n",
       "      <th>created</th>\n",
       "      <th>lgbti</th>\n",
       "      <th>item_type</th>\n",
       "      <th>placement_reason_type</th>\n",
       "      <th>detloc</th>\n",
       "    </tr>\n",
       "  </thead>\n",
       "  <tbody>\n",
       "    <tr>\n",
       "      <th>0</th>\n",
       "      <td>12442</td>\n",
       "      <td>Male</td>\n",
       "      <td>MOROCCO</td>\n",
       "      <td>SEA (Seattle)</td>\n",
       "      <td>TACOMA ICE PROCESSING CENTER (NORTHWEST DET CT...</td>\n",
       "      <td>CSCNWWA</td>\n",
       "      <td>14 Day</td>\n",
       "      <td>5/14/2018</td>\n",
       "      <td>Medical: Observation</td>\n",
       "      <td>5/29/2018</td>\n",
       "      <td>...</td>\n",
       "      <td>05/23/2018 05/14/2018 Detainee is under medica...</td>\n",
       "      <td>NaN</td>\n",
       "      <td>Yes</td>\n",
       "      <td>12442</td>\n",
       "      <td>14.0</td>\n",
       "      <td>5/23/2018</td>\n",
       "      <td>NaN</td>\n",
       "      <td>Item</td>\n",
       "      <td>Medical</td>\n",
       "      <td>CSCNWWA</td>\n",
       "    </tr>\n",
       "    <tr>\n",
       "      <th>1</th>\n",
       "      <td>12439</td>\n",
       "      <td>Male</td>\n",
       "      <td>ERITREA</td>\n",
       "      <td>SEA (Seattle)</td>\n",
       "      <td>TACOMA ICE PROCESSING CENTER (NORTHWEST DET CT...</td>\n",
       "      <td>CSCNWWA</td>\n",
       "      <td>14 Day</td>\n",
       "      <td>5/11/2018</td>\n",
       "      <td>Protective Custody: Other Detainee Safety</td>\n",
       "      <td>NaN</td>\n",
       "      <td>...</td>\n",
       "      <td>05/22/2018 Detainee has been housed in all ava...</td>\n",
       "      <td>NaN</td>\n",
       "      <td>No</td>\n",
       "      <td>12439</td>\n",
       "      <td>14.0</td>\n",
       "      <td>5/22/2018</td>\n",
       "      <td>NaN</td>\n",
       "      <td>Item</td>\n",
       "      <td>Protective Custody</td>\n",
       "      <td>CSCNWWA</td>\n",
       "    </tr>\n",
       "    <tr>\n",
       "      <th>2</th>\n",
       "      <td>12438</td>\n",
       "      <td>Male</td>\n",
       "      <td>INDIA</td>\n",
       "      <td>SEA (Seattle)</td>\n",
       "      <td>TACOMA ICE PROCESSING CENTER (NORTHWEST DET CT...</td>\n",
       "      <td>CSCNWWA</td>\n",
       "      <td>14 Day</td>\n",
       "      <td>5/20/2018</td>\n",
       "      <td>Facility Security Threat: Other</td>\n",
       "      <td>NaN</td>\n",
       "      <td>...</td>\n",
       "      <td>05/23/2018 Detainee placed in RHU pending SAAP...</td>\n",
       "      <td>NaN</td>\n",
       "      <td>Yes</td>\n",
       "      <td>12438</td>\n",
       "      <td>14.0</td>\n",
       "      <td>5/22/2018</td>\n",
       "      <td>NaN</td>\n",
       "      <td>Item</td>\n",
       "      <td>Facility Security Threat</td>\n",
       "      <td>CSCNWWA</td>\n",
       "    </tr>\n",
       "    <tr>\n",
       "      <th>3</th>\n",
       "      <td>12437</td>\n",
       "      <td>Male</td>\n",
       "      <td>RUSSIA</td>\n",
       "      <td>SEA (Seattle)</td>\n",
       "      <td>TACOMA ICE PROCESSING CENTER (NORTHWEST DET CT...</td>\n",
       "      <td>CSCNWWA</td>\n",
       "      <td>14 Day</td>\n",
       "      <td>5/19/2018</td>\n",
       "      <td>Disciplinary</td>\n",
       "      <td>NaN</td>\n",
       "      <td>...</td>\n",
       "      <td>05/23/2018 Detainee placed in RHU pending IDP ...</td>\n",
       "      <td>NaN</td>\n",
       "      <td>Yes</td>\n",
       "      <td>12437</td>\n",
       "      <td>14.0</td>\n",
       "      <td>5/22/2018</td>\n",
       "      <td>NaN</td>\n",
       "      <td>Item</td>\n",
       "      <td>Disciplinary</td>\n",
       "      <td>CSCNWWA</td>\n",
       "    </tr>\n",
       "    <tr>\n",
       "      <th>4</th>\n",
       "      <td>12436</td>\n",
       "      <td>Female</td>\n",
       "      <td>MEXICO</td>\n",
       "      <td>SEA (Seattle)</td>\n",
       "      <td>TACOMA ICE PROCESSING CENTER (NORTHWEST DET CT...</td>\n",
       "      <td>CSCNWWA</td>\n",
       "      <td>30 Day Interval</td>\n",
       "      <td>4/30/2018</td>\n",
       "      <td>Facility Security Threat: Other</td>\n",
       "      <td>NaN</td>\n",
       "      <td>...</td>\n",
       "      <td>05/23/2018 Detainee returned from medical on 0...</td>\n",
       "      <td>NaN</td>\n",
       "      <td>Yes</td>\n",
       "      <td>12436</td>\n",
       "      <td>30.0</td>\n",
       "      <td>5/22/2018</td>\n",
       "      <td>NaN</td>\n",
       "      <td>Item</td>\n",
       "      <td>Facility Security Threat</td>\n",
       "      <td>CSCNWWA</td>\n",
       "    </tr>\n",
       "  </tbody>\n",
       "</table>\n",
       "<p>5 rows × 33 columns</p>\n",
       "</div>"
      ],
      "text/plain": [
       "   tracking_number  gender country_of_citizenship   facility_aor  \\\n",
       "0            12442    Male                MOROCCO  SEA (Seattle)   \n",
       "1            12439    Male                ERITREA  SEA (Seattle)   \n",
       "2            12438    Male                  INDIA  SEA (Seattle)   \n",
       "3            12437    Male                 RUSSIA  SEA (Seattle)   \n",
       "4            12436  Female                 MEXICO  SEA (Seattle)   \n",
       "\n",
       "                                            facility facility:detloc  \\\n",
       "0  TACOMA ICE PROCESSING CENTER (NORTHWEST DET CT...         CSCNWWA   \n",
       "1  TACOMA ICE PROCESSING CENTER (NORTHWEST DET CT...         CSCNWWA   \n",
       "2  TACOMA ICE PROCESSING CENTER (NORTHWEST DET CT...         CSCNWWA   \n",
       "3  TACOMA ICE PROCESSING CENTER (NORTHWEST DET CT...         CSCNWWA   \n",
       "4  TACOMA ICE PROCESSING CENTER (NORTHWEST DET CT...         CSCNWWA   \n",
       "\n",
       "       report_type placement_date                           placement_reason  \\\n",
       "0           14 Day      5/14/2018                       Medical: Observation   \n",
       "1           14 Day      5/11/2018  Protective Custody: Other Detainee Safety   \n",
       "2           14 Day      5/20/2018            Facility Security Threat: Other   \n",
       "3           14 Day      5/19/2018                               Disciplinary   \n",
       "4  30 Day Interval      4/30/2018            Facility Security Threat: Other   \n",
       "\n",
       "  release_date  ...                         additional_comments_export  \\\n",
       "0    5/29/2018  ...  05/23/2018 05/14/2018 Detainee is under medica...   \n",
       "1          NaN  ...  05/22/2018 Detainee has been housed in all ava...   \n",
       "2          NaN  ...  05/23/2018 Detainee placed in RHU pending SAAP...   \n",
       "3          NaN  ...  05/23/2018 Detainee placed in RHU pending IDP ...   \n",
       "4          NaN  ...  05/23/2018 Detainee returned from medical on 0...   \n",
       "\n",
       "  non_compliance_detail special_criteria     id current_review    created  \\\n",
       "0                   NaN              Yes  12442           14.0  5/23/2018   \n",
       "1                   NaN               No  12439           14.0  5/22/2018   \n",
       "2                   NaN              Yes  12438           14.0  5/22/2018   \n",
       "3                   NaN              Yes  12437           14.0  5/22/2018   \n",
       "4                   NaN              Yes  12436           30.0  5/22/2018   \n",
       "\n",
       "  lgbti item_type     placement_reason_type   detloc  \n",
       "0   NaN      Item                   Medical  CSCNWWA  \n",
       "1   NaN      Item        Protective Custody  CSCNWWA  \n",
       "2   NaN      Item  Facility Security Threat  CSCNWWA  \n",
       "3   NaN      Item              Disciplinary  CSCNWWA  \n",
       "4   NaN      Item  Facility Security Threat  CSCNWWA  \n",
       "\n",
       "[5 rows x 33 columns]"
      ]
     },
     "execution_count": 13,
     "metadata": {},
     "output_type": "execute_result"
    }
   ],
   "source": [
    "srms1.head()"
   ]
  },
  {
   "cell_type": "code",
   "execution_count": 14,
   "metadata": {},
   "outputs": [
    {
     "name": "stdout",
     "output_type": "stream",
     "text": [
      "<class 'pandas.core.frame.DataFrame'>\n",
      "RangeIndex: 467 entries, 0 to 466\n",
      "Data columns (total 31 columns):\n",
      " #   Column                               Non-Null Count  Dtype  \n",
      "---  ------                               --------------  -----  \n",
      " 0   tracking_number                      467 non-null    object \n",
      " 1   gender                               467 non-null    object \n",
      " 2   country_of_citizenship               465 non-null    object \n",
      " 3   facility_aor                         467 non-null    object \n",
      " 4   facility                             467 non-null    object \n",
      " 5   facility:detloc                      467 non-null    object \n",
      " 6   report_type                          467 non-null    object \n",
      " 7   placement_date                       467 non-null    object \n",
      " 8   placement_reason                     467 non-null    object \n",
      " 9   release_date                         459 non-null    object \n",
      " 10  disciplinary_infraction              185 non-null    object \n",
      " 11  sanction_length                      124 non-null    object \n",
      " 12  attorney_of_record                   430 non-null    object \n",
      " 13  attorney_notification                430 non-null    object \n",
      " 14  detainee_request                     463 non-null    object \n",
      " 15  compliance_with_detention_standards  467 non-null    object \n",
      " 16  mental_illness                       465 non-null    object \n",
      " 17  serious_medical_illness              464 non-null    object \n",
      " 18  serious_disability                   464 non-null    object \n",
      " 19  ever_smi                             467 non-null    object \n",
      " 20  fo_recommendation                    134 non-null    object \n",
      " 21  non_compliance_detail                0 non-null      float64\n",
      " 22  special_criteria                     406 non-null    object \n",
      " 23  id                                   467 non-null    object \n",
      " 24  current_review                       464 non-null    float64\n",
      " 25  created                              467 non-null    object \n",
      " 26  lgbti                                4 non-null      object \n",
      " 27  custody_classification_level         467 non-null    object \n",
      " 28  additional_comments_export           337 non-null    object \n",
      " 29  placement_reason_type                467 non-null    object \n",
      " 30  detloc                               467 non-null    object \n",
      "dtypes: float64(2), object(29)\n",
      "memory usage: 113.2+ KB\n"
     ]
    }
   ],
   "source": [
    "srms2.info()"
   ]
  },
  {
   "cell_type": "code",
   "execution_count": 15,
   "metadata": {},
   "outputs": [
    {
     "data": {
      "text/html": [
       "<div>\n",
       "<style scoped>\n",
       "    .dataframe tbody tr th:only-of-type {\n",
       "        vertical-align: middle;\n",
       "    }\n",
       "\n",
       "    .dataframe tbody tr th {\n",
       "        vertical-align: top;\n",
       "    }\n",
       "\n",
       "    .dataframe thead th {\n",
       "        text-align: right;\n",
       "    }\n",
       "</style>\n",
       "<table border=\"1\" class=\"dataframe\">\n",
       "  <thead>\n",
       "    <tr style=\"text-align: right;\">\n",
       "      <th></th>\n",
       "      <th>tracking_number</th>\n",
       "      <th>gender</th>\n",
       "      <th>country_of_citizenship</th>\n",
       "      <th>facility_aor</th>\n",
       "      <th>facility</th>\n",
       "      <th>facility:detloc</th>\n",
       "      <th>report_type</th>\n",
       "      <th>placement_date</th>\n",
       "      <th>placement_reason</th>\n",
       "      <th>release_date</th>\n",
       "      <th>...</th>\n",
       "      <th>non_compliance_detail</th>\n",
       "      <th>special_criteria</th>\n",
       "      <th>id</th>\n",
       "      <th>current_review</th>\n",
       "      <th>created</th>\n",
       "      <th>lgbti</th>\n",
       "      <th>custody_classification_level</th>\n",
       "      <th>additional_comments_export</th>\n",
       "      <th>placement_reason_type</th>\n",
       "      <th>detloc</th>\n",
       "    </tr>\n",
       "  </thead>\n",
       "  <tbody>\n",
       "    <tr>\n",
       "      <th>0</th>\n",
       "      <td>(b)(6),(b)(7)(c )</td>\n",
       "      <td>Male</td>\n",
       "      <td>MEXICO</td>\n",
       "      <td>SEA (Seattle)</td>\n",
       "      <td>TACOMA ICE PROCESSING CENTER (NORTHWEST DET CT...</td>\n",
       "      <td>CSCNWWA</td>\n",
       "      <td>14 Day</td>\n",
       "      <td>3/16/2020</td>\n",
       "      <td>Facility Security Threat: Other</td>\n",
       "      <td>3/20/2020</td>\n",
       "      <td>...</td>\n",
       "      <td>NaN</td>\n",
       "      <td>Yes</td>\n",
       "      <td>(b)(6), (b)(7)(C), (b)(7)(E)</td>\n",
       "      <td>14.0</td>\n",
       "      <td>3/23/2020</td>\n",
       "      <td>NaN</td>\n",
       "      <td>Medium - High</td>\n",
       "      <td>03/23/2020 Medical Overflow - suicidal thought...</td>\n",
       "      <td>Facility Security Threat</td>\n",
       "      <td>CSCNWWA</td>\n",
       "    </tr>\n",
       "    <tr>\n",
       "      <th>1</th>\n",
       "      <td>(b)(6),(b)(7)(c )</td>\n",
       "      <td>Male</td>\n",
       "      <td>MEXICO</td>\n",
       "      <td>SEA (Seattle)</td>\n",
       "      <td>TACOMA ICE PROCESSING CENTER (NORTHWEST DET CT...</td>\n",
       "      <td>CSCNWWA</td>\n",
       "      <td>30 Day Interval</td>\n",
       "      <td>2/13/2020</td>\n",
       "      <td>Pending Investigation of Disciplinary Violation</td>\n",
       "      <td>3/17/2020</td>\n",
       "      <td>...</td>\n",
       "      <td>NaN</td>\n",
       "      <td>No</td>\n",
       "      <td>(b)(6), (b)(7)(C), (b)(7)(E)</td>\n",
       "      <td>30.0</td>\n",
       "      <td>3/6/2020</td>\n",
       "      <td>NaN</td>\n",
       "      <td>Medium - High</td>\n",
       "      <td>03/06/2020 Pending investigation for 222\\n03/1...</td>\n",
       "      <td>Pending Disciplinary</td>\n",
       "      <td>CSCNWWA</td>\n",
       "    </tr>\n",
       "    <tr>\n",
       "      <th>2</th>\n",
       "      <td>(b)(6),(b)(7)(c )</td>\n",
       "      <td>Male</td>\n",
       "      <td>EL SALVADOR</td>\n",
       "      <td>SEA (Seattle)</td>\n",
       "      <td>TACOMA ICE PROCESSING CENTER (NORTHWEST DET CT...</td>\n",
       "      <td>CSCNWWA</td>\n",
       "      <td>30 Day Interval</td>\n",
       "      <td>1/24/2020</td>\n",
       "      <td>Facility Security Threat: Other</td>\n",
       "      <td>3/10/2020</td>\n",
       "      <td>...</td>\n",
       "      <td>NaN</td>\n",
       "      <td>No</td>\n",
       "      <td>(b)(6), (b)(7)(C), (b)(7)(E)</td>\n",
       "      <td>30.0</td>\n",
       "      <td>2/25/2020</td>\n",
       "      <td>NaN</td>\n",
       "      <td>Medium - High</td>\n",
       "      <td>02/25/2020 SAAPI Investigation\\n</td>\n",
       "      <td>Facility Security Threat</td>\n",
       "      <td>CSCNWWA</td>\n",
       "    </tr>\n",
       "    <tr>\n",
       "      <th>3</th>\n",
       "      <td>(b)(6),(b)(7)(c )</td>\n",
       "      <td>Male</td>\n",
       "      <td>MEXICO</td>\n",
       "      <td>SEA (Seattle)</td>\n",
       "      <td>TACOMA ICE PROCESSING CENTER (NORTHWEST DET CT...</td>\n",
       "      <td>CSCNWWA</td>\n",
       "      <td>30 Day Interval</td>\n",
       "      <td>2/21/2020</td>\n",
       "      <td>Facility Security Threat: Other</td>\n",
       "      <td>3/6/2020</td>\n",
       "      <td>...</td>\n",
       "      <td>NaN</td>\n",
       "      <td>No</td>\n",
       "      <td>(b)(6), (b)(7)(C), (b)(7)(E)</td>\n",
       "      <td>30.0</td>\n",
       "      <td>2/24/2020</td>\n",
       "      <td>NaN</td>\n",
       "      <td>Medium - High</td>\n",
       "      <td>02/24/2020 01/23/2020 Placed in admin RHU afte...</td>\n",
       "      <td>Facility Security Threat</td>\n",
       "      <td>CSCNWWA</td>\n",
       "    </tr>\n",
       "    <tr>\n",
       "      <th>4</th>\n",
       "      <td>(b)(6),(b)(7)(c )</td>\n",
       "      <td>Male</td>\n",
       "      <td>MEXICO</td>\n",
       "      <td>SEA (Seattle)</td>\n",
       "      <td>TACOMA ICE PROCESSING CENTER (NORTHWEST DET CT...</td>\n",
       "      <td>CSCNWWA</td>\n",
       "      <td>30 Day Interval</td>\n",
       "      <td>1/30/2020</td>\n",
       "      <td>Protective Custody: Other Detainee Safety</td>\n",
       "      <td>3/3/2020</td>\n",
       "      <td>...</td>\n",
       "      <td>NaN</td>\n",
       "      <td>No</td>\n",
       "      <td>(b)(6), (b)(7)(C), (b)(7)(E)</td>\n",
       "      <td>30.0</td>\n",
       "      <td>2/24/2020</td>\n",
       "      <td>NaN</td>\n",
       "      <td>Medium - High</td>\n",
       "      <td>02/25/2020 Detainee requests PC. \\n</td>\n",
       "      <td>Protective Custody</td>\n",
       "      <td>CSCNWWA</td>\n",
       "    </tr>\n",
       "  </tbody>\n",
       "</table>\n",
       "<p>5 rows × 31 columns</p>\n",
       "</div>"
      ],
      "text/plain": [
       "     tracking_number gender country_of_citizenship   facility_aor  \\\n",
       "0  (b)(6),(b)(7)(c )   Male                 MEXICO  SEA (Seattle)   \n",
       "1  (b)(6),(b)(7)(c )   Male                 MEXICO  SEA (Seattle)   \n",
       "2  (b)(6),(b)(7)(c )   Male            EL SALVADOR  SEA (Seattle)   \n",
       "3  (b)(6),(b)(7)(c )   Male                 MEXICO  SEA (Seattle)   \n",
       "4  (b)(6),(b)(7)(c )   Male                 MEXICO  SEA (Seattle)   \n",
       "\n",
       "                                            facility facility:detloc  \\\n",
       "0  TACOMA ICE PROCESSING CENTER (NORTHWEST DET CT...         CSCNWWA   \n",
       "1  TACOMA ICE PROCESSING CENTER (NORTHWEST DET CT...         CSCNWWA   \n",
       "2  TACOMA ICE PROCESSING CENTER (NORTHWEST DET CT...         CSCNWWA   \n",
       "3  TACOMA ICE PROCESSING CENTER (NORTHWEST DET CT...         CSCNWWA   \n",
       "4  TACOMA ICE PROCESSING CENTER (NORTHWEST DET CT...         CSCNWWA   \n",
       "\n",
       "       report_type placement_date  \\\n",
       "0           14 Day      3/16/2020   \n",
       "1  30 Day Interval      2/13/2020   \n",
       "2  30 Day Interval      1/24/2020   \n",
       "3  30 Day Interval      2/21/2020   \n",
       "4  30 Day Interval      1/30/2020   \n",
       "\n",
       "                                  placement_reason release_date  ...  \\\n",
       "0                  Facility Security Threat: Other    3/20/2020  ...   \n",
       "1  Pending Investigation of Disciplinary Violation    3/17/2020  ...   \n",
       "2                  Facility Security Threat: Other    3/10/2020  ...   \n",
       "3                  Facility Security Threat: Other     3/6/2020  ...   \n",
       "4        Protective Custody: Other Detainee Safety     3/3/2020  ...   \n",
       "\n",
       "  non_compliance_detail special_criteria                            id  \\\n",
       "0                   NaN              Yes  (b)(6), (b)(7)(C), (b)(7)(E)   \n",
       "1                   NaN               No  (b)(6), (b)(7)(C), (b)(7)(E)   \n",
       "2                   NaN               No  (b)(6), (b)(7)(C), (b)(7)(E)   \n",
       "3                   NaN               No  (b)(6), (b)(7)(C), (b)(7)(E)   \n",
       "4                   NaN               No  (b)(6), (b)(7)(C), (b)(7)(E)   \n",
       "\n",
       "  current_review    created lgbti custody_classification_level  \\\n",
       "0           14.0  3/23/2020   NaN                Medium - High   \n",
       "1           30.0   3/6/2020   NaN                Medium - High   \n",
       "2           30.0  2/25/2020   NaN                Medium - High   \n",
       "3           30.0  2/24/2020   NaN                Medium - High   \n",
       "4           30.0  2/24/2020   NaN                Medium - High   \n",
       "\n",
       "                          additional_comments_export  \\\n",
       "0  03/23/2020 Medical Overflow - suicidal thought...   \n",
       "1  03/06/2020 Pending investigation for 222\\n03/1...   \n",
       "2                   02/25/2020 SAAPI Investigation\\n   \n",
       "3  02/24/2020 01/23/2020 Placed in admin RHU afte...   \n",
       "4                02/25/2020 Detainee requests PC. \\n   \n",
       "\n",
       "      placement_reason_type   detloc  \n",
       "0  Facility Security Threat  CSCNWWA  \n",
       "1      Pending Disciplinary  CSCNWWA  \n",
       "2  Facility Security Threat  CSCNWWA  \n",
       "3  Facility Security Threat  CSCNWWA  \n",
       "4        Protective Custody  CSCNWWA  \n",
       "\n",
       "[5 rows x 31 columns]"
      ]
     },
     "execution_count": 15,
     "metadata": {},
     "output_type": "execute_result"
    }
   ],
   "source": [
    "srms2.head()"
   ]
  },
  {
   "cell_type": "code",
   "execution_count": 16,
   "metadata": {},
   "outputs": [],
   "source": [
    "srms1['placement_date'] = pd.to_datetime(srms1['placement_date'])\n",
    "srms1['release_date'] = pd.to_datetime(srms1['release_date'])\n",
    "srms1['created'] = pd.to_datetime(srms1['created'])\n",
    "srms2['placement_date'] = pd.to_datetime(srms2['placement_date'])\n",
    "srms2['release_date'] = pd.to_datetime(srms2['release_date'])\n",
    "srms2['created'] = pd.to_datetime(srms2['created'])"
   ]
  },
  {
   "cell_type": "code",
   "execution_count": 17,
   "metadata": {},
   "outputs": [],
   "source": [
    "srms1_as = srms1.set_index('placement_date').groupby(pd.Grouper(freq='AS'))['tracking_number'].count()"
   ]
  },
  {
   "cell_type": "code",
   "execution_count": 18,
   "metadata": {},
   "outputs": [],
   "source": [
    "srms2_as = srms2.set_index('placement_date').groupby(pd.Grouper(freq='AS'))['tracking_number'].count()"
   ]
  },
  {
   "cell_type": "code",
   "execution_count": 19,
   "metadata": {},
   "outputs": [
    {
     "data": {
      "text/plain": [
       "placement_date\n",
       "2013-01-01    19.0\n",
       "2014-01-01    12.0\n",
       "2015-01-01    10.0\n",
       "2016-01-01     4.0\n",
       "2017-01-01     8.0\n",
       "2018-01-01   -64.0\n",
       "2019-01-01     NaN\n",
       "2020-01-01     NaN\n",
       "Freq: AS-JAN, Name: tracking_number, dtype: float64"
      ]
     },
     "execution_count": 19,
     "metadata": {},
     "output_type": "execute_result"
    }
   ],
   "source": [
    "srms1_as - srms2_as"
   ]
  },
  {
   "cell_type": "code",
   "execution_count": 10,
   "metadata": {},
   "outputs": [
    {
     "data": {
      "text/plain": [
       "Timestamp('2013-10-29 00:00:00')"
      ]
     },
     "execution_count": 10,
     "metadata": {},
     "output_type": "execute_result"
    }
   ],
   "source": [
    "srms1['created'].min()"
   ]
  },
  {
   "cell_type": "code",
   "execution_count": 11,
   "metadata": {},
   "outputs": [
    {
     "data": {
      "text/plain": [
       "Timestamp('2018-05-23 00:00:00')"
      ]
     },
     "execution_count": 11,
     "metadata": {},
     "output_type": "execute_result"
    }
   ],
   "source": [
    "srms1['created'].max()"
   ]
  },
  {
   "cell_type": "code",
   "execution_count": 12,
   "metadata": {},
   "outputs": [
    {
     "data": {
      "text/plain": [
       "Timestamp('2013-10-29 00:00:00')"
      ]
     },
     "execution_count": 12,
     "metadata": {},
     "output_type": "execute_result"
    }
   ],
   "source": [
    "srms2['created'].min()"
   ]
  },
  {
   "cell_type": "code",
   "execution_count": 13,
   "metadata": {},
   "outputs": [
    {
     "data": {
      "text/plain": [
       "Timestamp('2020-03-25 00:00:00')"
      ]
     },
     "execution_count": 13,
     "metadata": {},
     "output_type": "execute_result"
    }
   ],
   "source": [
    "srms2['created'].max()"
   ]
  },
  {
   "cell_type": "code",
   "execution_count": 14,
   "metadata": {},
   "outputs": [],
   "source": [
    "srms1_start = str(srms1['placement_date'].min()).split()[0]"
   ]
  },
  {
   "cell_type": "code",
   "execution_count": 15,
   "metadata": {},
   "outputs": [],
   "source": [
    "srms1_end = str(srms1['placement_date'].max()).split()[0]"
   ]
  },
  {
   "cell_type": "code",
   "execution_count": 16,
   "metadata": {},
   "outputs": [],
   "source": [
    "srms2_equiv = srms2.set_index('placement_date').loc[srms1_start:srms1_end]"
   ]
  },
  {
   "cell_type": "code",
   "execution_count": 17,
   "metadata": {},
   "outputs": [],
   "source": [
    "srms2_equiv_as = srms2_equiv.groupby(pd.Grouper(freq='AS'))['tracking_number'].count()"
   ]
  },
  {
   "cell_type": "code",
   "execution_count": 18,
   "metadata": {},
   "outputs": [],
   "source": [
    "temp = (srms2_equiv_as - srms1_as).reset_index()"
   ]
  },
  {
   "cell_type": "code",
   "execution_count": 19,
   "metadata": {},
   "outputs": [
    {
     "data": {
      "text/plain": [
       "-56"
      ]
     },
     "execution_count": 19,
     "metadata": {},
     "output_type": "execute_result"
    }
   ],
   "source": [
    "sum(srms2_equiv_as - srms1_as)"
   ]
  },
  {
   "cell_type": "code",
   "execution_count": 20,
   "metadata": {},
   "outputs": [],
   "source": [
    "temp['year'] = [x.year for x in temp['placement_date']]"
   ]
  },
  {
   "cell_type": "code",
   "execution_count": 21,
   "metadata": {},
   "outputs": [],
   "source": [
    "temp = temp.drop('placement_date', axis=1)"
   ]
  },
  {
   "cell_type": "code",
   "execution_count": 22,
   "metadata": {},
   "outputs": [],
   "source": [
    "temp = temp.rename({'tracking_number': 'diff_recs'}, axis=1)"
   ]
  },
  {
   "cell_type": "code",
   "execution_count": 23,
   "metadata": {},
   "outputs": [
    {
     "name": "stdout",
     "output_type": "stream",
     "text": [
      "      diff_recs\n",
      "year           \n",
      "2013        -19\n",
      "2014        -12\n",
      "2015        -10\n",
      "2016         -4\n",
      "2017         -8\n",
      "2018         -3\n"
     ]
    }
   ],
   "source": [
    "print(temp.set_index('year'))"
   ]
  },
  {
   "cell_type": "code",
   "execution_count": 24,
   "metadata": {},
   "outputs": [],
   "source": [
    "cols = ['gender', 'country_of_citizenship', 'placement_date', 'placement_reason']"
   ]
  },
  {
   "cell_type": "code",
   "execution_count": 25,
   "metadata": {},
   "outputs": [],
   "source": [
    "srms2_equiv.reset_index(inplace=True)"
   ]
  },
  {
   "cell_type": "code",
   "execution_count": 26,
   "metadata": {},
   "outputs": [],
   "source": [
    "temp = pd.merge(srms1, srms2_equiv, on=cols, how='outer', indicator=True)"
   ]
  },
  {
   "cell_type": "code",
   "execution_count": 27,
   "metadata": {},
   "outputs": [
    {
     "data": {
      "text/plain": [
       "both          416\n",
       "left_only      56\n",
       "right_only      3\n",
       "Name: _merge, dtype: int64"
      ]
     },
     "execution_count": 27,
     "metadata": {},
     "output_type": "execute_result"
    }
   ],
   "source": [
    "temp['_merge'].value_counts()"
   ]
  },
  {
   "cell_type": "code",
   "execution_count": 28,
   "metadata": {},
   "outputs": [],
   "source": [
    "temp_cols_x = list(temp.columns[temp.columns.str.endswith('_x')])\n",
    "temp_cols_y = list(temp.columns[temp.columns.str.endswith('_y')])"
   ]
  },
  {
   "cell_type": "code",
   "execution_count": 29,
   "metadata": {},
   "outputs": [],
   "source": [
    "temp_cols_x.extend(cols)\n",
    "temp_cols_y.extend(cols)"
   ]
  },
  {
   "cell_type": "code",
   "execution_count": 30,
   "metadata": {},
   "outputs": [],
   "source": [
    "second_only = temp.loc[temp['_merge'] == 'right_only', temp_cols_y]"
   ]
  },
  {
   "cell_type": "code",
   "execution_count": 31,
   "metadata": {},
   "outputs": [],
   "source": [
    "first_only = temp.loc[temp['_merge'] == 'left_only', temp_cols_x]"
   ]
  },
  {
   "cell_type": "code",
   "execution_count": 32,
   "metadata": {},
   "outputs": [
    {
     "data": {
      "text/html": [
       "<div>\n",
       "<style scoped>\n",
       "    .dataframe tbody tr th:only-of-type {\n",
       "        vertical-align: middle;\n",
       "    }\n",
       "\n",
       "    .dataframe tbody tr th {\n",
       "        vertical-align: top;\n",
       "    }\n",
       "\n",
       "    .dataframe thead th {\n",
       "        text-align: right;\n",
       "    }\n",
       "</style>\n",
       "<table border=\"1\" class=\"dataframe\">\n",
       "  <thead>\n",
       "    <tr style=\"text-align: right;\">\n",
       "      <th></th>\n",
       "      <th>tracking_number_y</th>\n",
       "      <th>facility_aor_y</th>\n",
       "      <th>facility_y</th>\n",
       "      <th>facility:detloc_y</th>\n",
       "      <th>report_type_y</th>\n",
       "      <th>release_date_y</th>\n",
       "      <th>disciplinary_infraction_y</th>\n",
       "      <th>sanction_length_y</th>\n",
       "      <th>attorney_of_record_y</th>\n",
       "      <th>attorney_notification_y</th>\n",
       "      <th>...</th>\n",
       "      <th>current_review_y</th>\n",
       "      <th>created_y</th>\n",
       "      <th>lgbti_y</th>\n",
       "      <th>additional_comments_export_y</th>\n",
       "      <th>placement_reason_type_y</th>\n",
       "      <th>detloc_y</th>\n",
       "      <th>gender</th>\n",
       "      <th>country_of_citizenship</th>\n",
       "      <th>placement_date</th>\n",
       "      <th>placement_reason</th>\n",
       "    </tr>\n",
       "  </thead>\n",
       "  <tbody>\n",
       "    <tr>\n",
       "      <th>472</th>\n",
       "      <td>(b)(6),(b)(7)(c )</td>\n",
       "      <td>SEA (Seattle)</td>\n",
       "      <td>TACOMA ICE PROCESSING CENTER (NORTHWEST DET CT...</td>\n",
       "      <td>CSCNWWA</td>\n",
       "      <td>30 Day Interval</td>\n",
       "      <td>2018-11-27</td>\n",
       "      <td>204 - Threatening another with bodily harm \\n2...</td>\n",
       "      <td>30</td>\n",
       "      <td>No</td>\n",
       "      <td>No</td>\n",
       "      <td>...</td>\n",
       "      <td>300.0</td>\n",
       "      <td>2018-02-20</td>\n",
       "      <td>NaN</td>\n",
       "      <td>02/21/2018 Disciplinary - 109 Threats to Staff...</td>\n",
       "      <td>Facility Security Threat</td>\n",
       "      <td>CSCNWWA</td>\n",
       "      <td>Male</td>\n",
       "      <td>HONDURAS</td>\n",
       "      <td>2018-01-21</td>\n",
       "      <td>Facility Security Threat: Other</td>\n",
       "    </tr>\n",
       "    <tr>\n",
       "      <th>473</th>\n",
       "      <td>(b)(6),(b)(7)(c )</td>\n",
       "      <td>SEA (Seattle)</td>\n",
       "      <td>TACOMA ICE PROCESSING CENTER (NORTHWEST DET CT...</td>\n",
       "      <td>CSCNWWA</td>\n",
       "      <td>30 Day Interval</td>\n",
       "      <td>2018-10-02</td>\n",
       "      <td>108 Assault on Staff</td>\n",
       "      <td>30</td>\n",
       "      <td>Yes</td>\n",
       "      <td>Yes</td>\n",
       "      <td>...</td>\n",
       "      <td>210.0</td>\n",
       "      <td>2018-02-20</td>\n",
       "      <td>NaN</td>\n",
       "      <td>02/20/2018 Medical/Security Risk - Detainee co...</td>\n",
       "      <td>Disciplinary</td>\n",
       "      <td>CSCNWWA</td>\n",
       "      <td>Male</td>\n",
       "      <td>CANADA</td>\n",
       "      <td>2018-02-05</td>\n",
       "      <td>Disciplinary</td>\n",
       "    </tr>\n",
       "    <tr>\n",
       "      <th>474</th>\n",
       "      <td>(b)(6),(b)(7)(c )</td>\n",
       "      <td>SEA (Seattle)</td>\n",
       "      <td>TACOMA ICE PROCESSING CENTER (NORTHWEST DET CT...</td>\n",
       "      <td>CSCNWWA</td>\n",
       "      <td>30 Day Interval</td>\n",
       "      <td>2018-08-10</td>\n",
       "      <td>NaN</td>\n",
       "      <td>NaN</td>\n",
       "      <td>No</td>\n",
       "      <td>No</td>\n",
       "      <td>...</td>\n",
       "      <td>90.0</td>\n",
       "      <td>2018-06-20</td>\n",
       "      <td>NaN</td>\n",
       "      <td>06/20/2018 Detainee requested protective custo...</td>\n",
       "      <td>Protective Custody</td>\n",
       "      <td>CSCNWWA</td>\n",
       "      <td>Male</td>\n",
       "      <td>MEXICO</td>\n",
       "      <td>2018-05-18</td>\n",
       "      <td>Protective Custody: Other Detainee Safety</td>\n",
       "    </tr>\n",
       "  </tbody>\n",
       "</table>\n",
       "<p>3 rows × 30 columns</p>\n",
       "</div>"
      ],
      "text/plain": [
       "     tracking_number_y facility_aor_y  \\\n",
       "472  (b)(6),(b)(7)(c )  SEA (Seattle)   \n",
       "473  (b)(6),(b)(7)(c )  SEA (Seattle)   \n",
       "474  (b)(6),(b)(7)(c )  SEA (Seattle)   \n",
       "\n",
       "                                            facility_y facility:detloc_y  \\\n",
       "472  TACOMA ICE PROCESSING CENTER (NORTHWEST DET CT...           CSCNWWA   \n",
       "473  TACOMA ICE PROCESSING CENTER (NORTHWEST DET CT...           CSCNWWA   \n",
       "474  TACOMA ICE PROCESSING CENTER (NORTHWEST DET CT...           CSCNWWA   \n",
       "\n",
       "       report_type_y release_date_y  \\\n",
       "472  30 Day Interval     2018-11-27   \n",
       "473  30 Day Interval     2018-10-02   \n",
       "474  30 Day Interval     2018-08-10   \n",
       "\n",
       "                             disciplinary_infraction_y sanction_length_y  \\\n",
       "472  204 - Threatening another with bodily harm \\n2...                30   \n",
       "473                               108 Assault on Staff                30   \n",
       "474                                                NaN               NaN   \n",
       "\n",
       "    attorney_of_record_y attorney_notification_y  ... current_review_y  \\\n",
       "472                   No                      No  ...            300.0   \n",
       "473                  Yes                     Yes  ...            210.0   \n",
       "474                   No                      No  ...             90.0   \n",
       "\n",
       "     created_y lgbti_y                       additional_comments_export_y  \\\n",
       "472 2018-02-20     NaN  02/21/2018 Disciplinary - 109 Threats to Staff...   \n",
       "473 2018-02-20     NaN  02/20/2018 Medical/Security Risk - Detainee co...   \n",
       "474 2018-06-20     NaN  06/20/2018 Detainee requested protective custo...   \n",
       "\n",
       "      placement_reason_type_y detloc_y gender  country_of_citizenship  \\\n",
       "472  Facility Security Threat  CSCNWWA   Male                HONDURAS   \n",
       "473              Disciplinary  CSCNWWA   Male                  CANADA   \n",
       "474        Protective Custody  CSCNWWA   Male                  MEXICO   \n",
       "\n",
       "    placement_date                           placement_reason  \n",
       "472     2018-01-21            Facility Security Threat: Other  \n",
       "473     2018-02-05                               Disciplinary  \n",
       "474     2018-05-18  Protective Custody: Other Detainee Safety  \n",
       "\n",
       "[3 rows x 30 columns]"
      ]
     },
     "execution_count": 32,
     "metadata": {},
     "output_type": "execute_result"
    }
   ],
   "source": [
    "# Makes some sense that these three records would be included in 2nd installment but not 1st\n",
    "# because later release date; later creation date in one case.\n",
    "second_only"
   ]
  },
  {
   "cell_type": "code",
   "execution_count": 33,
   "metadata": {},
   "outputs": [
    {
     "data": {
      "text/plain": [
       "Timestamp('2018-05-31 00:00:00')"
      ]
     },
     "execution_count": 33,
     "metadata": {},
     "output_type": "execute_result"
    }
   ],
   "source": [
    "srms1['release_date'].max()"
   ]
  },
  {
   "cell_type": "code",
   "execution_count": 34,
   "metadata": {},
   "outputs": [
    {
     "data": {
      "text/plain": [
       "Timestamp('2018-05-23 00:00:00')"
      ]
     },
     "execution_count": 34,
     "metadata": {},
     "output_type": "execute_result"
    }
   ],
   "source": [
    "srms1['created'].max()"
   ]
  },
  {
   "cell_type": "code",
   "execution_count": 35,
   "metadata": {},
   "outputs": [
    {
     "data": {
      "text/plain": [
       "count                      56\n",
       "unique                     54\n",
       "top       2013-08-22 00:00:00\n",
       "freq                        2\n",
       "first     2013-05-13 00:00:00\n",
       "last      2018-03-29 00:00:00\n",
       "Name: placement_date, dtype: object"
      ]
     },
     "execution_count": 35,
     "metadata": {},
     "output_type": "execute_result"
    }
   ],
   "source": [
    "first_only['placement_date'].describe()"
   ]
  },
  {
   "cell_type": "code",
   "execution_count": 36,
   "metadata": {},
   "outputs": [
    {
     "data": {
      "text/plain": [
       "count                      53\n",
       "unique                     48\n",
       "top       2013-09-25 00:00:00\n",
       "freq                        2\n",
       "first     2013-07-16 00:00:00\n",
       "last      2018-05-03 00:00:00\n",
       "Name: release_date_x, dtype: object"
      ]
     },
     "execution_count": 36,
     "metadata": {},
     "output_type": "execute_result"
    }
   ],
   "source": [
    "first_only['release_date_x'].describe()"
   ]
  },
  {
   "cell_type": "code",
   "execution_count": 37,
   "metadata": {},
   "outputs": [
    {
     "data": {
      "text/plain": [
       "count                      56\n",
       "unique                     37\n",
       "top       2013-10-29 00:00:00\n",
       "freq                       18\n",
       "first     2013-10-29 00:00:00\n",
       "last      2018-04-24 00:00:00\n",
       "Name: created_x, dtype: object"
      ]
     },
     "execution_count": 37,
     "metadata": {},
     "output_type": "execute_result"
    }
   ],
   "source": [
    "first_only['created_x'].describe()"
   ]
  },
  {
   "cell_type": "code",
   "execution_count": 38,
   "metadata": {},
   "outputs": [
    {
     "data": {
      "text/plain": [
       "Disciplinary                                                             20\n",
       "Protective Custody: Other Detainee Safety                                12\n",
       "Protective Custody: Gang Status (Protective Custody Only)                 8\n",
       "Facility Security Threat: Other                                           6\n",
       "Mental Illness                                                            3\n",
       "Protective Custody: Criminal Offense (i.e. Sex Offender)                  2\n",
       "Facility Security Threat: Gang Member Status (Not Protective Custody)     2\n",
       "Pending Investigation of Disciplinary Violation                           1\n",
       "Protective Custody: Special Vulnerability Other                           1\n",
       "Facility Security Threat: Violent or Disruptive Behavior                  1\n",
       "Name: placement_reason, dtype: int64"
      ]
     },
     "execution_count": 38,
     "metadata": {},
     "output_type": "execute_result"
    }
   ],
   "source": [
    "first_only['placement_reason'].value_counts()"
   ]
  },
  {
   "cell_type": "code",
   "execution_count": 39,
   "metadata": {},
   "outputs": [
    {
     "data": {
      "text/plain": [
       "count     54.00000\n",
       "mean      77.00000\n",
       "std      107.47356\n",
       "min        3.00000\n",
       "25%       14.00000\n",
       "50%       30.00000\n",
       "75%       82.50000\n",
       "max      390.00000\n",
       "Name: current_review_x, dtype: float64"
      ]
     },
     "execution_count": 39,
     "metadata": {},
     "output_type": "execute_result"
    }
   ],
   "source": [
    "first_only['current_review_x'].describe()"
   ]
  },
  {
   "cell_type": "code",
   "execution_count": 40,
   "metadata": {},
   "outputs": [],
   "source": [
    "srms1_g = srms1.set_index('placement_date').groupby([pd.Grouper(freq='AS')])['tracking_number'].count().reset_index()\n",
    "srms2_g = srms2.set_index('placement_date').groupby([pd.Grouper(freq='AS')])['tracking_number'].count().reset_index()"
   ]
  },
  {
   "cell_type": "code",
   "execution_count": 41,
   "metadata": {},
   "outputs": [],
   "source": [
    "srms1_g['installment'] = 1\n",
    "srms2_g['installment'] = 2"
   ]
  },
  {
   "cell_type": "code",
   "execution_count": 42,
   "metadata": {},
   "outputs": [],
   "source": [
    "data = pd.concat([srms1_g, srms2_g], axis=0)"
   ]
  },
  {
   "cell_type": "code",
   "execution_count": 43,
   "metadata": {},
   "outputs": [],
   "source": [
    "data = data.set_index(['placement_date'])"
   ]
  },
  {
   "cell_type": "code",
   "execution_count": 44,
   "metadata": {},
   "outputs": [],
   "source": [
    "data = data.rename({'tracking_number': 'placements'}, axis=1)"
   ]
  },
  {
   "cell_type": "code",
   "execution_count": 45,
   "metadata": {},
   "outputs": [],
   "source": [
    "data = data.fillna(0)"
   ]
  },
  {
   "cell_type": "code",
   "execution_count": 46,
   "metadata": {},
   "outputs": [
    {
     "data": {
      "text/html": [
       "<div>\n",
       "<style scoped>\n",
       "    .dataframe tbody tr th:only-of-type {\n",
       "        vertical-align: middle;\n",
       "    }\n",
       "\n",
       "    .dataframe tbody tr th {\n",
       "        vertical-align: top;\n",
       "    }\n",
       "\n",
       "    .dataframe thead th {\n",
       "        text-align: right;\n",
       "    }\n",
       "</style>\n",
       "<table border=\"1\" class=\"dataframe\">\n",
       "  <thead>\n",
       "    <tr style=\"text-align: right;\">\n",
       "      <th></th>\n",
       "      <th>placements</th>\n",
       "      <th>installment</th>\n",
       "    </tr>\n",
       "    <tr>\n",
       "      <th>placement_date</th>\n",
       "      <th></th>\n",
       "      <th></th>\n",
       "    </tr>\n",
       "  </thead>\n",
       "  <tbody>\n",
       "    <tr>\n",
       "      <th>2013-01-01</th>\n",
       "      <td>60</td>\n",
       "      <td>1</td>\n",
       "    </tr>\n",
       "    <tr>\n",
       "      <th>2014-01-01</th>\n",
       "      <td>82</td>\n",
       "      <td>1</td>\n",
       "    </tr>\n",
       "    <tr>\n",
       "      <th>2015-01-01</th>\n",
       "      <td>76</td>\n",
       "      <td>1</td>\n",
       "    </tr>\n",
       "    <tr>\n",
       "      <th>2016-01-01</th>\n",
       "      <td>42</td>\n",
       "      <td>1</td>\n",
       "    </tr>\n",
       "    <tr>\n",
       "      <th>2017-01-01</th>\n",
       "      <td>74</td>\n",
       "      <td>1</td>\n",
       "    </tr>\n",
       "    <tr>\n",
       "      <th>2018-01-01</th>\n",
       "      <td>37</td>\n",
       "      <td>1</td>\n",
       "    </tr>\n",
       "    <tr>\n",
       "      <th>2013-01-01</th>\n",
       "      <td>41</td>\n",
       "      <td>2</td>\n",
       "    </tr>\n",
       "    <tr>\n",
       "      <th>2014-01-01</th>\n",
       "      <td>70</td>\n",
       "      <td>2</td>\n",
       "    </tr>\n",
       "    <tr>\n",
       "      <th>2015-01-01</th>\n",
       "      <td>66</td>\n",
       "      <td>2</td>\n",
       "    </tr>\n",
       "    <tr>\n",
       "      <th>2016-01-01</th>\n",
       "      <td>38</td>\n",
       "      <td>2</td>\n",
       "    </tr>\n",
       "    <tr>\n",
       "      <th>2017-01-01</th>\n",
       "      <td>66</td>\n",
       "      <td>2</td>\n",
       "    </tr>\n",
       "    <tr>\n",
       "      <th>2018-01-01</th>\n",
       "      <td>101</td>\n",
       "      <td>2</td>\n",
       "    </tr>\n",
       "    <tr>\n",
       "      <th>2019-01-01</th>\n",
       "      <td>75</td>\n",
       "      <td>2</td>\n",
       "    </tr>\n",
       "    <tr>\n",
       "      <th>2020-01-01</th>\n",
       "      <td>10</td>\n",
       "      <td>2</td>\n",
       "    </tr>\n",
       "  </tbody>\n",
       "</table>\n",
       "</div>"
      ],
      "text/plain": [
       "                placements  installment\n",
       "placement_date                         \n",
       "2013-01-01              60            1\n",
       "2014-01-01              82            1\n",
       "2015-01-01              76            1\n",
       "2016-01-01              42            1\n",
       "2017-01-01              74            1\n",
       "2018-01-01              37            1\n",
       "2013-01-01              41            2\n",
       "2014-01-01              70            2\n",
       "2015-01-01              66            2\n",
       "2016-01-01              38            2\n",
       "2017-01-01              66            2\n",
       "2018-01-01             101            2\n",
       "2019-01-01              75            2\n",
       "2020-01-01              10            2"
      ]
     },
     "execution_count": 46,
     "metadata": {},
     "output_type": "execute_result"
    }
   ],
   "source": [
    "data"
   ]
  },
  {
   "cell_type": "code",
   "execution_count": 47,
   "metadata": {},
   "outputs": [
    {
     "data": {
      "text/plain": [
       "<matplotlib.axes._subplots.AxesSubplot at 0x7fc3edbb39b0>"
      ]
     },
     "execution_count": 47,
     "metadata": {},
     "output_type": "execute_result"
    },
    {
     "data": {
      "image/png": "[encoded data removed]",
      "text/plain": [
       "<Figure size 432x288 with 1 Axes>"
      ]
     },
     "metadata": {
      "needs_background": "light"
     },
     "output_type": "display_data"
    }
   ],
   "source": [
    "data.loc[data['installment'] == 1, 'placements'].plot(kind='bar', color='b', alpha=.5)\n",
    "data.loc[data['installment'] == 2, 'placements'].plot(kind='bar', color='r', alpha=.5)"
   ]
  },
  {
   "cell_type": "code",
   "execution_count": 48,
   "metadata": {},
   "outputs": [
    {
     "data": {
      "image/png": "[encoded data removed]",
      "text/plain": [
       "<Figure size 864x432 with 1 Axes>"
      ]
     },
     "metadata": {
      "needs_background": "light"
     },
     "output_type": "display_data"
    }
   ],
   "source": [
    "fig, ax = plt.subplots(figsize = (12,6))   \n",
    "fig = sns.barplot(x=data.index, hue=\"installment\", y=\"placements\", data=data)\n",
    "x_dates = data.index.sort_values().unique()\n",
    "ax.set_xticklabels(labels=x_dates.year, rotation=0, ha='center')\n",
    "plt.show()"
   ]
  },
  {
   "cell_type": "code",
   "execution_count": 49,
   "metadata": {},
   "outputs": [],
   "source": [
    "srms1['days_solitary'] = (srms1['release_date'] - srms1['placement_date']) / np.timedelta64(1, 'D')\n",
    "srms2['days_solitary'] = (srms2['release_date'] - srms2['placement_date']) / np.timedelta64(1, 'D')"
   ]
  },
  {
   "cell_type": "code",
   "execution_count": 50,
   "metadata": {},
   "outputs": [],
   "source": [
    "srms1_g = srms1.set_index('placement_date').groupby([pd.Grouper(freq='AS')])['days_solitary'].median().reset_index()\n",
    "srms2_g = srms2.set_index('placement_date').groupby([pd.Grouper(freq='AS')])['days_solitary'].median().reset_index()"
   ]
  },
  {
   "cell_type": "code",
   "execution_count": 51,
   "metadata": {},
   "outputs": [],
   "source": [
    "srms1_g['installment'] = 1\n",
    "srms2_g['installment'] = 2\n",
    "\n",
    "data = pd.concat([srms1_g, srms2_g], axis=0)"
   ]
  },
  {
   "cell_type": "code",
   "execution_count": 52,
   "metadata": {},
   "outputs": [],
   "source": [
    "data = data.set_index('placement_date')"
   ]
  },
  {
   "cell_type": "code",
   "execution_count": 53,
   "metadata": {},
   "outputs": [
    {
     "data": {
      "image/png": "[encoded data removed]",
      "text/plain": [
       "<Figure size 864x432 with 1 Axes>"
      ]
     },
     "metadata": {
      "needs_background": "light"
     },
     "output_type": "display_data"
    }
   ],
   "source": [
    "fig, ax = plt.subplots(figsize = (12,6))   \n",
    "fig = sns.barplot(x=data.index, hue=\"installment\", y=\"days_solitary\", data=data)\n",
    "x_dates = data.index.sort_values().unique()\n",
    "ax.set_xticklabels(labels=x_dates.year, rotation=0, ha='center')\n",
    "plt.show()"
   ]
  },
  {
   "cell_type": "code",
   "execution_count": 54,
   "metadata": {},
   "outputs": [
    {
     "data": {
      "image/png": "[encoded data removed]",
      "text/plain": [
       "<Figure size 432x288 with 1 Axes>"
      ]
     },
     "metadata": {
      "needs_background": "light"
     },
     "output_type": "display_data"
    }
   ],
   "source": [
    "x=srms1.loc[:, 'placement_date'].astype(int)\n",
    "y=srms1.loc[:,'days_solitary']\n",
    "\n",
    "fig = plt.figure()\n",
    "ax = fig.add_subplot(111)\n",
    "plt.scatter(x, y, alpha=1, marker='x')\n",
    "\n",
    "x=srms2.loc[:, 'placement_date'].astype(int)\n",
    "y=srms2.loc[:,'days_solitary']\n",
    "plt.scatter(x, y, alpha=1, marker='+')\n",
    "\n",
    "plt.yscale('log')\n",
    "\n",
    "xticks = ax.get_xticks()\n",
    "xticks_dates = [str(f'{pd.to_datetime(x).year}-Q{pd.to_datetime(x).quarter}') for x in xticks]\n",
    "ax.set_xticklabels(xticks_dates,  rotation=45)\n",
    "plt.show()\n",
    "plt.close(fig=fig)\n",
    "del fig, ax"
   ]
  },
  {
   "cell_type": "code",
   "execution_count": 72,
   "metadata": {},
   "outputs": [
    {
     "data": {
      "text/plain": [
       "Timestamp('2013-05-13 00:00:00')"
      ]
     },
     "execution_count": 72,
     "metadata": {},
     "output_type": "execute_result"
    }
   ],
   "source": [
    "srms1['placement_date'].min()"
   ]
  },
  {
   "cell_type": "code",
   "execution_count": 56,
   "metadata": {},
   "outputs": [
    {
     "data": {
      "text/plain": [
       "Timestamp('2013-09-03 00:00:00')"
      ]
     },
     "execution_count": 56,
     "metadata": {},
     "output_type": "execute_result"
    }
   ],
   "source": [
    "srms2['placement_date'].min()"
   ]
  },
  {
   "cell_type": "code",
   "execution_count": 62,
   "metadata": {},
   "outputs": [],
   "source": [
    "srms1['installment'] = 1\n",
    "srms2['installment'] = 2"
   ]
  },
  {
   "cell_type": "code",
   "execution_count": 68,
   "metadata": {},
   "outputs": [
    {
     "data": {
      "text/plain": [
       "Timestamp('2013-09-03 00:00:00')"
      ]
     },
     "execution_count": 68,
     "metadata": {},
     "output_type": "execute_result"
    }
   ],
   "source": [
    "srms2['placement_date'].min()"
   ]
  },
  {
   "cell_type": "code",
   "execution_count": 69,
   "metadata": {},
   "outputs": [
    {
     "data": {
      "text/plain": [
       "Timestamp('2018-05-20 00:00:00')"
      ]
     },
     "execution_count": 69,
     "metadata": {},
     "output_type": "execute_result"
    }
   ],
   "source": [
    "srms1['placement_date'].max()"
   ]
  },
  {
   "cell_type": "code",
   "execution_count": 102,
   "metadata": {},
   "outputs": [],
   "source": [
    "both = pd.concat([srms1, srms2])"
   ]
  },
  {
   "cell_type": "code",
   "execution_count": 103,
   "metadata": {},
   "outputs": [],
   "source": [
    "both = both.drop_duplicates(subset=['placement_date', 'days_solitary'], keep=False)\n",
    "both = both.sort_values(by=['placement_date', 'installment'])"
   ]
  },
  {
   "cell_type": "code",
   "execution_count": 104,
   "metadata": {},
   "outputs": [],
   "source": [
    "both.set_index(['placement_date'], inplace=True)"
   ]
  },
  {
   "cell_type": "code",
   "execution_count": 105,
   "metadata": {},
   "outputs": [],
   "source": [
    "both = both.loc['2013-09-03':'2018-05-20']"
   ]
  },
  {
   "cell_type": "code",
   "execution_count": 106,
   "metadata": {},
   "outputs": [
    {
     "data": {
      "text/plain": [
       "66"
      ]
     },
     "execution_count": 106,
     "metadata": {},
     "output_type": "execute_result"
    }
   ],
   "source": [
    "len(both)"
   ]
  },
  {
   "cell_type": "code",
   "execution_count": 107,
   "metadata": {},
   "outputs": [],
   "source": [
    "both = both[pd.notnull(both['release_date'])]"
   ]
  },
  {
   "cell_type": "code",
   "execution_count": 108,
   "metadata": {},
   "outputs": [
    {
     "data": {
      "text/plain": [
       "52"
      ]
     },
     "execution_count": 108,
     "metadata": {},
     "output_type": "execute_result"
    }
   ],
   "source": [
    "len(both)"
   ]
  },
  {
   "cell_type": "code",
   "execution_count": 109,
   "metadata": {},
   "outputs": [
    {
     "data": {
      "text/plain": [
       "38"
      ]
     },
     "execution_count": 109,
     "metadata": {},
     "output_type": "execute_result"
    }
   ],
   "source": [
    "sum(both['installment'] == 1)"
   ]
  },
  {
   "cell_type": "code",
   "execution_count": 99,
   "metadata": {},
   "outputs": [],
   "source": [
    "both.reset_index().set_index(['placement_date', 'installment']).to_csv('../output/both_temp.csv')"
   ]
  },
  {
   "cell_type": "code",
   "execution_count": 117,
   "metadata": {},
   "outputs": [
    {
     "data": {
      "text/plain": [
       "{447,\n",
       " 540,\n",
       " 1029,\n",
       " 1591,\n",
       " 1595,\n",
       " 1728,\n",
       " 1829,\n",
       " 1939,\n",
       " 2348,\n",
       " 2372,\n",
       " 2831,\n",
       " 2869,\n",
       " 2938,\n",
       " 2990,\n",
       " 3511,\n",
       " 3771,\n",
       " 3808,\n",
       " 4314,\n",
       " 4466,\n",
       " 4736,\n",
       " 5254,\n",
       " 5341,\n",
       " 5535,\n",
       " 5627,\n",
       " 6371,\n",
       " 6614,\n",
       " 7369,\n",
       " 8460,\n",
       " 9222,\n",
       " 9361,\n",
       " 9769,\n",
       " 10125,\n",
       " 11109,\n",
       " 11110,\n",
       " 11205,\n",
       " 11397,\n",
       " 11454,\n",
       " 12139}"
      ]
     },
     "execution_count": 117,
     "metadata": {},
     "output_type": "execute_result"
    }
   ],
   "source": [
    "set(both.loc[both['installment'] == 1, 'tracking_number'])"
   ]
  },
  {
   "cell_type": "code",
   "execution_count": null,
   "metadata": {},
   "outputs": [],
   "source": []
  }
 ],
 "metadata": {
  "kernelspec": {
   "display_name": "Python 3",
   "language": "python",
   "name": "python3"
  },
  "language_info": {
   "codemirror_mode": {
    "name": "ipython",
    "version": 3
   },
   "file_extension": ".py",
   "mimetype": "text/x-python",
   "name": "python",
   "nbconvert_exporter": "python",
   "pygments_lexer": "ipython3",
   "version": "3.7.2"
  }
 },
 "nbformat": 4,
 "nbformat_minor": 2
}
